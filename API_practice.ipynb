{
 "cells": [
  {
   "cell_type": "code",
   "execution_count": 216,
   "metadata": {},
   "outputs": [],
   "source": [
    "# Importig Pandas\n",
    "import pandas as pd\n",
    "\n",
    "# Importig Matplotlib\n",
    "import matplotlib.pyplot as plt\n",
    "\n",
    "# Importing Numpy\n",
    "import numpy as np\n"
   ]
  },
  {
   "cell_type": "code",
   "execution_count": 217,
   "metadata": {},
   "outputs": [
    {
     "data": {
      "text/plain": [
       "<zip at 0x274d228ff08>"
      ]
     },
     "execution_count": 217,
     "metadata": {},
     "output_type": "execute_result"
    }
   ],
   "source": [
    "# Creates a set of random latitude combinations.\n",
    "lats = np.random.uniform(low=-90.000, high=90.000, size=1500)\n",
    "\n",
    "# Creates a set of random longitude combinations.\n",
    "lngs = np.random.uniform(low=-180.000, high=180.000, size=1500)\n",
    "\n",
    "# Zips together under a new variable name both the 'lats' and 'lngs' variables.\n",
    "lat_lngs = zip(lats, lngs)\n",
    "\n",
    "# Prints out the output of the new variable name .\n",
    "lat_lngs \n",
    "\n",
    "# -  The zip object packs each pair of lats and lngs having the \n",
    "#same index in their respective array into a tuple\n"
   ]
  },
  {
   "cell_type": "code",
   "execution_count": 218,
   "metadata": {},
   "outputs": [],
   "source": [
    "# Create a practice set of random latitude and longitude combinations.\n",
    "\n",
    "# Latitude combination.\n",
    "x=[25.12903645, 25.92017388, 26.62509167, -59.98969384, 37.30571269]\n",
    "\n",
    "# Longitude combination.\n",
    "y=[-67.59741259, 11.09532135, 74.84233102, -76.89176677, -61.13376282]\n",
    "\n",
    "# Zipping together both combinations.\n",
    "coordinates=zip(x,y)\n"
   ]
  },
  {
   "cell_type": "code",
   "execution_count": 219,
   "metadata": {},
   "outputs": [
    {
     "name": "stdout",
     "output_type": "stream",
     "text": [
      "25.12903645 -67.59741259\n",
      "25.92017388 11.09532135\n",
      "26.62509167 74.84233102\n",
      "-59.98969384 -76.89176677\n",
      "37.30571269 -61.13376282\n"
     ]
    }
   ],
   "source": [
    "# Use the tuple() function to display the latitude\n",
    "# and longitude combinations.\n",
    "\n",
    "for coordinate in coordinates:\n",
    "    print(coordinate[0], coordinate[1])\n"
   ]
  },
  {
   "cell_type": "code",
   "execution_count": 220,
   "metadata": {},
   "outputs": [],
   "source": [
    "# Use the citipy module to determine city based on latitude and longitude.\n",
    "# Imports citypy into the module.\n",
    "from citipy import citipy"
   ]
  },
  {
   "cell_type": "code",
   "execution_count": 221,
   "metadata": {},
   "outputs": [
    {
     "data": {
      "text/plain": [
       "'3.6.9 |Anaconda, Inc.| (default, Jul 30 2019, 14:00:49) [MSC v.1915 64 bit (AMD64)]'"
      ]
     },
     "execution_count": 221,
     "metadata": {},
     "output_type": "execute_result"
    }
   ],
   "source": [
    "# Imports the Sys module\n",
    "import sys\n",
    "\n",
    "# Checks the version of the sys module.\n",
    "sys.version"
   ]
  },
  {
   "cell_type": "code",
   "execution_count": 222,
   "metadata": {},
   "outputs": [],
   "source": [
    "# Use the tuple() function to display the latitude and\n",
    "# longitude combinations of city_name and country_code.\n",
    "for coordinate in coordinates:\n",
    "    print(citipy.nearest_city(coordinate[0], coordinate[1]).city_name,\n",
    "          citipy.nearest_city(coordinate[0], coordinate[1]).country_code)"
   ]
  },
  {
   "cell_type": "code",
   "execution_count": 223,
   "metadata": {},
   "outputs": [
    {
     "data": {
      "text/plain": [
       "618"
      ]
     },
     "execution_count": 223,
     "metadata": {},
     "output_type": "execute_result"
    }
   ],
   "source": [
    "# Create a list for holding the cities.\n",
    "cities = []\n",
    "\n",
    "# We iterate using a for loop through the lat_lngs tuple, as in our \n",
    "# practice, and retrieve the nearest city using the latitude\n",
    "# and longitude pair.\n",
    "\n",
    "for lat_lng in lat_lngs:\n",
    "    city = citipy.nearest_city(lat_lng[0], lat_lng[1]).city_name\n",
    "\n",
    "# If the city is unique, then we will add it to the cities list.\n",
    "    if city not in cities:\n",
    "        cities.append(city)\n",
    "\n",
    "# Print the city count.\n",
    "len(cities)\n",
    "\n",
    "#     Breaking down the code\n",
    "# 1. We create a cities list to store city names.\n"
   ]
  },
  {
   "cell_type": "code",
   "execution_count": 224,
   "metadata": {},
   "outputs": [],
   "source": [
    "# Import the requests library.\n",
    "import requests\n",
    "\n",
    "# Import the API key.\n",
    "from config import weather_api_key"
   ]
  },
  {
   "cell_type": "code",
   "execution_count": 225,
   "metadata": {},
   "outputs": [
    {
     "name": "stdout",
     "output_type": "stream",
     "text": [
      "http://api.openweathermap.org/data/2.5/weather?units=Imperial&APPID=47ea430ffbc6a3d7f5e1667d3293f52a\n"
     ]
    }
   ],
   "source": [
    "# Starting URL for Weather Map API Call.\n",
    "url = \"http://api.openweathermap.org/data/2.5/weather?units=Imperial&APPID=\" + weather_api_key\n",
    "print(url)"
   ]
  },
  {
   "cell_type": "code",
   "execution_count": 226,
   "metadata": {},
   "outputs": [
    {
     "name": "stdout",
     "output_type": "stream",
     "text": [
      "http://api.openweathermap.org/data/2.5/weather?units=Imperial&APPID=47ea430ffbc6a3d7f5e1667d3293f52a&q=Boston\n"
     ]
    }
   ],
   "source": [
    "# Create an endpoint URL for a city.\n",
    "city_url= url + \"&q=\" + \"Boston\"\n",
    "\n",
    "# Prints out the endpoint URL\n",
    "print(city_url)\n",
    "\n",
    "#  - we are creating a string to get the weather data for\n",
    "# Boston by using the city_url\n",
    "\n",
    "#  - To create the city_url we add the parameter, &q= and \n",
    "# “Boston” to the url."
   ]
  },
  {
   "cell_type": "code",
   "execution_count": 227,
   "metadata": {},
   "outputs": [
    {
     "data": {
      "text/plain": [
       "<Response [200]>"
      ]
     },
     "execution_count": 227,
     "metadata": {},
     "output_type": "execute_result"
    }
   ],
   "source": [
    "# Make a 'Get' request for the city weather.\n",
    "city_weather= requests.get(city_url)\n",
    "\n",
    "# Prints out the 'Get' request.\n",
    "city_weather"
   ]
  },
  {
   "cell_type": "code",
   "execution_count": 228,
   "metadata": {},
   "outputs": [
    {
     "data": {
      "text/plain": [
       "200"
      ]
     },
     "execution_count": 228,
     "metadata": {},
     "output_type": "execute_result"
    }
   ],
   "source": [
    "# call the response code with the get() method using the \n",
    "# status_code\n",
    "\n",
    "city_weather.status_code"
   ]
  },
  {
   "cell_type": "code",
   "execution_count": 229,
   "metadata": {},
   "outputs": [
    {
     "data": {
      "text/plain": [
       "<Response [404]>"
      ]
     },
     "execution_count": 229,
     "metadata": {},
     "output_type": "execute_result"
    }
   ],
   "source": [
    "# Create an endpoint URL for a city.\n",
    "# With Incorrect spelling of the city.\n",
    "\n",
    "city_url= url + \"&q=\" + \"Bston\"\n",
    "city_weather= requests.get(city_url)\n",
    "city_weather"
   ]
  },
  {
   "cell_type": "code",
   "execution_count": 230,
   "metadata": {},
   "outputs": [
    {
     "data": {
      "text/plain": [
       "<Response [200]>"
      ]
     },
     "execution_count": 230,
     "metadata": {},
     "output_type": "execute_result"
    }
   ],
   "source": [
    "# Create an endpoint URL for a city.\n",
    "# With Correct spelling of the city.\n",
    "\n",
    "city_url= url + \"&q=\" + \"Boston\"\n",
    "city_weather= requests.get(city_url)\n",
    "city_weather"
   ]
  },
  {
   "cell_type": "code",
   "execution_count": 231,
   "metadata": {},
   "outputs": [
    {
     "data": {
      "text/plain": [
       "'{\"coord\":{\"lon\":-71.06,\"lat\":42.36},\"weather\":[{\"id\":804,\"main\":\"Clouds\",\"description\":\"overcast clouds\",\"icon\":\"04n\"}],\"base\":\"stations\",\"main\":{\"temp\":36.93,\"pressure\":1014,\"humidity\":74,\"temp_min\":33.8,\"temp_max\":41},\"visibility\":16093,\"wind\":{\"speed\":9.17,\"deg\":320},\"rain\":{},\"clouds\":{\"all\":90},\"dt\":1573196305,\"sys\":{\"type\":1,\"id\":3413,\"country\":\"US\",\"sunrise\":1573212360,\"sunset\":1573248600},\"timezone\":-18000,\"id\":4930956,\"name\":\"Boston\",\"cod\":200}'"
      ]
     },
     "execution_count": 231,
     "metadata": {},
     "output_type": "execute_result"
    }
   ],
   "source": [
    "# Get a text of the 'Get' request.\n",
    "city_weather.text"
   ]
  },
  {
   "cell_type": "code",
   "execution_count": 232,
   "metadata": {},
   "outputs": [
    {
     "data": {
      "text/plain": [
       "{'coord': {'lon': -71.06, 'lat': 42.36},\n",
       " 'weather': [{'id': 804,\n",
       "   'main': 'Clouds',\n",
       "   'description': 'overcast clouds',\n",
       "   'icon': '04n'}],\n",
       " 'base': 'stations',\n",
       " 'main': {'temp': 36.93,\n",
       "  'pressure': 1014,\n",
       "  'humidity': 74,\n",
       "  'temp_min': 33.8,\n",
       "  'temp_max': 41},\n",
       " 'visibility': 16093,\n",
       " 'wind': {'speed': 9.17, 'deg': 320},\n",
       " 'rain': {},\n",
       " 'clouds': {'all': 90},\n",
       " 'dt': 1573196305,\n",
       " 'sys': {'type': 1,\n",
       "  'id': 3413,\n",
       "  'country': 'US',\n",
       "  'sunrise': 1573212360,\n",
       "  'sunset': 1573248600},\n",
       " 'timezone': -18000,\n",
       " 'id': 4930956,\n",
       " 'name': 'Boston',\n",
       " 'cod': 200}"
      ]
     },
     "execution_count": 232,
     "metadata": {},
     "output_type": "execute_result"
    }
   ],
   "source": [
    "# Get a JSON of the 'Get' request.\n",
    "city_weather.json()"
   ]
  },
  {
   "cell_type": "code",
   "execution_count": 233,
   "metadata": {},
   "outputs": [
    {
     "name": "stdout",
     "output_type": "stream",
     "text": [
      "City Weather found.\n"
     ]
    }
   ],
   "source": [
    "# Create an endpoint URL for a city.\n",
    "city_url + \"&q=\" + \"Boston\"\n",
    "city_weather= requests.get(city_url)\n",
    "if city_weather.status_code== 200:\n",
    "    print(f\"City Weather found.\")\n",
    "else:\n",
    "    print(f\"City Weather not found.\")"
   ]
  },
  {
   "cell_type": "code",
   "execution_count": 234,
   "metadata": {},
   "outputs": [
    {
     "name": "stdout",
     "output_type": "stream",
     "text": [
      "City Weather found.\n"
     ]
    }
   ],
   "source": [
    "# Create an endpoint URL for a city.\n",
    "city_url + \"&q=\" + \"Bston\"\n",
    "city_weather= requests.get(city_url)\n",
    "if city_weather.json():\n",
    "    print(f\"City Weather found.\")\n",
    "else:\n",
    "    print(f\"City Weather not found.\")"
   ]
  },
  {
   "cell_type": "code",
   "execution_count": 235,
   "metadata": {},
   "outputs": [
    {
     "name": "stdout",
     "output_type": "stream",
     "text": [
      "http://api.openweathermap.org/data/2.5/weather?units=Imperial&APPID=47ea430ffbc6a3d7f5e1667d3293f52a&q=Boston\n"
     ]
    }
   ],
   "source": [
    "print(city_url)"
   ]
  },
  {
   "cell_type": "code",
   "execution_count": 236,
   "metadata": {},
   "outputs": [
    {
     "data": {
      "text/plain": [
       "{'coord': {'lon': -71.06, 'lat': 42.36},\n",
       " 'weather': [{'id': 804,\n",
       "   'main': 'Clouds',\n",
       "   'description': 'overcast clouds',\n",
       "   'icon': '04n'}],\n",
       " 'base': 'stations',\n",
       " 'main': {'temp': 36.93,\n",
       "  'pressure': 1014,\n",
       "  'humidity': 74,\n",
       "  'temp_min': 33.8,\n",
       "  'temp_max': 41},\n",
       " 'visibility': 16093,\n",
       " 'wind': {'speed': 9.17, 'deg': 320},\n",
       " 'rain': {},\n",
       " 'clouds': {'all': 90},\n",
       " 'dt': 1573196305,\n",
       " 'sys': {'type': 1,\n",
       "  'id': 3413,\n",
       "  'country': 'US',\n",
       "  'sunrise': 1573212360,\n",
       "  'sunset': 1573248600},\n",
       " 'timezone': -18000,\n",
       " 'id': 4930956,\n",
       " 'name': 'Boston',\n",
       " 'cod': 200}"
      ]
     },
     "execution_count": 236,
     "metadata": {},
     "output_type": "execute_result"
    }
   ],
   "source": [
    "# Get the JSON data.\n",
    "boston_data= city_weather.json()\n",
    "boston_data"
   ]
  },
  {
   "cell_type": "code",
   "execution_count": 237,
   "metadata": {},
   "outputs": [
    {
     "data": {
      "text/plain": [
       "'US'"
      ]
     },
     "execution_count": 237,
     "metadata": {},
     "output_type": "execute_result"
    }
   ],
   "source": [
    "boston_data[\"sys\"][\"country\"]"
   ]
  },
  {
   "cell_type": "code",
   "execution_count": 238,
   "metadata": {},
   "outputs": [
    {
     "data": {
      "text/plain": [
       "1573196305"
      ]
     },
     "execution_count": 238,
     "metadata": {},
     "output_type": "execute_result"
    }
   ],
   "source": [
    "boston_data[\"dt\"]"
   ]
  },
  {
   "cell_type": "code",
   "execution_count": 239,
   "metadata": {},
   "outputs": [
    {
     "name": "stdout",
     "output_type": "stream",
     "text": [
      "42.36 -71.06 41 74 90 9.17\n"
     ]
    }
   ],
   "source": [
    "# Creates a Variable name for Latitude Information.\n",
    "lat= boston_data[\"coord\"][\"lat\"]\n",
    "\n",
    "# Creates a Variable name for Longitude Information.\n",
    "lng= boston_data[\"coord\"][\"lon\"]\n",
    "\n",
    "# Creates a Variable name for Max Tempature Information.\n",
    "max_temp= boston_data[\"main\"][\"temp_max\"]\n",
    "\n",
    "# Creates a Variable name for Humidity Information.\n",
    "humidity= boston_data[\"main\"][\"humidity\"]\n",
    "\n",
    "# Creates a Variable name for Clouds Information.\n",
    "clouds= boston_data[\"clouds\"][\"all\"]\n",
    "\n",
    "# Creates a Variable name for Latitude Information.\n",
    "wind= boston_data[\"wind\"][\"speed\"]\n",
    "\n",
    "# Prints out the information inside the Variable names \n",
    "# created in this cell.\n",
    "print(lat,lng,max_temp,humidity,clouds,wind)"
   ]
  },
  {
   "cell_type": "code",
   "execution_count": 240,
   "metadata": {},
   "outputs": [
    {
     "data": {
      "text/plain": [
       "'2019-11-08 06:58:25'"
      ]
     },
     "execution_count": 240,
     "metadata": {},
     "output_type": "execute_result"
    }
   ],
   "source": [
    "# Import the datetime module from the datetime library.\n",
    "from datetime import datetime\n",
    "\n",
    "# Get the date from the JSON file.\n",
    "date= boston_data[\"dt\"]\n",
    "\n",
    "# Convert the UTC date to a date format with year, month, day, \n",
    "# hours, minutes and seconds.\n",
    "datetime.utcfromtimestamp(date).strftime('%Y-%m-%d %H:%M:%S')"
   ]
  },
  {
   "cell_type": "code",
   "execution_count": 241,
   "metadata": {},
   "outputs": [
    {
     "name": "stdout",
     "output_type": "stream",
     "text": [
      "http://api.openweathermap.org/data/2.5/weather?units=Imperial&APPID=47ea430ffbc6a3d7f5e1667d3293f52a\n",
      "http://api.openweathermap.org/data/2.5/weather?units=Imperial&APPID=47ea430ffbc6a3d7f5e1667d3293f52a&q=Boston\n"
     ]
    }
   ],
   "source": [
    "# Build the basic URL for the OpenWeatherMap with your weather-\n",
    "#_api_key added to the URL.\n",
    "url = \"http://api.openweathermap.org/data/2.5/weather?units=Imperial&APPID=\" + weather_api_key\n",
    "\n",
    "# Declares the url variable.\n",
    "print(url)\n",
    "\n",
    "# Declares the city_url variable.\n",
    "city_url= url + \"&q=\" + \"Boston\"\n",
    "\n",
    "# Prints the city_url variable.\n",
    "print(city_url)"
   ]
  },
  {
   "cell_type": "code",
   "execution_count": 242,
   "metadata": {},
   "outputs": [],
   "source": [
    "# Import the datetime module from the datetime library.\n",
    "from datetime import datetime"
   ]
  },
  {
   "cell_type": "code",
   "execution_count": 243,
   "metadata": {},
   "outputs": [
    {
     "name": "stdout",
     "output_type": "stream",
     "text": [
      "Beginning Data Retrieval  \n",
      "--------------------------\n"
     ]
    }
   ],
   "source": [
    "# Creates an empty list to hold the  data.\n",
    "city_data=[]\n",
    "\n",
    "# Print the beginning of the logging.\n",
    "print(\"Beginning Data Retrieval  \")\n",
    "print(\"--------------------------\")\n",
    "\n",
    "# Create the counters.\n",
    "# we have initialized the counters at 1 because we want the \n",
    "#first iteration of the logging for each recorded response\n",
    "record_count=1\n",
    "\n",
    "# Set to start at 1.\n",
    "set_count=1"
   ]
  },
  {
   "cell_type": "code",
   "execution_count": 244,
   "metadata": {},
   "outputs": [],
   "source": [
    "# Loop through all the cities in our list.\n",
    "for i in range(len(cities)):\n",
    "\n",
    "    # Group cities in sets of 50 for logging purposes.\n",
    "    if (i % 50 == 0 and i >= 50):\n",
    "        set_count += 1\n",
    "        record_count = 1\n",
    "    # Create endpoint URL with each city.\n",
    "    city_url = url + \"&q=\" + \"i\""
   ]
  },
  {
   "cell_type": "code",
   "execution_count": 245,
   "metadata": {},
   "outputs": [
    {
     "data": {
      "text/plain": [
       "597"
      ]
     },
     "execution_count": 245,
     "metadata": {},
     "output_type": "execute_result"
    }
   ],
   "source": [
    "import numpy as np\n",
    "\n",
    "np.random.seed(42)\n",
    "lats = np.random.uniform(low=-90.000, high=90.000, size=1500)\n",
    "lngs = np.random.uniform(low=-180.000, high=180.000, size=1500)\n",
    "lat_lngs = list(zip(lats, lngs))\n",
    "lat_lngs \n",
    "\n",
    "# Use the citipy module to determine city based on latitude and longitude.\n",
    "from citipy import citipy\n",
    "\n",
    "# Create a list for holding the cities.\n",
    "cities = []\n",
    "# Identify the nearest city for each latitude and longitude combination.\n",
    "for lat_lng in lat_lngs:\n",
    "    city = citipy.nearest_city(lat_lng[0], lat_lng[1]).city_name\n",
    "\n",
    "    # If the city is unique, then we will add it to the cities list.\n",
    "    if city not in cities:\n",
    "        cities.append(city)\n",
    "# Print the city count to confirm sufficient count.\n",
    "len(cities)"
   ]
  },
  {
   "cell_type": "code",
   "execution_count": 246,
   "metadata": {},
   "outputs": [
    {
     "name": "stdout",
     "output_type": "stream",
     "text": [
      "http://api.openweathermap.org/data/2.5/weather?units=Imperial&APPID=47ea430ffbc6a3d7f5e1667d3293f52a\n"
     ]
    }
   ],
   "source": [
    "\n",
    "print(url)"
   ]
  },
  {
   "cell_type": "code",
   "execution_count": 247,
   "metadata": {},
   "outputs": [
    {
     "name": "stdout",
     "output_type": "stream",
     "text": [
      "City found , max temp was  59.61\n",
      "City not found. Skipping...\n",
      "City found , max temp was  30.2\n",
      "City found , max temp was  33.8\n",
      "City found , max temp was  35.6\n",
      "City found , max temp was  49.32\n",
      "City found , max temp was  60.78\n",
      "City found , max temp was  32\n",
      "City not found. Skipping...\n",
      "City found , max temp was  51.55\n",
      "City found , max temp was  28.4\n",
      "City found , max temp was  -6.27\n",
      "City found , max temp was  37.18\n",
      "City found , max temp was  82.4\n",
      "City found , max temp was  35.6\n",
      "City not found. Skipping...\n",
      "City found , max temp was  84.58\n",
      "City found , max temp was  64.35\n",
      "City found , max temp was  68\n",
      "City found , max temp was  77\n",
      "City found , max temp was  98.49\n",
      "City found , max temp was  57.2\n",
      "City found , max temp was  61.05\n",
      "City found , max temp was  58.87\n",
      "City found , max temp was  10.4\n",
      "City found , max temp was  35.6\n",
      "City found , max temp was  48.74\n",
      "City not found. Skipping...\n",
      "City found , max temp was  59\n",
      "City not found. Skipping...\n",
      "City found , max temp was  66.15\n",
      "City found , max temp was  74.41\n",
      "City found , max temp was  -3.28\n",
      "City found , max temp was  33.87\n",
      "City found , max temp was  74.55\n",
      "City found , max temp was  80.6\n",
      "City found , max temp was  78.8\n",
      "City found , max temp was  30.2\n",
      "City found , max temp was  80.58\n",
      "City found , max temp was  50.18\n",
      "City found , max temp was  55.4\n",
      "City found , max temp was  73.74\n",
      "City found , max temp was  77\n",
      "City found , max temp was  68\n",
      "City found , max temp was  18.28\n",
      "City found , max temp was  55.53\n",
      "City found , max temp was  -24.74\n",
      "City not found. Skipping...\n",
      "City not found. Skipping...\n",
      "City found , max temp was  10.4\n",
      "City found , max temp was  60.31\n",
      "City found , max temp was  50\n",
      "City found , max temp was  66.2\n",
      "City found , max temp was  72.03\n",
      "City found , max temp was  42.1\n",
      "City found , max temp was  30.29\n",
      "City found , max temp was  55.4\n",
      "City found , max temp was  73.89\n",
      "City found , max temp was  21.2\n",
      "City found , max temp was  42.8\n",
      "City not found. Skipping...\n",
      "City found , max temp was  39.2\n",
      "City found , max temp was  82.4\n",
      "City found , max temp was  10.4\n",
      "City found , max temp was  67.26\n",
      "City found , max temp was  69.03\n",
      "City found , max temp was  60.87\n",
      "City found , max temp was  24.8\n",
      "City found , max temp was  46.71\n",
      "City found , max temp was  82.47\n",
      "City found , max temp was  26.6\n",
      "City found , max temp was  51.8\n",
      "City found , max temp was  75.2\n",
      "City found , max temp was  75.33\n",
      "City found , max temp was  66.2\n",
      "City found , max temp was  80.6\n",
      "City found , max temp was  80.94\n",
      "City found , max temp was  50\n",
      "City found , max temp was  78.8\n",
      "City found , max temp was  60.8\n",
      "City found , max temp was  77\n",
      "City found , max temp was  40.64\n",
      "City found , max temp was  64.4\n",
      "City found , max temp was  39.85\n",
      "City found , max temp was  60.8\n",
      "City not found. Skipping...\n",
      "City found , max temp was  19.4\n",
      "City found , max temp was  80.6\n",
      "City found , max temp was  5.02\n",
      "City found , max temp was  27.18\n",
      "City found , max temp was  24.8\n",
      "City found , max temp was  80.65\n",
      "City found , max temp was  41\n",
      "City found , max temp was  64.4\n",
      "City found , max temp was  78.8\n",
      "City found , max temp was  17.6\n",
      "City found , max temp was  32\n",
      "City found , max temp was  78.53\n",
      "City not found. Skipping...\n",
      "City found , max temp was  43.39\n",
      "City found , max temp was  -8.4\n",
      "City found , max temp was  77.02\n",
      "City found , max temp was  53.6\n",
      "City found , max temp was  78.8\n",
      "City found , max temp was  69.8\n",
      "City found , max temp was  77\n",
      "City not found. Skipping...\n",
      "City found , max temp was  55.4\n",
      "City found , max temp was  83.41\n",
      "City found , max temp was  78.8\n",
      "City found , max temp was  27.61\n",
      "City found , max temp was  37.4\n",
      "City found , max temp was  73.85\n",
      "City found , max temp was  50.85\n",
      "City found , max temp was  67.46\n",
      "City not found. Skipping...\n",
      "City found , max temp was  59\n",
      "City found , max temp was  69.8\n",
      "City found , max temp was  62.6\n",
      "City found , max temp was  70.88\n",
      "City found , max temp was  56.14\n",
      "City found , max temp was  -1.47\n",
      "City found , max temp was  42.8\n",
      "City found , max temp was  61.95\n",
      "City found , max temp was  90.57\n",
      "City found , max temp was  57.69\n",
      "City found , max temp was  77\n",
      "City found , max temp was  68.97\n",
      "City found , max temp was  12.2\n",
      "City found , max temp was  65.25\n",
      "City not found. Skipping...\n",
      "City found , max temp was  -11.21\n",
      "City found , max temp was  77\n",
      "City found , max temp was  34.95\n",
      "City found , max temp was  73.33\n",
      "City found , max temp was  65.12\n",
      "City found , max temp was  28.4\n",
      "City found , max temp was  35.6\n",
      "City found , max temp was  75.2\n",
      "City found , max temp was  60.8\n",
      "City found , max temp was  73.4\n",
      "City found , max temp was  10.4\n",
      "City found , max temp was  11.43\n",
      "City found , max temp was  46.09\n",
      "City found , max temp was  84.87\n",
      "City found , max temp was  68\n",
      "City not found. Skipping...\n",
      "City found , max temp was  73.27\n",
      "City found , max temp was  76.46\n",
      "City found , max temp was  69.15\n",
      "City found , max temp was  75.2\n",
      "City not found. Skipping...\n",
      "City found , max temp was  46.4\n",
      "City found , max temp was  83.84\n",
      "City found , max temp was  28.4\n",
      "City not found. Skipping...\n",
      "City found , max temp was  77.9\n",
      "City found , max temp was  75.2\n",
      "City found , max temp was  32\n",
      "City found , max temp was  100.4\n",
      "City found , max temp was  -8.94\n",
      "City found , max temp was  32\n",
      "City not found. Skipping...\n",
      "City found , max temp was  68.95\n",
      "City found , max temp was  32\n",
      "City found , max temp was  82.53\n",
      "City found , max temp was  22.35\n",
      "City not found. Skipping...\n",
      "City found , max temp was  65.61\n",
      "City found , max temp was  -3.84\n",
      "City found , max temp was  77\n",
      "City found , max temp was  46.4\n",
      "City not found. Skipping...\n",
      "City found , max temp was  77\n",
      "City found , max temp was  73.56\n",
      "City found , max temp was  41\n",
      "City not found. Skipping...\n",
      "City found , max temp was  86\n",
      "City found , max temp was  73.11\n",
      "City found , max temp was  42.66\n",
      "City found , max temp was  69.8\n",
      "City found , max temp was  41\n",
      "City found , max temp was  16.38\n",
      "City found , max temp was  60.8\n",
      "City found , max temp was  84.2\n",
      "City found , max temp was  87.8\n",
      "City found , max temp was  66.13\n",
      "City found , max temp was  77.99\n",
      "City found , max temp was  24.8\n",
      "City found , max temp was  78.8\n",
      "City not found. Skipping...\n",
      "City found , max temp was  81.75\n",
      "City found , max temp was  82.22\n",
      "City found , max temp was  39.2\n",
      "City found , max temp was  29.12\n",
      "City not found. Skipping...\n",
      "City found , max temp was  46.4\n",
      "City found , max temp was  33.37\n",
      "City not found. Skipping...\n",
      "City found , max temp was  80.6\n",
      "City found , max temp was  48.2\n",
      "City not found. Skipping...\n",
      "City found , max temp was  57.2\n",
      "City found , max temp was  87.51\n",
      "City found , max temp was  34\n",
      "City found , max temp was  57.2\n",
      "City found , max temp was  15.8\n",
      "City found , max temp was  57.2\n",
      "City found , max temp was  81.97\n",
      "City found , max temp was  80.71\n",
      "City found , max temp was  82.04\n",
      "City found , max temp was  68.65\n",
      "City found , max temp was  84.2\n",
      "City found , max temp was  46.4\n",
      "City found , max temp was  80.6\n",
      "City found , max temp was  98.6\n",
      "City found , max temp was  86\n",
      "City found , max temp was  68.83\n",
      "City found , max temp was  36.46\n",
      "City found , max temp was  61.9\n",
      "City not found. Skipping...\n",
      "City found , max temp was  93.2\n",
      "City not found. Skipping...\n",
      "City found , max temp was  87.8\n",
      "City found , max temp was  75.2\n",
      "City found , max temp was  2.28\n",
      "City found , max temp was  61.83\n",
      "City found , max temp was  37.04\n",
      "City found , max temp was  17.58\n",
      "City found , max temp was  21.2\n",
      "City found , max temp was  63.57\n",
      "City found , max temp was  60.8\n",
      "City found , max temp was  67.08\n",
      "City found , max temp was  48.2\n",
      "City found , max temp was  32\n",
      "City found , max temp was  83.71\n",
      "City found , max temp was  70.66\n",
      "City found , max temp was  36.1\n",
      "City found , max temp was  56.52\n",
      "City found , max temp was  22.28\n",
      "City found , max temp was  41\n",
      "City found , max temp was  21.2\n",
      "City found , max temp was  37.4\n",
      "City found , max temp was  23\n",
      "City found , max temp was  80.76\n",
      "City found , max temp was  70.23\n",
      "City found , max temp was  8.28\n",
      "City found , max temp was  64.4\n",
      "City found , max temp was  18.95\n",
      "City found , max temp was  81.75\n",
      "City found , max temp was  53.6\n",
      "City found , max temp was  34.39\n",
      "City not found. Skipping...\n",
      "City found , max temp was  79.74\n",
      "City found , max temp was  44.6\n",
      "City found , max temp was  46.4\n",
      "City found , max temp was  71.6\n",
      "City not found. Skipping...\n",
      "City found , max temp was  57.2\n"
     ]
    },
    {
     "name": "stdout",
     "output_type": "stream",
     "text": [
      "City found , max temp was  65.52\n",
      "City found , max temp was  46.4\n",
      "City not found. Skipping...\n",
      "City found , max temp was  32.49\n",
      "City found , max temp was  44.6\n",
      "City not found. Skipping...\n",
      "City found , max temp was  80.6\n",
      "City found , max temp was  76.6\n",
      "City not found. Skipping...\n",
      "City found , max temp was  84.31\n",
      "City found , max temp was  77\n",
      "City found , max temp was  47.26\n",
      "City found , max temp was  73.4\n",
      "City found , max temp was  15.8\n",
      "City found , max temp was  72.79\n",
      "City found , max temp was  33.8\n",
      "City found , max temp was  54.52\n",
      "City found , max temp was  32\n",
      "City found , max temp was  72.12\n",
      "City not found. Skipping...\n",
      "City found , max temp was  61.56\n",
      "City found , max temp was  59\n",
      "City found , max temp was  66.54\n",
      "City found , max temp was  66.76\n",
      "City found , max temp was  50\n",
      "City found , max temp was  80.28\n",
      "City found , max temp was  37.4\n",
      "City found , max temp was  69.31\n",
      "City found , max temp was  62.6\n",
      "City found , max temp was  14\n",
      "City found , max temp was  53.6\n",
      "City found , max temp was  30.47\n",
      "City found , max temp was  48.2\n",
      "City found , max temp was  72.32\n",
      "City found , max temp was  23.81\n",
      "City found , max temp was  79.2\n",
      "City not found. Skipping...\n",
      "City found , max temp was  66.16\n",
      "City found , max temp was  61.66\n",
      "City found , max temp was  2.98\n",
      "City found , max temp was  17.11\n",
      "City found , max temp was  56.44\n",
      "City found , max temp was  32.65\n",
      "City found , max temp was  78.8\n",
      "City found , max temp was  79.3\n",
      "City found , max temp was  72.48\n",
      "City found , max temp was  -19.11\n",
      "City found , max temp was  93.2\n",
      "City found , max temp was  75.79\n",
      "City found , max temp was  87.8\n",
      "City found , max temp was  73.71\n",
      "City found , max temp was  66.85\n",
      "City found , max temp was  39.2\n",
      "City found , max temp was  -6.96\n",
      "City not found. Skipping...\n",
      "City not found. Skipping...\n",
      "City found , max temp was  71.6\n",
      "City found , max temp was  75.43\n",
      "City found , max temp was  60.8\n",
      "City found , max temp was  12.2\n",
      "City found , max temp was  96.31\n",
      "City found , max temp was  62.6\n",
      "City found , max temp was  72.48\n",
      "City found , max temp was  57.2\n",
      "City found , max temp was  98.6\n",
      "City found , max temp was  73.6\n",
      "City found , max temp was  15.8\n",
      "City found , max temp was  1.69\n",
      "City found , max temp was  30.43\n",
      "City found , max temp was  90.73\n",
      "City found , max temp was  48.2\n",
      "City found , max temp was  72.93\n",
      "City found , max temp was  60.8\n",
      "City found , max temp was  76.32\n",
      "City found , max temp was  65.57\n",
      "City found , max temp was  79.61\n",
      "City found , max temp was  91.4\n",
      "City found , max temp was  65.64\n",
      "City found , max temp was  73.4\n",
      "City found , max temp was  44.6\n",
      "City found , max temp was  80.33\n",
      "City found , max temp was  51.89\n",
      "City found , max temp was  71.6\n",
      "City found , max temp was  76.17\n",
      "City found , max temp was  82.92\n",
      "City found , max temp was  51.8\n",
      "City found , max temp was  50.68\n",
      "City found , max temp was  84.79\n",
      "City found , max temp was  73.4\n",
      "City found , max temp was  14\n",
      "City found , max temp was  28.4\n",
      "City found , max temp was  84.52\n",
      "City not found. Skipping...\n",
      "City found , max temp was  40.26\n",
      "City found , max temp was  82.4\n",
      "City found , max temp was  84.25\n",
      "City found , max temp was  72.99\n",
      "City found , max temp was  74.1\n",
      "City found , max temp was  14.41\n",
      "City found , max temp was  60.8\n",
      "City found , max temp was  39.97\n",
      "City not found. Skipping...\n",
      "City found , max temp was  80.6\n",
      "City found , max temp was  44.6\n",
      "City not found. Skipping...\n",
      "City found , max temp was  42.89\n",
      "City found , max temp was  84.34\n",
      "City found , max temp was  18.46\n",
      "City found , max temp was  33.87\n",
      "City found , max temp was  60.8\n",
      "City found , max temp was  91.94\n",
      "City found , max temp was  55.4\n",
      "City not found. Skipping...\n",
      "City found , max temp was  58.41\n",
      "City not found. Skipping...\n",
      "City not found. Skipping...\n",
      "City found , max temp was  80.78\n",
      "City found , max temp was  87.8\n",
      "City found , max temp was  40.35\n",
      "City found , max temp was  79.79\n",
      "City found , max temp was  42.8\n",
      "City found , max temp was  53.15\n",
      "City found , max temp was  87.12\n",
      "City found , max temp was  56.03\n",
      "City found , max temp was  -5.18\n",
      "City found , max temp was  35.49\n",
      "City found , max temp was  41\n",
      "City not found. Skipping...\n",
      "City found , max temp was  48.2\n",
      "City found , max temp was  39.2\n",
      "City found , max temp was  60.8\n",
      "City found , max temp was  71.6\n",
      "City found , max temp was  70.14\n",
      "City found , max temp was  13.62\n",
      "City found , max temp was  78.04\n",
      "City found , max temp was  70.07\n",
      "City found , max temp was  83.16\n",
      "City found , max temp was  16.97\n",
      "City not found. Skipping...\n",
      "City found , max temp was  10.4\n",
      "City found , max temp was  82.31\n",
      "City found , max temp was  23.81\n",
      "City found , max temp was  44.17\n",
      "City found , max temp was  84.2\n",
      "City found , max temp was  57.83\n",
      "City not found. Skipping...\n",
      "City found , max temp was  80.6\n",
      "City found , max temp was  66.83\n",
      "City found , max temp was  77\n",
      "City found , max temp was  72.36\n",
      "City not found. Skipping...\n",
      "City found , max temp was  77.38\n",
      "City found , max temp was  51.8\n",
      "City found , max temp was  53.6\n",
      "City found , max temp was  84.87\n",
      "City found , max temp was  22.75\n",
      "City found , max temp was  82.65\n",
      "City found , max temp was  79.32\n",
      "City found , max temp was  48.2\n",
      "City found , max temp was  63.34\n",
      "City found , max temp was  69.8\n",
      "City found , max temp was  10.4\n",
      "City found , max temp was  14\n",
      "City found , max temp was  37.4\n",
      "City found , max temp was  66.2\n",
      "City found , max temp was  73.98\n",
      "City found , max temp was  46.4\n",
      "City found , max temp was  41\n",
      "City not found. Skipping...\n",
      "City found , max temp was  72.57\n",
      "City found , max temp was  29.71\n",
      "City found , max temp was  -14.81\n",
      "City found , max temp was  60.8\n",
      "City found , max temp was  35.6\n",
      "City found , max temp was  3.81\n",
      "City found , max temp was  33.8\n",
      "City not found. Skipping...\n",
      "City found , max temp was  84.2\n",
      "City found , max temp was  68\n",
      "City found , max temp was  82.4\n",
      "City found , max temp was  78.96\n",
      "City found , max temp was  25.83\n",
      "City found , max temp was  82.63\n",
      "City found , max temp was  89.51\n",
      "City found , max temp was  76.17\n",
      "City found , max temp was  75.2\n",
      "City found , max temp was  46.4\n",
      "City found , max temp was  39.2\n",
      "City found , max temp was  76.3\n",
      "City found , max temp was  24.8\n",
      "City found , max temp was  51.8\n",
      "City not found. Skipping...\n",
      "City not found. Skipping...\n",
      "City not found. Skipping...\n",
      "City found , max temp was  68.7\n",
      "City found , max temp was  44.6\n",
      "City found , max temp was  28.4\n",
      "City found , max temp was  79.32\n",
      "City found , max temp was  82.85\n",
      "City found , max temp was  3.2\n",
      "City found , max temp was  64.4\n",
      "City found , max temp was  54.59\n",
      "City not found. Skipping...\n",
      "City not found. Skipping...\n",
      "City found , max temp was  57.34\n",
      "City not found. Skipping...\n",
      "City found , max temp was  83.68\n",
      "City found , max temp was  57.2\n",
      "City found , max temp was  81.12\n",
      "City found , max temp was  35.71\n",
      "City found , max temp was  24.8\n",
      "City found , max temp was  42.3\n",
      "City found , max temp was  77\n",
      "City found , max temp was  41\n",
      "City found , max temp was  58.86\n",
      "City found , max temp was  72.55\n",
      "City found , max temp was  -11.21\n",
      "City found , max temp was  78.42\n",
      "City found , max temp was  28.4\n",
      "City found , max temp was  76.59\n",
      "City found , max temp was  63.79\n",
      "City found , max temp was  35.6\n",
      "City found , max temp was  23\n",
      "City found , max temp was  79.83\n",
      "City found , max temp was  69.91\n",
      "City found , max temp was  86.29\n",
      "City found , max temp was  19.4\n",
      "City found , max temp was  26.76\n",
      "City found , max temp was  73.65\n",
      "City found , max temp was  36.63\n",
      "City found , max temp was  78.8\n",
      "City found , max temp was  55.4\n",
      "City found , max temp was  61.63\n",
      "City found , max temp was  83.82\n",
      "City found , max temp was  86.81\n",
      "City found , max temp was  75.33\n",
      "City found , max temp was  51.8\n",
      "City found , max temp was  51.8\n",
      "City found , max temp was  39.56\n",
      "City found , max temp was  72.25\n",
      "City found , max temp was  82.4\n",
      "City not found. Skipping...\n",
      "City not found. Skipping...\n",
      "City found , max temp was  41\n",
      "City found , max temp was  51.8\n",
      "City found , max temp was  78.93\n",
      "City found , max temp was  66.2\n",
      "City found , max temp was  71.85\n",
      "City found , max temp was  39.88\n",
      "City found , max temp was  71.64\n",
      "City found , max temp was  33.8\n",
      "City not found. Skipping...\n",
      "City found , max temp was  65.97\n",
      "City found , max temp was  23\n",
      "City found , max temp was  42.8\n",
      "City not found. Skipping...\n",
      "City found , max temp was  96.87\n"
     ]
    },
    {
     "name": "stdout",
     "output_type": "stream",
     "text": [
      "City found , max temp was  77\n",
      "City found , max temp was  77\n",
      "City found , max temp was  75.2\n",
      "City found , max temp was  75.2\n",
      "City found , max temp was  15.8\n",
      "City found , max temp was  10.4\n",
      "City found , max temp was  56.35\n",
      "City found , max temp was  67.98\n",
      "City found , max temp was  42.53\n",
      "City found , max temp was  76.32\n",
      "City found , max temp was  74.16\n",
      "City not found. Skipping...\n",
      "City found , max temp was  36.79\n",
      "City found , max temp was  74.28\n",
      "City found , max temp was  77\n",
      "City found , max temp was  70.75\n",
      "City found , max temp was  48.2\n",
      "City found , max temp was  37.4\n",
      "City not found. Skipping...\n",
      "City found , max temp was  49.82\n",
      "City found , max temp was  39.2\n",
      "City found , max temp was  37.06\n",
      "City not found. Skipping...\n",
      "City found , max temp was  71.67\n",
      "City found , max temp was  88.11\n",
      "City found , max temp was  78.8\n",
      "City found , max temp was  14.13\n",
      "City found , max temp was  71.89\n",
      "City found , max temp was  57.2\n",
      "City found , max temp was  62.91\n",
      "City found , max temp was  -1.74\n",
      "City found , max temp was  48.2\n",
      "City found , max temp was  78.37\n",
      "City found , max temp was  60.8\n",
      "City found , max temp was  28.4\n",
      "City found , max temp was  71.6\n",
      "City found , max temp was  37.4\n",
      "City found , max temp was  1.49\n",
      "City found , max temp was  32\n",
      "City found , max temp was  80.6\n",
      "City found , max temp was  78.93\n",
      "City found , max temp was  105.8\n",
      "City found , max temp was  93.2\n",
      "City found , max temp was  41\n",
      "City found , max temp was  82.54\n",
      "City found , max temp was  80.58\n",
      "City found , max temp was  -6.22\n",
      "City found , max temp was  78.8\n",
      "City not found. Skipping...\n",
      "City found , max temp was  82.56\n",
      "City found , max temp was  70.54\n",
      "City found , max temp was  64.6\n",
      "City not found. Skipping...\n",
      "City found , max temp was  70.79\n",
      "City found , max temp was  60.75\n",
      "City found , max temp was  67.06\n",
      "City found , max temp was  64.4\n",
      "City found , max temp was  57.2\n",
      "City found , max temp was  42.8\n",
      "City found , max temp was  90.95\n",
      "City found , max temp was  86.31\n",
      "City found , max temp was  -1.29\n",
      "City found , max temp was  74.68\n",
      "City found , max temp was  -7.59\n",
      "City found , max temp was  55.54\n",
      "City found , max temp was  69.8\n",
      "City found , max temp was  80.6\n",
      "City found , max temp was  79.57\n",
      "City found , max temp was  32\n",
      "City found , max temp was  17.6\n",
      "City found , max temp was  66.2\n",
      "City found , max temp was  16.68\n",
      "City found , max temp was  38.41\n",
      "City found , max temp was  75.67\n",
      "City found , max temp was  82.62\n",
      "City found , max temp was  62.82\n",
      "City not found. Skipping...\n",
      "City found , max temp was  69.8\n",
      "City found , max temp was  71.51\n",
      "City found , max temp was  50.67\n",
      "City found , max temp was  -5.82\n",
      "-----------------------------\n",
      "Data Retrieval Complete      \n",
      "-----------------------------\n",
      "[{'City': 'Henties Bay', 'Lat': -22.12, 'Lng': 14.28, 'Max Temp': 59.61, 'Humidity': 75, 'Cloudiness': 26, 'Wind Speed': 3.89, 'Country': 'NA', 'Date': '2019-11-08 06:58:49'}, {'City': 'Bethel', 'Lat': 60.79, 'Lng': -161.76, 'Max Temp': 30.2, 'Humidity': 100, 'Cloudiness': 90, 'Wind Speed': 9.17, 'Country': 'US', 'Date': '2019-11-08 06:58:49'}, {'City': 'Saint-Francois', 'Lat': 46.42, 'Lng': 3.91, 'Max Temp': 33.8, 'Humidity': 100, 'Cloudiness': 45, 'Wind Speed': 4.41, 'Country': 'FR', 'Date': '2019-11-08 06:58:49'}, {'City': 'Ushuaia', 'Lat': -54.81, 'Lng': -68.31, 'Max Temp': 35.6, 'Humidity': 98, 'Cloudiness': 40, 'Wind Speed': 21.92, 'Country': 'AR', 'Date': '2019-11-08 06:58:50'}, {'City': 'Mar Del Plata', 'Lat': -46.43, 'Lng': -67.52, 'Max Temp': 49.32, 'Humidity': 36, 'Cloudiness': 0, 'Wind Speed': 18.23, 'Country': 'AR', 'Date': '2019-11-08 06:58:50'}, {'City': 'Kruisfontein', 'Lat': -34, 'Lng': 24.73, 'Max Temp': 60.78, 'Humidity': 70, 'Cloudiness': 73, 'Wind Speed': 10.6, 'Country': 'ZA', 'Date': '2019-11-08 06:58:50'}, {'City': 'Bronnoysund', 'Lat': 65.46, 'Lng': 12.2, 'Max Temp': 32, 'Humidity': 68, 'Cloudiness': 40, 'Wind Speed': 8.05, 'Country': 'NO', 'Date': '2019-11-08 06:57:14'}, {'City': 'Yumen', 'Lat': 40.29, 'Lng': 97.04, 'Max Temp': 51.55, 'Humidity': 27, 'Cloudiness': 78, 'Wind Speed': 19.98, 'Country': 'CN', 'Date': '2019-11-08 06:58:51'}, {'City': 'Albany', 'Lat': 42.65, 'Lng': -73.75, 'Max Temp': 28.4, 'Humidity': 68, 'Cloudiness': 20, 'Wind Speed': 8.05, 'Country': 'US', 'Date': '2019-11-08 06:58:51'}, {'City': 'Dikson', 'Lat': 73.51, 'Lng': 80.55, 'Max Temp': -6.27, 'Humidity': 97, 'Cloudiness': 74, 'Wind Speed': 10.42, 'Country': 'RU', 'Date': '2019-11-08 06:58:51'}, {'City': 'Ossora', 'Lat': 59.24, 'Lng': 163.07, 'Max Temp': 37.18, 'Humidity': 82, 'Cloudiness': 93, 'Wind Speed': 17.09, 'Country': 'RU', 'Date': '2019-11-08 06:58:51'}, {'City': 'Vaini', 'Lat': 15.34, 'Lng': 74.49, 'Max Temp': 82.4, 'Humidity': 54, 'Cloudiness': 40, 'Wind Speed': 4.7, 'Country': 'IN', 'Date': '2019-11-08 06:58:52'}, {'City': 'Castro', 'Lat': -42.48, 'Lng': -73.76, 'Max Temp': 35.6, 'Humidity': 90, 'Cloudiness': 98, 'Wind Speed': 2.91, 'Country': 'CL', 'Date': '2019-11-08 06:58:52'}, {'City': 'Vanimo', 'Lat': -2.67, 'Lng': 141.3, 'Max Temp': 84.58, 'Humidity': 67, 'Cloudiness': 100, 'Wind Speed': 5.46, 'Country': 'PG', 'Date': '2019-11-08 06:58:52'}, {'City': 'San Cristobal', 'Lat': 14.68, 'Lng': -86.92, 'Max Temp': 64.35, 'Humidity': 98, 'Cloudiness': 21, 'Wind Speed': 2.46, 'Country': 'HN', 'Date': '2019-11-08 06:58:52'}, {'City': 'Ulladulla', 'Lat': -35.36, 'Lng': 150.48, 'Max Temp': 68, 'Humidity': 34, 'Cloudiness': 40, 'Wind Speed': 25.28, 'Country': 'AU', 'Date': '2019-11-08 06:58:53'}, {'City': 'Ewa Beach', 'Lat': 21.32, 'Lng': -158.01, 'Max Temp': 77, 'Humidity': 69, 'Cloudiness': 20, 'Wind Speed': 4.7, 'Country': 'US', 'Date': '2019-11-08 06:58:53'}, {'City': 'Bluff', 'Lat': -23.58, 'Lng': 149.07, 'Max Temp': 98.49, 'Humidity': 7, 'Cloudiness': 0, 'Wind Speed': 15.32, 'Country': 'AU', 'Date': '2019-11-08 06:58:53'}, {'City': 'Maldonado', 'Lat': -34.91, 'Lng': -54.96, 'Max Temp': 57.2, 'Humidity': 82, 'Cloudiness': 0, 'Wind Speed': 5.82, 'Country': 'UY', 'Date': '2019-11-08 06:58:53'}, {'City': 'Mataura', 'Lat': -46.19, 'Lng': 168.86, 'Max Temp': 61.05, 'Humidity': 56, 'Cloudiness': 43, 'Wind Speed': 5.75, 'Country': 'NZ', 'Date': '2019-11-08 06:58:54'}, {'City': 'Jamestown', 'Lat': -33.21, 'Lng': 138.6, 'Max Temp': 58.87, 'Humidity': 40, 'Cloudiness': 29, 'Wind Speed': 20.96, 'Country': 'AU', 'Date': '2019-11-08 06:58:54'}, {'City': 'Geraldton', 'Lat': 49.72, 'Lng': -86.95, 'Max Temp': 10.4, 'Humidity': 66, 'Cloudiness': 90, 'Wind Speed': 2.24, 'Country': 'CA', 'Date': '2019-11-08 06:58:54'}, {'City': 'Punta Arenas', 'Lat': -53.16, 'Lng': -70.91, 'Max Temp': 35.6, 'Humidity': 80, 'Cloudiness': 40, 'Wind Speed': 16.11, 'Country': 'CL', 'Date': '2019-11-08 06:58:54'}, {'City': 'Mitu', 'Lat': 36.2, 'Lng': 46.09, 'Max Temp': 48.74, 'Humidity': 33, 'Cloudiness': 0, 'Wind Speed': 7, 'Country': 'IR', 'Date': '2019-11-08 06:58:54'}, {'City': 'Bredasdorp', 'Lat': -34.53, 'Lng': 20.04, 'Max Temp': 59, 'Humidity': 77, 'Cloudiness': 75, 'Wind Speed': 3.36, 'Country': 'ZA', 'Date': '2019-11-08 06:58:55'}, {'City': 'Port Alfred', 'Lat': -33.59, 'Lng': 26.89, 'Max Temp': 66.15, 'Humidity': 62, 'Cloudiness': 59, 'Wind Speed': 17.05, 'Country': 'ZA', 'Date': '2019-11-08 06:58:55'}, {'City': 'Busselton', 'Lat': -33.64, 'Lng': 115.35, 'Max Temp': 74.41, 'Humidity': 47, 'Cloudiness': 0, 'Wind Speed': 2.68, 'Country': 'AU', 'Date': '2019-11-08 06:58:56'}, {'City': 'Qaanaaq', 'Lat': 77.48, 'Lng': -69.36, 'Max Temp': -3.28, 'Humidity': 65, 'Cloudiness': 0, 'Wind Speed': 6.85, 'Country': 'GL', 'Date': '2019-11-08 06:58:56'}, {'City': 'Sitka', 'Lat': 37.17, 'Lng': -99.65, 'Max Temp': 33.87, 'Humidity': 29, 'Cloudiness': 0, 'Wind Speed': 4.83, 'Country': 'US', 'Date': '2019-11-08 06:58:56'}, {'City': 'Rikitea', 'Lat': -23.12, 'Lng': -134.97, 'Max Temp': 74.55, 'Humidity': 82, 'Cloudiness': 81, 'Wind Speed': 9.91, 'Country': 'PF', 'Date': '2019-11-08 06:58:56'}, {'City': 'Yuma', 'Lat': 32.73, 'Lng': -114.62, 'Max Temp': 80.6, 'Humidity': 28, 'Cloudiness': 20, 'Wind Speed': 4.7, 'Country': 'US', 'Date': '2019-11-08 06:58:56'}, {'City': 'Luanda', 'Lat': -8.83, 'Lng': 13.24, 'Max Temp': 78.8, 'Humidity': 83, 'Cloudiness': 75, 'Wind Speed': 6.93, 'Country': 'AO', 'Date': '2019-11-08 06:57:04'}, {'City': 'Saint-Philippe', 'Lat': 45.36, 'Lng': -73.48, 'Max Temp': 30.2, 'Humidity': 79, 'Cloudiness': 90, 'Wind Speed': 10.29, 'Country': 'CA', 'Date': '2019-11-08 06:58:57'}, {'City': 'Atuona', 'Lat': -9.8, 'Lng': -139.03, 'Max Temp': 80.58, 'Humidity': 78, 'Cloudiness': 0, 'Wind Speed': 14.56, 'Country': 'PF', 'Date': '2019-11-08 06:58:57'}, {'City': 'Te Anau', 'Lat': -45.41, 'Lng': 167.72, 'Max Temp': 50.18, 'Humidity': 77, 'Cloudiness': 87, 'Wind Speed': 6.82, 'Country': 'NZ', 'Date': '2019-11-08 06:58:57'}, {'City': 'Marrakesh', 'Lat': 31.63, 'Lng': -7.99, 'Max Temp': 55.4, 'Humidity': 87, 'Cloudiness': 75, 'Wind Speed': 4.7, 'Country': 'MA', 'Date': '2019-11-08 06:58:58'}, {'City': 'Mbaiki', 'Lat': 3.87, 'Lng': 17.99, 'Max Temp': 73.74, 'Humidity': 88, 'Cloudiness': 13, 'Wind Speed': 0.76, 'Country': 'CF', 'Date': '2019-11-08 06:58:58'}, {'City': 'Makakilo City', 'Lat': 21.35, 'Lng': -158.09, 'Max Temp': 77, 'Humidity': 88, 'Cloudiness': 1, 'Wind Speed': 6.93, 'Country': 'US', 'Date': '2019-11-08 06:58:58'}, {'City': 'East London', 'Lat': -33.02, 'Lng': 27.91, 'Max Temp': 68, 'Humidity': 49, 'Cloudiness': 20, 'Wind Speed': 18.34, 'Country': 'ZA', 'Date': '2019-11-08 06:58:58'}, {'City': 'Cherskiy', 'Lat': 68.75, 'Lng': 161.3, 'Max Temp': 18.28, 'Humidity': 73, 'Cloudiness': 100, 'Wind Speed': 5.64, 'Country': 'RU', 'Date': '2019-11-08 06:58:58'}, {'City': 'Lyman', 'Lat': 48.98, 'Lng': 37.82, 'Max Temp': 55.53, 'Humidity': 80, 'Cloudiness': 100, 'Wind Speed': 9.17, 'Country': 'UA', 'Date': '2019-11-08 06:58:59'}, {'City': 'Saskylakh', 'Lat': 71.97, 'Lng': 114.09, 'Max Temp': -24.74, 'Humidity': 98, 'Cloudiness': 0, 'Wind Speed': 5.95, 'Country': 'RU', 'Date': '2019-11-08 06:58:59'}, {'City': 'Yellowknife', 'Lat': 62.45, 'Lng': -114.38, 'Max Temp': 10.4, 'Humidity': 85, 'Cloudiness': 75, 'Wind Speed': 6.93, 'Country': 'CA', 'Date': '2019-11-08 06:59:00'}, {'City': 'Chuy', 'Lat': -33.69, 'Lng': -53.46, 'Max Temp': 60.31, 'Humidity': 95, 'Cloudiness': 0, 'Wind Speed': 8.14, 'Country': 'UY', 'Date': '2019-11-08 06:59:00'}, {'City': 'New Norfolk', 'Lat': -42.78, 'Lng': 147.06, 'Max Temp': 50, 'Humidity': 57, 'Cloudiness': 75, 'Wind Speed': 9.17, 'Country': 'AU', 'Date': '2019-11-08 06:59:00'}, {'City': 'Broken Hill', 'Lat': -31.97, 'Lng': 141.45, 'Max Temp': 66.2, 'Humidity': 27, 'Cloudiness': 40, 'Wind Speed': 26.4, 'Country': 'AU', 'Date': '2019-11-08 06:59:00'}, {'City': 'Ribas Do Rio Pardo', 'Lat': -20.45, 'Lng': -53.76, 'Max Temp': 72.03, 'Humidity': 90, 'Cloudiness': 62, 'Wind Speed': 3.15, 'Country': 'BR', 'Date': '2019-11-08 06:59:01'}, {'City': 'Ancud', 'Lat': -41.87, 'Lng': -73.83, 'Max Temp': 42.1, 'Humidity': 82, 'Cloudiness': 100, 'Wind Speed': 2.28, 'Country': 'CL', 'Date': '2019-11-08 06:59:01'}, {'City': 'Vanavara', 'Lat': 60.35, 'Lng': 102.28, 'Max Temp': 30.29, 'Humidity': 90, 'Cloudiness': 100, 'Wind Speed': 11.12, 'Country': 'RU', 'Date': '2019-11-08 06:59:01'}, {'City': 'Coquimbo', 'Lat': -29.95, 'Lng': -71.34, 'Max Temp': 55.4, 'Humidity': 93, 'Cloudiness': 0, 'Wind Speed': 6.93, 'Country': 'CL', 'Date': '2019-11-08 06:59:02'}, {'City': 'Sao Filipe', 'Lat': 14.9, 'Lng': -24.5, 'Max Temp': 73.89, 'Humidity': 80, 'Cloudiness': 100, 'Wind Speed': 11.86, 'Country': 'CV', 'Date': '2019-11-08 06:59:02'}, {'City': 'Kodiak', 'Lat': 39.95, 'Lng': -94.76, 'Max Temp': 21.2, 'Humidity': 73, 'Cloudiness': 1, 'Wind Speed': 3.53, 'Country': 'US', 'Date': '2019-11-08 06:59:02'}, {'City': 'Yurkivka', 'Lat': 48.69, 'Lng': 28.58, 'Max Temp': 42.8, 'Humidity': 100, 'Cloudiness': 90, 'Wind Speed': 4.47, 'Country': 'UA', 'Date': '2019-11-08 06:59:02'}, {'City': 'Guymon', 'Lat': 36.68, 'Lng': -101.48, 'Max Temp': 39.2, 'Humidity': 55, 'Cloudiness': 90, 'Wind Speed': 5.82, 'Country': 'US', 'Date': '2019-11-08 06:59:03'}, {'City': 'Inhambane', 'Lat': -23.87, 'Lng': 35.38, 'Max Temp': 82.4, 'Humidity': 78, 'Cloudiness': 75, 'Wind Speed': 9.17, 'Country': 'MZ', 'Date': '2019-11-08 06:59:03'}, {'City': 'Thompson', 'Lat': 55.74, 'Lng': -97.86, 'Max Temp': 10.4, 'Humidity': 78, 'Cloudiness': 90, 'Wind Speed': 2.24, 'Country': 'CA', 'Date': '2019-11-08 06:59:03'}, {'City': 'Ponta Do Sol', 'Lat': -20.63, 'Lng': -46, 'Max Temp': 67.26, 'Humidity': 94, 'Cloudiness': 100, 'Wind Speed': 1.88, 'Country': 'BR', 'Date': '2019-11-08 06:59:03'}, {'City': 'Richards Bay', 'Lat': -28.77, 'Lng': 32.06, 'Max Temp': 69.03, 'Humidity': 78, 'Cloudiness': 100, 'Wind Speed': 14.92, 'Country': 'ZA', 'Date': '2019-11-08 06:59:04'}, {'City': 'Hermanus', 'Lat': -34.42, 'Lng': 19.24, 'Max Temp': 60.87, 'Humidity': 77, 'Cloudiness': 7, 'Wind Speed': 14.32, 'Country': 'ZA', 'Date': '2019-11-08 06:59:04'}, {'City': 'Russell', 'Lat': 38.9, 'Lng': -98.86, 'Max Temp': 24.8, 'Humidity': 62, 'Cloudiness': 1, 'Wind Speed': 6.93, 'Country': 'US', 'Date': '2019-11-08 06:54:20'}, {'City': 'Angren', 'Lat': 41.01, 'Lng': 70.08, 'Max Temp': 46.71, 'Humidity': 36, 'Cloudiness': 0, 'Wind Speed': 3.02, 'Country': 'UZ', 'Date': '2019-11-08 06:59:04'}, {'City': 'Hithadhoo', 'Lat': -0.6, 'Lng': 73.08, 'Max Temp': 82.47, 'Humidity': 68, 'Cloudiness': 0, 'Wind Speed': 6.2, 'Country': 'MV', 'Date': '2019-11-08 06:56:44'}, {'City': 'Nikolskoye', 'Lat': 59.7, 'Lng': 30.79, 'Max Temp': 26.6, 'Humidity': 92, 'Cloudiness': 90, 'Wind Speed': 6.71, 'Country': 'RU', 'Date': '2019-11-08 06:59:05'}, {'City': 'Port Hardy', 'Lat': 50.7, 'Lng': -127.42, 'Max Temp': 51.8, 'Humidity': 71, 'Cloudiness': 75, 'Wind Speed': 9.17, 'Country': 'CA', 'Date': '2019-11-08 06:59:05'}, {'City': 'Hilo', 'Lat': 19.71, 'Lng': -155.08, 'Max Temp': 75.2, 'Humidity': 78, 'Cloudiness': 1, 'Wind Speed': 3.09, 'Country': 'US', 'Date': '2019-11-08 06:59:05'}, {'City': 'Shar', 'Lat': 7.3, 'Lng': 8.73, 'Max Temp': 75.33, 'Humidity': 92, 'Cloudiness': 100, 'Wind Speed': 3.83, 'Country': 'NG', 'Date': '2019-11-08 06:59:06'}, {'City': 'Goma', 'Lat': -1.67, 'Lng': 29.23, 'Max Temp': 66.2, 'Humidity': 72, 'Cloudiness': 75, 'Wind Speed': 9.17, 'Country': 'CD', 'Date': '2019-11-08 06:59:06'}, {'City': 'Pizarro', 'Lat': 4.95, 'Lng': -77.37, 'Max Temp': 80.6, 'Humidity': 82, 'Cloudiness': 65, 'Wind Speed': 5.7, 'Country': 'CO', 'Date': '2019-11-08 06:59:06'}, {'City': 'Faanui', 'Lat': -16.48, 'Lng': -151.75, 'Max Temp': 80.94, 'Humidity': 81, 'Cloudiness': 17, 'Wind Speed': 20.2, 'Country': 'PF', 'Date': '2019-11-08 06:59:06'}, {'City': 'Hobart', 'Lat': -42.88, 'Lng': 147.33, 'Max Temp': 50, 'Humidity': 57, 'Cloudiness': 75, 'Wind Speed': 9.17, 'Country': 'AU', 'Date': '2019-11-08 06:54:53'}, {'City': 'Road Town', 'Lat': 18.42, 'Lng': -64.62, 'Max Temp': 78.8, 'Humidity': 83, 'Cloudiness': 20, 'Wind Speed': 6.93, 'Country': 'VG', 'Date': '2019-11-08 06:55:41'}, {'City': 'Lebu', 'Lat': 8.96, 'Lng': 38.73, 'Max Temp': 60.8, 'Humidity': 59, 'Cloudiness': 40, 'Wind Speed': 4.7, 'Country': 'ET', 'Date': '2019-11-08 06:59:07'}, {'City': 'Amapa', 'Lat': 15.09, 'Lng': -87.97, 'Max Temp': 77, 'Humidity': 94, 'Cloudiness': 75, 'Wind Speed': 4.7, 'Country': 'HN', 'Date': '2019-11-08 06:59:07'}, {'City': 'Barrow', 'Lat': -38.31, 'Lng': -60.23, 'Max Temp': 40.64, 'Humidity': 93, 'Cloudiness': 30, 'Wind Speed': 7.96, 'Country': 'AR', 'Date': '2019-11-08 06:59:08'}, {'City': 'Cape Town', 'Lat': -33.93, 'Lng': 18.42, 'Max Temp': 64.4, 'Humidity': 55, 'Cloudiness': 4, 'Wind Speed': 12.75, 'Country': 'ZA', 'Date': '2019-11-08 06:55:58'}, {'City': 'Darhan', 'Lat': 49.49, 'Lng': 105.92, 'Max Temp': 39.85, 'Humidity': 50, 'Cloudiness': 94, 'Wind Speed': 3.2, 'Country': 'MN', 'Date': '2019-11-08 06:59:08'}, {'City': 'Victor Harbor', 'Lat': -35.55, 'Lng': 138.62, 'Max Temp': 60.8, 'Humidity': 41, 'Cloudiness': 20, 'Wind Speed': 21.92, 'Country': 'AU', 'Date': '2019-11-08 06:59:08'}, {'City': 'Havre-Saint-Pierre', 'Lat': 50.23, 'Lng': -63.6, 'Max Temp': 19.4, 'Humidity': 79, 'Cloudiness': 1, 'Wind Speed': 5.82, 'Country': 'CA', 'Date': '2019-11-08 06:59:09'}, {'City': 'The Valley', 'Lat': 18.22, 'Lng': -63.06, 'Max Temp': 80.6, 'Humidity': 78, 'Cloudiness': 40, 'Wind Speed': 8.05, 'Country': 'AI', 'Date': '2019-11-08 06:55:39'}, {'City': 'Verkhnyaya Inta', 'Lat': 65.99, 'Lng': 60.32, 'Max Temp': 5.02, 'Humidity': 96, 'Cloudiness': 100, 'Wind Speed': 9.71, 'Country': 'RU', 'Date': '2019-11-08 06:59:09'}, {'City': 'Beringovskiy', 'Lat': 63.05, 'Lng': 179.32, 'Max Temp': 27.18, 'Humidity': 93, 'Cloudiness': 53, 'Wind Speed': 14.07, 'Country': 'RU', 'Date': '2019-11-08 06:59:10'}, {'City': 'Skjervoy', 'Lat': 70.03, 'Lng': 20.97, 'Max Temp': 24.8, 'Humidity': 85, 'Cloudiness': 20, 'Wind Speed': 10.29, 'Country': 'NO', 'Date': '2019-11-08 06:59:10'}, {'City': 'Kalmunai', 'Lat': 7.42, 'Lng': 81.82, 'Max Temp': 80.65, 'Humidity': 75, 'Cloudiness': 46, 'Wind Speed': 2.48, 'Country': 'LK', 'Date': '2019-11-08 06:59:10'}, {'City': 'Westport', 'Lat': 41.14, 'Lng': -73.36, 'Max Temp': 41, 'Humidity': 69, 'Cloudiness': 1, 'Wind Speed': 11.41, 'Country': 'US', 'Date': '2019-11-08 06:57:19'}, {'City': 'Oudtshoorn', 'Lat': -33.59, 'Lng': 22.2, 'Max Temp': 64.4, 'Humidity': 63, 'Cloudiness': 40, 'Wind Speed': 4.7, 'Country': 'ZA', 'Date': '2019-11-08 06:59:11'}, {'City': 'Grand Gaube', 'Lat': -20.01, 'Lng': 57.66, 'Max Temp': 78.8, 'Humidity': 69, 'Cloudiness': 75, 'Wind Speed': 14.99, 'Country': 'MU', 'Date': '2019-11-08 06:59:11'}, {'City': 'La Ronge', 'Lat': 55.1, 'Lng': -105.3, 'Max Temp': 17.6, 'Humidity': 72, 'Cloudiness': 90, 'Wind Speed': 8.05, 'Country': 'CA', 'Date': '2019-11-08 06:59:11'}, {'City': 'Terrak', 'Lat': 65.09, 'Lng': 12.37, 'Max Temp': 32, 'Humidity': 89, 'Cloudiness': 40, 'Wind Speed': 8.05, 'Country': 'NO', 'Date': '2019-11-08 06:59:11'}, {'City': 'Bonthe', 'Lat': 7.53, 'Lng': -12.5, 'Max Temp': 78.53, 'Humidity': 84, 'Cloudiness': 75, 'Wind Speed': 1.88, 'Country': 'SL', 'Date': '2019-11-08 06:59:11'}, {'City': 'Necochea', 'Lat': -38.55, 'Lng': -58.74, 'Max Temp': 43.39, 'Humidity': 78, 'Cloudiness': 3, 'Wind Speed': 3.27, 'Country': 'AR', 'Date': '2019-11-08 06:54:49'}, {'City': 'Chokurdakh', 'Lat': 70.62, 'Lng': 147.9, 'Max Temp': -8.4, 'Humidity': 98, 'Cloudiness': 77, 'Wind Speed': 7.36, 'Country': 'RU', 'Date': '2019-11-08 06:59:12'}, {'City': 'Itarema', 'Lat': -2.92, 'Lng': -39.92, 'Max Temp': 77.02, 'Humidity': 78, 'Cloudiness': 10, 'Wind Speed': 9.42, 'Country': 'BR', 'Date': '2019-11-08 06:59:12'}, {'City': 'Pacifica', 'Lat': 37.61, 'Lng': -122.49, 'Max Temp': 53.6, 'Humidity': 93, 'Cloudiness': 90, 'Wind Speed': 5.82, 'Country': 'US', 'Date': '2019-11-08 06:59:12'}, {'City': 'Isangel', 'Lat': -19.55, 'Lng': 169.27, 'Max Temp': 78.8, 'Humidity': 74, 'Cloudiness': 75, 'Wind Speed': 11.77, 'Country': 'VU', 'Date': '2019-11-08 06:59:13'}, {'City': 'Esperance', 'Lat': -33.86, 'Lng': 121.89, 'Max Temp': 69.8, 'Humidity': 52, 'Cloudiness': 40, 'Wind Speed': 10.29, 'Country': 'AU', 'Date': '2019-11-08 06:59:13'}, {'City': 'Port-Gentil', 'Lat': -0.72, 'Lng': 8.78, 'Max Temp': 77, 'Humidity': 94, 'Cloudiness': 20, 'Wind Speed': 3.36, 'Country': 'GA', 'Date': '2019-11-08 06:59:13'}, {'City': 'Lompoc', 'Lat': 34.64, 'Lng': -120.46, 'Max Temp': 55.4, 'Humidity': 100, 'Cloudiness': 1, 'Wind Speed': 3.36, 'Country': 'US', 'Date': '2019-11-08 06:54:20'}, {'City': 'Bontang', 'Lat': 0.12, 'Lng': 117.47, 'Max Temp': 83.41, 'Humidity': 80, 'Cloudiness': 17, 'Wind Speed': 12.48, 'Country': 'ID', 'Date': '2019-11-08 06:59:14'}, {'City': 'Mahebourg', 'Lat': -20.41, 'Lng': 57.7, 'Max Temp': 78.8, 'Humidity': 69, 'Cloudiness': 75, 'Wind Speed': 14.99, 'Country': 'MU', 'Date': '2019-11-08 06:59:14'}, {'City': 'Lavrentiya', 'Lat': 65.58, 'Lng': -170.99, 'Max Temp': 27.61, 'Humidity': 78, 'Cloudiness': 0, 'Wind Speed': 17.67, 'Country': 'RU', 'Date': '2019-11-08 06:59:14'}, {'City': 'Coihaique', 'Lat': -45.58, 'Lng': -72.07, 'Max Temp': 37.4, 'Humidity': 74, 'Cloudiness': 20, 'Wind Speed': 1.12, 'Country': 'CL', 'Date': '2019-11-08 06:59:14'}, {'City': 'Breves', 'Lat': -1.68, 'Lng': -50.48, 'Max Temp': 73.85, 'Humidity': 90, 'Cloudiness': 1, 'Wind Speed': 2.48, 'Country': 'BR', 'Date': '2019-11-08 06:59:15'}, {'City': 'Tuatapere', 'Lat': -46.13, 'Lng': 167.69, 'Max Temp': 50.85, 'Humidity': 82, 'Cloudiness': 41, 'Wind Speed': 5.91, 'Country': 'NZ', 'Date': '2019-11-08 06:59:15'}, {'City': 'Ajdabiya', 'Lat': 30.75, 'Lng': 20.22, 'Max Temp': 67.46, 'Humidity': 69, 'Cloudiness': 0, 'Wind Speed': 5.73, 'Country': 'LY', 'Date': '2019-11-08 06:59:15'}, {'City': 'Vila Franca Do Campo', 'Lat': 37.72, 'Lng': -25.43, 'Max Temp': 59, 'Humidity': 82, 'Cloudiness': 20, 'Wind Speed': 4.7, 'Country': 'PT', 'Date': '2019-11-08 06:59:16'}, {'City': 'Gat', 'Lat': 14.69, 'Lng': -16.54, 'Max Temp': 69.8, 'Humidity': 88, 'Cloudiness': 62, 'Wind Speed': 13.87, 'Country': 'SN', 'Date': '2019-11-08 06:59:16'}, {'City': 'Katsuura', 'Lat': 33.93, 'Lng': 134.5, 'Max Temp': 62.6, 'Humidity': 48, 'Cloudiness': 20, 'Wind Speed': 10.29, 'Country': 'JP', 'Date': '2019-11-08 06:59:16'}, {'City': 'Konongo', 'Lat': 6.62, 'Lng': -1.21, 'Max Temp': 70.88, 'Humidity': 99, 'Cloudiness': 40, 'Wind Speed': 1.14, 'Country': 'GH', 'Date': '2019-11-08 06:59:16'}, {'City': 'Kaitangata', 'Lat': -46.28, 'Lng': 169.85, 'Max Temp': 56.14, 'Humidity': 75, 'Cloudiness': 79, 'Wind Speed': 6.06, 'Country': 'NZ', 'Date': '2019-11-08 06:59:16'}, {'City': 'Tommot', 'Lat': 58.97, 'Lng': 126.27, 'Max Temp': -1.47, 'Humidity': 90, 'Cloudiness': 45, 'Wind Speed': 4.21, 'Country': 'RU', 'Date': '2019-11-08 06:59:17'}, {'City': 'Wanning', 'Lat': 48.64, 'Lng': 13.53, 'Max Temp': 42.8, 'Humidity': 93, 'Cloudiness': 75, 'Wind Speed': 11.41, 'Country': 'AT', 'Date': '2019-11-08 06:59:17'}, {'City': 'Ribeira Grande', 'Lat': 38.52, 'Lng': -28.7, 'Max Temp': 61.95, 'Humidity': 83, 'Cloudiness': 74, 'Wind Speed': 4.88, 'Country': 'PT', 'Date': '2019-11-08 06:59:17'}, {'City': 'Sorong', 'Lat': -0.86, 'Lng': 131.25, 'Max Temp': 90.57, 'Humidity': 50, 'Cloudiness': 27, 'Wind Speed': 6.44, 'Country': 'ID', 'Date': '2019-11-08 06:59:17'}, {'City': 'Rongcheng', 'Lat': 37.16, 'Lng': 122.42, 'Max Temp': 57.69, 'Humidity': 38, 'Cloudiness': 0, 'Wind Speed': 7.74, 'Country': 'CN', 'Date': '2019-11-08 06:59:18'}, {'City': 'Kahului', 'Lat': 20.89, 'Lng': -156.47, 'Max Temp': 77, 'Humidity': 88, 'Cloudiness': 75, 'Wind Speed': 12.75, 'Country': 'US', 'Date': '2019-11-08 06:54:35'}, {'City': 'Caravelas', 'Lat': -17.73, 'Lng': -39.27, 'Max Temp': 68.97, 'Humidity': 96, 'Cloudiness': 2, 'Wind Speed': 7.27, 'Country': 'BR', 'Date': '2019-11-08 06:59:21'}, {'City': 'Norman Wells', 'Lat': 65.28, 'Lng': -126.83, 'Max Temp': 12.2, 'Humidity': 85, 'Cloudiness': 75, 'Wind Speed': 10.29, 'Country': 'CA', 'Date': '2019-11-08 06:59:21'}, {'City': 'Sao Luiz Gonzaga', 'Lat': -28.41, 'Lng': -54.96, 'Max Temp': 65.25, 'Humidity': 92, 'Cloudiness': 0, 'Wind Speed': 6.87, 'Country': 'BR', 'Date': '2019-11-08 06:59:21'}, {'City': 'Udachnyy', 'Lat': 66.42, 'Lng': 112.4, 'Max Temp': -11.21, 'Humidity': 83, 'Cloudiness': 75, 'Wind Speed': 6.71, 'Country': 'RU', 'Date': '2019-11-08 06:59:25'}, {'City': 'Naze', 'Lat': 5.43, 'Lng': 7.07, 'Max Temp': 77, 'Humidity': 94, 'Cloudiness': 75, 'Wind Speed': 1.81, 'Country': 'NG', 'Date': '2019-11-08 06:59:25'}, {'City': 'Ola', 'Lat': 59.58, 'Lng': 151.3, 'Max Temp': 34.95, 'Humidity': 83, 'Cloudiness': 98, 'Wind Speed': 23.96, 'Country': 'RU', 'Date': '2019-11-08 06:59:25'}, {'City': 'Ferkessedougou', 'Lat': 9.6, 'Lng': -5.2, 'Max Temp': 73.33, 'Humidity': 82, 'Cloudiness': 0, 'Wind Speed': 3.6, 'Country': 'CI', 'Date': '2019-11-08 06:59:25'}, {'City': 'Yabelo', 'Lat': 4.89, 'Lng': 38.09, 'Max Temp': 65.12, 'Humidity': 84, 'Cloudiness': 94, 'Wind Speed': 9.37, 'Country': 'ET', 'Date': '2019-11-08 06:59:26'}, {'City': 'Roald', 'Lat': 62.58, 'Lng': 6.12, 'Max Temp': 28.4, 'Humidity': 86, 'Cloudiness': 20, 'Wind Speed': 10.29, 'Country': 'NO', 'Date': '2019-11-08 06:59:26'}, {'City': 'Tasiilaq', 'Lat': 65.61, 'Lng': -37.64, 'Max Temp': 35.6, 'Humidity': 59, 'Cloudiness': 100, 'Wind Speed': 38.03, 'Country': 'GL', 'Date': '2019-11-08 06:59:26'}, {'City': 'Laguna', 'Lat': 16.17, 'Lng': -88.94, 'Max Temp': 75.2, 'Humidity': 100, 'Cloudiness': 90, 'Wind Speed': 2.24, 'Country': 'BZ', 'Date': '2019-11-08 06:59:26'}, {'City': 'Avera', 'Lat': 33.19, 'Lng': -82.53, 'Max Temp': 60.8, 'Humidity': 100, 'Cloudiness': 90, 'Wind Speed': 5.82, 'Country': 'US', 'Date': '2019-11-08 06:59:27'}, {'City': 'Kapaa', 'Lat': 22.08, 'Lng': -159.32, 'Max Temp': 73.4, 'Humidity': 73, 'Cloudiness': 1, 'Wind Speed': 4.7, 'Country': 'US', 'Date': '2019-11-08 06:59:27'}, {'City': 'Tuktoyaktuk', 'Lat': 69.44, 'Lng': -133.03, 'Max Temp': 10.4, 'Humidity': 78, 'Cloudiness': 90, 'Wind Speed': 18.34, 'Country': 'CA', 'Date': '2019-11-08 06:59:27'}, {'City': 'Bilibino', 'Lat': 68.06, 'Lng': 166.44, 'Max Temp': 11.43, 'Humidity': 73, 'Cloudiness': 100, 'Wind Speed': 2.55, 'Country': 'RU', 'Date': '2019-11-08 06:59:27'}, {'City': 'Krapkowice', 'Lat': 50.47, 'Lng': 17.97, 'Max Temp': 46.09, 'Humidity': 75, 'Cloudiness': 83, 'Wind Speed': 7.36, 'Country': 'PL', 'Date': '2019-11-08 06:59:10'}, {'City': 'Butaritari', 'Lat': 3.07, 'Lng': 172.79, 'Max Temp': 84.87, 'Humidity': 63, 'Cloudiness': 18, 'Wind Speed': 4.74, 'Country': 'KI', 'Date': '2019-11-08 06:59:28'}, {'City': 'Santa Maria', 'Lat': -16.02, 'Lng': -48.01, 'Max Temp': 68, 'Humidity': 88, 'Cloudiness': 20, 'Wind Speed': 2.24, 'Country': 'BR', 'Date': '2019-11-08 06:59:28'}, {'City': 'Cabo San Lucas', 'Lat': 22.89, 'Lng': -109.91, 'Max Temp': 73.27, 'Humidity': 73, 'Cloudiness': 100, 'Wind Speed': 0.6, 'Country': 'MX', 'Date': '2019-11-08 06:59:28'}, {'City': 'Panzhihua', 'Lat': 26.59, 'Lng': 101.72, 'Max Temp': 76.46, 'Humidity': 43, 'Cloudiness': 28, 'Wind Speed': 1.03, 'Country': 'CN', 'Date': '2019-11-08 06:59:28'}, {'City': 'Waipawa', 'Lat': -39.94, 'Lng': 176.59, 'Max Temp': 69.15, 'Humidity': 72, 'Cloudiness': 0, 'Wind Speed': 4.25, 'Country': 'NZ', 'Date': '2019-11-08 06:59:29'}, {'City': 'Avarua', 'Lat': -21.21, 'Lng': -159.78, 'Max Temp': 75.2, 'Humidity': 83, 'Cloudiness': 100, 'Wind Speed': 17.22, 'Country': 'CK', 'Date': '2019-11-08 06:59:29'}, {'City': 'Souillac', 'Lat': 45.6, 'Lng': -0.6, 'Max Temp': 46.4, 'Humidity': 93, 'Cloudiness': 83, 'Wind Speed': 12.75, 'Country': 'FR', 'Date': '2019-11-08 06:59:30'}, {'City': 'Mecca', 'Lat': 21.43, 'Lng': 39.83, 'Max Temp': 83.84, 'Humidity': 48, 'Cloudiness': 0, 'Wind Speed': 1.05, 'Country': 'SA', 'Date': '2019-11-08 06:58:33'}, {'City': 'Hauterive', 'Lat': 49.18, 'Lng': -68.27, 'Max Temp': 28.4, 'Humidity': 79, 'Cloudiness': 1, 'Wind Speed': 5.82, 'Country': 'CA', 'Date': '2019-11-08 06:59:30'}, {'City': 'Goure', 'Lat': 13.98, 'Lng': 10.27, 'Max Temp': 77.9, 'Humidity': 15, 'Cloudiness': 0, 'Wind Speed': 7.87, 'Country': 'NE', 'Date': '2019-11-08 06:59:30'}, {'City': 'Touros', 'Lat': -5.2, 'Lng': -35.46, 'Max Temp': 75.2, 'Humidity': 83, 'Cloudiness': 75, 'Wind Speed': 4.7, 'Country': 'BR', 'Date': '2019-11-08 06:59:31'}, {'City': 'Oga', 'Lat': 46.46, 'Lng': 10.35, 'Max Temp': 32, 'Humidity': 100, 'Cloudiness': 75, 'Wind Speed': 3.36, 'Country': 'IT', 'Date': '2019-11-08 06:59:31'}, {'City': 'Codrington', 'Lat': -28.95, 'Lng': 153.24, 'Max Temp': 100.4, 'Humidity': 5, 'Cloudiness': 0, 'Wind Speed': 18.34, 'Country': 'AU', 'Date': '2019-11-08 06:59:31'}, {'City': 'Khatanga', 'Lat': 71.98, 'Lng': 102.47, 'Max Temp': -8.94, 'Humidity': 93, 'Cloudiness': 42, 'Wind Speed': 12.5, 'Country': 'RU', 'Date': '2019-11-08 06:59:31'}, {'City': 'Klaksvik', 'Lat': 62.23, 'Lng': -6.59, 'Max Temp': 32, 'Humidity': 60, 'Cloudiness': 85, 'Wind Speed': 9.17, 'Country': 'FO', 'Date': '2019-11-08 06:59:32'}, {'City': 'Puerto Ayora', 'Lat': -0.74, 'Lng': -90.35, 'Max Temp': 68.95, 'Humidity': 90, 'Cloudiness': 86, 'Wind Speed': 5.93, 'Country': 'EC', 'Date': '2019-11-08 06:59:32'}, {'City': 'Provideniya', 'Lat': 64.42, 'Lng': -173.23, 'Max Temp': 32, 'Humidity': 80, 'Cloudiness': 2, 'Wind Speed': 17.9, 'Country': 'RU', 'Date': '2019-11-08 06:59:32'}, {'City': 'Phan Thiet', 'Lat': 10.93, 'Lng': 108.1, 'Max Temp': 82.53, 'Humidity': 74, 'Cloudiness': 97, 'Wind Speed': 7.49, 'Country': 'VN', 'Date': '2019-11-08 06:59:32'}, {'City': 'Pevek', 'Lat': 69.7, 'Lng': 170.27, 'Max Temp': 22.35, 'Humidity': 59, 'Cloudiness': 83, 'Wind Speed': 14.7, 'Country': 'RU', 'Date': '2019-11-08 06:59:33'}, {'City': 'Nouadhibou', 'Lat': 20.93, 'Lng': -17.03, 'Max Temp': 65.61, 'Humidity': 85, 'Cloudiness': 98, 'Wind Speed': 16.71, 'Country': 'MR', 'Date': '2019-11-08 06:59:33'}, {'City': 'Tiksi', 'Lat': 71.64, 'Lng': 128.87, 'Max Temp': -3.84, 'Humidity': 96, 'Cloudiness': 97, 'Wind Speed': 5.97, 'Country': 'RU', 'Date': '2019-11-08 06:59:33'}, {'City': 'Jacqueville', 'Lat': 5.21, 'Lng': -4.42, 'Max Temp': 77, 'Humidity': 100, 'Cloudiness': 20, 'Wind Speed': 2.24, 'Country': 'CI', 'Date': '2019-11-08 06:59:33'}, {'City': 'Halifax', 'Lat': 44.65, 'Lng': -63.58, 'Max Temp': 46.4, 'Humidity': 100, 'Cloudiness': 90, 'Wind Speed': 11.41, 'Country': 'CA', 'Date': '2019-11-08 06:59:34'}, {'City': 'Lagos', 'Lat': 6.46, 'Lng': 3.39, 'Max Temp': 77, 'Humidity': 94, 'Cloudiness': 20, 'Wind Speed': 3.74, 'Country': 'NG', 'Date': '2019-11-08 06:57:50'}, {'City': 'Ilhabela', 'Lat': -23.78, 'Lng': -45.36, 'Max Temp': 73.56, 'Humidity': 87, 'Cloudiness': 100, 'Wind Speed': 9.06, 'Country': 'BR', 'Date': '2019-11-08 06:59:34'}, {'City': 'Vidim', 'Lat': 50.47, 'Lng': 14.53, 'Max Temp': 41, 'Humidity': 93, 'Cloudiness': 90, 'Wind Speed': 5.82, 'Country': 'CZ', 'Date': '2019-11-08 06:59:35'}, {'City': 'Kluang', 'Lat': 2.04, 'Lng': 103.32, 'Max Temp': 86, 'Humidity': 70, 'Cloudiness': 75, 'Wind Speed': 4.7, 'Country': 'MY', 'Date': '2019-11-08 06:59:35'}, {'City': 'Sao Gabriel Da Cachoeira', 'Lat': -0.13, 'Lng': -67.09, 'Max Temp': 73.11, 'Humidity': 96, 'Cloudiness': 99, 'Wind Speed': 1.39, 'Country': 'BR', 'Date': '2019-11-08 06:59:35'}, {'City': 'Sergeyevka', 'Lat': 53.88, 'Lng': 67.42, 'Max Temp': 42.66, 'Humidity': 84, 'Cloudiness': 93, 'Wind Speed': 19.39, 'Country': 'KZ', 'Date': '2019-11-08 06:59:35'}, {'City': 'Los Llanos De Aridane', 'Lat': 28.66, 'Lng': -17.92, 'Max Temp': 69.8, 'Humidity': 68, 'Cloudiness': 90, 'Wind Speed': 12.75, 'Country': 'ES', 'Date': '2019-11-08 06:59:36'}, {'City': 'Paris', 'Lat': 48.86, 'Lng': 2.35, 'Max Temp': 41, 'Humidity': 93, 'Cloudiness': 33, 'Wind Speed': 4.7, 'Country': 'FR', 'Date': '2019-11-08 06:57:05'}, {'City': 'Urusha', 'Lat': 54.05, 'Lng': 122.9, 'Max Temp': 16.38, 'Humidity': 59, 'Cloudiness': 0, 'Wind Speed': 6.17, 'Country': 'RU', 'Date': '2019-11-08 06:59:36'}, {'City': 'Nome', 'Lat': 30.04, 'Lng': -94.42, 'Max Temp': 60.8, 'Humidity': 100, 'Cloudiness': 90, 'Wind Speed': 11.41, 'Country': 'US', 'Date': '2019-11-08 06:59:36'}, {'City': 'Salalah', 'Lat': 17.01, 'Lng': 54.1, 'Max Temp': 84.2, 'Humidity': 70, 'Cloudiness': 20, 'Wind Speed': 5.82, 'Country': 'OM', 'Date': '2019-11-08 06:59:37'}, {'City': 'Victoria', 'Lat': 5.28, 'Lng': 115.24, 'Max Temp': 87.8, 'Humidity': 70, 'Cloudiness': 75, 'Wind Speed': 5.82, 'Country': 'BN', 'Date': '2019-11-08 06:59:37'}, {'City': 'Ginir', 'Lat': 7.14, 'Lng': 40.71, 'Max Temp': 66.13, 'Humidity': 76, 'Cloudiness': 67, 'Wind Speed': 3.4, 'Country': 'ET', 'Date': '2019-11-08 06:59:37'}, {'City': 'Abalak', 'Lat': 15.46, 'Lng': 6.28, 'Max Temp': 77.99, 'Humidity': 15, 'Cloudiness': 0, 'Wind Speed': 8.39, 'Country': 'NE', 'Date': '2019-11-08 06:59:38'}, {'City': 'Varhaug', 'Lat': 58.61, 'Lng': 5.65, 'Max Temp': 24.8, 'Humidity': 85, 'Cloudiness': 59, 'Wind Speed': 1.12, 'Country': 'NO', 'Date': '2019-11-08 06:59:38'}, {'City': 'Bambous Virieux', 'Lat': -20.34, 'Lng': 57.76, 'Max Temp': 78.8, 'Humidity': 69, 'Cloudiness': 75, 'Wind Speed': 14.99, 'Country': 'MU', 'Date': '2019-11-08 06:59:38'}, {'City': 'Iracoubo', 'Lat': 5.48, 'Lng': -53.21, 'Max Temp': 81.75, 'Humidity': 82, 'Cloudiness': 87, 'Wind Speed': 14.67, 'Country': 'GF', 'Date': '2019-11-08 06:59:39'}, {'City': 'Cockburn Town', 'Lat': 21.46, 'Lng': -71.14, 'Max Temp': 82.22, 'Humidity': 79, 'Cloudiness': 3, 'Wind Speed': 16.37, 'Country': 'TC', 'Date': '2019-11-08 06:59:39'}, {'City': 'Saint-Pierre', 'Lat': 48.95, 'Lng': 4.24, 'Max Temp': 39.2, 'Humidity': 93, 'Cloudiness': 90, 'Wind Speed': 8.05, 'Country': 'FR', 'Date': '2019-11-08 06:59:39'}, {'City': 'Hinton', 'Lat': 53.4, 'Lng': -117.57, 'Max Temp': 29.12, 'Humidity': 87, 'Cloudiness': 100, 'Wind Speed': 6.82, 'Country': 'CA', 'Date': '2019-11-08 06:59:40'}, {'City': 'Sterling', 'Lat': 39, 'Lng': -77.4, 'Max Temp': 46.4, 'Humidity': 79, 'Cloudiness': 1, 'Wind Speed': 3.36, 'Country': 'US', 'Date': '2019-11-08 06:54:50'}, {'City': 'Severo-Kurilsk', 'Lat': 50.68, 'Lng': 156.12, 'Max Temp': 33.37, 'Humidity': 73, 'Cloudiness': 83, 'Wind Speed': 34.47, 'Country': 'RU', 'Date': '2019-11-08 06:59:41'}, {'City': 'Ixtapa', 'Lat': 20.71, 'Lng': -105.21, 'Max Temp': 80.6, 'Humidity': 88, 'Cloudiness': 5, 'Wind Speed': 5.82, 'Country': 'MX', 'Date': '2019-11-08 06:59:41'}, {'City': 'Fortuna', 'Lat': 40.6, 'Lng': -124.16, 'Max Temp': 48.2, 'Humidity': 100, 'Cloudiness': 90, 'Wind Speed': 3.06, 'Country': 'US', 'Date': '2019-11-08 06:59:41'}, {'City': 'Follonica', 'Lat': 42.93, 'Lng': 10.76, 'Max Temp': 57.2, 'Humidity': 87, 'Cloudiness': 40, 'Wind Speed': 4.7, 'Country': 'IT', 'Date': '2019-11-08 06:59:42'}, {'City': 'Srandakan', 'Lat': -7.94, 'Lng': 110.25, 'Max Temp': 87.51, 'Humidity': 50, 'Cloudiness': 2, 'Wind Speed': 10.45, 'Country': 'ID', 'Date': '2019-11-08 06:59:42'}, {'City': 'Vao', 'Lat': 59.1, 'Lng': 26.19, 'Max Temp': 34, 'Humidity': 98, 'Cloudiness': 100, 'Wind Speed': 2.77, 'Country': 'EE', 'Date': '2019-11-08 06:59:42'}, {'City': 'Osypenko', 'Lat': 48.04, 'Lng': 34.39, 'Max Temp': 57.2, 'Humidity': 93, 'Cloudiness': 90, 'Wind Speed': 2.24, 'Country': 'UA', 'Date': '2019-11-08 06:59:42'}, {'City': 'Mayo', 'Lat': 63.59, 'Lng': -135.9, 'Max Temp': 15.8, 'Humidity': 92, 'Cloudiness': 90, 'Wind Speed': 3.36, 'Country': 'CA', 'Date': '2019-11-08 06:59:43'}, {'City': 'Saint George', 'Lat': 39.45, 'Lng': 22.34, 'Max Temp': 57.2, 'Humidity': 93, 'Cloudiness': 40, 'Wind Speed': 4.7, 'Country': 'GR', 'Date': '2019-11-08 06:59:43'}, {'City': 'Kokopo', 'Lat': -4.34, 'Lng': 152.27, 'Max Temp': 81.97, 'Humidity': 77, 'Cloudiness': 97, 'Wind Speed': 3.13, 'Country': 'PG', 'Date': '2019-11-08 06:59:43'}, {'City': 'Carutapera', 'Lat': -1.2, 'Lng': -46.02, 'Max Temp': 80.71, 'Humidity': 82, 'Cloudiness': 5, 'Wind Speed': 15.08, 'Country': 'BR', 'Date': '2019-11-08 06:59:43'}, {'City': 'Georgetown', 'Lat': 6.8, 'Lng': -58.16, 'Max Temp': 82.04, 'Humidity': 83, 'Cloudiness': 79, 'Wind Speed': 16.37, 'Country': 'GY', 'Date': '2019-11-08 06:59:43'}, {'City': 'Cidreira', 'Lat': -30.17, 'Lng': -50.22, 'Max Temp': 68.65, 'Humidity': 90, 'Cloudiness': 10, 'Wind Speed': 12.77, 'Country': 'BR', 'Date': '2019-11-08 06:59:44'}, {'City': 'Pemba', 'Lat': -12.97, 'Lng': 40.52, 'Max Temp': 84.2, 'Humidity': 79, 'Cloudiness': 75, 'Wind Speed': 4.7, 'Country': 'MZ', 'Date': '2019-11-08 06:59:44'}, {'City': 'Poum', 'Lat': 41.28, 'Lng': 20.71, 'Max Temp': 46.4, 'Humidity': 93, 'Cloudiness': 40, 'Wind Speed': 2.24, 'Country': 'MK', 'Date': '2019-11-08 06:59:44'}, {'City': 'Paraiso', 'Lat': -0.03, 'Lng': -51.17, 'Max Temp': 80.6, 'Humidity': 94, 'Cloudiness': 7, 'Wind Speed': 6.93, 'Country': 'BR', 'Date': '2019-11-08 06:59:45'}, {'City': 'Mount Isa', 'Lat': -20.73, 'Lng': 139.49, 'Max Temp': 98.6, 'Humidity': 7, 'Cloudiness': 15, 'Wind Speed': 11.41, 'Country': 'AU', 'Date': '2019-11-08 06:59:45'}, {'City': 'Abu Dhabi', 'Lat': 24.47, 'Lng': 54.37, 'Max Temp': 86, 'Humidity': 55, 'Cloudiness': 1, 'Wind Speed': 3.36, 'Country': 'AE', 'Date': '2019-11-08 06:56:43'}, {'City': 'Valle Del Guamuez', 'Lat': 0.45, 'Lng': -76.92, 'Max Temp': 68.83, 'Humidity': 86, 'Cloudiness': 41, 'Wind Speed': 1.48, 'Country': 'CO', 'Date': '2019-11-08 06:59:45'}, {'City': 'Mirnyy', 'Lat': 56.57, 'Lng': 36.46, 'Max Temp': 36.46, 'Humidity': 93, 'Cloudiness': 100, 'Wind Speed': 4.23, 'Country': 'RU', 'Date': '2019-11-08 06:59:46'}, {'City': 'Houma', 'Lat': 35.63, 'Lng': 111.36, 'Max Temp': 61.9, 'Humidity': 46, 'Cloudiness': 0, 'Wind Speed': 2.91, 'Country': 'CN', 'Date': '2019-11-08 06:59:46'}, {'City': 'Kattivakkam', 'Lat': 13.22, 'Lng': 80.32, 'Max Temp': 93.2, 'Humidity': 52, 'Cloudiness': 74, 'Wind Speed': 3.36, 'Country': 'IN', 'Date': '2019-11-08 06:59:46'}, {'City': 'Sharjah', 'Lat': 25.36, 'Lng': 55.39, 'Max Temp': 87.8, 'Humidity': 51, 'Cloudiness': 20, 'Wind Speed': 4.7, 'Country': 'AE', 'Date': '2019-11-08 06:59:47'}, {'City': 'Moundou', 'Lat': 8.57, 'Lng': 16.07, 'Max Temp': 75.2, 'Humidity': 88, 'Cloudiness': 57, 'Wind Speed': 3.53, 'Country': 'TD', 'Date': '2019-11-08 06:59:47'}, {'City': 'Komsomolskiy', 'Lat': 67.55, 'Lng': 63.78, 'Max Temp': 2.28, 'Humidity': 97, 'Cloudiness': 100, 'Wind Speed': 3.96, 'Country': 'RU', 'Date': '2019-11-08 06:59:47'}, {'City': 'Huilong', 'Lat': 31.15, 'Lng': 106.5, 'Max Temp': 61.83, 'Humidity': 75, 'Cloudiness': 98, 'Wind Speed': 2.71, 'Country': 'CN', 'Date': '2019-11-08 06:59:47'}, {'City': 'Saldanha', 'Lat': 41.42, 'Lng': -6.55, 'Max Temp': 37.04, 'Humidity': 91, 'Cloudiness': 14, 'Wind Speed': 10.29, 'Country': 'PT', 'Date': '2019-11-08 06:59:48'}, {'City': 'Suoyarvi', 'Lat': 62.08, 'Lng': 32.35, 'Max Temp': 17.58, 'Humidity': 89, 'Cloudiness': 100, 'Wind Speed': 4.88, 'Country': 'RU', 'Date': '2019-11-08 06:59:48'}, {'City': 'Chapais', 'Lat': 49.78, 'Lng': -74.86, 'Max Temp': 21.2, 'Humidity': 92, 'Cloudiness': 90, 'Wind Speed': 5.82, 'Country': 'CA', 'Date': '2019-11-08 06:59:48'}, {'City': 'Plettenberg Bay', 'Lat': -34.05, 'Lng': 23.37, 'Max Temp': 63.57, 'Humidity': 61, 'Cloudiness': 77, 'Wind Speed': 4.5, 'Country': 'ZA', 'Date': '2019-11-08 06:59:48'}, {'City': 'Tottori', 'Lat': 35.5, 'Lng': 134.23, 'Max Temp': 60.8, 'Humidity': 59, 'Cloudiness': 20, 'Wind Speed': 16.11, 'Country': 'JP', 'Date': '2019-11-08 06:59:49'}, {'City': 'Abu Samrah', 'Lat': 35.3, 'Lng': 37.18, 'Max Temp': 67.08, 'Humidity': 40, 'Cloudiness': 0, 'Wind Speed': 7.87, 'Country': 'SY', 'Date': '2019-11-08 06:59:49'}, {'City': 'Svetlogorsk', 'Lat': 53.14, 'Lng': 59.15, 'Max Temp': 48.2, 'Humidity': 70, 'Cloudiness': 75, 'Wind Speed': 13.42, 'Country': 'RU', 'Date': '2019-11-08 06:59:49'}, {'City': 'Ashland', 'Lat': 38.48, 'Lng': -82.64, 'Max Temp': 32, 'Humidity': 100, 'Cloudiness': 1, 'Wind Speed': 3.36, 'Country': 'US', 'Date': '2019-11-08 06:58:06'}, {'City': 'Dingle', 'Lat': 11, 'Lng': 122.67, 'Max Temp': 83.71, 'Humidity': 75, 'Cloudiness': 7, 'Wind Speed': 15.61, 'Country': 'PH', 'Date': '2019-11-08 06:59:50'}, {'City': 'Yining', 'Lat': 29.04, 'Lng': 114.56, 'Max Temp': 70.66, 'Humidity': 34, 'Cloudiness': 0, 'Wind Speed': 4.23, 'Country': 'CN', 'Date': '2019-11-08 06:59:50'}, {'City': 'Belmonte', 'Lat': 40.36, 'Lng': -7.35, 'Max Temp': 36.1, 'Humidity': 96, 'Cloudiness': 39, 'Wind Speed': 5.75, 'Country': 'PT', 'Date': '2019-11-08 06:59:50'}, {'City': 'Carnarvon', 'Lat': -30.97, 'Lng': 22.13, 'Max Temp': 56.52, 'Humidity': 41, 'Cloudiness': 27, 'Wind Speed': 16.37, 'Country': 'ZA', 'Date': '2019-11-08 06:59:50'}, {'City': 'Gravelbourg', 'Lat': 49.88, 'Lng': -106.56, 'Max Temp': 22.28, 'Humidity': 82, 'Cloudiness': 95, 'Wind Speed': 9.57, 'Country': 'CA', 'Date': '2019-11-08 06:59:51'}, {'City': 'Warmbad', 'Lat': 50.67, 'Lng': 13.08, 'Max Temp': 41, 'Humidity': 93, 'Cloudiness': 100, 'Wind Speed': 2.24, 'Country': 'DE', 'Date': '2019-11-08 06:59:51'}, {'City': 'Lukovetskiy', 'Lat': 64.29, 'Lng': 41.92, 'Max Temp': 21.2, 'Humidity': 85, 'Cloudiness': 90, 'Wind Speed': 6.71, 'Country': 'RU', 'Date': '2019-11-08 06:59:51'}, {'City': 'Torbay', 'Lat': 47.66, 'Lng': -52.73, 'Max Temp': 37.4, 'Humidity': 72, 'Cloudiness': 90, 'Wind Speed': 11.41, 'Country': 'CA', 'Date': '2019-11-08 06:59:51'}, {'City': 'Hovd', 'Lat': 63.83, 'Lng': 10.7, 'Max Temp': 23, 'Humidity': 79, 'Cloudiness': 75, 'Wind Speed': 4.7, 'Country': 'NO', 'Date': '2019-11-08 06:59:51'}, {'City': 'Meulaboh', 'Lat': 4.14, 'Lng': 96.13, 'Max Temp': 80.76, 'Humidity': 72, 'Cloudiness': 100, 'Wind Speed': 1.97, 'Country': 'ID', 'Date': '2019-11-08 06:59:52'}, {'City': 'Pouebo', 'Lat': -20.4, 'Lng': 164.57, 'Max Temp': 70.23, 'Humidity': 72, 'Cloudiness': 67, 'Wind Speed': 2.71, 'Country': 'NC', 'Date': '2019-11-08 06:59:52'}, {'City': 'Upernavik', 'Lat': 72.79, 'Lng': -56.15, 'Max Temp': 8.28, 'Humidity': 65, 'Cloudiness': 0, 'Wind Speed': 6.26, 'Country': 'GL', 'Date': '2019-11-08 06:59:52'}, {'City': 'Los Andes', 'Lat': -32.83, 'Lng': -70.6, 'Max Temp': 64.4, 'Humidity': 42, 'Cloudiness': 40, 'Wind Speed': 8.05, 'Country': 'CL', 'Date': '2019-11-08 06:59:52'}, {'City': 'Leningradskiy', 'Lat': 69.38, 'Lng': 178.42, 'Max Temp': 18.95, 'Humidity': 85, 'Cloudiness': 9, 'Wind Speed': 17.81, 'Country': 'RU', 'Date': '2019-11-08 06:59:52'}, {'City': 'Sinnamary', 'Lat': 5.38, 'Lng': -52.96, 'Max Temp': 81.75, 'Humidity': 82, 'Cloudiness': 87, 'Wind Speed': 14.67, 'Country': 'GF', 'Date': '2019-11-08 06:59:53'}, {'City': 'Lagoa', 'Lat': 37.14, 'Lng': -8.45, 'Max Temp': 53.6, 'Humidity': 87, 'Cloudiness': 75, 'Wind Speed': 6.93, 'Country': 'PT', 'Date': '2019-11-08 06:59:53'}, {'City': 'Makinsk', 'Lat': 52.63, 'Lng': 70.42, 'Max Temp': 34.39, 'Humidity': 96, 'Cloudiness': 100, 'Wind Speed': 21.32, 'Country': 'KZ', 'Date': '2019-11-08 06:59:53'}, {'City': 'Chinsali', 'Lat': -10.55, 'Lng': 32.07, 'Max Temp': 79.74, 'Humidity': 44, 'Cloudiness': 0, 'Wind Speed': 6.6, 'Country': 'ZM', 'Date': '2019-11-08 06:59:54'}, {'City': 'Port Elizabeth', 'Lat': 39.31, 'Lng': -74.98, 'Max Temp': 44.6, 'Humidity': 65, 'Cloudiness': 90, 'Wind Speed': 11.41, 'Country': 'US', 'Date': '2019-11-08 06:59:54'}, {'City': 'Ineu', 'Lat': 46.43, 'Lng': 21.84, 'Max Temp': 46.4, 'Humidity': 100, 'Cloudiness': 100, 'Wind Speed': 2.24, 'Country': 'RO', 'Date': '2019-11-08 06:59:54'}, {'City': 'Faya', 'Lat': 18.39, 'Lng': 42.45, 'Max Temp': 71.6, 'Humidity': 42, 'Cloudiness': 0, 'Wind Speed': 2.04, 'Country': 'SA', 'Date': '2019-11-08 06:59:54'}, {'City': 'Chara', 'Lat': 39.42, 'Lng': 22.43, 'Max Temp': 57.2, 'Humidity': 93, 'Cloudiness': 40, 'Wind Speed': 4.7, 'Country': 'GR', 'Date': '2019-11-08 06:59:55'}, {'City': 'La Union', 'Lat': 14.97, 'Lng': -89.29, 'Max Temp': 65.52, 'Humidity': 97, 'Cloudiness': 83, 'Wind Speed': 2.8, 'Country': 'GT', 'Date': '2019-11-08 06:59:55'}, {'City': 'Narsaq', 'Lat': 60.91, 'Lng': -46.05, 'Max Temp': 46.4, 'Humidity': 28, 'Cloudiness': 100, 'Wind Speed': 24.16, 'Country': 'GL', 'Date': '2019-11-08 06:59:56'}, {'City': 'Shestakovo', 'Lat': 56.49, 'Lng': 103.96, 'Max Temp': 32.49, 'Humidity': 85, 'Cloudiness': 94, 'Wind Speed': 11.12, 'Country': 'RU', 'Date': '2019-11-08 06:59:56'}, {'City': 'Newport', 'Lat': 51.59, 'Lng': -3, 'Max Temp': 44.6, 'Humidity': 100, 'Cloudiness': 90, 'Wind Speed': 9.17, 'Country': 'GB', 'Date': '2019-11-08 06:56:59'}, {'City': 'Tecoanapa', 'Lat': 16.99, 'Lng': -99.26, 'Max Temp': 80.6, 'Humidity': 83, 'Cloudiness': 40, 'Wind Speed': 6.93, 'Country': 'MX', 'Date': '2019-11-08 06:59:57'}, {'City': 'Lichinga', 'Lat': -13.3, 'Lng': 35.25, 'Max Temp': 76.6, 'Humidity': 63, 'Cloudiness': 74, 'Wind Speed': 7.83, 'Country': 'MZ', 'Date': '2019-11-08 06:59:57'}, {'City': 'Namatanai', 'Lat': -3.66, 'Lng': 152.44, 'Max Temp': 84.31, 'Humidity': 68, 'Cloudiness': 100, 'Wind Speed': 5.39, 'Country': 'PG', 'Date': '2019-11-08 06:59:57'}, {'City': 'Cabedelo', 'Lat': -6.97, 'Lng': -34.84, 'Max Temp': 77, 'Humidity': 83, 'Cloudiness': 75, 'Wind Speed': 3.36, 'Country': 'BR', 'Date': '2019-11-08 06:59:58'}, {'City': 'Tongliao', 'Lat': 43.61, 'Lng': 122.27, 'Max Temp': 47.26, 'Humidity': 36, 'Cloudiness': 2, 'Wind Speed': 3.29, 'Country': 'CN', 'Date': '2019-11-08 06:59:58'}, {'City': 'Cayenne', 'Lat': 4.94, 'Lng': -52.33, 'Max Temp': 73.4, 'Humidity': 100, 'Cloudiness': 40, 'Wind Speed': 5.01, 'Country': 'GF', 'Date': '2019-11-08 06:59:58'}, {'City': 'Longyearbyen', 'Lat': 78.22, 'Lng': 15.63, 'Max Temp': 15.8, 'Humidity': 66, 'Cloudiness': 20, 'Wind Speed': 4.7, 'Country': 'NO', 'Date': '2019-11-08 06:59:58'}, {'City': 'Giyani', 'Lat': -23.32, 'Lng': 30.73, 'Max Temp': 72.79, 'Humidity': 67, 'Cloudiness': 45, 'Wind Speed': 8.08, 'Country': 'ZA', 'Date': '2019-11-08 06:59:59'}, {'City': 'Qasigiannguit', 'Lat': 68.82, 'Lng': -51.19, 'Max Temp': 33.8, 'Humidity': 34, 'Cloudiness': 100, 'Wind Speed': 11.41, 'Country': 'GL', 'Date': '2019-11-08 06:59:59'}, {'City': 'Rawson', 'Lat': -43.3, 'Lng': -65.11, 'Max Temp': 54.52, 'Humidity': 48, 'Cloudiness': 3, 'Wind Speed': 15.23, 'Country': 'AR', 'Date': '2019-11-08 06:59:59'}, {'City': 'Sorland', 'Lat': 67.67, 'Lng': 12.69, 'Max Temp': 32, 'Humidity': 96, 'Cloudiness': 90, 'Wind Speed': 17.22, 'Country': 'NO', 'Date': '2019-11-08 06:59:59'}, {'City': 'Aguazul', 'Lat': 5.17, 'Lng': -72.55, 'Max Temp': 72.12, 'Humidity': 94, 'Cloudiness': 69, 'Wind Speed': 1.83, 'Country': 'CO', 'Date': '2019-11-08 07:00:00'}, {'City': 'Constitucion', 'Lat': 23.99, 'Lng': -104.67, 'Max Temp': 61.56, 'Humidity': 71, 'Cloudiness': 80, 'Wind Speed': 3.47, 'Country': 'MX', 'Date': '2019-11-08 07:00:00'}, {'City': 'Tongchuan', 'Lat': 34.9, 'Lng': 108.95, 'Max Temp': 59, 'Humidity': 77, 'Cloudiness': 1, 'Wind Speed': 2.24, 'Country': 'CN', 'Date': '2019-11-08 07:00:00'}, {'City': 'Taoudenni', 'Lat': 22.68, 'Lng': -3.98, 'Max Temp': 66.54, 'Humidity': 26, 'Cloudiness': 59, 'Wind Speed': 4.03, 'Country': 'ML', 'Date': '2019-11-08 07:00:01'}, {'City': 'Guerrero Negro', 'Lat': 27.97, 'Lng': -114.04, 'Max Temp': 66.76, 'Humidity': 79, 'Cloudiness': 100, 'Wind Speed': 4.94, 'Country': 'MX', 'Date': '2019-11-08 07:00:01'}, {'City': 'Margate', 'Lat': -43.03, 'Lng': 147.26, 'Max Temp': 50, 'Humidity': 57, 'Cloudiness': 75, 'Wind Speed': 9.17, 'Country': 'AU', 'Date': '2019-11-08 07:00:02'}, {'City': 'Padang', 'Lat': -0.92, 'Lng': 100.36, 'Max Temp': 80.28, 'Humidity': 66, 'Cloudiness': 100, 'Wind Speed': 4.79, 'Country': 'ID', 'Date': '2019-11-08 07:00:03'}, {'City': 'Manchester', 'Lat': 43, 'Lng': -71.45, 'Max Temp': 37.4, 'Humidity': 80, 'Cloudiness': 90, 'Wind Speed': 10.29, 'Country': 'US', 'Date': '2019-11-08 06:58:37'}, {'City': 'Santa Cruz', 'Lat': -6.22, 'Lng': -36.02, 'Max Temp': 69.31, 'Humidity': 85, 'Cloudiness': 0, 'Wind Speed': 5.75, 'Country': 'BR', 'Date': '2019-11-08 07:00:05'}, {'City': 'Griffith', 'Lat': -34.29, 'Lng': 146.06, 'Max Temp': 62.6, 'Humidity': 39, 'Cloudiness': 75, 'Wind Speed': 24.16, 'Country': 'AU', 'Date': '2019-11-08 07:00:05'}, {'City': 'Sioux Lookout', 'Lat': 50.1, 'Lng': -91.92, 'Max Temp': 14, 'Humidity': 56, 'Cloudiness': 90, 'Wind Speed': 5.82, 'Country': 'CA', 'Date': '2019-11-08 07:00:06'}, {'City': 'Martinez', 'Lat': 38.01, 'Lng': -122.13, 'Max Temp': 53.6, 'Humidity': 93, 'Cloudiness': 1, 'Wind Speed': 4.7, 'Country': 'US', 'Date': '2019-11-08 07:00:06'}, {'City': 'Kodinsk', 'Lat': 58.6, 'Lng': 99.18, 'Max Temp': 30.47, 'Humidity': 95, 'Cloudiness': 100, 'Wind Speed': 11.5, 'Country': 'RU', 'Date': '2019-11-08 07:00:06'}, {'City': 'Avila', 'Lat': 38.91, 'Lng': -76.61, 'Max Temp': 48.2, 'Humidity': 70, 'Cloudiness': 75, 'Wind Speed': 9.17, 'Country': 'US', 'Date': '2019-11-08 07:00:06'}, {'City': 'Dourados', 'Lat': -22.22, 'Lng': -54.81, 'Max Temp': 72.32, 'Humidity': 89, 'Cloudiness': 20, 'Wind Speed': 6.24, 'Country': 'BR', 'Date': '2019-11-08 07:00:07'}, {'City': 'Okha', 'Lat': 53.59, 'Lng': 142.95, 'Max Temp': 23.81, 'Humidity': 89, 'Cloudiness': 99, 'Wind Speed': 17.63, 'Country': 'RU', 'Date': '2019-11-08 07:00:07'}, {'City': 'Ghanzi', 'Lat': -21.7, 'Lng': 21.65, 'Max Temp': 79.2, 'Humidity': 35, 'Cloudiness': 95, 'Wind Speed': 8.25, 'Country': 'BW', 'Date': '2019-11-08 07:00:07'}, {'City': 'Talara', 'Lat': -4.58, 'Lng': -81.27, 'Max Temp': 66.16, 'Humidity': 87, 'Cloudiness': 24, 'Wind Speed': 18.23, 'Country': 'PE', 'Date': '2019-11-08 07:00:08'}, {'City': 'Riwaka', 'Lat': -41.08, 'Lng': 173, 'Max Temp': 61.66, 'Humidity': 82, 'Cloudiness': 83, 'Wind Speed': 10.22, 'Country': 'NZ', 'Date': '2019-11-08 07:00:08'}, {'City': 'Kozhva', 'Lat': 65.11, 'Lng': 57.05, 'Max Temp': 2.98, 'Humidity': 98, 'Cloudiness': 99, 'Wind Speed': 3.33, 'Country': 'RU', 'Date': '2019-11-08 07:00:09'}, {'City': 'Meadow Lake', 'Lat': 54.13, 'Lng': -108.44, 'Max Temp': 17.11, 'Humidity': 90, 'Cloudiness': 100, 'Wind Speed': 5.84, 'Country': 'CA', 'Date': '2019-11-08 07:00:09'}, {'City': 'Lenina', 'Lat': 48.44, 'Lng': 39.15, 'Max Temp': 56.44, 'Humidity': 71, 'Cloudiness': 100, 'Wind Speed': 9.33, 'Country': 'UA', 'Date': '2019-11-08 07:00:09'}, {'City': 'Haines Junction', 'Lat': 60.75, 'Lng': -137.51, 'Max Temp': 32.65, 'Humidity': 99, 'Cloudiness': 100, 'Wind Speed': 1.48, 'Country': 'CA', 'Date': '2019-11-08 07:00:09'}, {'City': 'Itoman', 'Lat': 26.12, 'Lng': 127.67, 'Max Temp': 78.8, 'Humidity': 53, 'Cloudiness': 40, 'Wind Speed': 18.34, 'Country': 'JP', 'Date': '2019-11-08 07:00:09'}, {'City': 'Talwandi Bhai', 'Lat': 30.86, 'Lng': 74.93, 'Max Temp': 79.3, 'Humidity': 32, 'Cloudiness': 0, 'Wind Speed': 7.67, 'Country': 'IN', 'Date': '2019-11-08 07:00:10'}, {'City': 'Nola', 'Lat': 3.52, 'Lng': 16.05, 'Max Temp': 72.48, 'Humidity': 86, 'Cloudiness': 0, 'Wind Speed': 0.67, 'Country': 'CF', 'Date': '2019-11-08 07:00:10'}, {'City': 'Zhigansk', 'Lat': 66.77, 'Lng': 123.37, 'Max Temp': -19.11, 'Humidity': 95, 'Cloudiness': 51, 'Wind Speed': 7.09, 'Country': 'RU', 'Date': '2019-11-08 07:00:10'}, {'City': 'Karaton', 'Lat': -6.34, 'Lng': 106.1, 'Max Temp': 93.2, 'Humidity': 52, 'Cloudiness': 20, 'Wind Speed': 11.41, 'Country': 'ID', 'Date': '2019-11-08 07:00:10'}, {'City': 'Bilma', 'Lat': 18.69, 'Lng': 12.92, 'Max Temp': 75.79, 'Humidity': 18, 'Cloudiness': 0, 'Wind Speed': 6.67, 'Country': 'NE', 'Date': '2019-11-08 07:00:11'}, {'City': 'Kosum Phisai', 'Lat': 16.25, 'Lng': 103.07, 'Max Temp': 87.8, 'Humidity': 43, 'Cloudiness': 20, 'Wind Speed': 9.17, 'Country': 'TH', 'Date': '2019-11-08 07:00:11'}, {'City': 'Pimentel', 'Lat': -3.7, 'Lng': -45.5, 'Max Temp': 73.71, 'Humidity': 95, 'Cloudiness': 0, 'Wind Speed': 3.33, 'Country': 'BR', 'Date': '2019-11-08 07:00:11'}, {'City': 'Presidencia Roque Saenz Pena', 'Lat': -26.79, 'Lng': -60.44, 'Max Temp': 66.85, 'Humidity': 79, 'Cloudiness': 0, 'Wind Speed': 5.17, 'Country': 'AR', 'Date': '2019-11-08 07:00:11'}, {'City': 'Leverkusen', 'Lat': 51.03, 'Lng': 6.99, 'Max Temp': 39.2, 'Humidity': 93, 'Cloudiness': 46, 'Wind Speed': 5.82, 'Country': 'DE', 'Date': '2019-11-08 07:00:12'}, {'City': 'Khandyga', 'Lat': 62.65, 'Lng': 135.58, 'Max Temp': -6.96, 'Humidity': 96, 'Cloudiness': 100, 'Wind Speed': 1.83, 'Country': 'RU', 'Date': '2019-11-08 07:00:12'}, {'City': 'Dubbo', 'Lat': -32.25, 'Lng': 148.6, 'Max Temp': 71.6, 'Humidity': 33, 'Cloudiness': 90, 'Wind Speed': 25.28, 'Country': 'AU', 'Date': '2019-11-08 07:00:12'}, {'City': 'Marzuq', 'Lat': 14.4, 'Lng': 46.47, 'Max Temp': 75.43, 'Humidity': 30, 'Cloudiness': 0, 'Wind Speed': 5.28, 'Country': 'YE', 'Date': '2019-11-08 07:00:13'}, {'City': 'Luderitz', 'Lat': -26.65, 'Lng': 15.16, 'Max Temp': 60.8, 'Humidity': 63, 'Cloudiness': 52, 'Wind Speed': 10.29, 'Country': 'NA', 'Date': '2019-11-08 07:00:13'}, {'City': 'Clyde River', 'Lat': 70.47, 'Lng': -68.59, 'Max Temp': 12.2, 'Humidity': 85, 'Cloudiness': 75, 'Wind Speed': 13.87, 'Country': 'CA', 'Date': '2019-11-08 07:00:13'}, {'City': 'Metro', 'Lat': -5.11, 'Lng': 105.31, 'Max Temp': 96.31, 'Humidity': 31, 'Cloudiness': 40, 'Wind Speed': 8.68, 'Country': 'ID', 'Date': '2019-11-08 07:00:13'}, {'City': 'Marsa Matruh', 'Lat': 31.35, 'Lng': 27.25, 'Max Temp': 62.6, 'Humidity': 93, 'Cloudiness': 0, 'Wind Speed': 4.76, 'Country': 'EG', 'Date': '2019-11-08 07:00:14'}, {'City': 'Pauini', 'Lat': -7.71, 'Lng': -67, 'Max Temp': 72.48, 'Humidity': 98, 'Cloudiness': 68, 'Wind Speed': 1.9, 'Country': 'BR', 'Date': '2019-11-08 07:00:14'}, {'City': 'Mount Gambier', 'Lat': -37.83, 'Lng': 140.78, 'Max Temp': 57.2, 'Humidity': 58, 'Cloudiness': 75, 'Wind Speed': 17.22, 'Country': 'AU', 'Date': '2019-11-08 07:00:14'}, {'City': 'Emerald', 'Lat': -23.53, 'Lng': 148.16, 'Max Temp': 98.6, 'Humidity': 7, 'Cloudiness': 0, 'Wind Speed': 17.22, 'Country': 'AU', 'Date': '2019-11-08 07:00:14'}, {'City': 'Muisne', 'Lat': 0.61, 'Lng': -80.02, 'Max Temp': 73.6, 'Humidity': 91, 'Cloudiness': 99, 'Wind Speed': 8.81, 'Country': 'EC', 'Date': '2019-11-08 07:00:15'}, {'City': 'Shellbrook', 'Lat': 53.22, 'Lng': -106.39, 'Max Temp': 15.8, 'Humidity': 78, 'Cloudiness': 75, 'Wind Speed': 3.36, 'Country': 'CA', 'Date': '2019-11-08 07:00:15'}, {'City': 'Usinsk', 'Lat': 66, 'Lng': 57.56, 'Max Temp': 1.69, 'Humidity': 97, 'Cloudiness': 71, 'Wind Speed': 5.99, 'Country': 'RU', 'Date': '2019-11-08 07:00:15'}, {'City': 'Terney', 'Lat': 45.05, 'Lng': 136.61, 'Max Temp': 30.43, 'Humidity': 47, 'Cloudiness': 24, 'Wind Speed': 10.78, 'Country': 'RU', 'Date': '2019-11-08 07:00:15'}, {'City': 'Ambilobe', 'Lat': -13.19, 'Lng': 49.05, 'Max Temp': 90.73, 'Humidity': 43, 'Cloudiness': 70, 'Wind Speed': 15.75, 'Country': 'MG', 'Date': '2019-11-08 07:00:16'}, {'City': 'Redmond', 'Lat': 47.67, 'Lng': -122.12, 'Max Temp': 48.2, 'Humidity': 100, 'Cloudiness': 1, 'Wind Speed': 1.92, 'Country': 'US', 'Date': '2019-11-08 06:56:49'}, {'City': 'Arraial Do Cabo', 'Lat': -22.97, 'Lng': -42.02, 'Max Temp': 72.93, 'Humidity': 91, 'Cloudiness': 100, 'Wind Speed': 9.71, 'Country': 'BR', 'Date': '2019-11-08 07:00:16'}, {'City': 'West Sacramento', 'Lat': 38.58, 'Lng': -121.53, 'Max Temp': 60.8, 'Humidity': 66, 'Cloudiness': 1, 'Wind Speed': 1.54, 'Country': 'US', 'Date': '2019-11-08 06:58:17'}, {'City': 'Lisala', 'Lat': 2.15, 'Lng': 21.52, 'Max Temp': 76.32, 'Humidity': 76, 'Cloudiness': 30, 'Wind Speed': 2.77, 'Country': 'CD', 'Date': '2019-11-08 07:00:17'}, {'City': 'Bali', 'Lat': 32.29, 'Lng': 119.4, 'Max Temp': 65.57, 'Humidity': 29, 'Cloudiness': 0, 'Wind Speed': 9.53, 'Country': 'CN', 'Date': '2019-11-08 06:58:46'}, {'City': 'Merauke', 'Lat': -8.49, 'Lng': 140.4, 'Max Temp': 79.61, 'Humidity': 74, 'Cloudiness': 100, 'Wind Speed': 3.76, 'Country': 'ID', 'Date': '2019-11-08 07:00:17'}, {'City': 'Yulara', 'Lat': -25.24, 'Lng': 130.99, 'Max Temp': 91.4, 'Humidity': 9, 'Cloudiness': 0, 'Wind Speed': 10.29, 'Country': 'AU', 'Date': '2019-11-08 07:00:17'}, {'City': 'La Rioja', 'Lat': -29.41, 'Lng': -66.86, 'Max Temp': 65.64, 'Humidity': 56, 'Cloudiness': 0, 'Wind Speed': 4.59, 'Country': 'AR', 'Date': '2019-11-08 06:59:32'}, {'City': 'Ndioum', 'Lat': 16.51, 'Lng': -14.65, 'Max Temp': 73.4, 'Humidity': 40, 'Cloudiness': 41, 'Wind Speed': 2.24, 'Country': 'SN', 'Date': '2019-11-08 07:00:18'}, {'City': 'Worcester', 'Lat': 52.19, 'Lng': -2.22, 'Max Temp': 44.6, 'Humidity': 100, 'Cloudiness': 40, 'Wind Speed': 10.29, 'Country': 'GB', 'Date': '2019-11-08 06:58:20'}, {'City': 'Kushtagi', 'Lat': 15.76, 'Lng': 76.19, 'Max Temp': 80.33, 'Humidity': 60, 'Cloudiness': 38, 'Wind Speed': 5.28, 'Country': 'IN', 'Date': '2019-11-08 07:00:18'}, {'City': 'Chifeng', 'Lat': 42.27, 'Lng': 118.96, 'Max Temp': 51.89, 'Humidity': 26, 'Cloudiness': 0, 'Wind Speed': 6.49, 'Country': 'CN', 'Date': '2019-11-08 07:00:19'}, {'City': 'San Alberto', 'Lat': -24.98, 'Lng': -54.91, 'Max Temp': 71.6, 'Humidity': 100, 'Cloudiness': 85, 'Wind Speed': 3.74, 'Country': 'PY', 'Date': '2019-11-08 07:00:19'}, {'City': 'Adeje', 'Lat': 5.68, 'Lng': 5.76, 'Max Temp': 76.17, 'Humidity': 94, 'Cloudiness': 6, 'Wind Speed': 0.83, 'Country': 'NG', 'Date': '2019-11-08 07:00:19'}, {'City': 'Port Blair', 'Lat': 11.67, 'Lng': 92.75, 'Max Temp': 82.92, 'Humidity': 78, 'Cloudiness': 75, 'Wind Speed': 12.1, 'Country': 'IN', 'Date': '2019-11-08 07:00:19'}, {'City': 'Saint-Joseph', 'Lat': 43.56, 'Lng': 6.97, 'Max Temp': 51.8, 'Humidity': 93, 'Cloudiness': 100, 'Wind Speed': 1.12, 'Country': 'FR', 'Date': '2019-11-08 07:00:19'}, {'City': 'Bahia Blanca', 'Lat': -38.72, 'Lng': -62.27, 'Max Temp': 50.68, 'Humidity': 48, 'Cloudiness': 97, 'Wind Speed': 11.54, 'Country': 'AR', 'Date': '2019-11-08 07:00:20'}, {'City': 'Pundaguitan', 'Lat': 6.37, 'Lng': 126.17, 'Max Temp': 84.79, 'Humidity': 61, 'Cloudiness': 100, 'Wind Speed': 2.44, 'Country': 'PH', 'Date': '2019-11-08 07:00:20'}, {'City': 'Toamasina', 'Lat': -18.17, 'Lng': 49.38, 'Max Temp': 73.4, 'Humidity': 94, 'Cloudiness': 75, 'Wind Speed': 9.17, 'Country': 'MG', 'Date': '2019-11-08 07:00:20'}, {'City': 'Iqaluit', 'Lat': 63.75, 'Lng': -68.52, 'Max Temp': 14, 'Humidity': 78, 'Cloudiness': 75, 'Wind Speed': 18.34, 'Country': 'CA', 'Date': '2019-11-08 07:00:20'}, {'City': 'Hamilton', 'Lat': 43.26, 'Lng': -79.87, 'Max Temp': 28.4, 'Humidity': 63, 'Cloudiness': 90, 'Wind Speed': 8.05, 'Country': 'CA', 'Date': '2019-11-08 06:57:37'}, {'City': 'Kavieng', 'Lat': -2.57, 'Lng': 150.8, 'Max Temp': 84.52, 'Humidity': 72, 'Cloudiness': 96, 'Wind Speed': 12.33, 'Country': 'PG', 'Date': '2019-11-08 07:00:21'}, {'City': 'Bulgan', 'Lat': 48.81, 'Lng': 103.53, 'Max Temp': 40.26, 'Humidity': 45, 'Cloudiness': 86, 'Wind Speed': 2.19, 'Country': 'MN', 'Date': '2019-11-08 07:00:21'}, {'City': 'Cairns', 'Lat': -16.92, 'Lng': 145.77, 'Max Temp': 82.4, 'Humidity': 58, 'Cloudiness': 31, 'Wind Speed': 5.82, 'Country': 'AU', 'Date': '2019-11-08 06:57:03'}, {'City': 'San Policarpo', 'Lat': 12.18, 'Lng': 125.51, 'Max Temp': 84.25, 'Humidity': 74, 'Cloudiness': 0, 'Wind Speed': 7.27, 'Country': 'PH', 'Date': '2019-11-08 07:00:22'}, {'City': 'Urbano Santos', 'Lat': -3.2, 'Lng': -43.39, 'Max Temp': 72.99, 'Humidity': 95, 'Cloudiness': 22, 'Wind Speed': 4.79, 'Country': 'BR', 'Date': '2019-11-08 07:00:22'}, {'City': 'Sao Joao Da Barra', 'Lat': -21.64, 'Lng': -41.05, 'Max Temp': 74.1, 'Humidity': 90, 'Cloudiness': 53, 'Wind Speed': 3.78, 'Country': 'BR', 'Date': '2019-11-08 07:00:22'}, {'City': 'Zeya', 'Lat': 53.74, 'Lng': 127.27, 'Max Temp': 14.41, 'Humidity': 67, 'Cloudiness': 77, 'Wind Speed': 8.21, 'Country': 'RU', 'Date': '2019-11-08 07:00:23'}, {'City': 'Hasaki', 'Lat': 35.73, 'Lng': 140.83, 'Max Temp': 60.8, 'Humidity': 58, 'Cloudiness': 20, 'Wind Speed': 10.29, 'Country': 'JP', 'Date': '2019-11-08 07:00:23'}, {'City': 'Ulaangom', 'Lat': 49.98, 'Lng': 92.07, 'Max Temp': 39.97, 'Humidity': 59, 'Cloudiness': 100, 'Wind Speed': 2.48, 'Country': 'MN', 'Date': '2019-11-08 07:00:23'}, {'City': 'Luganville', 'Lat': -15.51, 'Lng': 167.18, 'Max Temp': 80.6, 'Humidity': 83, 'Cloudiness': 75, 'Wind Speed': 2.24, 'Country': 'VU', 'Date': '2019-11-08 07:00:23'}, {'City': 'Austin', 'Lat': 30.27, 'Lng': -97.74, 'Max Temp': 44.6, 'Humidity': 87, 'Cloudiness': 90, 'Wind Speed': 4.7, 'Country': 'US', 'Date': '2019-11-08 06:56:50'}, {'City': 'Khotynets', 'Lat': 53.13, 'Lng': 35.4, 'Max Temp': 42.89, 'Humidity': 94, 'Cloudiness': 100, 'Wind Speed': 6.42, 'Country': 'RU', 'Date': '2019-11-08 07:00:24'}, {'City': 'Sarangani', 'Lat': 5.4, 'Lng': 125.46, 'Max Temp': 84.34, 'Humidity': 71, 'Cloudiness': 77, 'Wind Speed': 14.74, 'Country': 'PH', 'Date': '2019-11-08 07:00:24'}, {'City': 'Kirovsk', 'Lat': 67.62, 'Lng': 33.66, 'Max Temp': 18.46, 'Humidity': 96, 'Cloudiness': 100, 'Wind Speed': 3.71, 'Country': 'RU', 'Date': '2019-11-08 07:00:25'}, {'City': 'Athabasca', 'Lat': 54.72, 'Lng': -113.29, 'Max Temp': 33.87, 'Humidity': 91, 'Cloudiness': 100, 'Wind Speed': 9.75, 'Country': 'CA', 'Date': '2019-11-08 07:00:16'}, {'City': 'Pisco', 'Lat': -13.71, 'Lng': -76.2, 'Max Temp': 60.8, 'Humidity': 82, 'Cloudiness': 0, 'Wind Speed': 4.7, 'Country': 'PE', 'Date': '2019-11-08 07:00:25'}, {'City': 'Cikupa', 'Lat': -7.49, 'Lng': 108.52, 'Max Temp': 91.94, 'Humidity': 38, 'Cloudiness': 12, 'Wind Speed': 7, 'Country': 'ID', 'Date': '2019-11-08 07:00:25'}, {'City': 'Sfantu Gheorghe', 'Lat': 44.65, 'Lng': 26.83, 'Max Temp': 55.4, 'Humidity': 93, 'Cloudiness': 100, 'Wind Speed': 5.82, 'Country': 'RO', 'Date': '2019-11-08 07:00:26'}, {'City': 'Port Lincoln', 'Lat': -34.72, 'Lng': 135.86, 'Max Temp': 58.41, 'Humidity': 50, 'Cloudiness': 48, 'Wind Speed': 19.53, 'Country': 'AU', 'Date': '2019-11-08 07:00:26'}, {'City': 'Sur', 'Lat': 22.57, 'Lng': 59.53, 'Max Temp': 80.78, 'Humidity': 41, 'Cloudiness': 33, 'Wind Speed': 4.52, 'Country': 'OM', 'Date': '2019-11-08 07:00:27'}, {'City': 'Northam', 'Lat': -31.65, 'Lng': 116.67, 'Max Temp': 87.8, 'Humidity': 16, 'Cloudiness': 0, 'Wind Speed': 11.41, 'Country': 'AU', 'Date': '2019-11-08 07:00:27'}, {'City': 'Slonim', 'Lat': 53.09, 'Lng': 25.32, 'Max Temp': 40.35, 'Humidity': 96, 'Cloudiness': 10, 'Wind Speed': 3.2, 'Country': 'BY', 'Date': '2019-11-08 07:00:27'}, {'City': 'Arlit', 'Lat': 18.74, 'Lng': 7.39, 'Max Temp': 79.79, 'Humidity': 15, 'Cloudiness': 0, 'Wind Speed': 8.55, 'Country': 'NE', 'Date': '2019-11-08 07:00:28'}, {'City': 'Vestmannaeyjar', 'Lat': 63.44, 'Lng': -20.27, 'Max Temp': 42.8, 'Humidity': 75, 'Cloudiness': 90, 'Wind Speed': 39.15, 'Country': 'IS', 'Date': '2019-11-08 07:00:28'}, {'City': 'Burnie', 'Lat': -41.05, 'Lng': 145.91, 'Max Temp': 53.15, 'Humidity': 53, 'Cloudiness': 78, 'Wind Speed': 17.58, 'Country': 'AU', 'Date': '2019-11-08 07:00:28'}, {'City': 'Aden', 'Lat': 12.79, 'Lng': 45.03, 'Max Temp': 87.12, 'Humidity': 39, 'Cloudiness': 0, 'Wind Speed': 9.55, 'Country': 'YE', 'Date': '2019-11-08 06:57:31'}, {'City': 'Bereznehuvate', 'Lat': 47.31, 'Lng': 32.85, 'Max Temp': 56.03, 'Humidity': 91, 'Cloudiness': 98, 'Wind Speed': 3.4, 'Country': 'UA', 'Date': '2019-11-08 07:00:28'}, {'City': 'Staryy Nadym', 'Lat': 65.61, 'Lng': 72.68, 'Max Temp': -5.18, 'Humidity': 96, 'Cloudiness': 99, 'Wind Speed': 16.26, 'Country': 'RU', 'Date': '2019-11-08 07:00:29'}, {'City': 'Nanortalik', 'Lat': 60.14, 'Lng': -45.24, 'Max Temp': 35.49, 'Humidity': 76, 'Cloudiness': 83, 'Wind Speed': 17.36, 'Country': 'GL', 'Date': '2019-11-08 07:00:29'}, {'City': 'Saint-Denis', 'Lat': 48.94, 'Lng': 2.36, 'Max Temp': 41, 'Humidity': 93, 'Cloudiness': 33, 'Wind Speed': 4.7, 'Country': 'FR', 'Date': '2019-11-08 07:00:29'}, {'City': 'Calvia', 'Lat': 39.57, 'Lng': 2.51, 'Max Temp': 48.2, 'Humidity': 87, 'Cloudiness': 63, 'Wind Speed': 3.36, 'Country': 'ES', 'Date': '2019-11-08 07:00:30'}, {'City': 'Pushkino', 'Lat': 56.01, 'Lng': 37.85, 'Max Temp': 39.2, 'Humidity': 100, 'Cloudiness': 90, 'Wind Speed': 6.71, 'Country': 'RU', 'Date': '2019-11-08 07:00:30'}, {'City': 'Corinth', 'Lat': 37.94, 'Lng': 22.93, 'Max Temp': 60.8, 'Humidity': 93, 'Cloudiness': 75, 'Wind Speed': 7.23, 'Country': 'GR', 'Date': '2019-11-08 07:00:30'}, {'City': 'San Jose', 'Lat': 14.25, 'Lng': -87.96, 'Max Temp': 71.6, 'Humidity': 91, 'Cloudiness': 75, 'Wind Speed': 8.05, 'Country': 'HN', 'Date': '2019-11-08 07:00:30'}, {'City': 'Bull Savanna', 'Lat': 17.89, 'Lng': -77.59, 'Max Temp': 70.14, 'Humidity': 92, 'Cloudiness': 4, 'Wind Speed': 2.62, 'Country': 'JM', 'Date': '2019-11-08 07:00:30'}, {'City': 'Egvekinot', 'Lat': 66.32, 'Lng': -179.17, 'Max Temp': 13.62, 'Humidity': 91, 'Cloudiness': 52, 'Wind Speed': 11.48, 'Country': 'RU', 'Date': '2019-11-08 07:00:31'}, {'City': 'Dogondoutchi', 'Lat': 13.64, 'Lng': 4.03, 'Max Temp': 78.04, 'Humidity': 18, 'Cloudiness': 0, 'Wind Speed': 6.17, 'Country': 'NE', 'Date': '2019-11-08 07:00:31'}, {'City': 'Jeremie', 'Lat': 18.65, 'Lng': -74.12, 'Max Temp': 70.07, 'Humidity': 89, 'Cloudiness': 8, 'Wind Speed': 3.24, 'Country': 'HT', 'Date': '2019-11-08 07:00:31'}, {'City': 'Samarai', 'Lat': -10.62, 'Lng': 150.67, 'Max Temp': 83.16, 'Humidity': 74, 'Cloudiness': 100, 'Wind Speed': 7.34, 'Country': 'PG', 'Date': '2019-11-08 07:00:31'}, {'City': 'Ostrovnoy', 'Lat': 68.05, 'Lng': 39.51, 'Max Temp': 16.97, 'Humidity': 90, 'Cloudiness': 100, 'Wind Speed': 6.98, 'Country': 'RU', 'Date': '2019-11-08 07:00:32'}, {'City': 'Anadyr', 'Lat': 64.73, 'Lng': 177.51, 'Max Temp': 10.4, 'Humidity': 85, 'Cloudiness': 0, 'Wind Speed': 6.71, 'Country': 'RU', 'Date': '2019-11-08 07:00:32'}, {'City': 'Iralaya', 'Lat': 15, 'Lng': -83.23, 'Max Temp': 82.31, 'Humidity': 82, 'Cloudiness': 70, 'Wind Speed': 16.8, 'Country': 'HN', 'Date': '2019-11-08 07:00:32'}, {'City': 'Ekhabi', 'Lat': 53.51, 'Lng': 142.97, 'Max Temp': 23.81, 'Humidity': 89, 'Cloudiness': 99, 'Wind Speed': 17.63, 'Country': 'RU', 'Date': '2019-11-08 07:00:32'}, {'City': 'Patacamaya', 'Lat': -17.23, 'Lng': -67.92, 'Max Temp': 44.17, 'Humidity': 86, 'Cloudiness': 77, 'Wind Speed': 4.83, 'Country': 'BO', 'Date': '2019-11-08 07:00:33'}, {'City': 'Kudat', 'Lat': 6.89, 'Lng': 116.84, 'Max Temp': 84.2, 'Humidity': 70, 'Cloudiness': 75, 'Wind Speed': 10.29, 'Country': 'MY', 'Date': '2019-11-08 07:00:33'}, {'City': 'Derbent', 'Lat': 42.06, 'Lng': 48.29, 'Max Temp': 57.83, 'Humidity': 77, 'Cloudiness': 0, 'Wind Speed': 2.3, 'Country': 'RU', 'Date': '2019-11-08 06:55:41'}, {'City': 'Santana', 'Lat': -0.06, 'Lng': -51.18, 'Max Temp': 80.6, 'Humidity': 94, 'Cloudiness': 7, 'Wind Speed': 6.93, 'Country': 'BR', 'Date': '2019-11-08 07:00:34'}, {'City': 'Iguape', 'Lat': -24.7, 'Lng': -47.56, 'Max Temp': 66.83, 'Humidity': 99, 'Cloudiness': 82, 'Wind Speed': 1.3, 'Country': 'BR', 'Date': '2019-11-08 07:00:34'}, {'City': 'Ahuimanu', 'Lat': 21.44, 'Lng': -157.84, 'Max Temp': 77, 'Humidity': 83, 'Cloudiness': 90, 'Wind Speed': 3.36, 'Country': 'US', 'Date': '2019-11-08 07:00:34'}, {'City': 'Mayuge', 'Lat': 0.46, 'Lng': 33.48, 'Max Temp': 72.36, 'Humidity': 78, 'Cloudiness': 29, 'Wind Speed': 2.51, 'Country': 'UG', 'Date': '2019-11-08 07:00:34'}, {'City': 'Damaturu', 'Lat': 11.75, 'Lng': 11.96, 'Max Temp': 77.38, 'Humidity': 25, 'Cloudiness': 36, 'Wind Speed': 5.7, 'Country': 'NG', 'Date': '2019-11-08 07:00:35'}, {'City': 'Olinda', 'Lat': -37.84, 'Lng': 145.39, 'Max Temp': 51.8, 'Humidity': 81, 'Cloudiness': 40, 'Wind Speed': 19.46, 'Country': 'AU', 'Date': '2019-11-08 07:00:35'}, {'City': 'El Calvario', 'Lat': 4.35, 'Lng': -73.71, 'Max Temp': 53.6, 'Humidity': 87, 'Cloudiness': 75, 'Wind Speed': 3.36, 'Country': 'CO', 'Date': '2019-11-08 07:00:35'}, {'City': 'Sinazongwe', 'Lat': -17.26, 'Lng': 27.46, 'Max Temp': 84.87, 'Humidity': 47, 'Cloudiness': 12, 'Wind Speed': 8.55, 'Country': 'ZM', 'Date': '2019-11-08 07:00:35'}, {'City': 'Sisimiut', 'Lat': 66.94, 'Lng': -53.67, 'Max Temp': 22.75, 'Humidity': 53, 'Cloudiness': 100, 'Wind Speed': 5.37, 'Country': 'GL', 'Date': '2019-11-08 07:00:36'}, {'City': 'Khipro', 'Lat': 25.83, 'Lng': 69.38, 'Max Temp': 82.65, 'Humidity': 18, 'Cloudiness': 0, 'Wind Speed': 15.48, 'Country': 'PK', 'Date': '2019-11-08 07:00:36'}, {'City': 'Maragogi', 'Lat': -9.01, 'Lng': -35.22, 'Max Temp': 79.32, 'Humidity': 74, 'Cloudiness': 89, 'Wind Speed': 13.49, 'Country': 'BR', 'Date': '2019-11-08 07:00:36'}, {'City': 'Nantucket', 'Lat': 41.28, 'Lng': -70.1, 'Max Temp': 48.2, 'Humidity': 81, 'Cloudiness': 90, 'Wind Speed': 12.75, 'Country': 'US', 'Date': '2019-11-08 07:00:36'}, {'City': 'Yibin', 'Lat': 28.77, 'Lng': 104.64, 'Max Temp': 63.34, 'Humidity': 72, 'Cloudiness': 100, 'Wind Speed': 1.57, 'Country': 'CN', 'Date': '2019-11-08 07:00:37'}, {'City': 'Kaseda', 'Lat': 31.42, 'Lng': 130.32, 'Max Temp': 69.8, 'Humidity': 42, 'Cloudiness': 20, 'Wind Speed': 5.82, 'Country': 'JP', 'Date': '2019-11-08 07:00:37'}, {'City': 'Sept-Iles', 'Lat': 50.2, 'Lng': -66.38, 'Max Temp': 10.4, 'Humidity': 85, 'Cloudiness': 20, 'Wind Speed': 4.7, 'Country': 'CA', 'Date': '2019-11-08 07:00:37'}, {'City': 'Hay River', 'Lat': 60.82, 'Lng': -115.79, 'Max Temp': 14, 'Humidity': 85, 'Cloudiness': 75, 'Wind Speed': 2.24, 'Country': 'CA', 'Date': '2019-11-08 07:00:37'}, {'City': 'Grindavik', 'Lat': 63.84, 'Lng': -22.43, 'Max Temp': 37.4, 'Humidity': 86, 'Cloudiness': 90, 'Wind Speed': 32.21, 'Country': 'IS', 'Date': '2019-11-08 07:00:37'}, {'City': 'Shimoda', 'Lat': 34.7, 'Lng': 138.93, 'Max Temp': 66.2, 'Humidity': 55, 'Cloudiness': 40, 'Wind Speed': 8.05, 'Country': 'JP', 'Date': '2019-11-08 07:00:38'}, {'City': 'Rincon', 'Lat': 8.46, 'Lng': -82.28, 'Max Temp': 73.98, 'Humidity': 87, 'Cloudiness': 100, 'Wind Speed': 1.59, 'Country': 'PA', 'Date': '2019-11-08 07:00:38'}, {'City': 'Qaqortoq', 'Lat': 60.72, 'Lng': -46.03, 'Max Temp': 46.4, 'Humidity': 28, 'Cloudiness': 100, 'Wind Speed': 24.16, 'Country': 'GL', 'Date': '2019-11-08 07:00:38'}, {'City': 'Veraval', 'Lat': 49.65, 'Lng': 0.71, 'Max Temp': 41, 'Humidity': 100, 'Cloudiness': 90, 'Wind Speed': 6.93, 'Country': 'FR', 'Date': '2019-11-08 07:00:39'}, {'City': 'Beterou', 'Lat': 9.2, 'Lng': 2.26, 'Max Temp': 72.57, 'Humidity': 97, 'Cloudiness': 38, 'Wind Speed': 3.71, 'Country': 'BJ', 'Date': '2019-11-08 07:00:39'}, {'City': 'Lata', 'Lat': 30.78, 'Lng': 78.62, 'Max Temp': 29.71, 'Humidity': 90, 'Cloudiness': 38, 'Wind Speed': 7.72, 'Country': 'IN', 'Date': '2019-11-08 07:00:39'}, {'City': 'Talnakh', 'Lat': 69.49, 'Lng': 88.39, 'Max Temp': -14.81, 'Humidity': 75, 'Cloudiness': 20, 'Wind Speed': 15.66, 'Country': 'RU', 'Date': '2019-11-08 07:00:40'}, {'City': 'Chincha Alta', 'Lat': -13.42, 'Lng': -76.13, 'Max Temp': 60.8, 'Humidity': 82, 'Cloudiness': 0, 'Wind Speed': 4.7, 'Country': 'PE', 'Date': '2019-11-08 07:00:40'}, {'City': 'Portland', 'Lat': 43.66, 'Lng': -70.25, 'Max Temp': 35.6, 'Humidity': 93, 'Cloudiness': 90, 'Wind Speed': 4.7, 'Country': 'US', 'Date': '2019-11-08 07:00:40'}, {'City': 'Suntar', 'Lat': 62.16, 'Lng': 117.65, 'Max Temp': 3.81, 'Humidity': 79, 'Cloudiness': 0, 'Wind Speed': 4.99, 'Country': 'RU', 'Date': '2019-11-08 07:00:40'}, {'City': 'Toro', 'Lat': 41.52, 'Lng': -5.39, 'Max Temp': 33.8, 'Humidity': 85, 'Cloudiness': 4, 'Wind Speed': 10.29, 'Country': 'ES', 'Date': '2019-11-08 07:00:41'}, {'City': 'Lakhimpur', 'Lat': 27.24, 'Lng': 94.1, 'Max Temp': 84.2, 'Humidity': 58, 'Cloudiness': 40, 'Wind Speed': 3.36, 'Country': 'IN', 'Date': '2019-11-08 07:00:41'}, {'City': 'Khani', 'Lat': 41.96, 'Lng': 42.96, 'Max Temp': 68, 'Humidity': 34, 'Cloudiness': 0, 'Wind Speed': 17.22, 'Country': 'GE', 'Date': '2019-11-08 07:00:41'}, {'City': 'George Town', 'Lat': 5.42, 'Lng': 100.33, 'Max Temp': 82.4, 'Humidity': 83, 'Cloudiness': 75, 'Wind Speed': 3.36, 'Country': 'MY', 'Date': '2019-11-08 07:00:09'}, {'City': 'Kabwe', 'Lat': -14.44, 'Lng': 28.44, 'Max Temp': 78.96, 'Humidity': 45, 'Cloudiness': 61, 'Wind Speed': 7.99, 'Country': 'ZM', 'Date': '2019-11-08 07:00:42'}, {'City': 'Goderich', 'Lat': 43.74, 'Lng': -81.71, 'Max Temp': 25.83, 'Humidity': 97, 'Cloudiness': 98, 'Wind Speed': 1.25, 'Country': 'CA', 'Date': '2019-11-08 07:00:08'}, {'City': 'Airai', 'Lat': -8.93, 'Lng': 125.41, 'Max Temp': 82.63, 'Humidity': 43, 'Cloudiness': 0, 'Wind Speed': 8.97, 'Country': 'TL', 'Date': '2019-11-08 07:00:42'}, {'City': 'Gweta', 'Lat': -20.21, 'Lng': 25.26, 'Max Temp': 89.51, 'Humidity': 20, 'Cloudiness': 13, 'Wind Speed': 10.94, 'Country': 'BW', 'Date': '2019-11-08 07:00:42'}, {'City': 'Kangaba', 'Lat': 11.94, 'Lng': -8.41, 'Max Temp': 76.17, 'Humidity': 61, 'Cloudiness': 61, 'Wind Speed': 2.91, 'Country': 'ML', 'Date': '2019-11-08 07:00:43'}, {'City': 'Kinshasa', 'Lat': -4.32, 'Lng': 15.31, 'Max Temp': 75.2, 'Humidity': 88, 'Cloudiness': 75, 'Wind Speed': 3.36, 'Country': 'CD', 'Date': '2019-11-08 06:57:54'}, {'City': 'Seguin', 'Lat': 29.57, 'Lng': -97.96, 'Max Temp': 46.4, 'Humidity': 93, 'Cloudiness': 90, 'Wind Speed': 13.87, 'Country': 'US', 'Date': '2019-11-08 07:00:43'}, {'City': 'Nemuro', 'Lat': 43.32, 'Lng': 145.57, 'Max Temp': 39.2, 'Humidity': 48, 'Cloudiness': 20, 'Wind Speed': 13.87, 'Country': 'JP', 'Date': '2019-11-08 07:00:43'}, {'City': 'Dong Hoi', 'Lat': 17.48, 'Lng': 106.6, 'Max Temp': 76.3, 'Humidity': 69, 'Cloudiness': 100, 'Wind Speed': 14.2, 'Country': 'VN', 'Date': '2019-11-08 07:00:44'}, {'City': 'Knyaze-Volkonskoye', 'Lat': 48.46, 'Lng': 135.46, 'Max Temp': 24.8, 'Humidity': 32, 'Cloudiness': 100, 'Wind Speed': 15.66, 'Country': 'RU', 'Date': '2019-11-08 07:00:44'}, {'City': 'Peniche', 'Lat': 39.36, 'Lng': -9.38, 'Max Temp': 51.8, 'Humidity': 87, 'Cloudiness': 40, 'Wind Speed': 3.36, 'Country': 'PT', 'Date': '2019-11-08 07:00:44'}, {'City': 'Matagami', 'Lat': 9.67, 'Lng': 8.4, 'Max Temp': 68.7, 'Humidity': 60, 'Cloudiness': 63, 'Wind Speed': 4.12, 'Country': 'NG', 'Date': '2019-11-08 07:00:45'}, {'City': 'South Valley', 'Lat': 35.01, 'Lng': -106.68, 'Max Temp': 44.6, 'Humidity': 100, 'Cloudiness': 40, 'Wind Speed': 3.36, 'Country': 'US', 'Date': '2019-11-08 07:00:45'}, {'City': 'Mehamn', 'Lat': 71.03, 'Lng': 27.85, 'Max Temp': 28.4, 'Humidity': 92, 'Cloudiness': 40, 'Wind Speed': 12.75, 'Country': 'NO', 'Date': '2019-11-08 07:00:46'}, {'City': 'Sao Jose Da Coroa Grande', 'Lat': -8.9, 'Lng': -35.15, 'Max Temp': 79.32, 'Humidity': 74, 'Cloudiness': 89, 'Wind Speed': 13.49, 'Country': 'BR', 'Date': '2019-11-08 07:00:46'}, {'City': 'Sabang', 'Lat': 13.8, 'Lng': 121.11, 'Max Temp': 82.85, 'Humidity': 79, 'Cloudiness': 5, 'Wind Speed': 2.68, 'Country': 'PH', 'Date': '2019-11-08 07:00:46'}, {'City': 'Rovaniemi', 'Lat': 66.5, 'Lng': 25.72, 'Max Temp': 3.2, 'Humidity': 84, 'Cloudiness': 82, 'Wind Speed': 3.36, 'Country': 'FI', 'Date': '2019-11-08 06:56:19'}, {'City': 'Fukue', 'Lat': 35.03, 'Lng': 136.69, 'Max Temp': 64.4, 'Humidity': 39, 'Cloudiness': 20, 'Wind Speed': 18.34, 'Country': 'JP', 'Date': '2019-11-08 07:00:47'}, {'City': 'Naqadeh', 'Lat': 36.96, 'Lng': 45.39, 'Max Temp': 54.59, 'Humidity': 31, 'Cloudiness': 0, 'Wind Speed': 1.99, 'Country': 'IR', 'Date': '2019-11-08 07:00:47'}, {'City': 'Ayabaca', 'Lat': -4.64, 'Lng': -79.72, 'Max Temp': 57.34, 'Humidity': 85, 'Cloudiness': 30, 'Wind Speed': 2.73, 'Country': 'PE', 'Date': '2019-11-08 07:00:47'}, {'City': 'Catuday', 'Lat': 16.29, 'Lng': 119.81, 'Max Temp': 83.68, 'Humidity': 74, 'Cloudiness': 33, 'Wind Speed': 8.48, 'Country': 'PH', 'Date': '2019-11-08 07:00:48'}, {'City': 'Jiaonan', 'Lat': 35.88, 'Lng': 119.98, 'Max Temp': 57.2, 'Humidity': 26, 'Cloudiness': 0, 'Wind Speed': 6.71, 'Country': 'CN', 'Date': '2019-11-08 07:00:48'}, {'City': 'Bandarbeyla', 'Lat': 9.49, 'Lng': 50.81, 'Max Temp': 81.12, 'Humidity': 64, 'Cloudiness': 0, 'Wind Speed': 5.3, 'Country': 'SO', 'Date': '2019-11-08 07:00:49'}, {'City': 'Toora-Khem', 'Lat': 52.47, 'Lng': 96.11, 'Max Temp': 35.71, 'Humidity': 66, 'Cloudiness': 59, 'Wind Speed': 1.41, 'Country': 'RU', 'Date': '2019-11-08 07:00:49'}, {'City': 'College', 'Lat': 64.86, 'Lng': -147.8, 'Max Temp': 24.8, 'Humidity': 79, 'Cloudiness': 75, 'Wind Speed': 4.7, 'Country': 'US', 'Date': '2019-11-08 07:00:49'}, {'City': 'Klyuchi', 'Lat': 52.25, 'Lng': 79.17, 'Max Temp': 42.3, 'Humidity': 37, 'Cloudiness': 100, 'Wind Speed': 19.91, 'Country': 'RU', 'Date': '2019-11-08 07:00:49'}, {'City': 'Noumea', 'Lat': -22.28, 'Lng': 166.46, 'Max Temp': 77, 'Humidity': 53, 'Cloudiness': 20, 'Wind Speed': 9.17, 'Country': 'NC', 'Date': '2019-11-08 06:57:02'}, {'City': 'Furtwangen', 'Lat': 48.05, 'Lng': 8.22, 'Max Temp': 41, 'Humidity': 100, 'Cloudiness': 100, 'Wind Speed': 2.24, 'Country': 'DE', 'Date': '2019-11-08 07:00:50'}, {'City': 'Punta De Bombon', 'Lat': -17.17, 'Lng': -71.79, 'Max Temp': 58.86, 'Humidity': 90, 'Cloudiness': 97, 'Wind Speed': 4.72, 'Country': 'PE', 'Date': '2019-11-08 07:00:50'}, {'City': 'Tessalit', 'Lat': 20.2, 'Lng': 1.01, 'Max Temp': 72.55, 'Humidity': 21, 'Cloudiness': 0, 'Wind Speed': 5.77, 'Country': 'ML', 'Date': '2019-11-08 07:00:50'}, {'City': 'Aykhal', 'Lat': 65.95, 'Lng': 111.51, 'Max Temp': -11.21, 'Humidity': 83, 'Cloudiness': 75, 'Wind Speed': 6.71, 'Country': 'RU', 'Date': '2019-11-08 07:00:50'}, {'City': 'Conde', 'Lat': -11.81, 'Lng': -37.61, 'Max Temp': 78.42, 'Humidity': 74, 'Cloudiness': 34, 'Wind Speed': 17.38, 'Country': 'BR', 'Date': '2019-11-08 07:00:51'}, {'City': 'Cohoes', 'Lat': 42.77, 'Lng': -73.7, 'Max Temp': 28.4, 'Humidity': 68, 'Cloudiness': 20, 'Wind Speed': 8.05, 'Country': 'US', 'Date': '2019-11-08 07:00:51'}, {'City': 'Sambava', 'Lat': -14.27, 'Lng': 50.17, 'Max Temp': 76.59, 'Humidity': 86, 'Cloudiness': 99, 'Wind Speed': 3.78, 'Country': 'MG', 'Date': '2019-11-08 07:00:51'}, {'City': 'Sabha', 'Lat': 27.03, 'Lng': 14.43, 'Max Temp': 63.79, 'Humidity': 42, 'Cloudiness': 0, 'Wind Speed': 7.99, 'Country': 'LY', 'Date': '2019-11-08 07:00:51'}, {'City': 'Dalvik', 'Lat': 57.79, 'Lng': 14.13, 'Max Temp': 35.6, 'Humidity': 93, 'Cloudiness': 100, 'Wind Speed': 8.05, 'Country': 'SE', 'Date': '2019-11-08 07:00:52'}, {'City': 'Berlevag', 'Lat': 70.86, 'Lng': 29.09, 'Max Temp': 23, 'Humidity': 92, 'Cloudiness': 40, 'Wind Speed': 12.75, 'Country': 'NO', 'Date': '2019-11-08 07:00:52'}, {'City': 'Micheweni', 'Lat': -4.97, 'Lng': 39.83, 'Max Temp': 79.83, 'Humidity': 78, 'Cloudiness': 98, 'Wind Speed': 4.36, 'Country': 'TZ', 'Date': '2019-11-08 07:00:52'}, {'City': 'Hongjiang', 'Lat': 27.21, 'Lng': 109.83, 'Max Temp': 69.91, 'Humidity': 41, 'Cloudiness': 48, 'Wind Speed': 3.27, 'Country': 'CN', 'Date': '2019-11-08 07:00:52'}, {'City': 'Luba', 'Lat': 17.32, 'Lng': 120.7, 'Max Temp': 86.29, 'Humidity': 69, 'Cloudiness': 5, 'Wind Speed': 4.47, 'Country': 'PH', 'Date': '2019-11-08 07:00:53'}, {'City': 'Sudbury', 'Lat': 46.49, 'Lng': -80.99, 'Max Temp': 19.4, 'Humidity': 79, 'Cloudiness': 90, 'Wind Speed': 10.29, 'Country': 'CA', 'Date': '2019-11-08 06:59:19'}, {'City': 'Gilgit', 'Lat': 35.92, 'Lng': 74.31, 'Max Temp': 26.76, 'Humidity': 92, 'Cloudiness': 100, 'Wind Speed': 5.28, 'Country': 'PK', 'Date': '2019-11-08 07:00:09'}, {'City': 'Arroyo', 'Lat': -11.08, 'Lng': -66.08, 'Max Temp': 73.65, 'Humidity': 96, 'Cloudiness': 100, 'Wind Speed': 2.1, 'Country': 'BO', 'Date': '2019-11-08 07:00:53'}, {'City': 'Arman', 'Lat': 59.7, 'Lng': 150.17, 'Max Temp': 36.63, 'Humidity': 75, 'Cloudiness': 100, 'Wind Speed': 28.74, 'Country': 'RU', 'Date': '2019-11-08 07:00:53'}, {'City': 'Quatre Cocos', 'Lat': -20.21, 'Lng': 57.76, 'Max Temp': 78.8, 'Humidity': 69, 'Cloudiness': 75, 'Wind Speed': 14.99, 'Country': 'MU', 'Date': '2019-11-08 07:00:54'}, {'City': 'Ucar', 'Lat': 40.51, 'Lng': 47.65, 'Max Temp': 55.4, 'Humidity': 61, 'Cloudiness': 0, 'Wind Speed': 2.24, 'Country': 'AZ', 'Date': '2019-11-08 07:00:54'}, {'City': 'Chamba', 'Lat': 32.56, 'Lng': 76.12, 'Max Temp': 61.63, 'Humidity': 53, 'Cloudiness': 72, 'Wind Speed': 7.27, 'Country': 'IN', 'Date': '2019-11-08 07:00:54'}, {'City': 'Buala', 'Lat': -8.15, 'Lng': 159.59, 'Max Temp': 83.82, 'Humidity': 67, 'Cloudiness': 97, 'Wind Speed': 1.77, 'Country': 'SB', 'Date': '2019-11-08 07:00:54'}, {'City': 'Ratnagiri', 'Lat': 16.98, 'Lng': 73.3, 'Max Temp': 86.81, 'Humidity': 61, 'Cloudiness': 25, 'Wind Speed': 2.17, 'Country': 'IN', 'Date': '2019-11-08 07:00:54'}, {'City': 'Yaan', 'Lat': 7.38, 'Lng': 8.57, 'Max Temp': 75.33, 'Humidity': 92, 'Cloudiness': 100, 'Wind Speed': 3.83, 'Country': 'NG', 'Date': '2019-11-08 07:00:55'}, {'City': 'Bereda', 'Lat': 43.27, 'Lng': -7.54, 'Max Temp': 51.8, 'Humidity': 76, 'Cloudiness': 40, 'Wind Speed': 17.22, 'Country': 'ES', 'Date': '2019-11-08 07:00:55'}, {'City': 'Adrar', 'Lat': 27.87, 'Lng': -0.29, 'Max Temp': 51.8, 'Humidity': 37, 'Cloudiness': 0, 'Wind Speed': 11.41, 'Country': 'DZ', 'Date': '2019-11-08 07:00:55'}, {'City': 'Hofn', 'Lat': 64.25, 'Lng': -15.21, 'Max Temp': 39.56, 'Humidity': 72, 'Cloudiness': 99, 'Wind Speed': 8.43, 'Country': 'IS', 'Date': '2019-11-08 07:00:55'}, {'City': 'Trinidad', 'Lat': -14.83, 'Lng': -64.9, 'Max Temp': 72.25, 'Humidity': 98, 'Cloudiness': 100, 'Wind Speed': 1.16, 'Country': 'BO', 'Date': '2019-11-08 07:00:56'}, {'City': 'Kyaukse', 'Lat': 21.6, 'Lng': 96.13, 'Max Temp': 82.4, 'Humidity': 78, 'Cloudiness': 75, 'Wind Speed': 4.7, 'Country': 'MM', 'Date': '2019-11-08 07:00:56'}, {'City': 'Juneau', 'Lat': 58.3, 'Lng': -134.42, 'Max Temp': 41, 'Humidity': 100, 'Cloudiness': 90, 'Wind Speed': 0.4, 'Country': 'US', 'Date': '2019-11-08 07:00:57'}, {'City': 'General Roca', 'Lat': -39.03, 'Lng': -67.58, 'Max Temp': 51.8, 'Humidity': 53, 'Cloudiness': 48, 'Wind Speed': 12.06, 'Country': 'AR', 'Date': '2019-11-08 07:00:57'}, {'City': 'Talen', 'Lat': 23.57, 'Lng': 76.72, 'Max Temp': 78.93, 'Humidity': 62, 'Cloudiness': 28, 'Wind Speed': 4.34, 'Country': 'IN', 'Date': '2019-11-08 07:00:57'}, {'City': 'Shingu', 'Lat': 33.72, 'Lng': 135.99, 'Max Temp': 66.2, 'Humidity': 42, 'Cloudiness': 20, 'Wind Speed': 13.87, 'Country': 'JP', 'Date': '2019-11-08 07:00:57'}, {'City': 'Mutata', 'Lat': 7.24, 'Lng': -76.44, 'Max Temp': 71.85, 'Humidity': 98, 'Cloudiness': 100, 'Wind Speed': 0.65, 'Country': 'CO', 'Date': '2019-11-08 07:00:57'}, {'City': 'Bonavista', 'Lat': 48.65, 'Lng': -53.11, 'Max Temp': 39.88, 'Humidity': 72, 'Cloudiness': 70, 'Wind Speed': 17.72, 'Country': 'CA', 'Date': '2019-11-08 07:00:58'}, {'City': 'Ikare', 'Lat': 7.49, 'Lng': 5.23, 'Max Temp': 71.64, 'Humidity': 98, 'Cloudiness': 89, 'Wind Speed': 1.34, 'Country': 'NG', 'Date': '2019-11-08 07:00:58'}, {'City': 'Ilulissat', 'Lat': 69.22, 'Lng': -51.1, 'Max Temp': 33.8, 'Humidity': 34, 'Cloudiness': 100, 'Wind Speed': 11.41, 'Country': 'GL', 'Date': '2019-11-08 07:00:58'}, {'City': 'Atar', 'Lat': 20.52, 'Lng': -13.05, 'Max Temp': 65.97, 'Humidity': 32, 'Cloudiness': 32, 'Wind Speed': 5.48, 'Country': 'MR', 'Date': '2019-11-08 07:00:59'}, {'City': 'Sistranda', 'Lat': 63.73, 'Lng': 8.83, 'Max Temp': 23, 'Humidity': 85, 'Cloudiness': 20, 'Wind Speed': 6.93, 'Country': 'NO', 'Date': '2019-11-08 07:00:59'}, {'City': 'Frutigen', 'Lat': 46.59, 'Lng': 7.64, 'Max Temp': 42.8, 'Humidity': 93, 'Cloudiness': 75, 'Wind Speed': 4.7, 'Country': 'CH', 'Date': '2019-11-08 07:00:59'}, {'City': 'Labuhan', 'Lat': -2.54, 'Lng': 115.51, 'Max Temp': 96.87, 'Humidity': 37, 'Cloudiness': 51, 'Wind Speed': 2.06, 'Country': 'ID', 'Date': '2019-11-08 07:00:59'}, {'City': 'Soyo', 'Lat': -6.13, 'Lng': 12.37, 'Max Temp': 77, 'Humidity': 94, 'Cloudiness': 75, 'Wind Speed': 5.82, 'Country': 'AO', 'Date': '2019-11-08 06:57:51'}, {'City': 'Hirara', 'Lat': 24.8, 'Lng': 125.28, 'Max Temp': 77, 'Humidity': 69, 'Cloudiness': 75, 'Wind Speed': 18.34, 'Country': 'JP', 'Date': '2019-11-08 07:01:00'}, {'City': 'Itacare', 'Lat': -14.28, 'Lng': -39, 'Max Temp': 75.2, 'Humidity': 94, 'Cloudiness': 40, 'Wind Speed': 2.24, 'Country': 'BR', 'Date': '2019-11-08 07:01:00'}, {'City': 'Kasangulu', 'Lat': -4.59, 'Lng': 15.17, 'Max Temp': 75.2, 'Humidity': 83, 'Cloudiness': 75, 'Wind Speed': 4.7, 'Country': 'CD', 'Date': '2019-11-08 07:01:00'}, {'City': 'Carberry', 'Lat': 49.87, 'Lng': -99.36, 'Max Temp': 15.8, 'Humidity': 78, 'Cloudiness': 75, 'Wind Speed': 5.82, 'Country': 'CA', 'Date': '2019-11-08 07:01:01'}, {'City': 'Havre', 'Lat': 48.55, 'Lng': -109.68, 'Max Temp': 10.4, 'Humidity': 85, 'Cloudiness': 1, 'Wind Speed': 8.05, 'Country': 'US', 'Date': '2019-11-08 07:01:01'}, {'City': 'Zavetnoye', 'Lat': 47.12, 'Lng': 43.89, 'Max Temp': 56.35, 'Humidity': 60, 'Cloudiness': 94, 'Wind Speed': 12.19, 'Country': 'RU', 'Date': '2019-11-08 07:01:01'}, {'City': 'Simao', 'Lat': 22.76, 'Lng': 100.79, 'Max Temp': 67.98, 'Humidity': 78, 'Cloudiness': 77, 'Wind Speed': 3.04, 'Country': 'CN', 'Date': '2019-11-08 07:01:01'}, {'City': 'Huayucachi', 'Lat': -12.13, 'Lng': -75.23, 'Max Temp': 42.53, 'Humidity': 85, 'Cloudiness': 100, 'Wind Speed': 1.77, 'Country': 'PE', 'Date': '2019-11-08 07:01:02'}, {'City': 'Opuwo', 'Lat': -18.06, 'Lng': 13.84, 'Max Temp': 76.32, 'Humidity': 24, 'Cloudiness': 100, 'Wind Speed': 6.22, 'Country': 'NA', 'Date': '2019-11-08 07:01:02'}, {'City': 'Kidal', 'Lat': 18.44, 'Lng': 1.41, 'Max Temp': 74.16, 'Humidity': 20, 'Cloudiness': 0, 'Wind Speed': 6.29, 'Country': 'ML', 'Date': '2019-11-08 07:01:02'}, {'City': 'Khilok', 'Lat': 51.36, 'Lng': 110.46, 'Max Temp': 36.79, 'Humidity': 52, 'Cloudiness': 40, 'Wind Speed': 3.78, 'Country': 'RU', 'Date': '2019-11-08 07:01:03'}, {'City': 'Mushie', 'Lat': -3.02, 'Lng': 16.92, 'Max Temp': 74.28, 'Humidity': 92, 'Cloudiness': 31, 'Wind Speed': 2.13, 'Country': 'CD', 'Date': '2019-11-08 07:01:03'}, {'City': 'Yatou', 'Lat': 3.63, 'Lng': 9.81, 'Max Temp': 77, 'Humidity': 94, 'Cloudiness': 40, 'Wind Speed': 3.36, 'Country': 'CM', 'Date': '2019-11-08 07:01:03'}, {'City': 'Kutum', 'Lat': 14.2, 'Lng': 24.66, 'Max Temp': 70.75, 'Humidity': 18, 'Cloudiness': 0, 'Wind Speed': 7, 'Country': 'SD', 'Date': '2019-11-08 07:01:03'}, {'City': 'Cullman', 'Lat': 34.17, 'Lng': -86.84, 'Max Temp': 48.2, 'Humidity': 86, 'Cloudiness': 90, 'Wind Speed': 14.99, 'Country': 'US', 'Date': '2019-11-08 06:57:23'}, {'City': 'Cedar City', 'Lat': 37.68, 'Lng': -113.06, 'Max Temp': 37.4, 'Humidity': 37, 'Cloudiness': 1, 'Wind Speed': 4.7, 'Country': 'US', 'Date': '2019-11-08 07:01:04'}, {'City': 'Hami', 'Lat': 42.84, 'Lng': 93.51, 'Max Temp': 49.82, 'Humidity': 33, 'Cloudiness': 67, 'Wind Speed': 8.03, 'Country': 'CN', 'Date': '2019-11-08 07:01:04'}, {'City': 'Prince George', 'Lat': 53.92, 'Lng': -122.75, 'Max Temp': 39.2, 'Humidity': 80, 'Cloudiness': 90, 'Wind Speed': 18.34, 'Country': 'CA', 'Date': '2019-11-08 07:00:35'}, {'City': 'Severnoye', 'Lat': 54.09, 'Lng': 52.54, 'Max Temp': 37.06, 'Humidity': 79, 'Cloudiness': 97, 'Wind Speed': 4.23, 'Country': 'RU', 'Date': '2019-11-08 07:01:05'}, {'City': 'Kaniama', 'Lat': -7.57, 'Lng': 24.18, 'Max Temp': 71.67, 'Humidity': 91, 'Cloudiness': 100, 'Wind Speed': 2.39, 'Country': 'CD', 'Date': '2019-11-08 07:01:05'}, {'City': 'Myitkyina', 'Lat': 25.38, 'Lng': 97.4, 'Max Temp': 88.11, 'Humidity': 37, 'Cloudiness': 46, 'Wind Speed': 2.08, 'Country': 'MM', 'Date': '2019-11-08 07:01:05'}, {'City': 'Winneba', 'Lat': 5.35, 'Lng': -0.62, 'Max Temp': 78.8, 'Humidity': 94, 'Cloudiness': 12, 'Wind Speed': 3.36, 'Country': 'GH', 'Date': '2019-11-08 07:01:06'}, {'City': 'Leshukonskoye', 'Lat': 64.9, 'Lng': 45.76, 'Max Temp': 14.13, 'Humidity': 95, 'Cloudiness': 83, 'Wind Speed': 4.27, 'Country': 'RU', 'Date': '2019-11-08 07:01:06'}, {'City': 'Boundiali', 'Lat': 9.53, 'Lng': -6.48, 'Max Temp': 71.89, 'Humidity': 87, 'Cloudiness': 0, 'Wind Speed': 3, 'Country': 'CI', 'Date': '2019-11-08 07:01:06'}, {'City': 'Buzmeyin', 'Lat': 38.05, 'Lng': 58.21, 'Max Temp': 57.2, 'Humidity': 28, 'Cloudiness': 20, 'Wind Speed': 4.7, 'Country': 'TM', 'Date': '2019-11-08 07:01:06'}, {'City': 'Dunedin', 'Lat': -45.87, 'Lng': 170.5, 'Max Temp': 62.91, 'Humidity': 44, 'Cloudiness': 100, 'Wind Speed': 17.27, 'Country': 'NZ', 'Date': '2019-11-08 07:01:07'}, {'City': 'Zyryanka', 'Lat': 65.73, 'Lng': 150.89, 'Max Temp': -1.74, 'Humidity': 95, 'Cloudiness': 13, 'Wind Speed': 4.38, 'Country': 'RU', 'Date': '2019-11-08 07:01:07'}, {'City': 'Dobric', 'Lat': 47.25, 'Lng': 24.13, 'Max Temp': 48.2, 'Humidity': 100, 'Cloudiness': 90, 'Wind Speed': 3.36, 'Country': 'RO', 'Date': '2019-11-08 07:01:07'}, {'City': 'Sao Miguel Do Araguaia', 'Lat': -13.28, 'Lng': -50.16, 'Max Temp': 78.37, 'Humidity': 70, 'Cloudiness': 88, 'Wind Speed': 2.8, 'Country': 'BR', 'Date': '2019-11-08 07:01:07'}, {'City': 'Puerto Madero', 'Lat': -34.61, 'Lng': -58.36, 'Max Temp': 60.8, 'Humidity': 67, 'Cloudiness': 0, 'Wind Speed': 11.41, 'Country': 'AR', 'Date': '2019-11-08 07:01:07'}, {'City': 'Raudeberg', 'Lat': 61.99, 'Lng': 5.14, 'Max Temp': 28.4, 'Humidity': 68, 'Cloudiness': 16, 'Wind Speed': 6.93, 'Country': 'NO', 'Date': '2019-11-08 07:01:08'}, {'City': 'Aswan', 'Lat': 24.09, 'Lng': 32.9, 'Max Temp': 71.6, 'Humidity': 40, 'Cloudiness': 2, 'Wind Speed': 6.93, 'Country': 'EG', 'Date': '2019-11-08 07:01:08'}, {'City': 'Mahon', 'Lat': 51.89, 'Lng': -8.4, 'Max Temp': 37.4, 'Humidity': 100, 'Cloudiness': 20, 'Wind Speed': 10.29, 'Country': 'IE', 'Date': '2019-11-08 07:01:08'}, {'City': 'Ust-Nera', 'Lat': 64.57, 'Lng': 143.24, 'Max Temp': 1.49, 'Humidity': 95, 'Cloudiness': 99, 'Wind Speed': 3.91, 'Country': 'RU', 'Date': '2019-11-08 07:01:08'}, {'City': 'Vestmanna', 'Lat': 62.16, 'Lng': -7.17, 'Max Temp': 32, 'Humidity': 69, 'Cloudiness': 0, 'Wind Speed': 9.17, 'Country': 'FO', 'Date': '2019-11-08 07:01:09'}, {'City': 'Acapulco', 'Lat': 16.86, 'Lng': -99.88, 'Max Temp': 80.6, 'Humidity': 83, 'Cloudiness': 40, 'Wind Speed': 6.93, 'Country': 'MX', 'Date': '2019-11-08 06:58:18'}, {'City': 'Macia', 'Lat': -25.03, 'Lng': 33.09, 'Max Temp': 78.93, 'Humidity': 66, 'Cloudiness': 95, 'Wind Speed': 12.93, 'Country': 'MZ', 'Date': '2019-11-08 07:01:09'}, {'City': 'Kununurra', 'Lat': -15.77, 'Lng': 128.74, 'Max Temp': 105.8, 'Humidity': 11, 'Cloudiness': 46, 'Wind Speed': 3.36, 'Country': 'AU', 'Date': '2019-11-08 07:01:09'}, {'City': 'Sawtell', 'Lat': -30.38, 'Lng': 153.1, 'Max Temp': 93.2, 'Humidity': 22, 'Cloudiness': 40, 'Wind Speed': 11.41, 'Country': 'AU', 'Date': '2019-11-08 07:01:10'}, {'City': 'Creil', 'Lat': 49.26, 'Lng': 2.47, 'Max Temp': 41, 'Humidity': 86, 'Cloudiness': 75, 'Wind Speed': 6.93, 'Country': 'FR', 'Date': '2019-11-08 07:01:10'}, {'City': 'Ruteng', 'Lat': -8.61, 'Lng': 120.46, 'Max Temp': 82.54, 'Humidity': 60, 'Cloudiness': 25, 'Wind Speed': 2.84, 'Country': 'ID', 'Date': '2019-11-08 07:01:10'}, {'City': 'Eyl', 'Lat': 7.98, 'Lng': 49.82, 'Max Temp': 80.58, 'Humidity': 75, 'Cloudiness': 46, 'Wind Speed': 8.14, 'Country': 'SO', 'Date': '2019-11-08 07:01:10'}, {'City': 'Ust-Maya', 'Lat': 60.42, 'Lng': 134.54, 'Max Temp': -6.22, 'Humidity': 88, 'Cloudiness': 100, 'Wind Speed': 5.44, 'Country': 'RU', 'Date': '2019-11-08 07:01:10'}, {'City': 'Lobito', 'Lat': -12.35, 'Lng': 13.55, 'Max Temp': 78.8, 'Humidity': 88, 'Cloudiness': 75, 'Wind Speed': 2.39, 'Country': 'AO', 'Date': '2019-11-08 07:01:11'}, {'City': 'Oranjestad', 'Lat': 12.52, 'Lng': -70.03, 'Max Temp': 82.56, 'Humidity': 80, 'Cloudiness': 69, 'Wind Speed': 25.7, 'Country': 'AW', 'Date': '2019-11-08 06:58:30'}, {'City': 'Puerto Escondido', 'Lat': 15.86, 'Lng': -97.07, 'Max Temp': 70.54, 'Humidity': 66, 'Cloudiness': 1, 'Wind Speed': 4.94, 'Country': 'MX', 'Date': '2019-11-08 07:01:11'}, {'City': 'Bell Ville', 'Lat': -32.63, 'Lng': -62.69, 'Max Temp': 64.6, 'Humidity': 57, 'Cloudiness': 0, 'Wind Speed': 3.74, 'Country': 'AR', 'Date': '2019-11-08 07:01:12'}, {'City': 'Laela', 'Lat': -8.57, 'Lng': 32.05, 'Max Temp': 70.79, 'Humidity': 62, 'Cloudiness': 47, 'Wind Speed': 10.25, 'Country': 'TZ', 'Date': '2019-11-08 07:01:12'}, {'City': 'Waddan', 'Lat': 29.16, 'Lng': 16.14, 'Max Temp': 60.75, 'Humidity': 72, 'Cloudiness': 0, 'Wind Speed': 4.97, 'Country': 'LY', 'Date': '2019-11-08 07:01:12'}, {'City': 'Kumluca', 'Lat': 36.37, 'Lng': 30.29, 'Max Temp': 67.06, 'Humidity': 36, 'Cloudiness': 0, 'Wind Speed': 4.27, 'Country': 'TR', 'Date': '2019-11-08 07:01:12'}, {'City': 'Havelock', 'Lat': 34.88, 'Lng': -76.9, 'Max Temp': 64.4, 'Humidity': 88, 'Cloudiness': 90, 'Wind Speed': 13.87, 'Country': 'US', 'Date': '2019-11-08 07:01:13'}, {'City': 'Tazmalt', 'Lat': 36.39, 'Lng': 4.4, 'Max Temp': 57.2, 'Humidity': 82, 'Cloudiness': 75, 'Wind Speed': 6.93, 'Country': 'DZ', 'Date': '2019-11-08 07:01:13'}, {'City': 'Aras', 'Lat': 42.56, 'Lng': -2.36, 'Max Temp': 42.8, 'Humidity': 75, 'Cloudiness': 20, 'Wind Speed': 17.22, 'Country': 'ES', 'Date': '2019-11-08 07:01:13'}, {'City': 'Samarinda', 'Lat': -0.5, 'Lng': 117.14, 'Max Temp': 90.95, 'Humidity': 52, 'Cloudiness': 74, 'Wind Speed': 5.14, 'Country': 'ID', 'Date': '2019-11-08 07:01:13'}, {'City': 'Dhari', 'Lat': 21.33, 'Lng': 71.03, 'Max Temp': 86.31, 'Humidity': 49, 'Cloudiness': 0, 'Wind Speed': 13.71, 'Country': 'IN', 'Date': '2019-11-08 07:01:14'}, {'City': 'Novyy Urengoy', 'Lat': 66.08, 'Lng': 76.63, 'Max Temp': -1.29, 'Humidity': 95, 'Cloudiness': 87, 'Wind Speed': 14.34, 'Country': 'RU', 'Date': '2019-11-08 07:01:14'}, {'City': 'Koundara', 'Lat': 12.49, 'Lng': -13.3, 'Max Temp': 74.68, 'Humidity': 90, 'Cloudiness': 0, 'Wind Speed': 3.74, 'Country': 'GN', 'Date': '2019-11-08 07:01:14'}, {'City': 'Yar-Sale', 'Lat': 66.83, 'Lng': 70.83, 'Max Temp': -7.59, 'Humidity': 93, 'Cloudiness': 8, 'Wind Speed': 13.87, 'Country': 'RU', 'Date': '2019-11-08 07:01:14'}, {'City': 'Joshimath', 'Lat': 30.57, 'Lng': 79.57, 'Max Temp': 55.54, 'Humidity': 34, 'Cloudiness': 9, 'Wind Speed': 6.6, 'Country': 'IN', 'Date': '2019-11-08 07:01:15'}, {'City': 'Kushikino', 'Lat': 31.72, 'Lng': 130.27, 'Max Temp': 69.8, 'Humidity': 42, 'Cloudiness': 20, 'Wind Speed': 5.82, 'Country': 'JP', 'Date': '2019-11-08 07:01:15'}, {'City': 'Dayong', 'Lat': 25.02, 'Lng': 118.29, 'Max Temp': 80.6, 'Humidity': 36, 'Cloudiness': 0, 'Wind Speed': 11.18, 'Country': 'CN', 'Date': '2019-11-08 07:01:15'}, {'City': 'Senanga', 'Lat': -16.1, 'Lng': 23.3, 'Max Temp': 79.57, 'Humidity': 47, 'Cloudiness': 49, 'Wind Speed': 6.04, 'Country': 'ZM', 'Date': '2019-11-08 07:01:16'}, {'City': 'Southampton', 'Lat': 50.9, 'Lng': -1.4, 'Max Temp': 32, 'Humidity': 91, 'Cloudiness': 20, 'Wind Speed': 4.61, 'Country': 'GB', 'Date': '2019-11-08 07:01:16'}, {'City': 'Altamont', 'Lat': 49.4, 'Lng': -98.5, 'Max Temp': 17.6, 'Humidity': 72, 'Cloudiness': 90, 'Wind Speed': 10.29, 'Country': 'CA', 'Date': '2019-11-08 07:01:16'}, {'City': 'Imbituba', 'Lat': -28.24, 'Lng': -48.67, 'Max Temp': 66.2, 'Humidity': 100, 'Cloudiness': 75, 'Wind Speed': 4.7, 'Country': 'BR', 'Date': '2019-11-08 07:01:16'}, {'City': 'Yerofey Pavlovich', 'Lat': 53.97, 'Lng': 121.97, 'Max Temp': 16.68, 'Humidity': 60, 'Cloudiness': 0, 'Wind Speed': 2.62, 'Country': 'RU', 'Date': '2019-11-08 07:01:16'}, {'City': 'Russkaya Polyana', 'Lat': 53.78, 'Lng': 73.88, 'Max Temp': 38.41, 'Humidity': 86, 'Cloudiness': 100, 'Wind Speed': 19.64, 'Country': 'RU', 'Date': '2019-11-08 07:01:17'}, {'City': 'Sola', 'Lat': -3.17, 'Lng': 33.8, 'Max Temp': 75.67, 'Humidity': 57, 'Cloudiness': 74, 'Wind Speed': 7.81, 'Country': 'TZ', 'Date': '2019-11-08 07:01:17'}, {'City': 'Dhidhdhoo', 'Lat': 6.88, 'Lng': 73.1, 'Max Temp': 82.62, 'Humidity': 74, 'Cloudiness': 19, 'Wind Speed': 7.85, 'Country': 'MV', 'Date': '2019-11-08 07:01:17'}, {'City': 'Vredendal', 'Lat': -31.68, 'Lng': 18.49, 'Max Temp': 62.82, 'Humidity': 55, 'Cloudiness': 63, 'Wind Speed': 6.11, 'Country': 'ZA', 'Date': '2019-11-08 07:01:17'}, {'City': 'Kushima', 'Lat': 31.5, 'Lng': 131.29, 'Max Temp': 69.8, 'Humidity': 46, 'Cloudiness': 20, 'Wind Speed': 6.93, 'Country': 'JP', 'Date': '2019-11-08 07:01:18'}, {'City': 'Eirunepe', 'Lat': -6.66, 'Lng': -69.87, 'Max Temp': 71.51, 'Humidity': 98, 'Cloudiness': 93, 'Wind Speed': 1.86, 'Country': 'BR', 'Date': '2019-11-08 07:01:18'}, {'City': 'Tocopilla', 'Lat': -22.09, 'Lng': -70.2, 'Max Temp': 50.67, 'Humidity': 39, 'Cloudiness': 0, 'Wind Speed': 2.8, 'Country': 'CL', 'Date': '2019-11-08 07:01:19'}, {'City': 'Verkhoyansk', 'Lat': 67.55, 'Lng': 133.39, 'Max Temp': -5.82, 'Humidity': 98, 'Cloudiness': 97, 'Wind Speed': 2.33, 'Country': 'RU', 'Date': '2019-11-08 07:01:19'}]\n"
     ]
    }
   ],
   "source": [
    "city_data = []\n",
    "# Loop through all the cities in the list.\n",
    "for i, city in enumerate(cities):\n",
    "\n",
    "    # Group cities in sets of 50 for logging purposes.\n",
    "    if (i % 50 == 0 and i >= 50):\n",
    "        set_count += 1\n",
    "        record_count = 1\n",
    "    # Create endpoint URL with each city.\n",
    "    city_url = url + \"&q=\" + city\n",
    "\n",
    "    \n",
    "    # Run API request for each of the cities.\n",
    "    try:\n",
    "        # Parse the JSON and retrieve data.\n",
    "        city_weather = requests.get(city_url).json()\n",
    "        # Parse out the needed data.\n",
    "        city_lat = city_weather[\"coord\"][\"lat\"]\n",
    "        city_lng = city_weather[\"coord\"][\"lon\"]\n",
    "        city_max_temp = city_weather[\"main\"][\"temp_max\"]\n",
    "        city_humidity = city_weather[\"main\"][\"humidity\"]\n",
    "        city_clouds = city_weather[\"clouds\"][\"all\"]\n",
    "        city_wind = city_weather[\"wind\"][\"speed\"]\n",
    "        city_country = city_weather[\"sys\"][\"country\"]\n",
    "        # Convert the date to ISO standard.\n",
    "        city_date = datetime.utcfromtimestamp(city_weather[\"dt\"]).strftime('%Y-%m-%d %H:%M:%S')\n",
    "        # Append the city information into city_data list.\n",
    "        city_data.append({\"City\": city.title(),\n",
    "                          \"Lat\": city_lat,\n",
    "                          \"Lng\": city_lng,\n",
    "                          \"Max Temp\": city_max_temp,\n",
    "                          \"Humidity\": city_humidity,\n",
    "                          \"Cloudiness\": city_clouds,\n",
    "                          \"Wind Speed\": city_wind,\n",
    "                          \"Country\": city_country,\n",
    "                          \"Date\": city_date})\n",
    "\n",
    "        print('City found , max temp was ', city_max_temp)\n",
    "# If an error is experienced, skip the city.\n",
    "    except:\n",
    "        print(\"City not found. Skipping...\")\n",
    "        pass\n",
    "\n",
    "# Indicate that Data Loading is complete.\n",
    "print(\"-----------------------------\")\n",
    "print(\"Data Retrieval Complete      \")\n",
    "print(\"-----------------------------\")\n",
    "print(city_data)"
   ]
  },
  {
   "cell_type": "code",
   "execution_count": 248,
   "metadata": {},
   "outputs": [
    {
     "data": {
      "text/plain": [
       "597"
      ]
     },
     "execution_count": 248,
     "metadata": {},
     "output_type": "execute_result"
    }
   ],
   "source": [
    "len(cities)"
   ]
  },
  {
   "cell_type": "code",
   "execution_count": 249,
   "metadata": {},
   "outputs": [
    {
     "data": {
      "text/plain": [
       "534"
      ]
     },
     "execution_count": 249,
     "metadata": {},
     "output_type": "execute_result"
    }
   ],
   "source": [
    "len(city_data)"
   ]
  },
  {
   "cell_type": "code",
   "execution_count": 250,
   "metadata": {},
   "outputs": [
    {
     "data": {
      "text/html": [
       "<div>\n",
       "<style scoped>\n",
       "    .dataframe tbody tr th:only-of-type {\n",
       "        vertical-align: middle;\n",
       "    }\n",
       "\n",
       "    .dataframe tbody tr th {\n",
       "        vertical-align: top;\n",
       "    }\n",
       "\n",
       "    .dataframe thead th {\n",
       "        text-align: right;\n",
       "    }\n",
       "</style>\n",
       "<table border=\"1\" class=\"dataframe\">\n",
       "  <thead>\n",
       "    <tr style=\"text-align: right;\">\n",
       "      <th></th>\n",
       "      <th>City</th>\n",
       "      <th>Lat</th>\n",
       "      <th>Lng</th>\n",
       "      <th>Max Temp</th>\n",
       "      <th>Humidity</th>\n",
       "      <th>Cloudiness</th>\n",
       "      <th>Wind Speed</th>\n",
       "      <th>Country</th>\n",
       "      <th>Date</th>\n",
       "    </tr>\n",
       "  </thead>\n",
       "  <tbody>\n",
       "    <tr>\n",
       "      <th>0</th>\n",
       "      <td>Henties Bay</td>\n",
       "      <td>-22.12</td>\n",
       "      <td>14.28</td>\n",
       "      <td>59.61</td>\n",
       "      <td>75</td>\n",
       "      <td>26</td>\n",
       "      <td>3.89</td>\n",
       "      <td>NA</td>\n",
       "      <td>2019-11-08 06:58:49</td>\n",
       "    </tr>\n",
       "    <tr>\n",
       "      <th>1</th>\n",
       "      <td>Bethel</td>\n",
       "      <td>60.79</td>\n",
       "      <td>-161.76</td>\n",
       "      <td>30.20</td>\n",
       "      <td>100</td>\n",
       "      <td>90</td>\n",
       "      <td>9.17</td>\n",
       "      <td>US</td>\n",
       "      <td>2019-11-08 06:58:49</td>\n",
       "    </tr>\n",
       "    <tr>\n",
       "      <th>2</th>\n",
       "      <td>Saint-Francois</td>\n",
       "      <td>46.42</td>\n",
       "      <td>3.91</td>\n",
       "      <td>33.80</td>\n",
       "      <td>100</td>\n",
       "      <td>45</td>\n",
       "      <td>4.41</td>\n",
       "      <td>FR</td>\n",
       "      <td>2019-11-08 06:58:49</td>\n",
       "    </tr>\n",
       "    <tr>\n",
       "      <th>3</th>\n",
       "      <td>Ushuaia</td>\n",
       "      <td>-54.81</td>\n",
       "      <td>-68.31</td>\n",
       "      <td>35.60</td>\n",
       "      <td>98</td>\n",
       "      <td>40</td>\n",
       "      <td>21.92</td>\n",
       "      <td>AR</td>\n",
       "      <td>2019-11-08 06:58:50</td>\n",
       "    </tr>\n",
       "    <tr>\n",
       "      <th>4</th>\n",
       "      <td>Mar Del Plata</td>\n",
       "      <td>-46.43</td>\n",
       "      <td>-67.52</td>\n",
       "      <td>49.32</td>\n",
       "      <td>36</td>\n",
       "      <td>0</td>\n",
       "      <td>18.23</td>\n",
       "      <td>AR</td>\n",
       "      <td>2019-11-08 06:58:50</td>\n",
       "    </tr>\n",
       "    <tr>\n",
       "      <th>5</th>\n",
       "      <td>Kruisfontein</td>\n",
       "      <td>-34.00</td>\n",
       "      <td>24.73</td>\n",
       "      <td>60.78</td>\n",
       "      <td>70</td>\n",
       "      <td>73</td>\n",
       "      <td>10.60</td>\n",
       "      <td>ZA</td>\n",
       "      <td>2019-11-08 06:58:50</td>\n",
       "    </tr>\n",
       "    <tr>\n",
       "      <th>6</th>\n",
       "      <td>Bronnoysund</td>\n",
       "      <td>65.46</td>\n",
       "      <td>12.20</td>\n",
       "      <td>32.00</td>\n",
       "      <td>68</td>\n",
       "      <td>40</td>\n",
       "      <td>8.05</td>\n",
       "      <td>NO</td>\n",
       "      <td>2019-11-08 06:57:14</td>\n",
       "    </tr>\n",
       "    <tr>\n",
       "      <th>7</th>\n",
       "      <td>Yumen</td>\n",
       "      <td>40.29</td>\n",
       "      <td>97.04</td>\n",
       "      <td>51.55</td>\n",
       "      <td>27</td>\n",
       "      <td>78</td>\n",
       "      <td>19.98</td>\n",
       "      <td>CN</td>\n",
       "      <td>2019-11-08 06:58:51</td>\n",
       "    </tr>\n",
       "    <tr>\n",
       "      <th>8</th>\n",
       "      <td>Albany</td>\n",
       "      <td>42.65</td>\n",
       "      <td>-73.75</td>\n",
       "      <td>28.40</td>\n",
       "      <td>68</td>\n",
       "      <td>20</td>\n",
       "      <td>8.05</td>\n",
       "      <td>US</td>\n",
       "      <td>2019-11-08 06:58:51</td>\n",
       "    </tr>\n",
       "    <tr>\n",
       "      <th>9</th>\n",
       "      <td>Dikson</td>\n",
       "      <td>73.51</td>\n",
       "      <td>80.55</td>\n",
       "      <td>-6.27</td>\n",
       "      <td>97</td>\n",
       "      <td>74</td>\n",
       "      <td>10.42</td>\n",
       "      <td>RU</td>\n",
       "      <td>2019-11-08 06:58:51</td>\n",
       "    </tr>\n",
       "  </tbody>\n",
       "</table>\n",
       "</div>"
      ],
      "text/plain": [
       "             City    Lat     Lng  Max Temp  Humidity  Cloudiness  Wind Speed  \\\n",
       "0     Henties Bay -22.12   14.28     59.61        75          26        3.89   \n",
       "1          Bethel  60.79 -161.76     30.20       100          90        9.17   \n",
       "2  Saint-Francois  46.42    3.91     33.80       100          45        4.41   \n",
       "3         Ushuaia -54.81  -68.31     35.60        98          40       21.92   \n",
       "4   Mar Del Plata -46.43  -67.52     49.32        36           0       18.23   \n",
       "5    Kruisfontein -34.00   24.73     60.78        70          73       10.60   \n",
       "6     Bronnoysund  65.46   12.20     32.00        68          40        8.05   \n",
       "7           Yumen  40.29   97.04     51.55        27          78       19.98   \n",
       "8          Albany  42.65  -73.75     28.40        68          20        8.05   \n",
       "9          Dikson  73.51   80.55     -6.27        97          74       10.42   \n",
       "\n",
       "  Country                 Date  \n",
       "0      NA  2019-11-08 06:58:49  \n",
       "1      US  2019-11-08 06:58:49  \n",
       "2      FR  2019-11-08 06:58:49  \n",
       "3      AR  2019-11-08 06:58:50  \n",
       "4      AR  2019-11-08 06:58:50  \n",
       "5      ZA  2019-11-08 06:58:50  \n",
       "6      NO  2019-11-08 06:57:14  \n",
       "7      CN  2019-11-08 06:58:51  \n",
       "8      US  2019-11-08 06:58:51  \n",
       "9      RU  2019-11-08 06:58:51  "
      ]
     },
     "execution_count": 250,
     "metadata": {},
     "output_type": "execute_result"
    }
   ],
   "source": [
    "# Convert the array of dictionaries to a Pandas DataFrame.\n",
    "city_data_df= pd.DataFrame(city_data)\n",
    "city_data_df.head(10)"
   ]
  },
  {
   "cell_type": "code",
   "execution_count": 251,
   "metadata": {},
   "outputs": [],
   "source": [
    "# Create the output file (CSV).\n",
    "output_data_file = \"cities.csv\"\n",
    "# Export the City_Data into a CSV.\n",
    "city_data_df.to_csv(output_data_file, index_label=\"City_ID\")\n"
   ]
  },
  {
   "cell_type": "code",
   "execution_count": 252,
   "metadata": {},
   "outputs": [
    {
     "data": {
      "text/html": [
       "<div>\n",
       "<style scoped>\n",
       "    .dataframe tbody tr th:only-of-type {\n",
       "        vertical-align: middle;\n",
       "    }\n",
       "\n",
       "    .dataframe tbody tr th {\n",
       "        vertical-align: top;\n",
       "    }\n",
       "\n",
       "    .dataframe thead th {\n",
       "        text-align: right;\n",
       "    }\n",
       "</style>\n",
       "<table border=\"1\" class=\"dataframe\">\n",
       "  <thead>\n",
       "    <tr style=\"text-align: right;\">\n",
       "      <th></th>\n",
       "      <th>City</th>\n",
       "      <th>Lat</th>\n",
       "      <th>Lng</th>\n",
       "      <th>Max Temp</th>\n",
       "      <th>Humidity</th>\n",
       "      <th>Cloudiness</th>\n",
       "      <th>Wind Speed</th>\n",
       "      <th>Country</th>\n",
       "      <th>Date</th>\n",
       "    </tr>\n",
       "  </thead>\n",
       "  <tbody>\n",
       "    <tr>\n",
       "      <th>0</th>\n",
       "      <td>Henties Bay</td>\n",
       "      <td>-22.12</td>\n",
       "      <td>14.28</td>\n",
       "      <td>59.61</td>\n",
       "      <td>75</td>\n",
       "      <td>26</td>\n",
       "      <td>3.89</td>\n",
       "      <td>NA</td>\n",
       "      <td>2019-11-08 06:58:49</td>\n",
       "    </tr>\n",
       "    <tr>\n",
       "      <th>1</th>\n",
       "      <td>Bethel</td>\n",
       "      <td>60.79</td>\n",
       "      <td>-161.76</td>\n",
       "      <td>30.20</td>\n",
       "      <td>100</td>\n",
       "      <td>90</td>\n",
       "      <td>9.17</td>\n",
       "      <td>US</td>\n",
       "      <td>2019-11-08 06:58:49</td>\n",
       "    </tr>\n",
       "    <tr>\n",
       "      <th>2</th>\n",
       "      <td>Saint-Francois</td>\n",
       "      <td>46.42</td>\n",
       "      <td>3.91</td>\n",
       "      <td>33.80</td>\n",
       "      <td>100</td>\n",
       "      <td>45</td>\n",
       "      <td>4.41</td>\n",
       "      <td>FR</td>\n",
       "      <td>2019-11-08 06:58:49</td>\n",
       "    </tr>\n",
       "    <tr>\n",
       "      <th>3</th>\n",
       "      <td>Ushuaia</td>\n",
       "      <td>-54.81</td>\n",
       "      <td>-68.31</td>\n",
       "      <td>35.60</td>\n",
       "      <td>98</td>\n",
       "      <td>40</td>\n",
       "      <td>21.92</td>\n",
       "      <td>AR</td>\n",
       "      <td>2019-11-08 06:58:50</td>\n",
       "    </tr>\n",
       "    <tr>\n",
       "      <th>4</th>\n",
       "      <td>Mar Del Plata</td>\n",
       "      <td>-46.43</td>\n",
       "      <td>-67.52</td>\n",
       "      <td>49.32</td>\n",
       "      <td>36</td>\n",
       "      <td>0</td>\n",
       "      <td>18.23</td>\n",
       "      <td>AR</td>\n",
       "      <td>2019-11-08 06:58:50</td>\n",
       "    </tr>\n",
       "    <tr>\n",
       "      <th>...</th>\n",
       "      <td>...</td>\n",
       "      <td>...</td>\n",
       "      <td>...</td>\n",
       "      <td>...</td>\n",
       "      <td>...</td>\n",
       "      <td>...</td>\n",
       "      <td>...</td>\n",
       "      <td>...</td>\n",
       "      <td>...</td>\n",
       "    </tr>\n",
       "    <tr>\n",
       "      <th>529</th>\n",
       "      <td>Vredendal</td>\n",
       "      <td>-31.68</td>\n",
       "      <td>18.49</td>\n",
       "      <td>62.82</td>\n",
       "      <td>55</td>\n",
       "      <td>63</td>\n",
       "      <td>6.11</td>\n",
       "      <td>ZA</td>\n",
       "      <td>2019-11-08 07:01:17</td>\n",
       "    </tr>\n",
       "    <tr>\n",
       "      <th>530</th>\n",
       "      <td>Kushima</td>\n",
       "      <td>31.50</td>\n",
       "      <td>131.29</td>\n",
       "      <td>69.80</td>\n",
       "      <td>46</td>\n",
       "      <td>20</td>\n",
       "      <td>6.93</td>\n",
       "      <td>JP</td>\n",
       "      <td>2019-11-08 07:01:18</td>\n",
       "    </tr>\n",
       "    <tr>\n",
       "      <th>531</th>\n",
       "      <td>Eirunepe</td>\n",
       "      <td>-6.66</td>\n",
       "      <td>-69.87</td>\n",
       "      <td>71.51</td>\n",
       "      <td>98</td>\n",
       "      <td>93</td>\n",
       "      <td>1.86</td>\n",
       "      <td>BR</td>\n",
       "      <td>2019-11-08 07:01:18</td>\n",
       "    </tr>\n",
       "    <tr>\n",
       "      <th>532</th>\n",
       "      <td>Tocopilla</td>\n",
       "      <td>-22.09</td>\n",
       "      <td>-70.20</td>\n",
       "      <td>50.67</td>\n",
       "      <td>39</td>\n",
       "      <td>0</td>\n",
       "      <td>2.80</td>\n",
       "      <td>CL</td>\n",
       "      <td>2019-11-08 07:01:19</td>\n",
       "    </tr>\n",
       "    <tr>\n",
       "      <th>533</th>\n",
       "      <td>Verkhoyansk</td>\n",
       "      <td>67.55</td>\n",
       "      <td>133.39</td>\n",
       "      <td>-5.82</td>\n",
       "      <td>98</td>\n",
       "      <td>97</td>\n",
       "      <td>2.33</td>\n",
       "      <td>RU</td>\n",
       "      <td>2019-11-08 07:01:19</td>\n",
       "    </tr>\n",
       "  </tbody>\n",
       "</table>\n",
       "<p>534 rows × 9 columns</p>\n",
       "</div>"
      ],
      "text/plain": [
       "               City    Lat     Lng  Max Temp  Humidity  Cloudiness  \\\n",
       "0       Henties Bay -22.12   14.28     59.61        75          26   \n",
       "1            Bethel  60.79 -161.76     30.20       100          90   \n",
       "2    Saint-Francois  46.42    3.91     33.80       100          45   \n",
       "3           Ushuaia -54.81  -68.31     35.60        98          40   \n",
       "4     Mar Del Plata -46.43  -67.52     49.32        36           0   \n",
       "..              ...    ...     ...       ...       ...         ...   \n",
       "529       Vredendal -31.68   18.49     62.82        55          63   \n",
       "530         Kushima  31.50  131.29     69.80        46          20   \n",
       "531        Eirunepe  -6.66  -69.87     71.51        98          93   \n",
       "532       Tocopilla -22.09  -70.20     50.67        39           0   \n",
       "533     Verkhoyansk  67.55  133.39     -5.82        98          97   \n",
       "\n",
       "     Wind Speed Country                 Date  \n",
       "0          3.89      NA  2019-11-08 06:58:49  \n",
       "1          9.17      US  2019-11-08 06:58:49  \n",
       "2          4.41      FR  2019-11-08 06:58:49  \n",
       "3         21.92      AR  2019-11-08 06:58:50  \n",
       "4         18.23      AR  2019-11-08 06:58:50  \n",
       "..          ...     ...                  ...  \n",
       "529        6.11      ZA  2019-11-08 07:01:17  \n",
       "530        6.93      JP  2019-11-08 07:01:18  \n",
       "531        1.86      BR  2019-11-08 07:01:18  \n",
       "532        2.80      CL  2019-11-08 07:01:19  \n",
       "533        2.33      RU  2019-11-08 07:01:19  \n",
       "\n",
       "[534 rows x 9 columns]"
      ]
     },
     "execution_count": 252,
     "metadata": {},
     "output_type": "execute_result"
    }
   ],
   "source": [
    "#city_data_df\n",
    "len(city_data_df)\n",
    "city_data_df.count()\n",
    "city_data_df"
   ]
  },
  {
   "cell_type": "code",
   "execution_count": 253,
   "metadata": {},
   "outputs": [],
   "source": [
    "# Extract relevant fields from the DataFrame for plotting.\n",
    "lats= city_data_df[\"Lat\"]\n",
    "max_temp= city_data_df[\"Max Temp\"]\n",
    "humidity= city_data_df[\"Humidity\"]\n",
    "cloudiness= city_data_df[\"Cloudiness\"]\n",
    "wind_speed= city_data_df[\"Wind Speed\"]"
   ]
  },
  {
   "cell_type": "code",
   "execution_count": 254,
   "metadata": {},
   "outputs": [
    {
     "data": {
      "text/plain": [
       "'11/07/19'"
      ]
     },
     "execution_count": 254,
     "metadata": {},
     "output_type": "execute_result"
    }
   ],
   "source": [
    "# Import the time module.\n",
    "import time\n",
    "\n",
    "# Get today's date in seconds.\n",
    "today= time.strftime(\"%x\")\n",
    "today"
   ]
  },
  {
   "cell_type": "code",
   "execution_count": 255,
   "metadata": {},
   "outputs": [
    {
     "data": {
      "image/png": "[encoded data removed]",
      "text/plain": [
       "<Figure size 432x288 with 1 Axes>"
      ]
     },
     "metadata": {
      "needs_background": "light"
     },
     "output_type": "display_data"
    }
   ],
   "source": [
    "# Build the scatter plot for latitude vs.Max Tempature.\n",
    "plt.scatter(lats,\n",
    "            max_temp,\n",
    "            edgecolor=\"black\",\n",
    "            linewidths=1,\n",
    "            marker=\"o\",\n",
    "            alpha=0.8,\n",
    "            label=\"Cities\")\n",
    "\n",
    "# Incorporate the other graph properties.\n",
    "plt.title(f\"City Latitude vs. Max Tempature\" + time.strftime(\"%x\"))\n",
    "plt.ylabel(\"Max Tempature (F)\")\n",
    "plt.xlabel(\"Latitude\")\n",
    "plt.grid(True)\n",
    "\n",
    "# Save the figure.\n",
    "plt.savefig(\"weather_data/Fig1.png\")\n",
    "\n",
    "# Show plot.\n",
    "plt.show()"
   ]
  },
  {
   "cell_type": "code",
   "execution_count": 256,
   "metadata": {},
   "outputs": [
    {
     "data": {
      "image/png": "[encoded data removed]",
      "text/plain": [
       "<Figure size 432x288 with 1 Axes>"
      ]
     },
     "metadata": {
      "needs_background": "light"
     },
     "output_type": "display_data"
    }
   ],
   "source": [
    "# Build the scatter plots for latitude vs. humidity.\n",
    "plt.scatter(lats,\n",
    "            humidity,\n",
    "            edgecolor=\"black\", linewidths=1, marker=\"o\",\n",
    "            alpha=0.8, label=\"Cities\")\n",
    "\n",
    "# Incorporate the other graph properties.\n",
    "plt.title(f\"City Latitude vs. Humidity \"+ time.strftime(\"%x\"))\n",
    "plt.ylabel(\"Humidity (%)\")\n",
    "plt.xlabel(\"Latitude\")\n",
    "plt.grid(True)\n",
    "\n",
    "# Save the figure.\n",
    "plt.savefig(\"weather_data/Fig2.png\")\n",
    "\n",
    "# Show plot.\n",
    "plt.show()"
   ]
  },
  {
   "cell_type": "code",
   "execution_count": 257,
   "metadata": {},
   "outputs": [
    {
     "data": {
      "image/png": "[encoded data removed]",
      "text/plain": [
       "<Figure size 432x288 with 1 Axes>"
      ]
     },
     "metadata": {
      "needs_background": "light"
     },
     "output_type": "display_data"
    }
   ],
   "source": [
    "# Build the scatter plots for latitude vs. Cloudiness\n",
    "plt.scatter(lats,\n",
    "           cloudiness,\n",
    "           edgecolor=\"black\",\n",
    "           linewidths=1,\n",
    "           marker=\"o\",\n",
    "           alpha=0.8,\n",
    "           label=\"Cities\")\n",
    "\n",
    "# Incorporate the other graph properties.\n",
    "plt.title(f\"City Latitude vs. Cloudiness (%)\" + time.strftime(\"%x\"))\n",
    "plt.ylabel(\"Cloudiness (%)\")\n",
    "plt.xlabel(\"Latitude\")\n",
    "plt.grid(True)\n",
    "\n",
    "# Save the figure.\n",
    "#plt.savefig(\"weather_data/Fig3.png\")\n",
    "\n",
    "# Show plot.\n",
    "plt.show()"
   ]
  },
  {
   "cell_type": "code",
   "execution_count": 293,
   "metadata": {
    "scrolled": true
   },
   "outputs": [
    {
     "data": {
      "image/png": "[encoded data removed]",
      "text/plain": [
       "<Figure size 432x288 with 1 Axes>"
      ]
     },
     "metadata": {
      "needs_background": "light"
     },
     "output_type": "display_data"
    }
   ],
   "source": [
    "# Build the scatter plots for latitude vs. Wind Speed.\n",
    "plt.scatter(lats,\n",
    "           wind_speed,\n",
    "           edgecolor=\"black\",\n",
    "           linewidths=1,\n",
    "            marker=\"o\",\n",
    "            alpha=0.8,\n",
    "            label=\"Cities\")\n",
    "\n",
    "# Incorporate the other graph properties.\n",
    "plt.title(f\"City Latitude vs. Wind Speed\" + time.strftime(\"%x\"))\n",
    "plt.ylabel(\"Wind Speed (mph)\")\n",
    "plt.xlabel(\"Latitude\")\n",
    "plt.grid(True)\n",
    "\n",
    "# Save the figure.\n",
    "plt.savefig(\"weather_data/Fig4.png\")\n",
    "\n",
    "# Show plot.\n",
    "plt.show()"
   ]
  },
  {
   "cell_type": "code",
   "execution_count": 294,
   "metadata": {},
   "outputs": [],
   "source": [
    "# Create a function to create perform linear regression on the weather data\n",
    "# and plot a regression line and the equation with the data.  \n",
    "def plot_linear_regression(x_values, y_values, title, y_label, text_coordinates):\n",
    "    \n",
    "    # Run regression on hemisphere weather data.\n",
    "    (slope, intercept, r_value, p_value, std_err) = linregress(x_values, y_values)\n",
    "    \n",
    "    # Calculate the regression line \"y values\" from the slope and intercept.\n",
    "    regress_values = x_values * slope + intercept\n",
    "    # Get the equation of the line.\n",
    "    line_eq = \"y = \" + str(round(slope,2)) + \"x + \" + str(round(intercept,2))\n",
    "    # Create a scatter plot and plot the regression line.\n",
    "    plt.scatter(x_values,y_values)\n",
    "    plt.plot(x_values,regress_values,\"r\")\n",
    "    # Annotate the text for the line equation.\n",
    "    plt.annotate(line_eq, text_coordinates, fontsize=15, color=\"red\")\n",
    "    plt.xlabel('Latitude')\n",
    "    plt.ylabel(y_label)\n",
    "    plt.show()"
   ]
  },
  {
   "cell_type": "code",
   "execution_count": 295,
   "metadata": {},
   "outputs": [
    {
     "data": {
      "text/plain": [
       "City                       Vanimo\n",
       "Lat                         -2.67\n",
       "Lng                         141.3\n",
       "Max Temp                    84.58\n",
       "Humidity                       67\n",
       "Cloudiness                    100\n",
       "Wind Speed                   5.46\n",
       "Country                        PG\n",
       "Date          2019-11-08 06:58:52\n",
       "Name: 13, dtype: object"
      ]
     },
     "execution_count": 295,
     "metadata": {},
     "output_type": "execute_result"
    }
   ],
   "source": [
    "index13= city_data_df.loc[13]\n",
    "index13"
   ]
  },
  {
   "cell_type": "code",
   "execution_count": 296,
   "metadata": {},
   "outputs": [],
   "source": [
    "# Import linear regression from the SciPy stats module.\n",
    "from scipy.stats import linregress"
   ]
  },
  {
   "cell_type": "code",
   "execution_count": 297,
   "metadata": {},
   "outputs": [],
   "source": [
    "# Create an equal number of latitudes and tempatures.\n",
    "lats= [42.5, 43.9, 8.1, 36.8, 79.9, 69.1, 25.7, 15.3, 12.7, 64.5]\n",
    "temps= [80.5, 75.3, 90.9, 90.0, 40.4, 62.3, 85.4, 79.6, 72.5, 72.0]"
   ]
  },
  {
   "cell_type": "code",
   "execution_count": 298,
   "metadata": {},
   "outputs": [
    {
     "name": "stdout",
     "output_type": "stream",
     "text": [
      "y=-0.45x + 92.94\n",
      "The p-value is is : 0.011\n"
     ]
    }
   ],
   "source": [
    "# Use the linregress function to calculate the slope, \n",
    "# y-intercept, correlation coefficient (r-value), p-value,\n",
    "# and standard deviation, and then we’ll print out the \n",
    "# equation for the line.\n",
    "\n",
    "# perform linear regression.\n",
    "(slope, intercept,r_value, p_value, std_err)=linregress(lats,temps)\n",
    "\n",
    "# Get the equation of the line.\n",
    "line_eq= \"y=\" + str(round(slope,2)) + \"x + \" + str(round(intercept,2))\n",
    "\n",
    "print(line_eq)\n",
    "\n",
    "print(f\"The p-value is is : {p_value:.3f}\")\n",
    "\n",
    "# Returns the following\n",
    "# 1. Slope of the regression line as slope\n",
    "# 2. y-intercept as intercept\n",
    "# 3. Correlation coefficient as r_value\n",
    "# 4. p-value as p_value\n",
    "# 5. Standard error as std_err\n",
    "\n"
   ]
  },
  {
   "cell_type": "code",
   "execution_count": 299,
   "metadata": {},
   "outputs": [],
   "source": [
    "# Calculate the regression line \" y values\" from the \n",
    "# slope and intercept\n",
    "regress_values= [(lat* slope + intercept)for lat in lats] "
   ]
  },
  {
   "cell_type": "code",
   "execution_count": 300,
   "metadata": {},
   "outputs": [
    {
     "data": {
      "image/png": "[encoded data removed]",
      "text/plain": [
       "<Figure size 432x288 with 1 Axes>"
      ]
     },
     "metadata": {
      "needs_background": "light"
     },
     "output_type": "display_data"
    }
   ],
   "source": [
    "# Import Matplotlib.\n",
    "import matplotlib.pyplot as plt\n",
    "\n",
    "# Create a scatter plot of the x and y values.\n",
    "# We plot the latitudes and temperatures on a scatter plot.\n",
    "plt.scatter(lats,temps)\n",
    "\n",
    "# Plot the regression line with the x-values and the y \n",
    "# coordinates based on the intercept and slope.\n",
    "\n",
    "# We create a line plot of our regression line with the \n",
    "# ideal temperatures.\n",
    "plt.plot(lats,regress_values,\"r\")\n",
    "\n",
    "# Annotate the text for the line equation and add its coordinates.\n",
    "plt.annotate(line_eq, (10,40), fontsize=15, color=\"red\")\n",
    "plt.xlabel('Latitude')\n",
    "plt.ylabel('Temp')\n",
    "plt.show()\n"
   ]
  },
  {
   "cell_type": "code",
   "execution_count": 310,
   "metadata": {},
   "outputs": [],
   "source": [
    "# Create a function to create perform linear regression on \n",
    "#the weather data\n",
    "\n",
    "# and plot a regression line and the equation with the data.  \n",
    "def plot_linear_regression(x_values, y_values, title, y_label, text_coordinates):\n",
    "    \n",
    "    # Run regression on hemisphere weather data.\n",
    "    (slope, intercept, r_value, p_value, std_err) = linregress(x_values, y_values)\n",
    "    \n",
    "    # Calculate the regression line \"y values\" from the slope and intercept.\n",
    "    regress_values = x_values * slope + intercept\n",
    "    \n",
    "    # Get the equation of the line.\n",
    "    line_eq = \"y = \" + str(round(slope,2)) + \"x + \" + str(round(intercept,2))\n",
    "    \n",
    "    # Create a scatter plot and plot the regression line.\n",
    "    plt.scatter(x_values,y_values)\n",
    "    plt.plot(x_values,regress_values,\"r\")\n",
    "    \n",
    "    # Annotate the text for the line equation.\n",
    "    plt.annotate(line_eq, text_coordinates, fontsize=15, color=\"red\")\n",
    "    plt.xlabel('Latitude')\n",
    "    plt.ylabel(y_label)\n",
    "    plt.show()"
   ]
  },
  {
   "cell_type": "code",
   "execution_count": 311,
   "metadata": {},
   "outputs": [
    {
     "name": "stdout",
     "output_type": "stream",
     "text": [
      "-0.452929121241496\n"
     ]
    },
    {
     "ename": "TypeError",
     "evalue": "can't multiply sequence by non-int of type 'numpy.float64'",
     "output_type": "error",
     "traceback": [
      "\u001b[1;31m---------------------------------------------------------------------------\u001b[0m",
      "\u001b[1;31mTypeError\u001b[0m                                 Traceback (most recent call last)",
      "\u001b[1;32m<ipython-input-311-dcb439a94c9d>\u001b[0m in \u001b[0;36m<module>\u001b[1;34m\u001b[0m\n\u001b[0;32m      3\u001b[0m \u001b[0mprint\u001b[0m\u001b[1;33m(\u001b[0m\u001b[0mslope\u001b[0m\u001b[1;33m)\u001b[0m\u001b[1;33m\u001b[0m\u001b[1;33m\u001b[0m\u001b[0m\n\u001b[0;32m      4\u001b[0m \u001b[1;31m# Calculate the regression line \"y values\" from the slope and intercept.\u001b[0m\u001b[1;33m\u001b[0m\u001b[1;33m\u001b[0m\u001b[1;33m\u001b[0m\u001b[0m\n\u001b[1;32m----> 5\u001b[1;33m \u001b[0mregress_values\u001b[0m \u001b[1;33m=\u001b[0m \u001b[0mlats\u001b[0m \u001b[1;33m*\u001b[0m \u001b[0mslope\u001b[0m \u001b[1;33m+\u001b[0m \u001b[0mintercept\u001b[0m\u001b[1;33m\u001b[0m\u001b[1;33m\u001b[0m\u001b[0m\n\u001b[0m\u001b[0;32m      6\u001b[0m \u001b[1;33m\u001b[0m\u001b[0m\n\u001b[0;32m      7\u001b[0m \u001b[1;31m# Get the equation of the line.\u001b[0m\u001b[1;33m\u001b[0m\u001b[1;33m\u001b[0m\u001b[1;33m\u001b[0m\u001b[0m\n",
      "\u001b[1;31mTypeError\u001b[0m: can't multiply sequence by non-int of type 'numpy.float64'"
     ]
    }
   ],
   "source": [
    "# Perform linear regression.\n",
    "(slope, intercept, r_value, p_value, std_err) = linregress(lats, temps)\n",
    "print(slope)\n",
    "# Calculate the regression line \"y values\" from the slope and intercept. \n",
    "regress_values = lats * slope + intercept\n",
    "\n",
    "# Get the equation of the line.\n",
    "line_eq = \"y = \" + str(round(slope,2)) + \"x + \" + str(round(intercept,2))\n",
    "\n",
    "# Create a scatter plot of the x and y values.\n",
    "plt.scatter(lats,temps)\n",
    "# Plot the regression line with the x-values and the y coordinates based on the intercept and slope.\n",
    "plt.plot(lats,regress_values,\"r\")\n",
    "# Annotate the text for the line equation and add its coordinates.\n",
    "plt.annotate(line_eq, (10,40), fontsize=15, color=\"red\")\n",
    "plt.xlabel('Latitude')\n",
    "plt.ylabel('Temp')\n",
    "plt.show()"
   ]
  },
  {
   "cell_type": "code",
   "execution_count": 312,
   "metadata": {
    "scrolled": true
   },
   "outputs": [
    {
     "data": {
      "text/html": [
       "<div>\n",
       "<style scoped>\n",
       "    .dataframe tbody tr th:only-of-type {\n",
       "        vertical-align: middle;\n",
       "    }\n",
       "\n",
       "    .dataframe tbody tr th {\n",
       "        vertical-align: top;\n",
       "    }\n",
       "\n",
       "    .dataframe thead th {\n",
       "        text-align: right;\n",
       "    }\n",
       "</style>\n",
       "<table border=\"1\" class=\"dataframe\">\n",
       "  <thead>\n",
       "    <tr style=\"text-align: right;\">\n",
       "      <th></th>\n",
       "      <th>City</th>\n",
       "      <th>Lat</th>\n",
       "      <th>Lng</th>\n",
       "      <th>Max Temp</th>\n",
       "      <th>Humidity</th>\n",
       "      <th>Cloudiness</th>\n",
       "      <th>Wind Speed</th>\n",
       "      <th>Country</th>\n",
       "      <th>Date</th>\n",
       "    </tr>\n",
       "  </thead>\n",
       "  <tbody>\n",
       "    <tr>\n",
       "      <th>1</th>\n",
       "      <td>Bethel</td>\n",
       "      <td>60.79</td>\n",
       "      <td>-161.76</td>\n",
       "      <td>30.20</td>\n",
       "      <td>100</td>\n",
       "      <td>90</td>\n",
       "      <td>9.17</td>\n",
       "      <td>US</td>\n",
       "      <td>2019-11-08 06:58:49</td>\n",
       "    </tr>\n",
       "    <tr>\n",
       "      <th>2</th>\n",
       "      <td>Saint-Francois</td>\n",
       "      <td>46.42</td>\n",
       "      <td>3.91</td>\n",
       "      <td>33.80</td>\n",
       "      <td>100</td>\n",
       "      <td>45</td>\n",
       "      <td>4.41</td>\n",
       "      <td>FR</td>\n",
       "      <td>2019-11-08 06:58:49</td>\n",
       "    </tr>\n",
       "    <tr>\n",
       "      <th>6</th>\n",
       "      <td>Bronnoysund</td>\n",
       "      <td>65.46</td>\n",
       "      <td>12.20</td>\n",
       "      <td>32.00</td>\n",
       "      <td>68</td>\n",
       "      <td>40</td>\n",
       "      <td>8.05</td>\n",
       "      <td>NO</td>\n",
       "      <td>2019-11-08 06:57:14</td>\n",
       "    </tr>\n",
       "    <tr>\n",
       "      <th>7</th>\n",
       "      <td>Yumen</td>\n",
       "      <td>40.29</td>\n",
       "      <td>97.04</td>\n",
       "      <td>51.55</td>\n",
       "      <td>27</td>\n",
       "      <td>78</td>\n",
       "      <td>19.98</td>\n",
       "      <td>CN</td>\n",
       "      <td>2019-11-08 06:58:51</td>\n",
       "    </tr>\n",
       "    <tr>\n",
       "      <th>8</th>\n",
       "      <td>Albany</td>\n",
       "      <td>42.65</td>\n",
       "      <td>-73.75</td>\n",
       "      <td>28.40</td>\n",
       "      <td>68</td>\n",
       "      <td>20</td>\n",
       "      <td>8.05</td>\n",
       "      <td>US</td>\n",
       "      <td>2019-11-08 06:58:51</td>\n",
       "    </tr>\n",
       "    <tr>\n",
       "      <th>...</th>\n",
       "      <td>...</td>\n",
       "      <td>...</td>\n",
       "      <td>...</td>\n",
       "      <td>...</td>\n",
       "      <td>...</td>\n",
       "      <td>...</td>\n",
       "      <td>...</td>\n",
       "      <td>...</td>\n",
       "      <td>...</td>\n",
       "    </tr>\n",
       "    <tr>\n",
       "      <th>525</th>\n",
       "      <td>Yerofey Pavlovich</td>\n",
       "      <td>53.97</td>\n",
       "      <td>121.97</td>\n",
       "      <td>16.68</td>\n",
       "      <td>60</td>\n",
       "      <td>0</td>\n",
       "      <td>2.62</td>\n",
       "      <td>RU</td>\n",
       "      <td>2019-11-08 07:01:16</td>\n",
       "    </tr>\n",
       "    <tr>\n",
       "      <th>526</th>\n",
       "      <td>Russkaya Polyana</td>\n",
       "      <td>53.78</td>\n",
       "      <td>73.88</td>\n",
       "      <td>38.41</td>\n",
       "      <td>86</td>\n",
       "      <td>100</td>\n",
       "      <td>19.64</td>\n",
       "      <td>RU</td>\n",
       "      <td>2019-11-08 07:01:17</td>\n",
       "    </tr>\n",
       "    <tr>\n",
       "      <th>528</th>\n",
       "      <td>Dhidhdhoo</td>\n",
       "      <td>6.88</td>\n",
       "      <td>73.10</td>\n",
       "      <td>82.62</td>\n",
       "      <td>74</td>\n",
       "      <td>19</td>\n",
       "      <td>7.85</td>\n",
       "      <td>MV</td>\n",
       "      <td>2019-11-08 07:01:17</td>\n",
       "    </tr>\n",
       "    <tr>\n",
       "      <th>530</th>\n",
       "      <td>Kushima</td>\n",
       "      <td>31.50</td>\n",
       "      <td>131.29</td>\n",
       "      <td>69.80</td>\n",
       "      <td>46</td>\n",
       "      <td>20</td>\n",
       "      <td>6.93</td>\n",
       "      <td>JP</td>\n",
       "      <td>2019-11-08 07:01:18</td>\n",
       "    </tr>\n",
       "    <tr>\n",
       "      <th>533</th>\n",
       "      <td>Verkhoyansk</td>\n",
       "      <td>67.55</td>\n",
       "      <td>133.39</td>\n",
       "      <td>-5.82</td>\n",
       "      <td>98</td>\n",
       "      <td>97</td>\n",
       "      <td>2.33</td>\n",
       "      <td>RU</td>\n",
       "      <td>2019-11-08 07:01:19</td>\n",
       "    </tr>\n",
       "  </tbody>\n",
       "</table>\n",
       "<p>372 rows × 9 columns</p>\n",
       "</div>"
      ],
      "text/plain": [
       "                  City    Lat     Lng  Max Temp  Humidity  Cloudiness  \\\n",
       "1               Bethel  60.79 -161.76     30.20       100          90   \n",
       "2       Saint-Francois  46.42    3.91     33.80       100          45   \n",
       "6          Bronnoysund  65.46   12.20     32.00        68          40   \n",
       "7                Yumen  40.29   97.04     51.55        27          78   \n",
       "8               Albany  42.65  -73.75     28.40        68          20   \n",
       "..                 ...    ...     ...       ...       ...         ...   \n",
       "525  Yerofey Pavlovich  53.97  121.97     16.68        60           0   \n",
       "526   Russkaya Polyana  53.78   73.88     38.41        86         100   \n",
       "528          Dhidhdhoo   6.88   73.10     82.62        74          19   \n",
       "530            Kushima  31.50  131.29     69.80        46          20   \n",
       "533        Verkhoyansk  67.55  133.39     -5.82        98          97   \n",
       "\n",
       "     Wind Speed Country                 Date  \n",
       "1          9.17      US  2019-11-08 06:58:49  \n",
       "2          4.41      FR  2019-11-08 06:58:49  \n",
       "6          8.05      NO  2019-11-08 06:57:14  \n",
       "7         19.98      CN  2019-11-08 06:58:51  \n",
       "8          8.05      US  2019-11-08 06:58:51  \n",
       "..          ...     ...                  ...  \n",
       "525        2.62      RU  2019-11-08 07:01:16  \n",
       "526       19.64      RU  2019-11-08 07:01:17  \n",
       "528        7.85      MV  2019-11-08 07:01:17  \n",
       "530        6.93      JP  2019-11-08 07:01:18  \n",
       "533        2.33      RU  2019-11-08 07:01:19  \n",
       "\n",
       "[372 rows x 9 columns]"
      ]
     },
     "execution_count": 312,
     "metadata": {},
     "output_type": "execute_result"
    }
   ],
   "source": [
    "city_data_df.loc[(city_data_df[\"Lat\"] >= 0)]"
   ]
  },
  {
   "cell_type": "code",
   "execution_count": 313,
   "metadata": {},
   "outputs": [],
   "source": [
    "# Create Northern and Southern Hemisphere DataFrames.\n",
    "norther_hemi_df= city_data_df.loc[(city_data_df[\"Lat\"] >=0)]\n",
    "southern_hemi_df= city_data_df.loc[(city_data_df[\"Lat\"] <0)]"
   ]
  },
  {
   "cell_type": "code",
   "execution_count": 314,
   "metadata": {},
   "outputs": [],
   "source": [
    "# Linear regression on the Northern Hemisphere\n",
    "x_values = northern_hemi_df[\"Lat\"]\n",
    "y_values = northern_hemi_df[\"Max Temp\"]\n"
   ]
  },
  {
   "cell_type": "code",
   "execution_count": 315,
   "metadata": {},
   "outputs": [
    {
     "ename": "SyntaxError",
     "evalue": "invalid syntax (<ipython-input-315-d8016fce7261>, line 22)",
     "output_type": "error",
     "traceback": [
      "\u001b[1;36m  File \u001b[1;32m\"<ipython-input-315-d8016fce7261>\"\u001b[1;36m, line \u001b[1;32m22\u001b[0m\n\u001b[1;33m    plt.title(Linear Regression on Northern Hemisphere for Maximum Tempature)\u001b[0m\n\u001b[1;37m                              ^\u001b[0m\n\u001b[1;31mSyntaxError\u001b[0m\u001b[1;31m:\u001b[0m invalid syntax\n"
     ]
    }
   ],
   "source": [
    "# Call the function.\n",
    "#plot_linear_regression(x_values, y_values,\n",
    "\n",
    "\n",
    "#                       'Linear Regression on the Southern Hemisphere \\n \n",
    "#                        for Maximum Temperature', 'Max Temp',(-50,90))\n",
    "# Create a function to create perform linear regression on the weather data\n",
    "# and plot a regression line and the equation with the data.  \n",
    "def plot_linear_regression(x_values, y_values, title, y_label, text_coordinates):\n",
    "    \n",
    "    # Run regression on hemisphere weather data.\n",
    "    (slope, intercept, r_value, p_value, std_err) = linregress(x_values, y_values)\n",
    "    \n",
    "    # Calculate the regression line \"y values\" from the slope and intercept.\n",
    "    regress_values = x_values * slope + intercept\n",
    "    # Get the equation of the line.\n",
    "    line_eq = \"y = \" + str(round(slope,2)) + \"x + \" + str(round(intercept,2))\n",
    "    # Create a scatter plot and plot the regression line.\n",
    "    plt.scatter(x_values,y_values)\n",
    "    plt.plot(x_values,regress_values,\"r\")\n",
    "    # Annotate the text for the line equation.\n",
    "    plt.title(Linear Regression on Northern Hemisphere for Maximum Tempature)\n",
    "    plt.annotate(line_eq, text_coordinates, fontsize=15, color=\"red\")\n",
    "    plt.xlabel('Latitude')\n",
    "    plt.ylabel(y_label)\n",
    "    plt.show()"
   ]
  },
  {
   "cell_type": "code",
   "execution_count": 318,
   "metadata": {},
   "outputs": [
    {
     "data": {
      "image/png": "[encoded data removed]",
      "text/plain": [
       "<Figure size 432x288 with 1 Axes>"
      ]
     },
     "metadata": {
      "needs_background": "light"
     },
     "output_type": "display_data"
    }
   ],
   "source": [
    "# Linear regression on the Northern Hemisphere\n",
    "x_values = northern_hemi_df[\"Lat\"]\n",
    "y_values = northern_hemi_df[\"Humidity\"]\n",
    "# Call the function.\n",
    "plot_linear_regression(x_values, y_values,'Linear Regression on the Northern Hemisphere \\n for % Humidity', '% Humidity',(40,10))"
   ]
  },
  {
   "cell_type": "code",
   "execution_count": 324,
   "metadata": {
    "scrolled": true
   },
   "outputs": [
    {
     "data": {
      "image/png": "[encoded data removed]",
      "text/plain": [
       "<Figure size 432x288 with 1 Axes>"
      ]
     },
     "metadata": {
      "needs_background": "light"
     },
     "output_type": "display_data"
    }
   ],
   "source": [
    "# Linear regression on the Southern Hemisphere\n",
    "x_values = southern_hemi_df[\"Lat\"]\n",
    "y_values = southern_hemi_df[\"Max Temp\"]\n",
    "# Call the function.\n",
    "plot_linear_regression(x_values, y_values,'Linear Regression on the Southern Hemisphere \\n for Maximum Temperature', 'Max Temp',(-50,90))"
   ]
  },
  {
   "cell_type": "code",
   "execution_count": 327,
   "metadata": {
    "scrolled": true
   },
   "outputs": [
    {
     "data": {
      "image/png": "[encoded data removed]",
      "text/plain": [
       "<Figure size 432x288 with 1 Axes>"
      ]
     },
     "metadata": {
      "needs_background": "light"
     },
     "output_type": "display_data"
    }
   ],
   "source": [
    "# Linear regression on the Northern Hemisphere\n",
    "x_values = northern_hemi_df[\"Lat\"]\n",
    "y_values = northern_hemi_df[\"Humidity\"]\n",
    "# Call the function.\n",
    "plot_linear_regression(x_values, y_values,'Linear Regression on the Northern Hemisphere \\n for % Humidity', '% Humidity',(40,10))"
   ]
  },
  {
   "cell_type": "code",
   "execution_count": 328,
   "metadata": {},
   "outputs": [
    {
     "data": {
      "image/png": "[encoded data removed]",
      "text/plain": [
       "<Figure size 432x288 with 1 Axes>"
      ]
     },
     "metadata": {
      "needs_background": "light"
     },
     "output_type": "display_data"
    }
   ],
   "source": [
    "# Linear regression on the Southern Hemispher for % Humidity.\n",
    "x_values= southern_hemi_df[\"Lat\"]\n",
    "\n",
    "y_values= southern_hemi_df[\"Humidity\"]\n",
    "\n",
    "# Call the function.\n",
    "plot_linear_regression(x_values, y_values, 'Linear Regression on the Southern Hemisphere \\n for % Humidity', '% Humidity',(-50,15))"
   ]
  },
  {
   "cell_type": "code",
   "execution_count": 329,
   "metadata": {},
   "outputs": [
    {
     "data": {
      "image/png": "[encoded data removed]",
      "text/plain": [
       "<Figure size 432x288 with 1 Axes>"
      ]
     },
     "metadata": {
      "needs_background": "light"
     },
     "output_type": "display_data"
    }
   ],
   "source": [
    "# Linear regression on the Southern Hemispher for % Humidity.\n",
    "x_values= southern_hemi_df[\"Lat\"]\n",
    "\n",
    "y_values= southern_hemi_df[\"Cloudiness\"]\n",
    "\n",
    "# Call the function.\n",
    "plot_linear_regression(x_values, y_values, 'Linear Regression on the Southern Hemisphere \\n for % Cloudiness', '% Cloudiness',(-50,60))"
   ]
  },
  {
   "cell_type": "code",
   "execution_count": 331,
   "metadata": {},
   "outputs": [
    {
     "data": {
      "image/png": "[encoded data removed]",
      "text/plain": [
       "<Figure size 432x288 with 1 Axes>"
      ]
     },
     "metadata": {
      "needs_background": "light"
     },
     "output_type": "display_data"
    }
   ],
   "source": [
    "# Linear regression on the Northern Hemisphere\n",
    "x_values = northern_hemi_df[\"Lat\"]\n",
    "y_values = northern_hemi_df[\"Wind Speed\"]\n",
    "# Call the function.\n",
    "plot_linear_regression(x_values, y_values,'Linear Regression on the Northern Hemisphere \\n for Wind Speed', 'Wind Speed',(40,35))"
   ]
  },
  {
   "cell_type": "code",
   "execution_count": 333,
   "metadata": {},
   "outputs": [
    {
     "data": {
      "image/png": "[encoded data removed]",
      "text/plain": [
       "<Figure size 432x288 with 1 Axes>"
      ]
     },
     "metadata": {
      "needs_background": "light"
     },
     "output_type": "display_data"
    }
   ],
   "source": [
    "# Linear regression on the Southern Hemisphere\n",
    "x_values = southern_hemi_df[\"Lat\"]\n",
    "y_values = southern_hemi_df[\"Wind Speed\"]\n",
    "# Call the function.\n",
    "plot_linear_regression(x_values, y_values,'Linear Regression on the Southern Hemisphere \\n for Wind Speed', 'Wind Speed',(-50,35))"
   ]
  },
  {
   "cell_type": "code",
   "execution_count": null,
   "metadata": {},
   "outputs": [],
   "source": []
  }
 ],
 "metadata": {
  "kernelspec": {
   "display_name": "PythonData",
   "language": "python",
   "name": "pythondata"
  },
  "language_info": {
   "codemirror_mode": {
    "name": "ipython",
    "version": 3
   },
   "file_extension": ".py",
   "mimetype": "text/x-python",
   "name": "python",
   "nbconvert_exporter": "python",
   "pygments_lexer": "ipython3",
   "version": "3.6.9"
  }
 },
 "nbformat": 4,
 "nbformat_minor": 2
}
