{
 "cells": [
  {
   "cell_type": "code",
   "execution_count": 18,
   "metadata": {},
   "outputs": [],
   "source": [
    "# Importig Pandas\n",
    "import pandas as pd\n",
    "\n",
    "# Importig Matplotlib\n",
    "import matplotlib.pyplot as plt\n",
    "\n",
    "# Importing Numpy\n",
    "import numpy as np\n"
   ]
  },
  {
   "cell_type": "code",
   "execution_count": 19,
   "metadata": {},
   "outputs": [
    {
     "data": {
      "text/plain": [
       "<zip at 0x274d02f26c8>"
      ]
     },
     "execution_count": 19,
     "metadata": {},
     "output_type": "execute_result"
    }
   ],
   "source": [
    "# Creates a set of random latitude combinations.\n",
    "lats = np.random.uniform(low=-90.000, high=90.000, size=1500)\n",
    "\n",
    "# Creates a set of random longitude combinations.\n",
    "lngs = np.random.uniform(low=-180.000, high=180.000, size=1500)\n",
    "\n",
    "# Zips together under a new variable name both the 'lats' and 'lngs' variables.\n",
    "lat_lngs = zip(lats, lngs)\n",
    "\n",
    "# Prints out the output of the new variable name .\n",
    "lat_lngs \n",
    "\n",
    "# -  The zip object packs each pair of lats and lngs having the \n",
    "#same index in their respective array into a tuple\n"
   ]
  },
  {
   "cell_type": "code",
   "execution_count": 20,
   "metadata": {},
   "outputs": [],
   "source": [
    "# Create a practice set of random latitude and longitude combinations.\n",
    "\n",
    "# Latitude combination.\n",
    "x=[25.12903645, 25.92017388, 26.62509167, -59.98969384, 37.30571269]\n",
    "\n",
    "# Longitude combination.\n",
    "y=[-67.59741259, 11.09532135, 74.84233102, -76.89176677, -61.13376282]\n",
    "\n",
    "# Zipping together both combinations.\n",
    "coordinates=zip(x,y)"
   ]
  },
  {
   "cell_type": "code",
   "execution_count": 21,
   "metadata": {},
   "outputs": [
    {
     "name": "stdout",
     "output_type": "stream",
     "text": [
      "25.12903645 -67.59741259\n",
      "25.92017388 11.09532135\n",
      "26.62509167 74.84233102\n",
      "-59.98969384 -76.89176677\n",
      "37.30571269 -61.13376282\n"
     ]
    }
   ],
   "source": [
    "# Use the tuple() function to display the latitude\n",
    "# and longitude combinations.\n",
    "\n",
    "for coordinate in coordinates:\n",
    "    print(coordinate[0], coordinate[1])\n"
   ]
  },
  {
   "cell_type": "code",
   "execution_count": 22,
   "metadata": {},
   "outputs": [],
   "source": [
    "# Use the citipy module to determine city based on latitude and longitude.\n",
    "from citipy import citipy"
   ]
  },
  {
   "cell_type": "code",
   "execution_count": 23,
   "metadata": {},
   "outputs": [
    {
     "data": {
      "text/plain": [
       "'3.6.9 |Anaconda, Inc.| (default, Jul 30 2019, 14:00:49) [MSC v.1915 64 bit (AMD64)]'"
      ]
     },
     "execution_count": 23,
     "metadata": {},
     "output_type": "execute_result"
    }
   ],
   "source": [
    "import sys\n",
    "sys.version"
   ]
  },
  {
   "cell_type": "code",
   "execution_count": 24,
   "metadata": {},
   "outputs": [],
   "source": [
    "# Use the tuple() function to display the latitude and longitude combinations.\n",
    "for coordinate in coordinates:\n",
    "    print(citipy.nearest_city(coordinate[0], coordinate[1]).city_name,\n",
    "          citipy.nearest_city(coordinate[0], coordinate[1]).country_code)"
   ]
  },
  {
   "cell_type": "code",
   "execution_count": 25,
   "metadata": {},
   "outputs": [
    {
     "data": {
      "text/plain": [
       "608"
      ]
     },
     "execution_count": 25,
     "metadata": {},
     "output_type": "execute_result"
    }
   ],
   "source": [
    "# Create a list for holding the cities.\n",
    "cities = []\n",
    "# Identify the nearest city for each latitude and longitude combination.\n",
    "for lat_lng in lat_lngs:\n",
    "    city = citipy.nearest_city(lat_lng[0], lat_lng[1]).city_name\n",
    "\n",
    "    # If the city is unique, then we will add it to the cities list.\n",
    "    if city not in cities:\n",
    "        cities.append(city)\n",
    "# Print the city count to confirm sufficient count.\n",
    "len(cities)\n",
    "\n",
    "#     Breaking down the code\n",
    "# 1. We create a cities list to store city names.\n",
    "\n",
    "# 2.  We iterate through the lat_lngs tuple, as in our \n",
    "# practice, and retrieve the nearest city using the latitude\n",
    "# and longitude pair.\n",
    "\n",
    "# 3. We add a decision statement with the logical operator not \n",
    "# in to determine whether the found city is already in the cities\n",
    "# list. If not, then we’ll use the append()function to add it. \n",
    "# We are doing this because among the 1,500 latitudes and \n",
    "# longitudes, there might be duplicates, which will retrieve \n",
    "# duplicate cities, and we want to be sure we capture only the\n",
    "#unique cities.\n",
    "\n"
   ]
  },
  {
   "cell_type": "code",
   "execution_count": 26,
   "metadata": {},
   "outputs": [],
   "source": [
    "# Import the requests library.\n",
    "import requests\n",
    "\n",
    "# Import the API key.\n",
    "from config import weather_api_key"
   ]
  },
  {
   "cell_type": "code",
   "execution_count": 27,
   "metadata": {},
   "outputs": [
    {
     "name": "stdout",
     "output_type": "stream",
     "text": [
      "http://api.openweathermap.org/data/2.5/weather?units=Imperial&APPID=47ea430ffbc6a3d7f5e1667d3293f52a\n"
     ]
    }
   ],
   "source": [
    "# Starting URL for Weather Map API Call.\n",
    "url = \"http://api.openweathermap.org/data/2.5/weather?units=Imperial&APPID=\" + weather_api_key\n",
    "print(url)"
   ]
  },
  {
   "cell_type": "code",
   "execution_count": 30,
   "metadata": {},
   "outputs": [
    {
     "name": "stdout",
     "output_type": "stream",
     "text": [
      "http://api.openweathermap.org/data/2.5/weather?units=Imperial&APPID=47ea430ffbc6a3d7f5e1667d3293f52a&q=Boston\n"
     ]
    }
   ],
   "source": [
    "# Create an endpoint URL for a city.\n",
    "city_url= url + \"&q=\" + \"Boston\"\n",
    "\n",
    "# Prints out the endpoint URL\n",
    "print(city_url)\n",
    "\n",
    "#  - we are creating a string to get the weather data for\n",
    "# Boston by using the city_url\n",
    "\n",
    "#  - To create the city_url we add the parameter, &q= and \n",
    "# “Boston” to the url."
   ]
  },
  {
   "cell_type": "code",
   "execution_count": 31,
   "metadata": {},
   "outputs": [
    {
     "data": {
      "text/plain": [
       "<Response [200]>"
      ]
     },
     "execution_count": 31,
     "metadata": {},
     "output_type": "execute_result"
    }
   ],
   "source": [
    "# Make a 'Get' request for the city weather.\n",
    "city_weather= requests.get(city_url)\n",
    "\n",
    "# Prints out the 'Get' request.\n",
    "city_weather"
   ]
  },
  {
   "cell_type": "code",
   "execution_count": 33,
   "metadata": {},
   "outputs": [
    {
     "data": {
      "text/plain": [
       "200"
      ]
     },
     "execution_count": 33,
     "metadata": {},
     "output_type": "execute_result"
    }
   ],
   "source": [
    "# call the response code with the get() method using the \n",
    "# status_code\n",
    "\n",
    "city_weather.status_code"
   ]
  },
  {
   "cell_type": "code",
   "execution_count": 34,
   "metadata": {},
   "outputs": [
    {
     "data": {
      "text/plain": [
       "<Response [404]>"
      ]
     },
     "execution_count": 34,
     "metadata": {},
     "output_type": "execute_result"
    }
   ],
   "source": [
    "# Create an endpoint URL for a city.\n",
    "# With Incorrect spelling of the city.\n",
    "\n",
    "city_url= url + \"&q=\" + \"Bston\"\n",
    "city_weather= requests.get(city_url)\n",
    "city_weather"
   ]
  },
  {
   "cell_type": "code",
   "execution_count": 35,
   "metadata": {},
   "outputs": [
    {
     "data": {
      "text/plain": [
       "<Response [200]>"
      ]
     },
     "execution_count": 35,
     "metadata": {},
     "output_type": "execute_result"
    }
   ],
   "source": [
    "# Create an endpoint URL for a city.\n",
    "# With Correct spelling of the city.\n",
    "\n",
    "city_url= url + \"&q=\" + \"Boston\"\n",
    "city_weather= requests.get(city_url)\n",
    "city_weather"
   ]
  },
  {
   "cell_type": "code",
   "execution_count": 36,
   "metadata": {},
   "outputs": [
    {
     "data": {
      "text/plain": [
       "'{\"coord\":{\"lon\":-71.06,\"lat\":42.36},\"weather\":[{\"id\":500,\"main\":\"Rain\",\"description\":\"light rain\",\"icon\":\"10n\"}],\"base\":\"stations\",\"main\":{\"temp\":51.39,\"pressure\":1018,\"humidity\":87,\"temp_min\":46.4,\"temp_max\":55.99},\"visibility\":16093,\"wind\":{\"speed\":6.93,\"deg\":220},\"rain\":{\"1h\":0.25},\"clouds\":{\"all\":40},\"dt\":1572999743,\"sys\":{\"type\":1,\"id\":3486,\"country\":\"US\",\"sunrise\":1572952931,\"sunset\":1572989606},\"timezone\":-18000,\"id\":4930956,\"name\":\"Boston\",\"cod\":200}'"
      ]
     },
     "execution_count": 36,
     "metadata": {},
     "output_type": "execute_result"
    }
   ],
   "source": [
    "# Get a text of the 'Get' request.\n",
    "city_weather.text"
   ]
  },
  {
   "cell_type": "code",
   "execution_count": 37,
   "metadata": {},
   "outputs": [
    {
     "data": {
      "text/plain": [
       "{'coord': {'lon': -71.06, 'lat': 42.36},\n",
       " 'weather': [{'id': 500,\n",
       "   'main': 'Rain',\n",
       "   'description': 'light rain',\n",
       "   'icon': '10n'}],\n",
       " 'base': 'stations',\n",
       " 'main': {'temp': 51.39,\n",
       "  'pressure': 1018,\n",
       "  'humidity': 87,\n",
       "  'temp_min': 46.4,\n",
       "  'temp_max': 55.99},\n",
       " 'visibility': 16093,\n",
       " 'wind': {'speed': 6.93, 'deg': 220},\n",
       " 'rain': {'1h': 0.25},\n",
       " 'clouds': {'all': 40},\n",
       " 'dt': 1572999743,\n",
       " 'sys': {'type': 1,\n",
       "  'id': 3486,\n",
       "  'country': 'US',\n",
       "  'sunrise': 1572952931,\n",
       "  'sunset': 1572989606},\n",
       " 'timezone': -18000,\n",
       " 'id': 4930956,\n",
       " 'name': 'Boston',\n",
       " 'cod': 200}"
      ]
     },
     "execution_count": 37,
     "metadata": {},
     "output_type": "execute_result"
    }
   ],
   "source": [
    "# Get a JSON of the 'Get' request.\n",
    "city_weather.json()"
   ]
  },
  {
   "cell_type": "code",
   "execution_count": 38,
   "metadata": {},
   "outputs": [
    {
     "name": "stdout",
     "output_type": "stream",
     "text": [
      "City Weather found.\n"
     ]
    }
   ],
   "source": [
    "# Create an endpoint URL for a city.\n",
    "city_url + \"&q=\" + \"Boston\"\n",
    "city_weather= requests.get(city_url)\n",
    "if city_weather.status_code== 200:\n",
    "    print(f\"City Weather found.\")\n",
    "else:\n",
    "    print(f\"City Weather not found.\")"
   ]
  },
  {
   "cell_type": "code",
   "execution_count": 44,
   "metadata": {},
   "outputs": [
    {
     "name": "stdout",
     "output_type": "stream",
     "text": [
      "City Weather found.\n"
     ]
    }
   ],
   "source": [
    "# Create an endpoint URL for a city.\n",
    "city_url + \"&q=\" + \"Bston\"\n",
    "city_weather= requests.get(city_url)\n",
    "if city_weather.json():\n",
    "    print(f\"City Weather found.\")\n",
    "else:\n",
    "    print(f\"City Weather not found.\")"
   ]
  },
  {
   "cell_type": "code",
   "execution_count": 45,
   "metadata": {},
   "outputs": [
    {
     "name": "stdout",
     "output_type": "stream",
     "text": [
      "http://api.openweathermap.org/data/2.5/weather?units=Imperial&APPID=47ea430ffbc6a3d7f5e1667d3293f52a&q=Boston\n"
     ]
    }
   ],
   "source": [
    "print(city_url)"
   ]
  },
  {
   "cell_type": "code",
   "execution_count": 47,
   "metadata": {},
   "outputs": [
    {
     "data": {
      "text/plain": [
       "{'coord': {'lon': -71.06, 'lat': 42.36},\n",
       " 'weather': [{'id': 500,\n",
       "   'main': 'Rain',\n",
       "   'description': 'light rain',\n",
       "   'icon': '10n'},\n",
       "  {'id': 701, 'main': 'Mist', 'description': 'mist', 'icon': '50n'}],\n",
       " 'base': 'stations',\n",
       " 'main': {'temp': 51.39,\n",
       "  'pressure': 1018,\n",
       "  'humidity': 93,\n",
       "  'temp_min': 46.4,\n",
       "  'temp_max': 55.99},\n",
       " 'visibility': 1207,\n",
       " 'wind': {'speed': 4.12, 'deg': 253},\n",
       " 'rain': {'1h': 0.25},\n",
       " 'clouds': {'all': 90},\n",
       " 'dt': 1573000617,\n",
       " 'sys': {'type': 1,\n",
       "  'id': 3530,\n",
       "  'country': 'US',\n",
       "  'sunrise': 1572952931,\n",
       "  'sunset': 1572989606},\n",
       " 'timezone': -18000,\n",
       " 'id': 4930956,\n",
       " 'name': 'Boston',\n",
       " 'cod': 200}"
      ]
     },
     "execution_count": 47,
     "metadata": {},
     "output_type": "execute_result"
    }
   ],
   "source": [
    "# Get the JSON data.\n",
    "boston_data= city_weather.json()\n",
    "boston_data"
   ]
  },
  {
   "cell_type": "code",
   "execution_count": 49,
   "metadata": {},
   "outputs": [
    {
     "data": {
      "text/plain": [
       "'US'"
      ]
     },
     "execution_count": 49,
     "metadata": {},
     "output_type": "execute_result"
    }
   ],
   "source": [
    "boston_data[\"sys\"][\"country\"]"
   ]
  },
  {
   "cell_type": "code",
   "execution_count": 50,
   "metadata": {},
   "outputs": [
    {
     "data": {
      "text/plain": [
       "1573000617"
      ]
     },
     "execution_count": 50,
     "metadata": {},
     "output_type": "execute_result"
    }
   ],
   "source": [
    "boston_data[\"dt\"]"
   ]
  },
  {
   "cell_type": "code",
   "execution_count": 51,
   "metadata": {},
   "outputs": [
    {
     "name": "stdout",
     "output_type": "stream",
     "text": [
      "42.36 -71.06 55.99 93 90 4.12\n"
     ]
    }
   ],
   "source": [
    "# Creates a Variable name for Latitude Information.\n",
    "lat= boston_data[\"coord\"][\"lat\"]\n",
    "\n",
    "# Creates a Variable name for Longitude Information.\n",
    "lng= boston_data[\"coord\"][\"lon\"]\n",
    "\n",
    "# Creates a Variable name for Max Tempature Information.\n",
    "max_temp= boston_data[\"main\"][\"temp_max\"]\n",
    "\n",
    "# Creates a Variable name for Humidity Information.\n",
    "humidity= boston_data[\"main\"][\"humidity\"]\n",
    "\n",
    "# Creates a Variable name for Clouds Information.\n",
    "clouds= boston_data[\"clouds\"][\"all\"]\n",
    "\n",
    "# Creates a Variable name for Latitude Information.\n",
    "wind= boston_data[\"wind\"][\"speed\"]\n",
    "\n",
    "# Prints out the information inside the Variable names \n",
    "# created in this cell.\n",
    "print(lat,lng,max_temp,humidity,clouds,wind)"
   ]
  },
  {
   "cell_type": "code",
   "execution_count": 53,
   "metadata": {},
   "outputs": [
    {
     "data": {
      "text/plain": [
       "'2019-11-06 00:36:57'"
      ]
     },
     "execution_count": 53,
     "metadata": {},
     "output_type": "execute_result"
    }
   ],
   "source": [
    "# Import the datetime module from the datetime library.\n",
    "from datetime import datetime\n",
    "\n",
    "# Get the date from the JSON file.\n",
    "date= boston_data[\"dt\"]\n",
    "\n",
    "# Convert the UTC date to a date format with year, month, day, \n",
    "# hours, minutes and seconds.\n",
    "datetime.utcfromtimestamp(date).strftime('%Y-%m-%d %H:%M:%S')"
   ]
  },
  {
   "cell_type": "code",
   "execution_count": null,
   "metadata": {},
   "outputs": [],
   "source": []
  }
 ],
 "metadata": {
  "kernelspec": {
   "display_name": "PythonData",
   "language": "python",
   "name": "pythondata"
  },
  "language_info": {
   "codemirror_mode": {
    "name": "ipython",
    "version": 3
   },
   "file_extension": ".py",
   "mimetype": "text/x-python",
   "name": "python",
   "nbconvert_exporter": "python",
   "pygments_lexer": "ipython3",
   "version": "3.6.9"
  }
 },
 "nbformat": 4,
 "nbformat_minor": 2
}
