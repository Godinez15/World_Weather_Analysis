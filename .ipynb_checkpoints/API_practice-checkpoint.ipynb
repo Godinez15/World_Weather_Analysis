{
 "cells": [
  {
   "cell_type": "code",
   "execution_count": 111,
   "metadata": {},
   "outputs": [],
   "source": [
    "# Importig Pandas\n",
    "import pandas as pd\n",
    "\n",
    "# Importig Matplotlib\n",
    "import matplotlib.pyplot as plt\n",
    "\n",
    "# Importing Numpy\n",
    "import numpy as np\n"
   ]
  },
  {
   "cell_type": "code",
   "execution_count": 112,
   "metadata": {},
   "outputs": [
    {
     "data": {
      "text/plain": [
       "<zip at 0x274d0a43388>"
      ]
     },
     "execution_count": 112,
     "metadata": {},
     "output_type": "execute_result"
    }
   ],
   "source": [
    "# Creates a set of random latitude combinations.\n",
    "lats = np.random.uniform(low=-90.000, high=90.000, size=1500)\n",
    "\n",
    "# Creates a set of random longitude combinations.\n",
    "lngs = np.random.uniform(low=-180.000, high=180.000, size=1500)\n",
    "\n",
    "# Zips together under a new variable name both the 'lats' and 'lngs' variables.\n",
    "lat_lngs = zip(lats, lngs)\n",
    "\n",
    "# Prints out the output of the new variable name .\n",
    "lat_lngs \n",
    "\n",
    "# -  The zip object packs each pair of lats and lngs having the \n",
    "#same index in their respective array into a tuple\n"
   ]
  },
  {
   "cell_type": "code",
   "execution_count": 113,
   "metadata": {},
   "outputs": [],
   "source": [
    "# Create a practice set of random latitude and longitude combinations.\n",
    "\n",
    "# Latitude combination.\n",
    "x=[25.12903645, 25.92017388, 26.62509167, -59.98969384, 37.30571269]\n",
    "\n",
    "# Longitude combination.\n",
    "y=[-67.59741259, 11.09532135, 74.84233102, -76.89176677, -61.13376282]\n",
    "\n",
    "# Zipping together both combinations.\n",
    "coordinates=zip(x,y)\n"
   ]
  },
  {
   "cell_type": "code",
   "execution_count": 114,
   "metadata": {},
   "outputs": [
    {
     "name": "stdout",
     "output_type": "stream",
     "text": [
      "25.12903645 -67.59741259\n",
      "25.92017388 11.09532135\n",
      "26.62509167 74.84233102\n",
      "-59.98969384 -76.89176677\n",
      "37.30571269 -61.13376282\n"
     ]
    }
   ],
   "source": [
    "# Use the tuple() function to display the latitude\n",
    "# and longitude combinations.\n",
    "\n",
    "for coordinate in coordinates:\n",
    "    print(coordinate[0], coordinate[1])\n"
   ]
  },
  {
   "cell_type": "code",
   "execution_count": 115,
   "metadata": {},
   "outputs": [],
   "source": [
    "# Use the citipy module to determine city based on latitude and longitude.\n",
    "# Imports citypy into the module.\n",
    "from citipy import citipy"
   ]
  },
  {
   "cell_type": "code",
   "execution_count": 116,
   "metadata": {},
   "outputs": [
    {
     "data": {
      "text/plain": [
       "'3.6.9 |Anaconda, Inc.| (default, Jul 30 2019, 14:00:49) [MSC v.1915 64 bit (AMD64)]'"
      ]
     },
     "execution_count": 116,
     "metadata": {},
     "output_type": "execute_result"
    }
   ],
   "source": [
    "# Imports the Sys module\n",
    "import sys\n",
    "\n",
    "# Checks the version of the sys module.\n",
    "sys.version"
   ]
  },
  {
   "cell_type": "code",
   "execution_count": 117,
   "metadata": {},
   "outputs": [],
   "source": [
    "# Use the tuple() function to display the latitude and\n",
    "# longitude combinations of city_name and country_code.\n",
    "for coordinate in coordinates:\n",
    "    print(citipy.nearest_city(coordinate[0], coordinate[1]).city_name,\n",
    "          citipy.nearest_city(coordinate[0], coordinate[1]).country_code)"
   ]
  },
  {
   "cell_type": "code",
   "execution_count": 118,
   "metadata": {},
   "outputs": [
    {
     "data": {
      "text/plain": [
       "618"
      ]
     },
     "execution_count": 118,
     "metadata": {},
     "output_type": "execute_result"
    }
   ],
   "source": [
    "# Create a list for holding the cities.\n",
    "cities = []\n",
    "\n",
    "# We iterate using a for loop through the lat_lngs tuple, as in our \n",
    "# practice, and retrieve the nearest city using the latitude\n",
    "# and longitude pair.\n",
    "\n",
    "for lat_lng in lat_lngs:\n",
    "    city = citipy.nearest_city(lat_lng[0], lat_lng[1]).city_name\n",
    "\n",
    "# If the city is unique, then we will add it to the cities list.\n",
    "    if city not in cities:\n",
    "        cities.append(city)\n",
    "\n",
    "# Print the city count.\n",
    "len(cities)\n",
    "\n",
    "#     Breaking down the code\n",
    "# 1. We create a cities list to store city names.\n"
   ]
  },
  {
   "cell_type": "code",
   "execution_count": 119,
   "metadata": {},
   "outputs": [],
   "source": [
    "# Import the requests library.\n",
    "import requests\n",
    "\n",
    "# Import the API key.\n",
    "from config import weather_api_key"
   ]
  },
  {
   "cell_type": "code",
   "execution_count": 120,
   "metadata": {},
   "outputs": [
    {
     "name": "stdout",
     "output_type": "stream",
     "text": [
      "http://api.openweathermap.org/data/2.5/weather?units=Imperial&APPID=47ea430ffbc6a3d7f5e1667d3293f52a\n"
     ]
    }
   ],
   "source": [
    "# Starting URL for Weather Map API Call.\n",
    "url = \"http://api.openweathermap.org/data/2.5/weather?units=Imperial&APPID=\" + weather_api_key\n",
    "print(url)"
   ]
  },
  {
   "cell_type": "code",
   "execution_count": 121,
   "metadata": {},
   "outputs": [
    {
     "name": "stdout",
     "output_type": "stream",
     "text": [
      "http://api.openweathermap.org/data/2.5/weather?units=Imperial&APPID=47ea430ffbc6a3d7f5e1667d3293f52a&q=Boston\n"
     ]
    }
   ],
   "source": [
    "# Create an endpoint URL for a city.\n",
    "city_url= url + \"&q=\" + \"Boston\"\n",
    "\n",
    "# Prints out the endpoint URL\n",
    "print(city_url)\n",
    "\n",
    "#  - we are creating a string to get the weather data for\n",
    "# Boston by using the city_url\n",
    "\n",
    "#  - To create the city_url we add the parameter, &q= and \n",
    "# “Boston” to the url."
   ]
  },
  {
   "cell_type": "code",
   "execution_count": 122,
   "metadata": {},
   "outputs": [
    {
     "data": {
      "text/plain": [
       "<Response [200]>"
      ]
     },
     "execution_count": 122,
     "metadata": {},
     "output_type": "execute_result"
    }
   ],
   "source": [
    "# Make a 'Get' request for the city weather.\n",
    "city_weather= requests.get(city_url)\n",
    "\n",
    "# Prints out the 'Get' request.\n",
    "city_weather"
   ]
  },
  {
   "cell_type": "code",
   "execution_count": 123,
   "metadata": {},
   "outputs": [
    {
     "data": {
      "text/plain": [
       "200"
      ]
     },
     "execution_count": 123,
     "metadata": {},
     "output_type": "execute_result"
    }
   ],
   "source": [
    "# call the response code with the get() method using the \n",
    "# status_code\n",
    "\n",
    "city_weather.status_code"
   ]
  },
  {
   "cell_type": "code",
   "execution_count": 124,
   "metadata": {},
   "outputs": [
    {
     "data": {
      "text/plain": [
       "<Response [404]>"
      ]
     },
     "execution_count": 124,
     "metadata": {},
     "output_type": "execute_result"
    }
   ],
   "source": [
    "# Create an endpoint URL for a city.\n",
    "# With Incorrect spelling of the city.\n",
    "\n",
    "city_url= url + \"&q=\" + \"Bston\"\n",
    "city_weather= requests.get(city_url)\n",
    "city_weather"
   ]
  },
  {
   "cell_type": "code",
   "execution_count": 125,
   "metadata": {},
   "outputs": [
    {
     "data": {
      "text/plain": [
       "<Response [200]>"
      ]
     },
     "execution_count": 125,
     "metadata": {},
     "output_type": "execute_result"
    }
   ],
   "source": [
    "# Create an endpoint URL for a city.\n",
    "# With Correct spelling of the city.\n",
    "\n",
    "city_url= url + \"&q=\" + \"Boston\"\n",
    "city_weather= requests.get(city_url)\n",
    "city_weather"
   ]
  },
  {
   "cell_type": "code",
   "execution_count": 126,
   "metadata": {},
   "outputs": [
    {
     "data": {
      "text/plain": [
       "'{\"coord\":{\"lon\":-71.06,\"lat\":42.36},\"weather\":[{\"id\":800,\"main\":\"Clear\",\"description\":\"clear sky\",\"icon\":\"01n\"}],\"base\":\"stations\",\"main\":{\"temp\":32.23,\"pressure\":1027,\"humidity\":86,\"temp_min\":27,\"temp_max\":37.99},\"visibility\":16093,\"wind\":{\"speed\":4.7,\"deg\":234},\"rain\":{},\"clouds\":{\"all\":1},\"dt\":1573101337,\"sys\":{\"type\":1,\"id\":5255,\"country\":\"US\",\"sunrise\":1573039407,\"sunset\":1573075935},\"timezone\":-18000,\"id\":4930956,\"name\":\"Boston\",\"cod\":200}'"
      ]
     },
     "execution_count": 126,
     "metadata": {},
     "output_type": "execute_result"
    }
   ],
   "source": [
    "# Get a text of the 'Get' request.\n",
    "city_weather.text"
   ]
  },
  {
   "cell_type": "code",
   "execution_count": 127,
   "metadata": {},
   "outputs": [
    {
     "data": {
      "text/plain": [
       "{'coord': {'lon': -71.06, 'lat': 42.36},\n",
       " 'weather': [{'id': 800,\n",
       "   'main': 'Clear',\n",
       "   'description': 'clear sky',\n",
       "   'icon': '01n'}],\n",
       " 'base': 'stations',\n",
       " 'main': {'temp': 32.23,\n",
       "  'pressure': 1027,\n",
       "  'humidity': 86,\n",
       "  'temp_min': 27,\n",
       "  'temp_max': 37.99},\n",
       " 'visibility': 16093,\n",
       " 'wind': {'speed': 4.7, 'deg': 234},\n",
       " 'rain': {},\n",
       " 'clouds': {'all': 1},\n",
       " 'dt': 1573101337,\n",
       " 'sys': {'type': 1,\n",
       "  'id': 5255,\n",
       "  'country': 'US',\n",
       "  'sunrise': 1573039407,\n",
       "  'sunset': 1573075935},\n",
       " 'timezone': -18000,\n",
       " 'id': 4930956,\n",
       " 'name': 'Boston',\n",
       " 'cod': 200}"
      ]
     },
     "execution_count": 127,
     "metadata": {},
     "output_type": "execute_result"
    }
   ],
   "source": [
    "# Get a JSON of the 'Get' request.\n",
    "city_weather.json()"
   ]
  },
  {
   "cell_type": "code",
   "execution_count": 128,
   "metadata": {},
   "outputs": [
    {
     "name": "stdout",
     "output_type": "stream",
     "text": [
      "City Weather found.\n"
     ]
    }
   ],
   "source": [
    "# Create an endpoint URL for a city.\n",
    "city_url + \"&q=\" + \"Boston\"\n",
    "city_weather= requests.get(city_url)\n",
    "if city_weather.status_code== 200:\n",
    "    print(f\"City Weather found.\")\n",
    "else:\n",
    "    print(f\"City Weather not found.\")"
   ]
  },
  {
   "cell_type": "code",
   "execution_count": 129,
   "metadata": {},
   "outputs": [
    {
     "name": "stdout",
     "output_type": "stream",
     "text": [
      "City Weather found.\n"
     ]
    }
   ],
   "source": [
    "# Create an endpoint URL for a city.\n",
    "city_url + \"&q=\" + \"Bston\"\n",
    "city_weather= requests.get(city_url)\n",
    "if city_weather.json():\n",
    "    print(f\"City Weather found.\")\n",
    "else:\n",
    "    print(f\"City Weather not found.\")"
   ]
  },
  {
   "cell_type": "code",
   "execution_count": 130,
   "metadata": {},
   "outputs": [
    {
     "name": "stdout",
     "output_type": "stream",
     "text": [
      "http://api.openweathermap.org/data/2.5/weather?units=Imperial&APPID=47ea430ffbc6a3d7f5e1667d3293f52a&q=Boston\n"
     ]
    }
   ],
   "source": [
    "print(city_url)"
   ]
  },
  {
   "cell_type": "code",
   "execution_count": 131,
   "metadata": {},
   "outputs": [
    {
     "data": {
      "text/plain": [
       "{'coord': {'lon': -71.06, 'lat': 42.36},\n",
       " 'weather': [{'id': 800,\n",
       "   'main': 'Clear',\n",
       "   'description': 'clear sky',\n",
       "   'icon': '01n'}],\n",
       " 'base': 'stations',\n",
       " 'main': {'temp': 32.23,\n",
       "  'pressure': 1027,\n",
       "  'humidity': 86,\n",
       "  'temp_min': 27,\n",
       "  'temp_max': 37.99},\n",
       " 'visibility': 16093,\n",
       " 'wind': {'speed': 4.7, 'deg': 234},\n",
       " 'rain': {},\n",
       " 'clouds': {'all': 1},\n",
       " 'dt': 1573101337,\n",
       " 'sys': {'type': 1,\n",
       "  'id': 5255,\n",
       "  'country': 'US',\n",
       "  'sunrise': 1573039407,\n",
       "  'sunset': 1573075935},\n",
       " 'timezone': -18000,\n",
       " 'id': 4930956,\n",
       " 'name': 'Boston',\n",
       " 'cod': 200}"
      ]
     },
     "execution_count": 131,
     "metadata": {},
     "output_type": "execute_result"
    }
   ],
   "source": [
    "# Get the JSON data.\n",
    "boston_data= city_weather.json()\n",
    "boston_data"
   ]
  },
  {
   "cell_type": "code",
   "execution_count": 132,
   "metadata": {},
   "outputs": [
    {
     "data": {
      "text/plain": [
       "'US'"
      ]
     },
     "execution_count": 132,
     "metadata": {},
     "output_type": "execute_result"
    }
   ],
   "source": [
    "boston_data[\"sys\"][\"country\"]"
   ]
  },
  {
   "cell_type": "code",
   "execution_count": 133,
   "metadata": {},
   "outputs": [
    {
     "data": {
      "text/plain": [
       "1573101337"
      ]
     },
     "execution_count": 133,
     "metadata": {},
     "output_type": "execute_result"
    }
   ],
   "source": [
    "boston_data[\"dt\"]"
   ]
  },
  {
   "cell_type": "code",
   "execution_count": 134,
   "metadata": {},
   "outputs": [
    {
     "name": "stdout",
     "output_type": "stream",
     "text": [
      "42.36 -71.06 37.99 86 1 4.7\n"
     ]
    }
   ],
   "source": [
    "# Creates a Variable name for Latitude Information.\n",
    "lat= boston_data[\"coord\"][\"lat\"]\n",
    "\n",
    "# Creates a Variable name for Longitude Information.\n",
    "lng= boston_data[\"coord\"][\"lon\"]\n",
    "\n",
    "# Creates a Variable name for Max Tempature Information.\n",
    "max_temp= boston_data[\"main\"][\"temp_max\"]\n",
    "\n",
    "# Creates a Variable name for Humidity Information.\n",
    "humidity= boston_data[\"main\"][\"humidity\"]\n",
    "\n",
    "# Creates a Variable name for Clouds Information.\n",
    "clouds= boston_data[\"clouds\"][\"all\"]\n",
    "\n",
    "# Creates a Variable name for Latitude Information.\n",
    "wind= boston_data[\"wind\"][\"speed\"]\n",
    "\n",
    "# Prints out the information inside the Variable names \n",
    "# created in this cell.\n",
    "print(lat,lng,max_temp,humidity,clouds,wind)"
   ]
  },
  {
   "cell_type": "code",
   "execution_count": 135,
   "metadata": {},
   "outputs": [
    {
     "data": {
      "text/plain": [
       "'2019-11-07 04:35:37'"
      ]
     },
     "execution_count": 135,
     "metadata": {},
     "output_type": "execute_result"
    }
   ],
   "source": [
    "# Import the datetime module from the datetime library.\n",
    "from datetime import datetime\n",
    "\n",
    "# Get the date from the JSON file.\n",
    "date= boston_data[\"dt\"]\n",
    "\n",
    "# Convert the UTC date to a date format with year, month, day, \n",
    "# hours, minutes and seconds.\n",
    "datetime.utcfromtimestamp(date).strftime('%Y-%m-%d %H:%M:%S')"
   ]
  },
  {
   "cell_type": "code",
   "execution_count": 136,
   "metadata": {},
   "outputs": [
    {
     "name": "stdout",
     "output_type": "stream",
     "text": [
      "http://api.openweathermap.org/data/2.5/weather?units=Imperial&APPID=47ea430ffbc6a3d7f5e1667d3293f52a\n",
      "http://api.openweathermap.org/data/2.5/weather?units=Imperial&APPID=47ea430ffbc6a3d7f5e1667d3293f52a&q=Boston\n"
     ]
    }
   ],
   "source": [
    "# Build the basic URL for the OpenWeatherMap with your weather-\n",
    "#_api_key added to the URL.\n",
    "url = \"http://api.openweathermap.org/data/2.5/weather?units=Imperial&APPID=\" + weather_api_key\n",
    "\n",
    "# Declares the url variable.\n",
    "print(url)\n",
    "\n",
    "# Declares the city_url variable.\n",
    "city_url= url + \"&q=\" + \"Boston\"\n",
    "\n",
    "# Prints the city_url variable.\n",
    "print(city_url)"
   ]
  },
  {
   "cell_type": "code",
   "execution_count": 137,
   "metadata": {},
   "outputs": [],
   "source": [
    "# Import the datetime module from the datetime library.\n",
    "from datetime import datetime"
   ]
  },
  {
   "cell_type": "code",
   "execution_count": 138,
   "metadata": {},
   "outputs": [
    {
     "name": "stdout",
     "output_type": "stream",
     "text": [
      "Beginning Data Retrieval  \n",
      "--------------------------\n"
     ]
    }
   ],
   "source": [
    "# Creates an empty list to hold the  data.\n",
    "city_data=[]\n",
    "\n",
    "# Print the beginning of the logging.\n",
    "print(\"Beginning Data Retrieval  \")\n",
    "print(\"--------------------------\")\n",
    "\n",
    "# Create the counters.\n",
    "# we have initialized the counters at 1 because we want the \n",
    "#first iteration of the logging for each recorded response\n",
    "record_count=1\n",
    "\n",
    "# Set to start at 1.\n",
    "set_count=1"
   ]
  },
  {
   "cell_type": "code",
   "execution_count": 139,
   "metadata": {},
   "outputs": [],
   "source": [
    "# Loop through all the cities in our list.\n",
    "for i in range(len(cities)):\n",
    "\n",
    "    # Group cities in sets of 50 for logging purposes.\n",
    "    if (i % 50 == 0 and i >= 50):\n",
    "        set_count += 1\n",
    "        record_count = 1\n",
    "    # Create endpoint URL with each city.\n",
    "    city_url = url + \"&q=\" + \"i\""
   ]
  },
  {
   "cell_type": "code",
   "execution_count": 140,
   "metadata": {},
   "outputs": [
    {
     "data": {
      "text/plain": [
       "597"
      ]
     },
     "execution_count": 140,
     "metadata": {},
     "output_type": "execute_result"
    }
   ],
   "source": [
    "import numpy as np\n",
    "\n",
    "np.random.seed(42)\n",
    "lats = np.random.uniform(low=-90.000, high=90.000, size=1500)\n",
    "lngs = np.random.uniform(low=-180.000, high=180.000, size=1500)\n",
    "lat_lngs = list(zip(lats, lngs))\n",
    "lat_lngs \n",
    "\n",
    "# Use the citipy module to determine city based on latitude and longitude.\n",
    "from citipy import citipy\n",
    "\n",
    "# Create a list for holding the cities.\n",
    "cities = []\n",
    "# Identify the nearest city for each latitude and longitude combination.\n",
    "for lat_lng in lat_lngs:\n",
    "    city = citipy.nearest_city(lat_lng[0], lat_lng[1]).city_name\n",
    "\n",
    "    # If the city is unique, then we will add it to the cities list.\n",
    "    if city not in cities:\n",
    "        cities.append(city)\n",
    "# Print the city count to confirm sufficient count.\n",
    "len(cities)"
   ]
  },
  {
   "cell_type": "code",
   "execution_count": 141,
   "metadata": {},
   "outputs": [
    {
     "name": "stdout",
     "output_type": "stream",
     "text": [
      "http://api.openweathermap.org/data/2.5/weather?units=Imperial&APPID=47ea430ffbc6a3d7f5e1667d3293f52a\n"
     ]
    }
   ],
   "source": [
    "\n",
    "print(url)"
   ]
  },
  {
   "cell_type": "code",
   "execution_count": 142,
   "metadata": {},
   "outputs": [
    {
     "name": "stdout",
     "output_type": "stream",
     "text": [
      "City found , max temp was  60.53\n",
      "City not found. Skipping...\n",
      "City found , max temp was  35.6\n",
      "City found , max temp was  48.2\n",
      "City found , max temp was  33.8\n",
      "City found , max temp was  47.25\n",
      "City found , max temp was  59.79\n",
      "City found , max temp was  32\n",
      "City not found. Skipping...\n",
      "City found , max temp was  52.03\n",
      "City found , max temp was  39.2\n",
      "City found , max temp was  -11.48\n",
      "City found , max temp was  37.62\n",
      "City found , max temp was  77\n",
      "City found , max temp was  34.03\n",
      "City not found. Skipping...\n",
      "City found , max temp was  83.71\n",
      "City found , max temp was  63.84\n",
      "City found , max temp was  78.8\n",
      "City found , max temp was  80.6\n",
      "City found , max temp was  91.4\n",
      "City found , max temp was  60.8\n",
      "City found , max temp was  58.93\n",
      "City found , max temp was  68.9\n",
      "City found , max temp was  15.8\n",
      "City found , max temp was  35.6\n",
      "City found , max temp was  48.9\n",
      "City not found. Skipping...\n",
      "City found , max temp was  59\n",
      "City not found. Skipping...\n",
      "City found , max temp was  62.01\n",
      "City found , max temp was  78.01\n",
      "City found , max temp was  0.01\n",
      "City found , max temp was  34\n",
      "City found , max temp was  76.73\n",
      "City found , max temp was  69.8\n",
      "City found , max temp was  77\n",
      "City found , max temp was  39.99\n",
      "City found , max temp was  80.02\n",
      "City found , max temp was  54.72\n",
      "City found , max temp was  51.8\n",
      "City found , max temp was  73.71\n",
      "City found , max temp was  80.6\n",
      "City found , max temp was  64.4\n",
      "City found , max temp was  28.04\n",
      "City found , max temp was  55.45\n",
      "City found , max temp was  -23.5\n",
      "City not found. Skipping...\n",
      "City not found. Skipping...\n",
      "City found , max temp was  10\n",
      "City found , max temp was  58.73\n",
      "City found , max temp was  50\n",
      "City found , max temp was  75.2\n",
      "City found , max temp was  70.11\n",
      "City found , max temp was  41.65\n",
      "City found , max temp was  17.13\n",
      "City found , max temp was  56.73\n",
      "City found , max temp was  74.12\n",
      "City found , max temp was  35.01\n",
      "City found , max temp was  46.99\n",
      "City not found. Skipping...\n",
      "City found , max temp was  33.8\n",
      "City found , max temp was  77\n",
      "City found , max temp was  5\n",
      "City found , max temp was  66.83\n",
      "City found , max temp was  72.64\n",
      "City found , max temp was  59\n",
      "City found , max temp was  35.6\n",
      "City found , max temp was  44.65\n",
      "City found , max temp was  82.51\n",
      "City found , max temp was  25\n",
      "City found , max temp was  46.4\n",
      "City found , max temp was  78.8\n",
      "City found , max temp was  75.07\n",
      "City found , max temp was  64.8\n",
      "City found , max temp was  79.36\n",
      "City found , max temp was  80.89\n",
      "City found , max temp was  50\n",
      "City found , max temp was  82\n",
      "City found , max temp was  53.6\n",
      "City found , max temp was  78.8\n",
      "City found , max temp was  54.16\n",
      "City found , max temp was  60.01\n",
      "City found , max temp was  40.24\n",
      "City found , max temp was  66\n",
      "City not found. Skipping...\n",
      "City found , max temp was  24.8\n",
      "City found , max temp was  82.4\n",
      "City found , max temp was  7.03\n",
      "City found , max temp was  30.34\n",
      "City found , max temp was  27.95\n",
      "City found , max temp was  80.74\n",
      "City found , max temp was  48.99\n",
      "City found , max temp was  55.4\n",
      "City found , max temp was  79\n",
      "City found , max temp was  14\n",
      "City found , max temp was  32\n",
      "City found , max temp was  77.67\n",
      "City not found. Skipping...\n",
      "City found , max temp was  70\n",
      "City found , max temp was  10.92\n",
      "City found , max temp was  78.75\n",
      "City found , max temp was  57.2\n",
      "City found , max temp was  82.4\n",
      "City found , max temp was  66.2\n",
      "City found , max temp was  79.41\n",
      "City not found. Skipping...\n",
      "City found , max temp was  59\n",
      "City found , max temp was  86.23\n",
      "City found , max temp was  79\n",
      "City found , max temp was  27.25\n",
      "City found , max temp was  42.8\n",
      "City found , max temp was  74.82\n",
      "City found , max temp was  61.66\n",
      "City found , max temp was  70.2\n",
      "City not found. Skipping...\n",
      "City found , max temp was  60.8\n",
      "City found , max temp was  73.4\n",
      "City found , max temp was  64.4\n",
      "City found , max temp was  71.38\n",
      "City found , max temp was  55.99\n",
      "City found , max temp was  -2.24\n",
      "City found , max temp was  43\n",
      "City found , max temp was  60.94\n",
      "City found , max temp was  83.66\n",
      "City found , max temp was  50\n",
      "City found , max temp was  80.6\n",
      "City found , max temp was  74.1\n",
      "City found , max temp was  17.6\n",
      "City found , max temp was  63.72\n",
      "City not found. Skipping...\n",
      "City found , max temp was  -11.21\n",
      "City found , max temp was  75.2\n",
      "City found , max temp was  35.42\n",
      "City found , max temp was  72.91\n",
      "City found , max temp was  69.31\n",
      "City found , max temp was  28.4\n",
      "City found , max temp was  24.8\n",
      "City found , max temp was  75.2\n",
      "City found , max temp was  60.8\n",
      "City found , max temp was  82.4\n",
      "City found , max temp was  21.2\n",
      "City found , max temp was  19.02\n",
      "City found , max temp was  45\n",
      "City found , max temp was  84.72\n",
      "City found , max temp was  73.4\n",
      "City not found. Skipping...\n",
      "City found , max temp was  80.01\n",
      "City found , max temp was  69.01\n",
      "City found , max temp was  73.99\n",
      "City found , max temp was  75.2\n",
      "City not found. Skipping...\n",
      "City found , max temp was  51.8\n",
      "City found , max temp was  83.93\n",
      "City found , max temp was  32\n",
      "City not found. Skipping...\n",
      "City found , max temp was  79\n",
      "City found , max temp was  71.6\n",
      "City found , max temp was  32\n",
      "City found , max temp was  95\n",
      "City found , max temp was  -8.72\n",
      "City found , max temp was  35.6\n",
      "City not found. Skipping...\n",
      "City found , max temp was  69.01\n",
      "City found , max temp was  30.2\n",
      "City found , max temp was  82.29\n",
      "City found , max temp was  28.17\n",
      "City not found. Skipping...\n",
      "City found , max temp was  64.4\n",
      "City found , max temp was  -11.62\n",
      "City found , max temp was  77\n",
      "City found , max temp was  37.99\n",
      "City not found. Skipping...\n",
      "City found , max temp was  75.2\n",
      "City found , max temp was  71.92\n",
      "City found , max temp was  44.01\n",
      "City not found. Skipping...\n",
      "City found , max temp was  89.6\n",
      "City found , max temp was  73.45\n",
      "City found , max temp was  36.52\n",
      "City found , max temp was  68\n",
      "City found , max temp was  48.99\n",
      "City found , max temp was  10.96\n",
      "City found , max temp was  64\n",
      "City found , max temp was  78.8\n",
      "City found , max temp was  84.2\n",
      "City found , max temp was  68.13\n",
      "City found , max temp was  79.74\n",
      "City found , max temp was  39.99\n",
      "City found , max temp was  79\n",
      "City not found. Skipping...\n",
      "City found , max temp was  78.51\n",
      "City found , max temp was  82.06\n",
      "City found , max temp was  48.2\n",
      "City found , max temp was  14.23\n",
      "City not found. Skipping...\n",
      "City found , max temp was  48\n",
      "City found , max temp was  32.97\n",
      "City not found. Skipping...\n",
      "City found , max temp was  78.01\n",
      "City found , max temp was  48.99\n",
      "City not found. Skipping...\n",
      "City found , max temp was  54\n",
      "City found , max temp was  86.13\n",
      "City found , max temp was  27.93\n",
      "City found , max temp was  55.4\n",
      "City found , max temp was  5\n",
      "City found , max temp was  53.6\n",
      "City found , max temp was  84.18\n",
      "City found , max temp was  81.01\n",
      "City found , max temp was  75.2\n",
      "City found , max temp was  67.35\n",
      "City found , max temp was  80.6\n",
      "City found , max temp was  51.8\n",
      "City found , max temp was  82.4\n",
      "City found , max temp was  96.8\n",
      "City found , max temp was  80.6\n",
      "City found , max temp was  68.77\n",
      "City found , max temp was  32.56\n",
      "City found , max temp was  60.31\n",
      "City not found. Skipping...\n",
      "City found , max temp was  87.8\n",
      "City not found. Skipping...\n",
      "City found , max temp was  84.2\n",
      "City found , max temp was  73.62\n",
      "City found , max temp was  6.13\n",
      "City found , max temp was  66.47\n",
      "City found , max temp was  41.36\n",
      "City found , max temp was  20.21\n",
      "City found , max temp was  17.6\n",
      "City found , max temp was  59.59\n",
      "City found , max temp was  69.8\n",
      "City found , max temp was  65.57\n",
      "City found , max temp was  37.4\n",
      "City found , max temp was  51.8\n",
      "City found , max temp was  81\n",
      "City found , max temp was  70.93\n",
      "City found , max temp was  55.99\n",
      "City found , max temp was  52.34\n",
      "City found , max temp was  14.9\n",
      "City found , max temp was  46\n",
      "City found , max temp was  23\n",
      "City found , max temp was  41\n",
      "City found , max temp was  30\n",
      "City found , max temp was  81.9\n",
      "City found , max temp was  74.25\n",
      "City found , max temp was  23.97\n",
      "City found , max temp was  70\n",
      "City found , max temp was  18.68\n",
      "City found , max temp was  78.51\n",
      "City found , max temp was  61\n",
      "City found , max temp was  28.94\n",
      "City not found. Skipping...\n",
      "City found , max temp was  79.56\n",
      "City found , max temp was  45\n",
      "City found , max temp was  54\n",
      "City found , max temp was  59\n",
      "City not found. Skipping...\n",
      "City found , max temp was  53.6\n"
     ]
    },
    {
     "name": "stdout",
     "output_type": "stream",
     "text": [
      "City found , max temp was  73\n",
      "City found , max temp was  26.6\n",
      "City not found. Skipping...\n",
      "City found , max temp was  28.54\n",
      "City found , max temp was  46\n",
      "City not found. Skipping...\n",
      "City found , max temp was  82.4\n",
      "City found , max temp was  64.4\n",
      "City not found. Skipping...\n",
      "City found , max temp was  83.75\n",
      "City found , max temp was  73.4\n",
      "City found , max temp was  38.77\n",
      "City found , max temp was  78.8\n",
      "City found , max temp was  12.2\n",
      "City found , max temp was  83.7\n",
      "City found , max temp was  21.2\n",
      "City found , max temp was  51.91\n",
      "City found , max temp was  19.4\n",
      "City found , max temp was  72.1\n",
      "City not found. Skipping...\n",
      "City found , max temp was  60.01\n",
      "City found , max temp was  53.6\n",
      "City found , max temp was  66.4\n",
      "City found , max temp was  63\n",
      "City found , max temp was  50\n",
      "City found , max temp was  83.16\n",
      "City found , max temp was  36\n",
      "City found , max temp was  67.95\n",
      "City found , max temp was  73\n",
      "City found , max temp was  14\n",
      "City found , max temp was  60.01\n",
      "City found , max temp was  29.43\n",
      "City found , max temp was  48.2\n",
      "City found , max temp was  71.8\n",
      "City found , max temp was  24.66\n",
      "City found , max temp was  83.77\n",
      "City not found. Skipping...\n",
      "City found , max temp was  65.59\n",
      "City found , max temp was  66.99\n",
      "City found , max temp was  4.89\n",
      "City found , max temp was  8.6\n",
      "City found , max temp was  56.21\n",
      "City found , max temp was  31.82\n",
      "City found , max temp was  78.8\n",
      "City found , max temp was  79.7\n",
      "City found , max temp was  72.68\n",
      "City found , max temp was  -17.27\n",
      "City found , max temp was  95\n",
      "City found , max temp was  76.24\n",
      "City found , max temp was  84.2\n",
      "City found , max temp was  74.48\n",
      "City found , max temp was  68.65\n",
      "City found , max temp was  46.99\n",
      "City found , max temp was  -8.83\n",
      "City not found. Skipping...\n",
      "City not found. Skipping...\n",
      "City found , max temp was  78.8\n",
      "City found , max temp was  75.94\n",
      "City found , max temp was  57.2\n",
      "City found , max temp was  23\n",
      "City found , max temp was  97.36\n",
      "City found , max temp was  60.8\n",
      "City found , max temp was  72.88\n",
      "City found , max temp was  53.6\n",
      "City found , max temp was  96.01\n",
      "City found , max temp was  74.07\n",
      "City found , max temp was  6.8\n",
      "City found , max temp was  4.3\n",
      "City found , max temp was  25.3\n",
      "City found , max temp was  88.34\n",
      "City found , max temp was  48.99\n",
      "City found , max temp was  72.48\n",
      "City found , max temp was  62.6\n",
      "City found , max temp was  73.8\n",
      "City found , max temp was  75\n",
      "City found , max temp was  84.74\n",
      "City found , max temp was  95\n",
      "City found , max temp was  61.27\n",
      "City found , max temp was  80.6\n",
      "City found , max temp was  44.01\n",
      "City found , max temp was  82.15\n",
      "City found , max temp was  43.57\n",
      "City found , max temp was  71.6\n",
      "City found , max temp was  76.87\n",
      "City found , max temp was  82.87\n",
      "City found , max temp was  53.01\n",
      "City found , max temp was  56.84\n",
      "City found , max temp was  84.85\n",
      "City found , max temp was  71.6\n",
      "City found , max temp was  10.4\n",
      "City found , max temp was  42.01\n",
      "City found , max temp was  84.81\n",
      "City not found. Skipping...\n",
      "City found , max temp was  41.38\n",
      "City found , max temp was  90\n",
      "City found , max temp was  87.13\n",
      "City found , max temp was  72.91\n",
      "City found , max temp was  71.76\n",
      "City found , max temp was  9.63\n",
      "City found , max temp was  72\n",
      "City found , max temp was  36.32\n",
      "City not found. Skipping...\n",
      "City found , max temp was  82.4\n",
      "City found , max temp was  70\n",
      "City not found. Skipping...\n",
      "City found , max temp was  42.62\n",
      "City found , max temp was  84.76\n",
      "City found , max temp was  10\n",
      "City found , max temp was  14.49\n",
      "City found , max temp was  62.6\n",
      "City found , max temp was  91.31\n",
      "City found , max temp was  55\n",
      "City not found. Skipping...\n",
      "City found , max temp was  60.04\n",
      "City not found. Skipping...\n",
      "City not found. Skipping...\n",
      "City found , max temp was  82.76\n",
      "City found , max temp was  80.6\n",
      "City found , max temp was  40.08\n",
      "City found , max temp was  80.19\n",
      "City found , max temp was  39.72\n",
      "City found , max temp was  55\n",
      "City found , max temp was  86.76\n",
      "City found , max temp was  56.43\n",
      "City found , max temp was  10.96\n",
      "City found , max temp was  34.45\n",
      "City found , max temp was  48.99\n",
      "City not found. Skipping...\n",
      "City found , max temp was  48.99\n",
      "City found , max temp was  41\n",
      "City found , max temp was  70\n",
      "City found , max temp was  62.67\n",
      "City found , max temp was  69.73\n",
      "City found , max temp was  9.54\n",
      "City found , max temp was  79.2\n",
      "City found , max temp was  70.59\n",
      "City found , max temp was  78.96\n",
      "City found , max temp was  18.07\n",
      "City not found. Skipping...\n",
      "City found , max temp was  14\n",
      "City found , max temp was  82.71\n",
      "City found , max temp was  24.66\n",
      "City found , max temp was  44.13\n",
      "City found , max temp was  84.2\n",
      "City found , max temp was  58.53\n",
      "City not found. Skipping...\n",
      "City found , max temp was  82.4\n",
      "City found , max temp was  67.32\n",
      "City found , max temp was  80.6\n",
      "City found , max temp was  71.96\n",
      "City not found. Skipping...\n",
      "City found , max temp was  76.21\n",
      "City found , max temp was  60.8\n",
      "City found , max temp was  69.8\n",
      "City found , max temp was  82.53\n",
      "City found , max temp was  18.37\n",
      "City found , max temp was  83.84\n",
      "City found , max temp was  78.39\n",
      "City found , max temp was  39.99\n",
      "City found , max temp was  68.95\n",
      "City found , max temp was  68\n",
      "City found , max temp was  24.01\n",
      "City found , max temp was  12.2\n",
      "City found , max temp was  37.4\n",
      "City found , max temp was  73.99\n",
      "City found , max temp was  75.2\n",
      "City found , max temp was  26.6\n",
      "City found , max temp was  48.2\n",
      "City not found. Skipping...\n",
      "City found , max temp was  72.77\n",
      "City found , max temp was  26.71\n",
      "City found , max temp was  14\n",
      "City found , max temp was  62.6\n",
      "City found , max temp was  37\n",
      "City found , max temp was  3.74\n",
      "City found , max temp was  50\n",
      "City not found. Skipping...\n",
      "City found , max temp was  78.8\n",
      "City found , max temp was  46.4\n",
      "City found , max temp was  87.8\n",
      "City found , max temp was  80.1\n",
      "City found , max temp was  37.99\n",
      "City found , max temp was  82.04\n",
      "City found , max temp was  83.46\n",
      "City found , max temp was  74.28\n",
      "City found , max temp was  73.4\n",
      "City found , max temp was  69.8\n",
      "City found , max temp was  48.2\n",
      "City found , max temp was  72.86\n",
      "City found , max temp was  17.6\n",
      "City found , max temp was  60.01\n",
      "City not found. Skipping...\n",
      "City not found. Skipping...\n",
      "City not found. Skipping...\n",
      "City found , max temp was  69.13\n",
      "City found , max temp was  45\n",
      "City found , max temp was  22.93\n",
      "City found , max temp was  78.39\n",
      "City found , max temp was  84.99\n",
      "City found , max temp was  10.4\n",
      "City found , max temp was  68\n",
      "City found , max temp was  53.15\n",
      "City not found. Skipping...\n",
      "City not found. Skipping...\n",
      "City found , max temp was  57.51\n",
      "City not found. Skipping...\n",
      "City found , max temp was  82.45\n",
      "City found , max temp was  59\n",
      "City found , max temp was  81.28\n",
      "City found , max temp was  35.15\n",
      "City found , max temp was  24.8\n",
      "City found , max temp was  38.37\n",
      "City found , max temp was  82.4\n",
      "City found , max temp was  46.99\n",
      "City found , max temp was  59.14\n",
      "City found , max temp was  70.86\n",
      "City found , max temp was  -11.21\n",
      "City found , max temp was  77.77\n",
      "City found , max temp was  41\n",
      "City found , max temp was  81.3\n",
      "City found , max temp was  72.52\n",
      "City found , max temp was  32\n",
      "City found , max temp was  32.77\n",
      "City found , max temp was  80.65\n",
      "City found , max temp was  65.44\n",
      "City found , max temp was  83.5\n",
      "City found , max temp was  19.4\n",
      "City found , max temp was  26.33\n",
      "City found , max temp was  72.34\n",
      "City found , max temp was  36.41\n",
      "City found , max temp was  79\n",
      "City found , max temp was  41\n",
      "City found , max temp was  51.28\n",
      "City found , max temp was  84.09\n",
      "City found , max temp was  83.68\n",
      "City found , max temp was  75.07\n",
      "City found , max temp was  57\n",
      "City found , max temp was  57.2\n",
      "City found , max temp was  37.44\n",
      "City found , max temp was  75.25\n",
      "City found , max temp was  82.4\n",
      "City not found. Skipping...\n",
      "City not found. Skipping...\n",
      "City found , max temp was  37.4\n",
      "City found , max temp was  64.4\n",
      "City found , max temp was  82.33\n",
      "City found , max temp was  66.2\n",
      "City found , max temp was  69.69\n",
      "City found , max temp was  39\n",
      "City found , max temp was  70.77\n",
      "City found , max temp was  21.2\n",
      "City not found. Skipping...\n",
      "City found , max temp was  63.27\n",
      "City found , max temp was  30\n",
      "City found , max temp was  41\n",
      "City not found. Skipping...\n",
      "City found , max temp was  93.4\n",
      "City found , max temp was  79.57\n"
     ]
    },
    {
     "name": "stdout",
     "output_type": "stream",
     "text": [
      "City found , max temp was  78.8\n",
      "City found , max temp was  78.8\n",
      "City found , max temp was  73.4\n",
      "City found , max temp was  6.8\n",
      "City found , max temp was  3.99\n",
      "City found , max temp was  58.48\n",
      "City found , max temp was  76.84\n",
      "City found , max temp was  41.23\n",
      "City found , max temp was  77.4\n",
      "City found , max temp was  69.26\n",
      "City not found. Skipping...\n",
      "City found , max temp was  35.28\n",
      "City found , max temp was  73.33\n",
      "City found , max temp was  77\n",
      "City found , max temp was  70.14\n",
      "City found , max temp was  60.01\n",
      "City found , max temp was  42.8\n",
      "City not found. Skipping...\n",
      "City found , max temp was  58.5\n",
      "City found , max temp was  21\n",
      "City found , max temp was  45.39\n",
      "City not found. Skipping...\n",
      "City found , max temp was  72.32\n",
      "City found , max temp was  86.67\n",
      "City found , max temp was  78.8\n",
      "City found , max temp was  15.03\n",
      "City found , max temp was  71.94\n",
      "City found , max temp was  41\n",
      "City found , max temp was  54.7\n",
      "City found , max temp was  3.65\n",
      "City found , max temp was  50\n",
      "City found , max temp was  74.98\n",
      "City found , max temp was  71.01\n",
      "City found , max temp was  30.2\n",
      "City found , max temp was  66.2\n",
      "City found , max temp was  39.99\n",
      "City found , max temp was  0.54\n",
      "City found , max temp was  35.6\n",
      "City found , max temp was  82.4\n",
      "City found , max temp was  82.71\n",
      "City found , max temp was  105.8\n",
      "City found , max temp was  96.8\n",
      "City found , max temp was  48.99\n",
      "City found , max temp was  80.04\n",
      "City found , max temp was  80.28\n",
      "City found , max temp was  -3.48\n",
      "City found , max temp was  77.13\n",
      "City not found. Skipping...\n",
      "City found , max temp was  82.4\n",
      "City found , max temp was  78.8\n",
      "City found , max temp was  59\n",
      "City not found. Skipping...\n",
      "City found , max temp was  72.05\n",
      "City found , max temp was  73.58\n",
      "City found , max temp was  65.88\n",
      "City found , max temp was  57.2\n",
      "City found , max temp was  51.8\n",
      "City found , max temp was  48.99\n",
      "City found , max temp was  91.85\n",
      "City found , max temp was  85.51\n",
      "City found , max temp was  10.98\n",
      "City found , max temp was  74.12\n",
      "City found , max temp was  5.52\n",
      "City found , max temp was  52.83\n",
      "City found , max temp was  68\n",
      "City found , max temp was  78.8\n",
      "City found , max temp was  82.04\n",
      "City found , max temp was  46\n",
      "City found , max temp was  12.99\n",
      "City found , max temp was  69.8\n",
      "City found , max temp was  10.38\n",
      "City found , max temp was  35.76\n",
      "City found , max temp was  75\n",
      "City found , max temp was  82.53\n",
      "City found , max temp was  59.95\n",
      "City not found. Skipping...\n",
      "City found , max temp was  73.4\n",
      "City found , max temp was  71.76\n",
      "City found , max temp was  55.65\n",
      "City found , max temp was  -6.72\n",
      "-----------------------------\n",
      "Data Retrieval Complete      \n",
      "-----------------------------\n",
      "[{'City': 'Henties Bay', 'Lat': -22.12, 'Lng': 14.28, 'Max Temp': 60.53, 'Humidity': 77, 'Cloudiness': 52, 'Wind Speed': 5.44, 'Country': 'NA', 'Date': '2019-11-07 04:34:45'}, {'City': 'Bethel', 'Lat': 60.79, 'Lng': -161.76, 'Max Temp': 35.6, 'Humidity': 90, 'Cloudiness': 90, 'Wind Speed': 11.41, 'Country': 'US', 'Date': '2019-11-07 04:34:45'}, {'City': 'Saint-Francois', 'Lat': 46.42, 'Lng': 3.91, 'Max Temp': 48.2, 'Humidity': 76, 'Cloudiness': 99, 'Wind Speed': 9.17, 'Country': 'FR', 'Date': '2019-11-07 04:34:46'}, {'City': 'Ushuaia', 'Lat': -54.81, 'Lng': -68.31, 'Max Temp': 33.8, 'Humidity': 100, 'Cloudiness': 90, 'Wind Speed': 26.4, 'Country': 'AR', 'Date': '2019-11-07 04:30:51'}, {'City': 'Mar Del Plata', 'Lat': -46.43, 'Lng': -67.52, 'Max Temp': 47.25, 'Humidity': 34, 'Cloudiness': 0, 'Wind Speed': 27.42, 'Country': 'AR', 'Date': '2019-11-07 04:34:46'}, {'City': 'Kruisfontein', 'Lat': -34, 'Lng': 24.73, 'Max Temp': 59.79, 'Humidity': 64, 'Cloudiness': 74, 'Wind Speed': 27.69, 'Country': 'ZA', 'Date': '2019-11-07 04:34:46'}, {'City': 'Bronnoysund', 'Lat': 65.46, 'Lng': 12.2, 'Max Temp': 32, 'Humidity': 65, 'Cloudiness': 100, 'Wind Speed': 10.29, 'Country': 'NO', 'Date': '2019-11-07 04:34:46'}, {'City': 'Yumen', 'Lat': 40.29, 'Lng': 97.04, 'Max Temp': 52.03, 'Humidity': 36, 'Cloudiness': 51, 'Wind Speed': 21.3, 'Country': 'CN', 'Date': '2019-11-07 04:34:47'}, {'City': 'Albany', 'Lat': 42.65, 'Lng': -73.75, 'Max Temp': 39.2, 'Humidity': 48, 'Cloudiness': 90, 'Wind Speed': 6.93, 'Country': 'US', 'Date': '2019-11-07 04:30:03'}, {'City': 'Dikson', 'Lat': 73.51, 'Lng': 80.55, 'Max Temp': -11.48, 'Humidity': 93, 'Cloudiness': 1, 'Wind Speed': 12.44, 'Country': 'RU', 'Date': '2019-11-07 04:34:48'}, {'City': 'Ossora', 'Lat': 59.24, 'Lng': 163.07, 'Max Temp': 37.62, 'Humidity': 90, 'Cloudiness': 14, 'Wind Speed': 15.26, 'Country': 'RU', 'Date': '2019-11-07 04:34:48'}, {'City': 'Vaini', 'Lat': 15.34, 'Lng': 74.49, 'Max Temp': 77, 'Humidity': 73, 'Cloudiness': 21, 'Wind Speed': 3.36, 'Country': 'IN', 'Date': '2019-11-07 04:34:48'}, {'City': 'Castro', 'Lat': -42.48, 'Lng': -73.76, 'Max Temp': 34.03, 'Humidity': 95, 'Cloudiness': 98, 'Wind Speed': 1.07, 'Country': 'CL', 'Date': '2019-11-07 04:34:48'}, {'City': 'Vanimo', 'Lat': -2.67, 'Lng': 141.3, 'Max Temp': 83.71, 'Humidity': 68, 'Cloudiness': 89, 'Wind Speed': 6.64, 'Country': 'PG', 'Date': '2019-11-07 04:34:49'}, {'City': 'San Cristobal', 'Lat': 14.68, 'Lng': -86.92, 'Max Temp': 63.84, 'Humidity': 97, 'Cloudiness': 100, 'Wind Speed': 2.95, 'Country': 'HN', 'Date': '2019-11-07 04:34:49'}, {'City': 'Ulladulla', 'Lat': -35.36, 'Lng': 150.48, 'Max Temp': 78.8, 'Humidity': 21, 'Cloudiness': 0, 'Wind Speed': 27.51, 'Country': 'AU', 'Date': '2019-11-07 04:34:49'}, {'City': 'Ewa Beach', 'Lat': 21.32, 'Lng': -158.01, 'Max Temp': 80.6, 'Humidity': 61, 'Cloudiness': 40, 'Wind Speed': 11.41, 'Country': 'US', 'Date': '2019-11-07 04:32:13'}, {'City': 'Bluff', 'Lat': -23.58, 'Lng': 149.07, 'Max Temp': 91.4, 'Humidity': 15, 'Cloudiness': 0, 'Wind Speed': 4.52, 'Country': 'AU', 'Date': '2019-11-07 04:34:50'}, {'City': 'Maldonado', 'Lat': -34.91, 'Lng': -54.96, 'Max Temp': 60.8, 'Humidity': 72, 'Cloudiness': 84, 'Wind Speed': 8.05, 'Country': 'UY', 'Date': '2019-11-07 04:34:50'}, {'City': 'Mataura', 'Lat': -46.19, 'Lng': 168.86, 'Max Temp': 58.93, 'Humidity': 90, 'Cloudiness': 98, 'Wind Speed': 8.1, 'Country': 'NZ', 'Date': '2019-11-07 04:34:50'}, {'City': 'Jamestown', 'Lat': -33.21, 'Lng': 138.6, 'Max Temp': 68.9, 'Humidity': 36, 'Cloudiness': 14, 'Wind Speed': 17.74, 'Country': 'AU', 'Date': '2019-11-07 04:34:38'}, {'City': 'Geraldton', 'Lat': 49.72, 'Lng': -86.95, 'Max Temp': 15.8, 'Humidity': 85, 'Cloudiness': 90, 'Wind Speed': 8.05, 'Country': 'CA', 'Date': '2019-11-07 04:34:51'}, {'City': 'Punta Arenas', 'Lat': -53.16, 'Lng': -70.91, 'Max Temp': 35.6, 'Humidity': 80, 'Cloudiness': 40, 'Wind Speed': 31.09, 'Country': 'CL', 'Date': '2019-11-07 04:34:51'}, {'City': 'Mitu', 'Lat': 36.2, 'Lng': 46.09, 'Max Temp': 48.9, 'Humidity': 38, 'Cloudiness': 0, 'Wind Speed': 5.7, 'Country': 'IR', 'Date': '2019-11-07 04:34:51'}, {'City': 'Bredasdorp', 'Lat': -34.53, 'Lng': 20.04, 'Max Temp': 59, 'Humidity': 58, 'Cloudiness': 42, 'Wind Speed': 13.87, 'Country': 'ZA', 'Date': '2019-11-07 04:34:52'}, {'City': 'Port Alfred', 'Lat': -33.59, 'Lng': 26.89, 'Max Temp': 62.01, 'Humidity': 88, 'Cloudiness': 98, 'Wind Speed': 5.01, 'Country': 'ZA', 'Date': '2019-11-07 04:34:52'}, {'City': 'Busselton', 'Lat': -33.64, 'Lng': 115.35, 'Max Temp': 78.01, 'Humidity': 28, 'Cloudiness': 0, 'Wind Speed': 14.92, 'Country': 'AU', 'Date': '2019-11-07 04:34:52'}, {'City': 'Qaanaaq', 'Lat': 77.48, 'Lng': -69.36, 'Max Temp': 0.01, 'Humidity': 57, 'Cloudiness': 10, 'Wind Speed': 5.77, 'Country': 'GL', 'Date': '2019-11-07 04:34:52'}, {'City': 'Sitka', 'Lat': 37.17, 'Lng': -99.65, 'Max Temp': 34, 'Humidity': 74, 'Cloudiness': 100, 'Wind Speed': 10, 'Country': 'US', 'Date': '2019-11-07 04:34:53'}, {'City': 'Rikitea', 'Lat': -23.12, 'Lng': -134.97, 'Max Temp': 76.73, 'Humidity': 82, 'Cloudiness': 31, 'Wind Speed': 5.57, 'Country': 'PF', 'Date': '2019-11-07 04:30:37'}, {'City': 'Yuma', 'Lat': 32.73, 'Lng': -114.62, 'Max Temp': 69.8, 'Humidity': 26, 'Cloudiness': 1, 'Wind Speed': 5.82, 'Country': 'US', 'Date': '2019-11-07 04:30:20'}, {'City': 'Luanda', 'Lat': -8.83, 'Lng': 13.24, 'Max Temp': 77, 'Humidity': 88, 'Cloudiness': 20, 'Wind Speed': 5.82, 'Country': 'AO', 'Date': '2019-11-07 04:31:06'}, {'City': 'Saint-Philippe', 'Lat': 45.36, 'Lng': -73.48, 'Max Temp': 39.99, 'Humidity': 80, 'Cloudiness': 90, 'Wind Speed': 17.22, 'Country': 'CA', 'Date': '2019-11-07 04:34:53'}, {'City': 'Atuona', 'Lat': -9.8, 'Lng': -139.03, 'Max Temp': 80.02, 'Humidity': 78, 'Cloudiness': 90, 'Wind Speed': 16.82, 'Country': 'PF', 'Date': '2019-11-07 04:31:18'}, {'City': 'Te Anau', 'Lat': -45.41, 'Lng': 167.72, 'Max Temp': 54.72, 'Humidity': 78, 'Cloudiness': 59, 'Wind Speed': 6.2, 'Country': 'NZ', 'Date': '2019-11-07 04:34:54'}, {'City': 'Marrakesh', 'Lat': 31.63, 'Lng': -7.99, 'Max Temp': 51.8, 'Humidity': 81, 'Cloudiness': 1, 'Wind Speed': 2.24, 'Country': 'MA', 'Date': '2019-11-07 04:34:54'}, {'City': 'Mbaiki', 'Lat': 3.87, 'Lng': 17.99, 'Max Temp': 73.71, 'Humidity': 85, 'Cloudiness': 98, 'Wind Speed': 1.03, 'Country': 'CF', 'Date': '2019-11-07 04:34:54'}, {'City': 'Makakilo City', 'Lat': 21.35, 'Lng': -158.09, 'Max Temp': 80.6, 'Humidity': 83, 'Cloudiness': 40, 'Wind Speed': 8.05, 'Country': 'US', 'Date': '2019-11-07 04:34:55'}, {'City': 'East London', 'Lat': -33.02, 'Lng': 27.91, 'Max Temp': 64.4, 'Humidity': 77, 'Cloudiness': 20, 'Wind Speed': 14.99, 'Country': 'ZA', 'Date': '2019-11-07 04:34:55'}, {'City': 'Cherskiy', 'Lat': 68.75, 'Lng': 161.3, 'Max Temp': 28.04, 'Humidity': 71, 'Cloudiness': 100, 'Wind Speed': 11.03, 'Country': 'RU', 'Date': '2019-11-07 04:34:55'}, {'City': 'Lyman', 'Lat': 48.98, 'Lng': 37.82, 'Max Temp': 55.45, 'Humidity': 85, 'Cloudiness': 35, 'Wind Speed': 8.55, 'Country': 'UA', 'Date': '2019-11-07 04:34:55'}, {'City': 'Saskylakh', 'Lat': 71.97, 'Lng': 114.09, 'Max Temp': -23.5, 'Humidity': 97, 'Cloudiness': 0, 'Wind Speed': 5.17, 'Country': 'RU', 'Date': '2019-11-07 04:34:56'}, {'City': 'Yellowknife', 'Lat': 62.45, 'Lng': -114.38, 'Max Temp': 10, 'Humidity': 84, 'Cloudiness': 5, 'Wind Speed': 3.36, 'Country': 'CA', 'Date': '2019-11-07 04:34:56'}, {'City': 'Chuy', 'Lat': -33.69, 'Lng': -53.46, 'Max Temp': 58.73, 'Humidity': 79, 'Cloudiness': 96, 'Wind Speed': 5.12, 'Country': 'UY', 'Date': '2019-11-07 04:34:56'}, {'City': 'New Norfolk', 'Lat': -42.78, 'Lng': 147.06, 'Max Temp': 50, 'Humidity': 61, 'Cloudiness': 75, 'Wind Speed': 21.92, 'Country': 'AU', 'Date': '2019-11-07 04:34:57'}, {'City': 'Broken Hill', 'Lat': -31.97, 'Lng': 141.45, 'Max Temp': 75.2, 'Humidity': 25, 'Cloudiness': 0, 'Wind Speed': 14.99, 'Country': 'AU', 'Date': '2019-11-07 04:34:57'}, {'City': 'Ribas Do Rio Pardo', 'Lat': -20.45, 'Lng': -53.76, 'Max Temp': 70.11, 'Humidity': 89, 'Cloudiness': 95, 'Wind Speed': 4.52, 'Country': 'BR', 'Date': '2019-11-07 04:34:57'}, {'City': 'Ancud', 'Lat': -41.87, 'Lng': -73.83, 'Max Temp': 41.65, 'Humidity': 87, 'Cloudiness': 77, 'Wind Speed': 4, 'Country': 'CL', 'Date': '2019-11-07 04:34:57'}, {'City': 'Vanavara', 'Lat': 60.35, 'Lng': 102.28, 'Max Temp': 17.13, 'Humidity': 86, 'Cloudiness': 22, 'Wind Speed': 3.09, 'Country': 'RU', 'Date': '2019-11-07 04:34:58'}, {'City': 'Coquimbo', 'Lat': -29.95, 'Lng': -71.34, 'Max Temp': 56.73, 'Humidity': 89, 'Cloudiness': 0, 'Wind Speed': 2.42, 'Country': 'CL', 'Date': '2019-11-07 04:34:58'}, {'City': 'Sao Filipe', 'Lat': 14.9, 'Lng': -24.5, 'Max Temp': 74.12, 'Humidity': 81, 'Cloudiness': 24, 'Wind Speed': 19.22, 'Country': 'CV', 'Date': '2019-11-07 04:34:58'}, {'City': 'Kodiak', 'Lat': 39.95, 'Lng': -94.76, 'Max Temp': 35.01, 'Humidity': 69, 'Cloudiness': 90, 'Wind Speed': 21.92, 'Country': 'US', 'Date': '2019-11-07 04:34:58'}, {'City': 'Yurkivka', 'Lat': 48.69, 'Lng': 28.58, 'Max Temp': 46.99, 'Humidity': 100, 'Cloudiness': 100, 'Wind Speed': 4.47, 'Country': 'UA', 'Date': '2019-11-07 04:34:58'}, {'City': 'Guymon', 'Lat': 36.68, 'Lng': -101.48, 'Max Temp': 33.8, 'Humidity': 74, 'Cloudiness': 90, 'Wind Speed': 20.8, 'Country': 'US', 'Date': '2019-11-07 04:34:59'}, {'City': 'Inhambane', 'Lat': -23.87, 'Lng': 35.38, 'Max Temp': 77, 'Humidity': 88, 'Cloudiness': 40, 'Wind Speed': 9.17, 'Country': 'MZ', 'Date': '2019-11-07 04:34:59'}, {'City': 'Thompson', 'Lat': 55.74, 'Lng': -97.86, 'Max Temp': 5, 'Humidity': 77, 'Cloudiness': 90, 'Wind Speed': 4.74, 'Country': 'CA', 'Date': '2019-11-07 04:34:59'}, {'City': 'Ponta Do Sol', 'Lat': -20.63, 'Lng': -46, 'Max Temp': 66.83, 'Humidity': 95, 'Cloudiness': 99, 'Wind Speed': 4.25, 'Country': 'BR', 'Date': '2019-11-07 04:35:00'}, {'City': 'Richards Bay', 'Lat': -28.77, 'Lng': 32.06, 'Max Temp': 72.64, 'Humidity': 88, 'Cloudiness': 21, 'Wind Speed': 20.67, 'Country': 'ZA', 'Date': '2019-11-07 04:35:00'}, {'City': 'Hermanus', 'Lat': -34.42, 'Lng': 19.24, 'Max Temp': 59, 'Humidity': 72, 'Cloudiness': 99, 'Wind Speed': 11.99, 'Country': 'ZA', 'Date': '2019-11-07 04:35:00'}, {'City': 'Russell', 'Lat': 38.9, 'Lng': -98.86, 'Max Temp': 35.6, 'Humidity': 59, 'Cloudiness': 90, 'Wind Speed': 20.8, 'Country': 'US', 'Date': '2019-11-07 04:34:56'}, {'City': 'Angren', 'Lat': 41.01, 'Lng': 70.08, 'Max Temp': 44.65, 'Humidity': 33, 'Cloudiness': 0, 'Wind Speed': 2.66, 'Country': 'UZ', 'Date': '2019-11-07 04:35:01'}, {'City': 'Hithadhoo', 'Lat': -0.6, 'Lng': 73.08, 'Max Temp': 82.51, 'Humidity': 69, 'Cloudiness': 95, 'Wind Speed': 7.72, 'Country': 'MV', 'Date': '2019-11-07 04:35:01'}, {'City': 'Nikolskoye', 'Lat': 59.7, 'Lng': 30.79, 'Max Temp': 25, 'Humidity': 85, 'Cloudiness': 100, 'Wind Speed': 15.66, 'Country': 'RU', 'Date': '2019-11-07 04:35:01'}, {'City': 'Port Hardy', 'Lat': 50.7, 'Lng': -127.42, 'Max Temp': 46.4, 'Humidity': 93, 'Cloudiness': 90, 'Wind Speed': 3.36, 'Country': 'CA', 'Date': '2019-11-07 04:30:03'}, {'City': 'Hilo', 'Lat': 19.71, 'Lng': -155.08, 'Max Temp': 78.8, 'Humidity': 78, 'Cloudiness': 90, 'Wind Speed': 3.36, 'Country': 'US', 'Date': '2019-11-07 04:32:04'}, {'City': 'Shar', 'Lat': 7.3, 'Lng': 8.73, 'Max Temp': 75.07, 'Humidity': 92, 'Cloudiness': 34, 'Wind Speed': 4.83, 'Country': 'NG', 'Date': '2019-11-07 04:35:02'}, {'City': 'Goma', 'Lat': -1.67, 'Lng': 29.23, 'Max Temp': 64.8, 'Humidity': 78, 'Cloudiness': 42, 'Wind Speed': 1.12, 'Country': 'CD', 'Date': '2019-11-07 04:35:03'}, {'City': 'Pizarro', 'Lat': 4.95, 'Lng': -77.37, 'Max Temp': 79.36, 'Humidity': 83, 'Cloudiness': 100, 'Wind Speed': 3.98, 'Country': 'CO', 'Date': '2019-11-07 04:35:03'}, {'City': 'Faanui', 'Lat': -16.48, 'Lng': -151.75, 'Max Temp': 80.89, 'Humidity': 81, 'Cloudiness': 2, 'Wind Speed': 17.58, 'Country': 'PF', 'Date': '2019-11-07 04:34:39'}, {'City': 'Hobart', 'Lat': -42.88, 'Lng': 147.33, 'Max Temp': 50, 'Humidity': 61, 'Cloudiness': 75, 'Wind Speed': 21.92, 'Country': 'AU', 'Date': '2019-11-07 04:34:38'}, {'City': 'Road Town', 'Lat': 18.42, 'Lng': -64.62, 'Max Temp': 82, 'Humidity': 78, 'Cloudiness': 20, 'Wind Speed': 10.29, 'Country': 'VG', 'Date': '2019-11-07 04:35:04'}, {'City': 'Lebu', 'Lat': 8.96, 'Lng': 38.73, 'Max Temp': 53.6, 'Humidity': 66, 'Cloudiness': 20, 'Wind Speed': 8.05, 'Country': 'ET', 'Date': '2019-11-07 04:35:05'}, {'City': 'Amapa', 'Lat': 15.09, 'Lng': -87.97, 'Max Temp': 78.8, 'Humidity': 83, 'Cloudiness': 40, 'Wind Speed': 5.82, 'Country': 'HN', 'Date': '2019-11-07 04:35:05'}, {'City': 'Barrow', 'Lat': -38.31, 'Lng': -60.23, 'Max Temp': 54.16, 'Humidity': 43, 'Cloudiness': 10, 'Wind Speed': 7.72, 'Country': 'AR', 'Date': '2019-11-07 04:33:37'}, {'City': 'Cape Town', 'Lat': -33.93, 'Lng': 18.42, 'Max Temp': 60.01, 'Humidity': 71, 'Cloudiness': 75, 'Wind Speed': 9.17, 'Country': 'ZA', 'Date': '2019-11-07 04:31:51'}, {'City': 'Darhan', 'Lat': 49.49, 'Lng': 105.92, 'Max Temp': 40.24, 'Humidity': 44, 'Cloudiness': 0, 'Wind Speed': 4.07, 'Country': 'MN', 'Date': '2019-11-07 04:35:06'}, {'City': 'Victor Harbor', 'Lat': -35.55, 'Lng': 138.62, 'Max Temp': 66, 'Humidity': 63, 'Cloudiness': 75, 'Wind Speed': 23.04, 'Country': 'AU', 'Date': '2019-11-07 04:35:07'}, {'City': 'Havre-Saint-Pierre', 'Lat': 50.23, 'Lng': -63.6, 'Max Temp': 24.8, 'Humidity': 49, 'Cloudiness': 40, 'Wind Speed': 27.51, 'Country': 'CA', 'Date': '2019-11-07 04:35:07'}, {'City': 'The Valley', 'Lat': 18.22, 'Lng': -63.06, 'Max Temp': 82.4, 'Humidity': 74, 'Cloudiness': 20, 'Wind Speed': 13.87, 'Country': 'AI', 'Date': '2019-11-07 04:34:34'}, {'City': 'Verkhnyaya Inta', 'Lat': 65.99, 'Lng': 60.32, 'Max Temp': 7.03, 'Humidity': 96, 'Cloudiness': 100, 'Wind Speed': 5.55, 'Country': 'RU', 'Date': '2019-11-07 04:35:08'}, {'City': 'Beringovskiy', 'Lat': 63.05, 'Lng': 179.32, 'Max Temp': 30.34, 'Humidity': 84, 'Cloudiness': 98, 'Wind Speed': 16.24, 'Country': 'RU', 'Date': '2019-11-07 04:35:08'}, {'City': 'Skjervoy', 'Lat': 70.03, 'Lng': 20.97, 'Max Temp': 27.95, 'Humidity': 69, 'Cloudiness': 0, 'Wind Speed': 17.47, 'Country': 'NO', 'Date': '2019-11-07 04:35:08'}, {'City': 'Kalmunai', 'Lat': 7.42, 'Lng': 81.82, 'Max Temp': 80.74, 'Humidity': 76, 'Cloudiness': 84, 'Wind Speed': 2.57, 'Country': 'LK', 'Date': '2019-11-07 04:35:09'}, {'City': 'Westport', 'Lat': 41.14, 'Lng': -73.36, 'Max Temp': 48.99, 'Humidity': 60, 'Cloudiness': 1, 'Wind Speed': 8.12, 'Country': 'US', 'Date': '2019-11-07 04:35:09'}, {'City': 'Oudtshoorn', 'Lat': -33.59, 'Lng': 22.2, 'Max Temp': 55.4, 'Humidity': 71, 'Cloudiness': 75, 'Wind Speed': 8.05, 'Country': 'ZA', 'Date': '2019-11-07 04:35:09'}, {'City': 'Grand Gaube', 'Lat': -20.01, 'Lng': 57.66, 'Max Temp': 79, 'Humidity': 73, 'Cloudiness': 40, 'Wind Speed': 12.75, 'Country': 'MU', 'Date': '2019-11-07 04:35:09'}, {'City': 'La Ronge', 'Lat': 55.1, 'Lng': -105.3, 'Max Temp': 14, 'Humidity': 66, 'Cloudiness': 90, 'Wind Speed': 5.82, 'Country': 'CA', 'Date': '2019-11-07 04:35:10'}, {'City': 'Terrak', 'Lat': 65.09, 'Lng': 12.37, 'Max Temp': 32, 'Humidity': 92, 'Cloudiness': 100, 'Wind Speed': 10.29, 'Country': 'NO', 'Date': '2019-11-07 04:35:10'}, {'City': 'Bonthe', 'Lat': 7.53, 'Lng': -12.5, 'Max Temp': 77.67, 'Humidity': 88, 'Cloudiness': 0, 'Wind Speed': 3, 'Country': 'SL', 'Date': '2019-11-07 04:35:10'}, {'City': 'Necochea', 'Lat': -38.55, 'Lng': -58.74, 'Max Temp': 70, 'Humidity': 64, 'Cloudiness': 8, 'Wind Speed': 8.01, 'Country': 'AR', 'Date': '2019-11-07 04:32:06'}, {'City': 'Chokurdakh', 'Lat': 70.62, 'Lng': 147.9, 'Max Temp': 10.92, 'Humidity': 95, 'Cloudiness': 99, 'Wind Speed': 1.05, 'Country': 'RU', 'Date': '2019-11-07 04:35:11'}, {'City': 'Itarema', 'Lat': -2.92, 'Lng': -39.92, 'Max Temp': 78.75, 'Humidity': 75, 'Cloudiness': 70, 'Wind Speed': 8.95, 'Country': 'BR', 'Date': '2019-11-07 04:35:11'}, {'City': 'Pacifica', 'Lat': 37.61, 'Lng': -122.49, 'Max Temp': 57.2, 'Humidity': 93, 'Cloudiness': 90, 'Wind Speed': 6.93, 'Country': 'US', 'Date': '2019-11-07 04:35:11'}, {'City': 'Isangel', 'Lat': -19.55, 'Lng': 169.27, 'Max Temp': 82.4, 'Humidity': 69, 'Cloudiness': 75, 'Wind Speed': 11.41, 'Country': 'VU', 'Date': '2019-11-07 04:35:12'}, {'City': 'Esperance', 'Lat': -33.86, 'Lng': 121.89, 'Max Temp': 66.2, 'Humidity': 59, 'Cloudiness': 90, 'Wind Speed': 16.11, 'Country': 'AU', 'Date': '2019-11-07 04:35:12'}, {'City': 'Port-Gentil', 'Lat': -0.72, 'Lng': 8.78, 'Max Temp': 79.41, 'Humidity': 81, 'Cloudiness': 100, 'Wind Speed': 5.1, 'Country': 'GA', 'Date': '2019-11-07 04:35:12'}, {'City': 'Lompoc', 'Lat': 34.64, 'Lng': -120.46, 'Max Temp': 59, 'Humidity': 87, 'Cloudiness': 90, 'Wind Speed': 5.82, 'Country': 'US', 'Date': '2019-11-07 04:35:12'}, {'City': 'Bontang', 'Lat': 0.12, 'Lng': 117.47, 'Max Temp': 86.23, 'Humidity': 69, 'Cloudiness': 92, 'Wind Speed': 11.99, 'Country': 'ID', 'Date': '2019-11-07 04:35:13'}, {'City': 'Mahebourg', 'Lat': -20.41, 'Lng': 57.7, 'Max Temp': 79, 'Humidity': 73, 'Cloudiness': 40, 'Wind Speed': 12.75, 'Country': 'MU', 'Date': '2019-11-07 04:34:51'}, {'City': 'Lavrentiya', 'Lat': 65.58, 'Lng': -170.99, 'Max Temp': 27.25, 'Humidity': 81, 'Cloudiness': 7, 'Wind Speed': 15.77, 'Country': 'RU', 'Date': '2019-11-07 04:35:13'}, {'City': 'Coihaique', 'Lat': -45.58, 'Lng': -72.07, 'Max Temp': 42.8, 'Humidity': 56, 'Cloudiness': 11, 'Wind Speed': 4.7, 'Country': 'CL', 'Date': '2019-11-07 04:35:13'}, {'City': 'Breves', 'Lat': -1.68, 'Lng': -50.48, 'Max Temp': 74.82, 'Humidity': 89, 'Cloudiness': 0, 'Wind Speed': 3.11, 'Country': 'BR', 'Date': '2019-11-07 04:35:14'}, {'City': 'Tuatapere', 'Lat': -46.13, 'Lng': 167.69, 'Max Temp': 61.66, 'Humidity': 48, 'Cloudiness': 62, 'Wind Speed': 7.4, 'Country': 'NZ', 'Date': '2019-11-07 04:35:14'}, {'City': 'Ajdabiya', 'Lat': 30.75, 'Lng': 20.22, 'Max Temp': 70.2, 'Humidity': 35, 'Cloudiness': 2, 'Wind Speed': 18.86, 'Country': 'LY', 'Date': '2019-11-07 04:35:14'}, {'City': 'Vila Franca Do Campo', 'Lat': 37.72, 'Lng': -25.43, 'Max Temp': 60.8, 'Humidity': 82, 'Cloudiness': 40, 'Wind Speed': 5.82, 'Country': 'PT', 'Date': '2019-11-07 04:35:15'}, {'City': 'Gat', 'Lat': 14.69, 'Lng': -16.54, 'Max Temp': 73.4, 'Humidity': 83, 'Cloudiness': 93, 'Wind Speed': 18.34, 'Country': 'SN', 'Date': '2019-11-07 04:35:15'}, {'City': 'Katsuura', 'Lat': 33.93, 'Lng': 134.5, 'Max Temp': 64.4, 'Humidity': 55, 'Cloudiness': 75, 'Wind Speed': 4.7, 'Country': 'JP', 'Date': '2019-11-07 04:35:15'}, {'City': 'Konongo', 'Lat': 6.62, 'Lng': -1.21, 'Max Temp': 71.38, 'Humidity': 99, 'Cloudiness': 12, 'Wind Speed': 1.03, 'Country': 'GH', 'Date': '2019-11-07 04:35:15'}, {'City': 'Kaitangata', 'Lat': -46.28, 'Lng': 169.85, 'Max Temp': 55.99, 'Humidity': 87, 'Cloudiness': 58, 'Wind Speed': 11.01, 'Country': 'NZ', 'Date': '2019-11-07 04:35:15'}, {'City': 'Tommot', 'Lat': 58.97, 'Lng': 126.27, 'Max Temp': -2.24, 'Humidity': 84, 'Cloudiness': 0, 'Wind Speed': 1.16, 'Country': 'RU', 'Date': '2019-11-07 04:35:16'}, {'City': 'Wanning', 'Lat': 48.64, 'Lng': 13.53, 'Max Temp': 43, 'Humidity': 100, 'Cloudiness': 90, 'Wind Speed': 2.24, 'Country': 'AT', 'Date': '2019-11-07 04:35:16'}, {'City': 'Ribeira Grande', 'Lat': 38.52, 'Lng': -28.7, 'Max Temp': 60.94, 'Humidity': 84, 'Cloudiness': 99, 'Wind Speed': 5.12, 'Country': 'PT', 'Date': '2019-11-07 04:35:16'}, {'City': 'Sorong', 'Lat': -0.86, 'Lng': 131.25, 'Max Temp': 83.66, 'Humidity': 76, 'Cloudiness': 88, 'Wind Speed': 3, 'Country': 'ID', 'Date': '2019-11-07 04:35:16'}, {'City': 'Rongcheng', 'Lat': 37.16, 'Lng': 122.42, 'Max Temp': 50, 'Humidity': 67, 'Cloudiness': 0, 'Wind Speed': 1.01, 'Country': 'CN', 'Date': '2019-11-07 04:35:17'}, {'City': 'Kahului', 'Lat': 20.89, 'Lng': -156.47, 'Max Temp': 80.6, 'Humidity': 65, 'Cloudiness': 40, 'Wind Speed': 13.87, 'Country': 'US', 'Date': '2019-11-07 04:32:22'}, {'City': 'Caravelas', 'Lat': -17.73, 'Lng': -39.27, 'Max Temp': 74.1, 'Humidity': 88, 'Cloudiness': 47, 'Wind Speed': 3.13, 'Country': 'BR', 'Date': '2019-11-07 04:35:17'}, {'City': 'Norman Wells', 'Lat': 65.28, 'Lng': -126.83, 'Max Temp': 17.6, 'Humidity': 61, 'Cloudiness': 75, 'Wind Speed': 11.41, 'Country': 'CA', 'Date': '2019-11-07 04:35:17'}, {'City': 'Sao Luiz Gonzaga', 'Lat': -28.41, 'Lng': -54.96, 'Max Temp': 63.72, 'Humidity': 94, 'Cloudiness': 11, 'Wind Speed': 7.76, 'Country': 'BR', 'Date': '2019-11-07 04:35:17'}, {'City': 'Udachnyy', 'Lat': 66.42, 'Lng': 112.4, 'Max Temp': -11.21, 'Humidity': 83, 'Cloudiness': 83, 'Wind Speed': 4.47, 'Country': 'RU', 'Date': '2019-11-07 04:35:18'}, {'City': 'Naze', 'Lat': 5.43, 'Lng': 7.07, 'Max Temp': 75.2, 'Humidity': 94, 'Cloudiness': 20, 'Wind Speed': 2.37, 'Country': 'NG', 'Date': '2019-11-07 04:35:16'}, {'City': 'Ola', 'Lat': 59.58, 'Lng': 151.3, 'Max Temp': 35.42, 'Humidity': 89, 'Cloudiness': 100, 'Wind Speed': 25.37, 'Country': 'RU', 'Date': '2019-11-07 04:35:18'}, {'City': 'Ferkessedougou', 'Lat': 9.6, 'Lng': -5.2, 'Max Temp': 72.91, 'Humidity': 75, 'Cloudiness': 86, 'Wind Speed': 3.24, 'Country': 'CI', 'Date': '2019-11-07 04:35:18'}, {'City': 'Yabelo', 'Lat': 4.89, 'Lng': 38.09, 'Max Temp': 69.31, 'Humidity': 69, 'Cloudiness': 90, 'Wind Speed': 8.37, 'Country': 'ET', 'Date': '2019-11-07 04:35:19'}, {'City': 'Roald', 'Lat': 62.58, 'Lng': 6.12, 'Max Temp': 28.4, 'Humidity': 79, 'Cloudiness': 75, 'Wind Speed': 5.82, 'Country': 'NO', 'Date': '2019-11-07 04:35:19'}, {'City': 'Tasiilaq', 'Lat': 65.61, 'Lng': -37.64, 'Max Temp': 24.8, 'Humidity': 68, 'Cloudiness': 100, 'Wind Speed': 4.7, 'Country': 'GL', 'Date': '2019-11-07 04:35:19'}, {'City': 'Laguna', 'Lat': 16.17, 'Lng': -88.94, 'Max Temp': 75.2, 'Humidity': 94, 'Cloudiness': 20, 'Wind Speed': 4.7, 'Country': 'BZ', 'Date': '2019-11-07 04:35:19'}, {'City': 'Avera', 'Lat': 33.19, 'Lng': -82.53, 'Max Temp': 60.8, 'Humidity': 82, 'Cloudiness': 40, 'Wind Speed': 7.61, 'Country': 'US', 'Date': '2019-11-07 04:35:20'}, {'City': 'Kapaa', 'Lat': 22.08, 'Lng': -159.32, 'Max Temp': 82.4, 'Humidity': 74, 'Cloudiness': 40, 'Wind Speed': 14.99, 'Country': 'US', 'Date': '2019-11-07 04:35:20'}, {'City': 'Tuktoyaktuk', 'Lat': 69.44, 'Lng': -133.03, 'Max Temp': 21.2, 'Humidity': 85, 'Cloudiness': 90, 'Wind Speed': 8.05, 'Country': 'CA', 'Date': '2019-11-07 04:35:20'}, {'City': 'Bilibino', 'Lat': 68.06, 'Lng': 166.44, 'Max Temp': 19.02, 'Humidity': 75, 'Cloudiness': 100, 'Wind Speed': 3.98, 'Country': 'RU', 'Date': '2019-11-07 04:35:20'}, {'City': 'Krapkowice', 'Lat': 50.47, 'Lng': 17.97, 'Max Temp': 45, 'Humidity': 100, 'Cloudiness': 82, 'Wind Speed': 4.18, 'Country': 'PL', 'Date': '2019-11-07 04:35:21'}, {'City': 'Butaritari', 'Lat': 3.07, 'Lng': 172.79, 'Max Temp': 84.72, 'Humidity': 76, 'Cloudiness': 84, 'Wind Speed': 13.58, 'Country': 'KI', 'Date': '2019-11-07 04:35:21'}, {'City': 'Santa Maria', 'Lat': -16.02, 'Lng': -48.01, 'Max Temp': 73.4, 'Humidity': 83, 'Cloudiness': 40, 'Wind Speed': 5.82, 'Country': 'BR', 'Date': '2019-11-07 04:35:21'}, {'City': 'Cabo San Lucas', 'Lat': 22.89, 'Lng': -109.91, 'Max Temp': 80.01, 'Humidity': 74, 'Cloudiness': 90, 'Wind Speed': 4.7, 'Country': 'MX', 'Date': '2019-11-07 04:31:56'}, {'City': 'Panzhihua', 'Lat': 26.59, 'Lng': 101.72, 'Max Temp': 69.01, 'Humidity': 59, 'Cloudiness': 22, 'Wind Speed': 1.34, 'Country': 'CN', 'Date': '2019-11-07 04:35:22'}, {'City': 'Waipawa', 'Lat': -39.94, 'Lng': 176.59, 'Max Temp': 73.99, 'Humidity': 60, 'Cloudiness': 84, 'Wind Speed': 5.99, 'Country': 'NZ', 'Date': '2019-11-07 04:35:22'}, {'City': 'Avarua', 'Lat': -21.21, 'Lng': -159.78, 'Max Temp': 75.2, 'Humidity': 78, 'Cloudiness': 8, 'Wind Speed': 5.82, 'Country': 'CK', 'Date': '2019-11-07 04:34:42'}, {'City': 'Souillac', 'Lat': 45.6, 'Lng': -0.6, 'Max Temp': 51.8, 'Humidity': 87, 'Cloudiness': 90, 'Wind Speed': 4.7, 'Country': 'FR', 'Date': '2019-11-07 04:35:22'}, {'City': 'Mecca', 'Lat': 21.43, 'Lng': 39.83, 'Max Temp': 83.93, 'Humidity': 43, 'Cloudiness': 0, 'Wind Speed': 2.42, 'Country': 'SA', 'Date': '2019-11-07 04:35:23'}, {'City': 'Hauterive', 'Lat': 49.18, 'Lng': -68.27, 'Max Temp': 32, 'Humidity': 63, 'Cloudiness': 1, 'Wind Speed': 13.87, 'Country': 'CA', 'Date': '2019-11-07 04:35:23'}, {'City': 'Goure', 'Lat': 13.98, 'Lng': 10.27, 'Max Temp': 79, 'Humidity': 18, 'Cloudiness': 0, 'Wind Speed': 3, 'Country': 'NE', 'Date': '2019-11-07 04:35:23'}, {'City': 'Touros', 'Lat': -5.2, 'Lng': -35.46, 'Max Temp': 71.6, 'Humidity': 94, 'Cloudiness': 40, 'Wind Speed': 4.7, 'Country': 'BR', 'Date': '2019-11-07 04:35:24'}, {'City': 'Oga', 'Lat': 46.46, 'Lng': 10.35, 'Max Temp': 32, 'Humidity': 92, 'Cloudiness': 5, 'Wind Speed': 3.36, 'Country': 'IT', 'Date': '2019-11-07 04:35:24'}, {'City': 'Codrington', 'Lat': -28.95, 'Lng': 153.24, 'Max Temp': 95, 'Humidity': 9, 'Cloudiness': 90, 'Wind Speed': 4.7, 'Country': 'AU', 'Date': '2019-11-07 04:35:15'}, {'City': 'Khatanga', 'Lat': 71.98, 'Lng': 102.47, 'Max Temp': -8.72, 'Humidity': 83, 'Cloudiness': 33, 'Wind Speed': 9.66, 'Country': 'RU', 'Date': '2019-11-07 04:35:24'}, {'City': 'Klaksvik', 'Lat': 62.23, 'Lng': -6.59, 'Max Temp': 35.6, 'Humidity': 66, 'Cloudiness': 90, 'Wind Speed': 16.11, 'Country': 'FO', 'Date': '2019-11-07 04:35:25'}, {'City': 'Puerto Ayora', 'Lat': -0.74, 'Lng': -90.35, 'Max Temp': 69.01, 'Humidity': 92, 'Cloudiness': 5, 'Wind Speed': 4, 'Country': 'EC', 'Date': '2019-11-07 04:35:25'}, {'City': 'Provideniya', 'Lat': 64.42, 'Lng': -173.23, 'Max Temp': 30.2, 'Humidity': 58, 'Cloudiness': 0, 'Wind Speed': 13.42, 'Country': 'RU', 'Date': '2019-11-07 04:35:25'}, {'City': 'Phan Thiet', 'Lat': 10.93, 'Lng': 108.1, 'Max Temp': 82.29, 'Humidity': 78, 'Cloudiness': 96, 'Wind Speed': 6.78, 'Country': 'VN', 'Date': '2019-11-07 04:35:25'}, {'City': 'Pevek', 'Lat': 69.7, 'Lng': 170.27, 'Max Temp': 28.17, 'Humidity': 68, 'Cloudiness': 77, 'Wind Speed': 9.1, 'Country': 'RU', 'Date': '2019-11-07 04:35:26'}, {'City': 'Nouadhibou', 'Lat': 20.93, 'Lng': -17.03, 'Max Temp': 64.4, 'Humidity': 77, 'Cloudiness': 0, 'Wind Speed': 16.11, 'Country': 'MR', 'Date': '2019-11-07 04:35:26'}, {'City': 'Tiksi', 'Lat': 71.64, 'Lng': 128.87, 'Max Temp': -11.62, 'Humidity': 99, 'Cloudiness': 94, 'Wind Speed': 3.51, 'Country': 'RU', 'Date': '2019-11-07 04:35:26'}, {'City': 'Jacqueville', 'Lat': 5.21, 'Lng': -4.42, 'Max Temp': 77, 'Humidity': 94, 'Cloudiness': 20, 'Wind Speed': 4.7, 'Country': 'CI', 'Date': '2019-11-07 04:35:27'}, {'City': 'Halifax', 'Lat': 44.65, 'Lng': -63.58, 'Max Temp': 37.99, 'Humidity': 64, 'Cloudiness': 5, 'Wind Speed': 9.17, 'Country': 'CA', 'Date': '2019-11-07 04:35:27'}, {'City': 'Lagos', 'Lat': 6.46, 'Lng': 3.39, 'Max Temp': 75.2, 'Humidity': 94, 'Cloudiness': 20, 'Wind Speed': 3.36, 'Country': 'NG', 'Date': '2019-11-07 04:32:53'}, {'City': 'Ilhabela', 'Lat': -23.78, 'Lng': -45.36, 'Max Temp': 71.92, 'Humidity': 78, 'Cloudiness': 65, 'Wind Speed': 12.95, 'Country': 'BR', 'Date': '2019-11-07 04:35:28'}, {'City': 'Vidim', 'Lat': 50.47, 'Lng': 14.53, 'Max Temp': 44.01, 'Humidity': 87, 'Cloudiness': 40, 'Wind Speed': 5.82, 'Country': 'CZ', 'Date': '2019-11-07 04:35:28'}, {'City': 'Kluang', 'Lat': 2.04, 'Lng': 103.32, 'Max Temp': 89.6, 'Humidity': 70, 'Cloudiness': 75, 'Wind Speed': 3.36, 'Country': 'MY', 'Date': '2019-11-07 04:35:28'}, {'City': 'Sao Gabriel Da Cachoeira', 'Lat': -0.13, 'Lng': -67.09, 'Max Temp': 73.45, 'Humidity': 98, 'Cloudiness': 94, 'Wind Speed': 1.7, 'Country': 'BR', 'Date': '2019-11-07 04:35:28'}, {'City': 'Sergeyevka', 'Lat': 53.88, 'Lng': 67.42, 'Max Temp': 36.52, 'Humidity': 62, 'Cloudiness': 93, 'Wind Speed': 17.96, 'Country': 'KZ', 'Date': '2019-11-07 04:35:29'}, {'City': 'Los Llanos De Aridane', 'Lat': 28.66, 'Lng': -17.92, 'Max Temp': 68, 'Humidity': 72, 'Cloudiness': 75, 'Wind Speed': 12.75, 'Country': 'ES', 'Date': '2019-11-07 04:35:29'}, {'City': 'Paris', 'Lat': 48.86, 'Lng': 2.35, 'Max Temp': 48.99, 'Humidity': 93, 'Cloudiness': 100, 'Wind Speed': 11.41, 'Country': 'FR', 'Date': '2019-11-07 04:32:31'}, {'City': 'Urusha', 'Lat': 54.05, 'Lng': 122.9, 'Max Temp': 10.96, 'Humidity': 70, 'Cloudiness': 100, 'Wind Speed': 3.62, 'Country': 'RU', 'Date': '2019-11-07 04:35:29'}, {'City': 'Nome', 'Lat': 30.04, 'Lng': -94.42, 'Max Temp': 64, 'Humidity': 93, 'Cloudiness': 1, 'Wind Speed': 3.51, 'Country': 'US', 'Date': '2019-11-07 04:34:40'}, {'City': 'Salalah', 'Lat': 17.01, 'Lng': 54.1, 'Max Temp': 78.8, 'Humidity': 50, 'Cloudiness': 0, 'Wind Speed': 2.24, 'Country': 'OM', 'Date': '2019-11-07 04:35:03'}, {'City': 'Victoria', 'Lat': 5.28, 'Lng': 115.24, 'Max Temp': 84.2, 'Humidity': 79, 'Cloudiness': 75, 'Wind Speed': 4.7, 'Country': 'BN', 'Date': '2019-11-07 04:35:30'}, {'City': 'Ginir', 'Lat': 7.14, 'Lng': 40.71, 'Max Temp': 68.13, 'Humidity': 60, 'Cloudiness': 41, 'Wind Speed': 5.19, 'Country': 'ET', 'Date': '2019-11-07 04:35:30'}, {'City': 'Abalak', 'Lat': 15.46, 'Lng': 6.28, 'Max Temp': 79.74, 'Humidity': 17, 'Cloudiness': 0, 'Wind Speed': 7.81, 'Country': 'NE', 'Date': '2019-11-07 04:35:30'}, {'City': 'Varhaug', 'Lat': 58.61, 'Lng': 5.65, 'Max Temp': 39.99, 'Humidity': 68, 'Cloudiness': 75, 'Wind Speed': 6.93, 'Country': 'NO', 'Date': '2019-11-07 04:35:31'}, {'City': 'Bambous Virieux', 'Lat': -20.34, 'Lng': 57.76, 'Max Temp': 79, 'Humidity': 73, 'Cloudiness': 40, 'Wind Speed': 12.75, 'Country': 'MU', 'Date': '2019-11-07 04:35:31'}, {'City': 'Iracoubo', 'Lat': 5.48, 'Lng': -53.21, 'Max Temp': 78.51, 'Humidity': 87, 'Cloudiness': 94, 'Wind Speed': 21.05, 'Country': 'GF', 'Date': '2019-11-07 04:35:31'}, {'City': 'Cockburn Town', 'Lat': 21.46, 'Lng': -71.14, 'Max Temp': 82.06, 'Humidity': 78, 'Cloudiness': 14, 'Wind Speed': 16.69, 'Country': 'TC', 'Date': '2019-11-07 04:34:28'}, {'City': 'Saint-Pierre', 'Lat': 48.95, 'Lng': 4.24, 'Max Temp': 48.2, 'Humidity': 100, 'Cloudiness': 97, 'Wind Speed': 16.11, 'Country': 'FR', 'Date': '2019-11-07 04:35:32'}, {'City': 'Hinton', 'Lat': 53.4, 'Lng': -117.57, 'Max Temp': 14.23, 'Humidity': 85, 'Cloudiness': 69, 'Wind Speed': 8.43, 'Country': 'CA', 'Date': '2019-11-07 04:35:32'}, {'City': 'Sterling', 'Lat': 39, 'Lng': -77.4, 'Max Temp': 48, 'Humidity': 65, 'Cloudiness': 75, 'Wind Speed': 3.36, 'Country': 'US', 'Date': '2019-11-07 04:33:39'}, {'City': 'Severo-Kurilsk', 'Lat': 50.68, 'Lng': 156.12, 'Max Temp': 32.97, 'Humidity': 85, 'Cloudiness': 31, 'Wind Speed': 3.47, 'Country': 'RU', 'Date': '2019-11-07 04:35:33'}, {'City': 'Ixtapa', 'Lat': 20.71, 'Lng': -105.21, 'Max Temp': 78.01, 'Humidity': 88, 'Cloudiness': 40, 'Wind Speed': 4.7, 'Country': 'MX', 'Date': '2019-11-07 04:35:33'}, {'City': 'Fortuna', 'Lat': 40.6, 'Lng': -124.16, 'Max Temp': 48.99, 'Humidity': 100, 'Cloudiness': 90, 'Wind Speed': 4.7, 'Country': 'US', 'Date': '2019-11-07 04:35:30'}, {'City': 'Follonica', 'Lat': 42.93, 'Lng': 10.76, 'Max Temp': 54, 'Humidity': 93, 'Cloudiness': 0, 'Wind Speed': 4.7, 'Country': 'IT', 'Date': '2019-11-07 04:35:34'}, {'City': 'Srandakan', 'Lat': -7.94, 'Lng': 110.25, 'Max Temp': 86.13, 'Humidity': 49, 'Cloudiness': 51, 'Wind Speed': 10.67, 'Country': 'ID', 'Date': '2019-11-07 04:35:34'}, {'City': 'Vao', 'Lat': 59.1, 'Lng': 26.19, 'Max Temp': 27.93, 'Humidity': 89, 'Cloudiness': 90, 'Wind Speed': 8.52, 'Country': 'EE', 'Date': '2019-11-07 04:35:37'}, {'City': 'Osypenko', 'Lat': 48.04, 'Lng': 34.39, 'Max Temp': 55.4, 'Humidity': 93, 'Cloudiness': 90, 'Wind Speed': 2.24, 'Country': 'UA', 'Date': '2019-11-07 04:35:38'}, {'City': 'Mayo', 'Lat': 63.59, 'Lng': -135.9, 'Max Temp': 5, 'Humidity': 77, 'Cloudiness': 90, 'Wind Speed': 3.62, 'Country': 'CA', 'Date': '2019-11-07 04:35:38'}, {'City': 'Saint George', 'Lat': 39.45, 'Lng': 22.34, 'Max Temp': 53.6, 'Humidity': 87, 'Cloudiness': 77, 'Wind Speed': 0.67, 'Country': 'GR', 'Date': '2019-11-07 04:35:38'}, {'City': 'Kokopo', 'Lat': -4.34, 'Lng': 152.27, 'Max Temp': 84.18, 'Humidity': 77, 'Cloudiness': 100, 'Wind Speed': 18.68, 'Country': 'PG', 'Date': '2019-11-07 04:35:38'}, {'City': 'Carutapera', 'Lat': -1.2, 'Lng': -46.02, 'Max Temp': 81.01, 'Humidity': 80, 'Cloudiness': 29, 'Wind Speed': 16.35, 'Country': 'BR', 'Date': '2019-11-07 04:35:37'}, {'City': 'Georgetown', 'Lat': 6.8, 'Lng': -58.16, 'Max Temp': 75.2, 'Humidity': 100, 'Cloudiness': 40, 'Wind Speed': 2.24, 'Country': 'GY', 'Date': '2019-11-07 04:34:19'}, {'City': 'Cidreira', 'Lat': -30.17, 'Lng': -50.22, 'Max Temp': 67.35, 'Humidity': 81, 'Cloudiness': 16, 'Wind Speed': 24.56, 'Country': 'BR', 'Date': '2019-11-07 04:35:39'}, {'City': 'Pemba', 'Lat': -12.97, 'Lng': 40.52, 'Max Temp': 80.6, 'Humidity': 83, 'Cloudiness': 75, 'Wind Speed': 5.82, 'Country': 'MZ', 'Date': '2019-11-07 04:35:39'}, {'City': 'Poum', 'Lat': 41.28, 'Lng': 20.71, 'Max Temp': 51.8, 'Humidity': 87, 'Cloudiness': 75, 'Wind Speed': 6.89, 'Country': 'MK', 'Date': '2019-11-07 04:35:39'}, {'City': 'Paraiso', 'Lat': -0.03, 'Lng': -51.17, 'Max Temp': 82.4, 'Humidity': 94, 'Cloudiness': 20, 'Wind Speed': 6.93, 'Country': 'BR', 'Date': '2019-11-07 04:35:40'}, {'City': 'Mount Isa', 'Lat': -20.73, 'Lng': 139.49, 'Max Temp': 96.8, 'Humidity': 5, 'Cloudiness': 0, 'Wind Speed': 5.82, 'Country': 'AU', 'Date': '2019-11-07 04:35:40'}, {'City': 'Abu Dhabi', 'Lat': 24.47, 'Lng': 54.37, 'Max Temp': 80.6, 'Humidity': 78, 'Cloudiness': 17, 'Wind Speed': 4.7, 'Country': 'AE', 'Date': '2019-11-07 04:35:36'}, {'City': 'Valle Del Guamuez', 'Lat': 0.45, 'Lng': -76.92, 'Max Temp': 68.77, 'Humidity': 97, 'Cloudiness': 68, 'Wind Speed': 2.44, 'Country': 'CO', 'Date': '2019-11-07 04:35:40'}, {'City': 'Mirnyy', 'Lat': 56.57, 'Lng': 36.46, 'Max Temp': 32.56, 'Humidity': 85, 'Cloudiness': 100, 'Wind Speed': 6.58, 'Country': 'RU', 'Date': '2019-11-07 04:35:40'}, {'City': 'Houma', 'Lat': 35.63, 'Lng': 111.36, 'Max Temp': 60.31, 'Humidity': 46, 'Cloudiness': 38, 'Wind Speed': 12.73, 'Country': 'CN', 'Date': '2019-11-07 04:35:06'}, {'City': 'Kattivakkam', 'Lat': 13.22, 'Lng': 80.32, 'Max Temp': 87.8, 'Humidity': 79, 'Cloudiness': 20, 'Wind Speed': 2.24, 'Country': 'IN', 'Date': '2019-11-07 04:35:41'}, {'City': 'Sharjah', 'Lat': 25.36, 'Lng': 55.39, 'Max Temp': 84.2, 'Humidity': 54, 'Cloudiness': 0, 'Wind Speed': 4.7, 'Country': 'AE', 'Date': '2019-11-07 04:35:42'}, {'City': 'Moundou', 'Lat': 8.57, 'Lng': 16.07, 'Max Temp': 73.62, 'Humidity': 64, 'Cloudiness': 32, 'Wind Speed': 2.17, 'Country': 'TD', 'Date': '2019-11-07 04:35:42'}, {'City': 'Komsomolskiy', 'Lat': 67.55, 'Lng': 63.78, 'Max Temp': 6.13, 'Humidity': 96, 'Cloudiness': 88, 'Wind Speed': 6.55, 'Country': 'RU', 'Date': '2019-11-07 04:32:34'}, {'City': 'Huilong', 'Lat': 31.15, 'Lng': 106.5, 'Max Temp': 66.47, 'Humidity': 58, 'Cloudiness': 21, 'Wind Speed': 1.59, 'Country': 'CN', 'Date': '2019-11-07 04:35:42'}, {'City': 'Saldanha', 'Lat': 41.42, 'Lng': -6.55, 'Max Temp': 41.36, 'Humidity': 84, 'Cloudiness': 24, 'Wind Speed': 8.05, 'Country': 'PT', 'Date': '2019-11-07 04:35:42'}, {'City': 'Suoyarvi', 'Lat': 62.08, 'Lng': 32.35, 'Max Temp': 20.21, 'Humidity': 95, 'Cloudiness': 99, 'Wind Speed': 5.61, 'Country': 'RU', 'Date': '2019-11-07 04:35:43'}, {'City': 'Chapais', 'Lat': 49.78, 'Lng': -74.86, 'Max Temp': 17.6, 'Humidity': 85, 'Cloudiness': 90, 'Wind Speed': 4.7, 'Country': 'CA', 'Date': '2019-11-07 04:35:28'}, {'City': 'Plettenberg Bay', 'Lat': -34.05, 'Lng': 23.37, 'Max Temp': 59.59, 'Humidity': 64, 'Cloudiness': 88, 'Wind Speed': 15.41, 'Country': 'ZA', 'Date': '2019-11-07 04:35:28'}, {'City': 'Tottori', 'Lat': 35.5, 'Lng': 134.23, 'Max Temp': 69.8, 'Humidity': 37, 'Cloudiness': 75, 'Wind Speed': 9.17, 'Country': 'JP', 'Date': '2019-11-07 04:35:43'}, {'City': 'Abu Samrah', 'Lat': 35.3, 'Lng': 37.18, 'Max Temp': 65.57, 'Humidity': 51, 'Cloudiness': 0, 'Wind Speed': 6.4, 'Country': 'SY', 'Date': '2019-11-07 04:35:44'}, {'City': 'Svetlogorsk', 'Lat': 53.14, 'Lng': 59.15, 'Max Temp': 37.4, 'Humidity': 100, 'Cloudiness': 90, 'Wind Speed': 17.9, 'Country': 'RU', 'Date': '2019-11-07 04:35:44'}, {'City': 'Ashland', 'Lat': 38.48, 'Lng': -82.64, 'Max Temp': 51.8, 'Humidity': 100, 'Cloudiness': 90, 'Wind Speed': 3.38, 'Country': 'US', 'Date': '2019-11-07 04:32:02'}, {'City': 'Dingle', 'Lat': 11, 'Lng': 122.67, 'Max Temp': 81, 'Humidity': 84, 'Cloudiness': 54, 'Wind Speed': 13.4, 'Country': 'PH', 'Date': '2019-11-07 04:35:44'}, {'City': 'Yining', 'Lat': 29.04, 'Lng': 114.56, 'Max Temp': 70.93, 'Humidity': 33, 'Cloudiness': 9, 'Wind Speed': 8.3, 'Country': 'CN', 'Date': '2019-11-07 04:35:44'}, {'City': 'Belmonte', 'Lat': 40.36, 'Lng': -7.35, 'Max Temp': 55.99, 'Humidity': 88, 'Cloudiness': 82, 'Wind Speed': 1.99, 'Country': 'PT', 'Date': '2019-11-07 04:35:45'}, {'City': 'Carnarvon', 'Lat': -30.97, 'Lng': 22.13, 'Max Temp': 52.34, 'Humidity': 41, 'Cloudiness': 19, 'Wind Speed': 13.15, 'Country': 'ZA', 'Date': '2019-11-07 04:35:45'}, {'City': 'Gravelbourg', 'Lat': 49.88, 'Lng': -106.56, 'Max Temp': 14.9, 'Humidity': 80, 'Cloudiness': 0, 'Wind Speed': 11.21, 'Country': 'CA', 'Date': '2019-11-07 04:35:45'}, {'City': 'Warmbad', 'Lat': 50.67, 'Lng': 13.08, 'Max Temp': 46, 'Humidity': 87, 'Cloudiness': 56, 'Wind Speed': 5.82, 'Country': 'DE', 'Date': '2019-11-07 04:35:45'}, {'City': 'Lukovetskiy', 'Lat': 64.29, 'Lng': 41.92, 'Max Temp': 23, 'Humidity': 100, 'Cloudiness': 90, 'Wind Speed': 3.74, 'Country': 'RU', 'Date': '2019-11-07 04:35:46'}, {'City': 'Torbay', 'Lat': 47.66, 'Lng': -52.73, 'Max Temp': 41, 'Humidity': 64, 'Cloudiness': 20, 'Wind Speed': 24.16, 'Country': 'CA', 'Date': '2019-11-07 04:35:03'}, {'City': 'Hovd', 'Lat': 63.83, 'Lng': 10.7, 'Max Temp': 30, 'Humidity': 73, 'Cloudiness': 85, 'Wind Speed': 8.05, 'Country': 'NO', 'Date': '2019-11-07 04:35:46'}, {'City': 'Meulaboh', 'Lat': 4.14, 'Lng': 96.13, 'Max Temp': 81.9, 'Humidity': 76, 'Cloudiness': 43, 'Wind Speed': 8.34, 'Country': 'ID', 'Date': '2019-11-07 04:35:46'}, {'City': 'Pouebo', 'Lat': -20.4, 'Lng': 164.57, 'Max Temp': 74.25, 'Humidity': 53, 'Cloudiness': 0, 'Wind Speed': 6.22, 'Country': 'NC', 'Date': '2019-11-07 04:35:46'}, {'City': 'Upernavik', 'Lat': 72.79, 'Lng': -56.15, 'Max Temp': 23.97, 'Humidity': 86, 'Cloudiness': 100, 'Wind Speed': 4.41, 'Country': 'GL', 'Date': '2019-11-07 04:35:47'}, {'City': 'Los Andes', 'Lat': -32.83, 'Lng': -70.6, 'Max Temp': 70, 'Humidity': 26, 'Cloudiness': 0, 'Wind Speed': 10.29, 'Country': 'CL', 'Date': '2019-11-07 04:35:47'}, {'City': 'Leningradskiy', 'Lat': 69.38, 'Lng': 178.42, 'Max Temp': 18.68, 'Humidity': 87, 'Cloudiness': 34, 'Wind Speed': 17.85, 'Country': 'RU', 'Date': '2019-11-07 04:35:47'}, {'City': 'Sinnamary', 'Lat': 5.38, 'Lng': -52.96, 'Max Temp': 78.51, 'Humidity': 87, 'Cloudiness': 94, 'Wind Speed': 21.05, 'Country': 'GF', 'Date': '2019-11-07 04:35:47'}, {'City': 'Lagoa', 'Lat': 37.14, 'Lng': -8.45, 'Max Temp': 61, 'Humidity': 93, 'Cloudiness': 75, 'Wind Speed': 3.36, 'Country': 'PT', 'Date': '2019-11-07 04:35:48'}, {'City': 'Makinsk', 'Lat': 52.63, 'Lng': 70.42, 'Max Temp': 28.94, 'Humidity': 77, 'Cloudiness': 51, 'Wind Speed': 17.4, 'Country': 'KZ', 'Date': '2019-11-07 04:35:48'}, {'City': 'Chinsali', 'Lat': -10.55, 'Lng': 32.07, 'Max Temp': 79.56, 'Humidity': 40, 'Cloudiness': 19, 'Wind Speed': 7.72, 'Country': 'ZM', 'Date': '2019-11-07 04:35:48'}, {'City': 'Port Elizabeth', 'Lat': 39.31, 'Lng': -74.98, 'Max Temp': 45, 'Humidity': 86, 'Cloudiness': 1, 'Wind Speed': 3.98, 'Country': 'US', 'Date': '2019-11-07 04:35:49'}, {'City': 'Ineu', 'Lat': 46.43, 'Lng': 21.84, 'Max Temp': 54, 'Humidity': 100, 'Cloudiness': 100, 'Wind Speed': 8.05, 'Country': 'RO', 'Date': '2019-11-07 04:35:49'}, {'City': 'Faya', 'Lat': 18.39, 'Lng': 42.45, 'Max Temp': 59, 'Humidity': 26, 'Cloudiness': 13, 'Wind Speed': 6.93, 'Country': 'SA', 'Date': '2019-11-07 04:35:09'}, {'City': 'Chara', 'Lat': 39.42, 'Lng': 22.43, 'Max Temp': 53.6, 'Humidity': 87, 'Cloudiness': 77, 'Wind Speed': 0.67, 'Country': 'GR', 'Date': '2019-11-07 04:35:49'}, {'City': 'La Union', 'Lat': 14.97, 'Lng': -89.29, 'Max Temp': 73, 'Humidity': 1, 'Cloudiness': 27, 'Wind Speed': 2.68, 'Country': 'GT', 'Date': '2019-11-07 04:35:50'}, {'City': 'Narsaq', 'Lat': 60.91, 'Lng': -46.05, 'Max Temp': 26.6, 'Humidity': 68, 'Cloudiness': 84, 'Wind Speed': 3.36, 'Country': 'GL', 'Date': '2019-11-07 04:35:50'}, {'City': 'Shestakovo', 'Lat': 56.49, 'Lng': 103.96, 'Max Temp': 28.54, 'Humidity': 92, 'Cloudiness': 100, 'Wind Speed': 1.54, 'Country': 'RU', 'Date': '2019-11-07 04:35:50'}, {'City': 'Newport', 'Lat': 51.59, 'Lng': -3, 'Max Temp': 46, 'Humidity': 93, 'Cloudiness': 40, 'Wind Speed': 10.29, 'Country': 'GB', 'Date': '2019-11-07 04:32:15'}, {'City': 'Tecoanapa', 'Lat': 16.99, 'Lng': -99.26, 'Max Temp': 82.4, 'Humidity': 88, 'Cloudiness': 40, 'Wind Speed': 3.36, 'Country': 'MX', 'Date': '2019-11-07 04:35:51'}, {'City': 'Lichinga', 'Lat': -13.3, 'Lng': 35.25, 'Max Temp': 64.4, 'Humidity': 88, 'Cloudiness': 20, 'Wind Speed': 11.41, 'Country': 'MZ', 'Date': '2019-11-07 04:35:51'}, {'City': 'Namatanai', 'Lat': -3.66, 'Lng': 152.44, 'Max Temp': 83.75, 'Humidity': 78, 'Cloudiness': 87, 'Wind Speed': 20.13, 'Country': 'PG', 'Date': '2019-11-07 04:35:52'}, {'City': 'Cabedelo', 'Lat': -6.97, 'Lng': -34.84, 'Max Temp': 73.4, 'Humidity': 94, 'Cloudiness': 75, 'Wind Speed': 5.82, 'Country': 'BR', 'Date': '2019-11-07 04:35:52'}, {'City': 'Tongliao', 'Lat': 43.61, 'Lng': 122.27, 'Max Temp': 38.77, 'Humidity': 20, 'Cloudiness': 0, 'Wind Speed': 8.19, 'Country': 'CN', 'Date': '2019-11-07 04:35:52'}, {'City': 'Cayenne', 'Lat': 4.94, 'Lng': -52.33, 'Max Temp': 78.8, 'Humidity': 94, 'Cloudiness': 75, 'Wind Speed': 3.36, 'Country': 'GF', 'Date': '2019-11-07 04:32:44'}, {'City': 'Longyearbyen', 'Lat': 78.22, 'Lng': 15.63, 'Max Temp': 12.2, 'Humidity': 66, 'Cloudiness': 20, 'Wind Speed': 4.7, 'Country': 'NO', 'Date': '2019-11-07 04:35:52'}, {'City': 'Giyani', 'Lat': -23.32, 'Lng': 30.73, 'Max Temp': 83.7, 'Humidity': 30, 'Cloudiness': 0, 'Wind Speed': 2.77, 'Country': 'ZA', 'Date': '2019-11-07 04:35:53'}, {'City': 'Qasigiannguit', 'Lat': 68.82, 'Lng': -51.19, 'Max Temp': 21.2, 'Humidity': 62, 'Cloudiness': 80, 'Wind Speed': 6.4, 'Country': 'GL', 'Date': '2019-11-07 04:35:53'}, {'City': 'Rawson', 'Lat': -43.3, 'Lng': -65.11, 'Max Temp': 51.91, 'Humidity': 51, 'Cloudiness': 17, 'Wind Speed': 28.83, 'Country': 'AR', 'Date': '2019-11-07 04:35:53'}, {'City': 'Sorland', 'Lat': 67.67, 'Lng': 12.69, 'Max Temp': 19.4, 'Humidity': 85, 'Cloudiness': 75, 'Wind Speed': 6.93, 'Country': 'NO', 'Date': '2019-11-07 04:35:53'}, {'City': 'Aguazul', 'Lat': 5.17, 'Lng': -72.55, 'Max Temp': 72.1, 'Humidity': 95, 'Cloudiness': 89, 'Wind Speed': 2.28, 'Country': 'CO', 'Date': '2019-11-07 04:34:46'}, {'City': 'Constitucion', 'Lat': 23.99, 'Lng': -104.67, 'Max Temp': 60.01, 'Humidity': 84, 'Cloudiness': 72, 'Wind Speed': 4, 'Country': 'MX', 'Date': '2019-11-07 04:35:11'}, {'City': 'Tongchuan', 'Lat': 34.9, 'Lng': 108.95, 'Max Temp': 53.6, 'Humidity': 100, 'Cloudiness': 20, 'Wind Speed': 2.24, 'Country': 'CN', 'Date': '2019-11-07 04:35:54'}, {'City': 'Taoudenni', 'Lat': 22.68, 'Lng': -3.98, 'Max Temp': 66.4, 'Humidity': 30, 'Cloudiness': 0, 'Wind Speed': 3.58, 'Country': 'ML', 'Date': '2019-11-07 04:35:54'}, {'City': 'Guerrero Negro', 'Lat': 27.97, 'Lng': -114.04, 'Max Temp': 63, 'Humidity': 91, 'Cloudiness': 100, 'Wind Speed': 7.16, 'Country': 'MX', 'Date': '2019-11-07 04:35:55'}, {'City': 'Margate', 'Lat': -43.03, 'Lng': 147.26, 'Max Temp': 50, 'Humidity': 61, 'Cloudiness': 75, 'Wind Speed': 21.92, 'Country': 'AU', 'Date': '2019-11-07 04:35:55'}, {'City': 'Padang', 'Lat': -0.92, 'Lng': 100.36, 'Max Temp': 83.16, 'Humidity': 60, 'Cloudiness': 24, 'Wind Speed': 5.37, 'Country': 'ID', 'Date': '2019-11-07 04:35:55'}, {'City': 'Manchester', 'Lat': 43, 'Lng': -71.45, 'Max Temp': 36, 'Humidity': 64, 'Cloudiness': 20, 'Wind Speed': 2.35, 'Country': 'US', 'Date': '2019-11-07 04:32:59'}, {'City': 'Santa Cruz', 'Lat': -6.22, 'Lng': -36.02, 'Max Temp': 67.95, 'Humidity': 96, 'Cloudiness': 4, 'Wind Speed': 5.59, 'Country': 'BR', 'Date': '2019-11-07 04:35:32'}, {'City': 'Griffith', 'Lat': -34.29, 'Lng': 146.06, 'Max Temp': 73, 'Humidity': 30, 'Cloudiness': 40, 'Wind Speed': 17.22, 'Country': 'AU', 'Date': '2019-11-07 04:35:56'}, {'City': 'Sioux Lookout', 'Lat': 50.1, 'Lng': -91.92, 'Max Temp': 14, 'Humidity': 72, 'Cloudiness': 90, 'Wind Speed': 6.93, 'Country': 'CA', 'Date': '2019-11-07 04:32:53'}, {'City': 'Martinez', 'Lat': 38.01, 'Lng': -122.13, 'Max Temp': 60.01, 'Humidity': 93, 'Cloudiness': 1, 'Wind Speed': 8.05, 'Country': 'US', 'Date': '2019-11-07 04:35:56'}, {'City': 'Kodinsk', 'Lat': 58.6, 'Lng': 99.18, 'Max Temp': 29.43, 'Humidity': 92, 'Cloudiness': 100, 'Wind Speed': 5.3, 'Country': 'RU', 'Date': '2019-11-07 04:35:56'}, {'City': 'Avila', 'Lat': 38.91, 'Lng': -76.61, 'Max Temp': 48.2, 'Humidity': 86, 'Cloudiness': 1, 'Wind Speed': 3.36, 'Country': 'US', 'Date': '2019-11-07 04:35:57'}, {'City': 'Dourados', 'Lat': -22.22, 'Lng': -54.81, 'Max Temp': 71.8, 'Humidity': 96, 'Cloudiness': 99, 'Wind Speed': 3.47, 'Country': 'BR', 'Date': '2019-11-07 04:35:57'}, {'City': 'Okha', 'Lat': 53.59, 'Lng': 142.95, 'Max Temp': 24.66, 'Humidity': 75, 'Cloudiness': 100, 'Wind Speed': 15.17, 'Country': 'RU', 'Date': '2019-11-07 04:35:57'}, {'City': 'Ghanzi', 'Lat': -21.7, 'Lng': 21.65, 'Max Temp': 83.77, 'Humidity': 27, 'Cloudiness': 76, 'Wind Speed': 2.35, 'Country': 'BW', 'Date': '2019-11-07 04:35:57'}, {'City': 'Talara', 'Lat': -4.58, 'Lng': -81.27, 'Max Temp': 65.59, 'Humidity': 87, 'Cloudiness': 31, 'Wind Speed': 16.71, 'Country': 'PE', 'Date': '2019-11-07 04:35:58'}, {'City': 'Riwaka', 'Lat': -41.08, 'Lng': 173, 'Max Temp': 66.99, 'Humidity': 81, 'Cloudiness': 91, 'Wind Speed': 4, 'Country': 'NZ', 'Date': '2019-11-07 04:35:58'}, {'City': 'Kozhva', 'Lat': 65.11, 'Lng': 57.05, 'Max Temp': 4.89, 'Humidity': 98, 'Cloudiness': 100, 'Wind Speed': 4.27, 'Country': 'RU', 'Date': '2019-11-07 04:35:58'}, {'City': 'Meadow Lake', 'Lat': 54.13, 'Lng': -108.44, 'Max Temp': 8.6, 'Humidity': 93, 'Cloudiness': 14, 'Wind Speed': 5.68, 'Country': 'CA', 'Date': '2019-11-07 04:35:58'}, {'City': 'Lenina', 'Lat': 48.44, 'Lng': 39.15, 'Max Temp': 56.21, 'Humidity': 80, 'Cloudiness': 24, 'Wind Speed': 10.2, 'Country': 'UA', 'Date': '2019-11-07 04:35:59'}, {'City': 'Haines Junction', 'Lat': 60.75, 'Lng': -137.51, 'Max Temp': 31.82, 'Humidity': 98, 'Cloudiness': 100, 'Wind Speed': 8.52, 'Country': 'CA', 'Date': '2019-11-07 04:32:52'}, {'City': 'Itoman', 'Lat': 26.12, 'Lng': 127.67, 'Max Temp': 78.8, 'Humidity': 78, 'Cloudiness': 75, 'Wind Speed': 13.87, 'Country': 'JP', 'Date': '2019-11-07 04:35:59'}, {'City': 'Talwandi Bhai', 'Lat': 30.86, 'Lng': 74.93, 'Max Temp': 79.7, 'Humidity': 37, 'Cloudiness': 34, 'Wind Speed': 14.03, 'Country': 'IN', 'Date': '2019-11-07 04:36:00'}, {'City': 'Nola', 'Lat': 3.52, 'Lng': 16.05, 'Max Temp': 72.68, 'Humidity': 90, 'Cloudiness': 89, 'Wind Speed': 0.83, 'Country': 'CF', 'Date': '2019-11-07 04:36:00'}, {'City': 'Zhigansk', 'Lat': 66.77, 'Lng': 123.37, 'Max Temp': -17.27, 'Humidity': 94, 'Cloudiness': 74, 'Wind Speed': 14.72, 'Country': 'RU', 'Date': '2019-11-07 04:36:00'}, {'City': 'Karaton', 'Lat': -6.34, 'Lng': 106.1, 'Max Temp': 95, 'Humidity': 52, 'Cloudiness': 20, 'Wind Speed': 9.17, 'Country': 'ID', 'Date': '2019-11-07 04:36:01'}, {'City': 'Bilma', 'Lat': 18.69, 'Lng': 12.92, 'Max Temp': 76.24, 'Humidity': 19, 'Cloudiness': 18, 'Wind Speed': 6.24, 'Country': 'NE', 'Date': '2019-11-07 04:36:01'}, {'City': 'Kosum Phisai', 'Lat': 16.25, 'Lng': 103.07, 'Max Temp': 84.2, 'Humidity': 58, 'Cloudiness': 40, 'Wind Speed': 6.93, 'Country': 'TH', 'Date': '2019-11-07 04:36:01'}, {'City': 'Pimentel', 'Lat': -3.7, 'Lng': -45.5, 'Max Temp': 74.48, 'Humidity': 88, 'Cloudiness': 88, 'Wind Speed': 2.86, 'Country': 'BR', 'Date': '2019-11-07 04:36:01'}, {'City': 'Presidencia Roque Saenz Pena', 'Lat': -26.79, 'Lng': -60.44, 'Max Temp': 68.65, 'Humidity': 94, 'Cloudiness': 82, 'Wind Speed': 4.72, 'Country': 'AR', 'Date': '2019-11-07 04:36:02'}, {'City': 'Leverkusen', 'Lat': 51.03, 'Lng': 6.99, 'Max Temp': 46.99, 'Humidity': 93, 'Cloudiness': 75, 'Wind Speed': 8.05, 'Country': 'DE', 'Date': '2019-11-07 04:36:02'}, {'City': 'Khandyga', 'Lat': 62.65, 'Lng': 135.58, 'Max Temp': -8.83, 'Humidity': 93, 'Cloudiness': 100, 'Wind Speed': 1.66, 'Country': 'RU', 'Date': '2019-11-07 04:36:02'}, {'City': 'Dubbo', 'Lat': -32.25, 'Lng': 148.6, 'Max Temp': 78.8, 'Humidity': 28, 'Cloudiness': 0, 'Wind Speed': 19.46, 'Country': 'AU', 'Date': '2019-11-07 04:36:03'}, {'City': 'Marzuq', 'Lat': 14.4, 'Lng': 46.47, 'Max Temp': 75.94, 'Humidity': 24, 'Cloudiness': 0, 'Wind Speed': 7.09, 'Country': 'YE', 'Date': '2019-11-07 04:36:03'}, {'City': 'Luderitz', 'Lat': -26.65, 'Lng': 15.16, 'Max Temp': 57.2, 'Humidity': 76, 'Cloudiness': 4, 'Wind Speed': 13.87, 'Country': 'NA', 'Date': '2019-11-07 04:36:03'}, {'City': 'Clyde River', 'Lat': 70.47, 'Lng': -68.59, 'Max Temp': 23, 'Humidity': 100, 'Cloudiness': 90, 'Wind Speed': 12.75, 'Country': 'CA', 'Date': '2019-11-07 04:36:04'}, {'City': 'Metro', 'Lat': -5.11, 'Lng': 105.31, 'Max Temp': 97.36, 'Humidity': 26, 'Cloudiness': 1, 'Wind Speed': 10.51, 'Country': 'ID', 'Date': '2019-11-07 04:36:04'}, {'City': 'Marsa Matruh', 'Lat': 31.35, 'Lng': 27.25, 'Max Temp': 60.8, 'Humidity': 87, 'Cloudiness': 0, 'Wind Speed': 7.38, 'Country': 'EG', 'Date': '2019-11-07 04:32:10'}, {'City': 'Pauini', 'Lat': -7.71, 'Lng': -67, 'Max Temp': 72.88, 'Humidity': 98, 'Cloudiness': 90, 'Wind Speed': 2.1, 'Country': 'BR', 'Date': '2019-11-07 04:36:05'}, {'City': 'Mount Gambier', 'Lat': -37.83, 'Lng': 140.78, 'Max Temp': 53.6, 'Humidity': 93, 'Cloudiness': 90, 'Wind Speed': 17.22, 'Country': 'AU', 'Date': '2019-11-07 04:35:31'}, {'City': 'Emerald', 'Lat': -23.53, 'Lng': 148.16, 'Max Temp': 96.01, 'Humidity': 12, 'Cloudiness': 0, 'Wind Speed': 4.7, 'Country': 'AU', 'Date': '2019-11-07 04:36:05'}, {'City': 'Muisne', 'Lat': 0.61, 'Lng': -80.02, 'Max Temp': 74.07, 'Humidity': 87, 'Cloudiness': 91, 'Wind Speed': 6.76, 'Country': 'EC', 'Date': '2019-11-07 04:36:05'}, {'City': 'Shellbrook', 'Lat': 53.22, 'Lng': -106.39, 'Max Temp': 6.8, 'Humidity': 84, 'Cloudiness': 20, 'Wind Speed': 4.7, 'Country': 'CA', 'Date': '2019-11-07 04:36:05'}, {'City': 'Usinsk', 'Lat': 66, 'Lng': 57.56, 'Max Temp': 4.3, 'Humidity': 95, 'Cloudiness': 58, 'Wind Speed': 6.22, 'Country': 'RU', 'Date': '2019-11-07 04:36:06'}, {'City': 'Terney', 'Lat': 45.05, 'Lng': 136.61, 'Max Temp': 25.3, 'Humidity': 34, 'Cloudiness': 21, 'Wind Speed': 14.09, 'Country': 'RU', 'Date': '2019-11-07 04:36:06'}, {'City': 'Ambilobe', 'Lat': -13.19, 'Lng': 49.05, 'Max Temp': 88.34, 'Humidity': 45, 'Cloudiness': 93, 'Wind Speed': 12.8, 'Country': 'MG', 'Date': '2019-11-07 04:36:06'}, {'City': 'Redmond', 'Lat': 47.67, 'Lng': -122.12, 'Max Temp': 48.99, 'Humidity': 76, 'Cloudiness': 1, 'Wind Speed': 2.95, 'Country': 'US', 'Date': '2019-11-07 04:34:13'}, {'City': 'Arraial Do Cabo', 'Lat': -22.97, 'Lng': -42.02, 'Max Temp': 72.48, 'Humidity': 84, 'Cloudiness': 96, 'Wind Speed': 6.78, 'Country': 'BR', 'Date': '2019-11-07 04:36:07'}, {'City': 'West Sacramento', 'Lat': 38.58, 'Lng': -121.53, 'Max Temp': 62.6, 'Humidity': 66, 'Cloudiness': 1, 'Wind Speed': 3.36, 'Country': 'US', 'Date': '2019-11-07 04:36:07'}, {'City': 'Lisala', 'Lat': 2.15, 'Lng': 21.52, 'Max Temp': 73.8, 'Humidity': 92, 'Cloudiness': 91, 'Wind Speed': 0.92, 'Country': 'CD', 'Date': '2019-11-07 04:36:07'}, {'City': 'Bali', 'Lat': 32.29, 'Lng': 119.4, 'Max Temp': 75, 'Humidity': 48, 'Cloudiness': 100, 'Wind Speed': 1.01, 'Country': 'CN', 'Date': '2019-11-07 04:36:07'}, {'City': 'Merauke', 'Lat': -8.49, 'Lng': 140.4, 'Max Temp': 84.74, 'Humidity': 67, 'Cloudiness': 86, 'Wind Speed': 12.3, 'Country': 'ID', 'Date': '2019-11-07 04:36:08'}, {'City': 'Yulara', 'Lat': -25.24, 'Lng': 130.99, 'Max Temp': 95, 'Humidity': 5, 'Cloudiness': 0, 'Wind Speed': 6.93, 'Country': 'AU', 'Date': '2019-11-07 04:36:08'}, {'City': 'La Rioja', 'Lat': -29.41, 'Lng': -66.86, 'Max Temp': 61.27, 'Humidity': 69, 'Cloudiness': 0, 'Wind Speed': 1.88, 'Country': 'AR', 'Date': '2019-11-07 04:36:08'}, {'City': 'Ndioum', 'Lat': 16.51, 'Lng': -14.65, 'Max Temp': 80.6, 'Humidity': 36, 'Cloudiness': 78, 'Wind Speed': 2.24, 'Country': 'SN', 'Date': '2019-11-07 04:36:08'}, {'City': 'Worcester', 'Lat': 52.19, 'Lng': -2.22, 'Max Temp': 44.01, 'Humidity': 100, 'Cloudiness': 90, 'Wind Speed': 8.28, 'Country': 'GB', 'Date': '2019-11-07 04:31:15'}, {'City': 'Kushtagi', 'Lat': 15.76, 'Lng': 76.19, 'Max Temp': 82.15, 'Humidity': 57, 'Cloudiness': 15, 'Wind Speed': 1.19, 'Country': 'IN', 'Date': '2019-11-07 04:36:09'}, {'City': 'Chifeng', 'Lat': 42.27, 'Lng': 118.96, 'Max Temp': 43.57, 'Humidity': 13, 'Cloudiness': 0, 'Wind Speed': 7.92, 'Country': 'CN', 'Date': '2019-11-07 04:36:09'}, {'City': 'San Alberto', 'Lat': -24.98, 'Lng': -54.91, 'Max Temp': 71.6, 'Humidity': 100, 'Cloudiness': 100, 'Wind Speed': 3.36, 'Country': 'PY', 'Date': '2019-11-07 04:36:09'}, {'City': 'Adeje', 'Lat': 5.68, 'Lng': 5.76, 'Max Temp': 76.87, 'Humidity': 94, 'Cloudiness': 100, 'Wind Speed': 1.34, 'Country': 'NG', 'Date': '2019-11-07 04:36:09'}, {'City': 'Port Blair', 'Lat': 11.67, 'Lng': 92.75, 'Max Temp': 82.87, 'Humidity': 82, 'Cloudiness': 93, 'Wind Speed': 16.06, 'Country': 'IN', 'Date': '2019-11-07 04:34:08'}, {'City': 'Saint-Joseph', 'Lat': 43.56, 'Lng': 6.97, 'Max Temp': 53.01, 'Humidity': 81, 'Cloudiness': 16, 'Wind Speed': 3.36, 'Country': 'FR', 'Date': '2019-11-07 04:35:24'}, {'City': 'Bahia Blanca', 'Lat': -38.72, 'Lng': -62.27, 'Max Temp': 56.84, 'Humidity': 43, 'Cloudiness': 0, 'Wind Speed': 6.22, 'Country': 'AR', 'Date': '2019-11-07 04:34:42'}, {'City': 'Pundaguitan', 'Lat': 6.37, 'Lng': 126.17, 'Max Temp': 84.85, 'Humidity': 59, 'Cloudiness': 90, 'Wind Speed': 4.05, 'Country': 'PH', 'Date': '2019-11-07 04:36:10'}, {'City': 'Toamasina', 'Lat': -18.17, 'Lng': 49.38, 'Max Temp': 71.6, 'Humidity': 94, 'Cloudiness': 40, 'Wind Speed': 3.36, 'Country': 'MG', 'Date': '2019-11-07 04:36:11'}, {'City': 'Iqaluit', 'Lat': 63.75, 'Lng': -68.52, 'Max Temp': 10.4, 'Humidity': 72, 'Cloudiness': 20, 'Wind Speed': 8.05, 'Country': 'CA', 'Date': '2019-11-07 04:34:47'}, {'City': 'Hamilton', 'Lat': 43.26, 'Lng': -79.87, 'Max Temp': 42.01, 'Humidity': 93, 'Cloudiness': 90, 'Wind Speed': 5.82, 'Country': 'CA', 'Date': '2019-11-07 04:35:21'}, {'City': 'Kavieng', 'Lat': -2.57, 'Lng': 150.8, 'Max Temp': 84.81, 'Humidity': 76, 'Cloudiness': 100, 'Wind Speed': 18.54, 'Country': 'PG', 'Date': '2019-11-07 04:36:11'}, {'City': 'Bulgan', 'Lat': 48.81, 'Lng': 103.53, 'Max Temp': 41.38, 'Humidity': 45, 'Cloudiness': 4, 'Wind Speed': 3.56, 'Country': 'MN', 'Date': '2019-11-07 04:36:12'}, {'City': 'Cairns', 'Lat': -16.92, 'Lng': 145.77, 'Max Temp': 90, 'Humidity': 51, 'Cloudiness': 0, 'Wind Speed': 12.75, 'Country': 'AU', 'Date': '2019-11-07 04:36:12'}, {'City': 'San Policarpo', 'Lat': 12.18, 'Lng': 125.51, 'Max Temp': 87.13, 'Humidity': 65, 'Cloudiness': 70, 'Wind Speed': 10.04, 'Country': 'PH', 'Date': '2019-11-07 04:36:12'}, {'City': 'Urbano Santos', 'Lat': -3.2, 'Lng': -43.39, 'Max Temp': 72.91, 'Humidity': 93, 'Cloudiness': 26, 'Wind Speed': 4.5, 'Country': 'BR', 'Date': '2019-11-07 04:36:12'}, {'City': 'Sao Joao Da Barra', 'Lat': -21.64, 'Lng': -41.05, 'Max Temp': 71.76, 'Humidity': 87, 'Cloudiness': 100, 'Wind Speed': 9.86, 'Country': 'BR', 'Date': '2019-11-07 04:35:25'}, {'City': 'Zeya', 'Lat': 53.74, 'Lng': 127.27, 'Max Temp': 9.63, 'Humidity': 74, 'Cloudiness': 0, 'Wind Speed': 6.46, 'Country': 'RU', 'Date': '2019-11-07 04:36:13'}, {'City': 'Hasaki', 'Lat': 35.73, 'Lng': 140.83, 'Max Temp': 72, 'Humidity': 53, 'Cloudiness': 75, 'Wind Speed': 12.75, 'Country': 'JP', 'Date': '2019-11-07 04:36:13'}, {'City': 'Ulaangom', 'Lat': 49.98, 'Lng': 92.07, 'Max Temp': 36.32, 'Humidity': 55, 'Cloudiness': 93, 'Wind Speed': 2.77, 'Country': 'MN', 'Date': '2019-11-07 04:36:13'}, {'City': 'Luganville', 'Lat': -15.51, 'Lng': 167.18, 'Max Temp': 82.4, 'Humidity': 83, 'Cloudiness': 75, 'Wind Speed': 1.12, 'Country': 'VU', 'Date': '2019-11-07 04:36:14'}, {'City': 'Austin', 'Lat': 30.27, 'Lng': -97.74, 'Max Temp': 70, 'Humidity': 72, 'Cloudiness': 1, 'Wind Speed': 5.82, 'Country': 'US', 'Date': '2019-11-07 04:35:59'}, {'City': 'Khotynets', 'Lat': 53.13, 'Lng': 35.4, 'Max Temp': 42.62, 'Humidity': 93, 'Cloudiness': 56, 'Wind Speed': 7.92, 'Country': 'RU', 'Date': '2019-11-07 04:36:14'}, {'City': 'Sarangani', 'Lat': 5.4, 'Lng': 125.46, 'Max Temp': 84.76, 'Humidity': 66, 'Cloudiness': 100, 'Wind Speed': 15.14, 'Country': 'PH', 'Date': '2019-11-07 04:36:15'}, {'City': 'Kirovsk', 'Lat': 67.62, 'Lng': 33.66, 'Max Temp': 10, 'Humidity': 84, 'Cloudiness': 33, 'Wind Speed': 1.39, 'Country': 'RU', 'Date': '2019-11-07 04:36:15'}, {'City': 'Athabasca', 'Lat': 54.72, 'Lng': -113.29, 'Max Temp': 14.49, 'Humidity': 82, 'Cloudiness': 63, 'Wind Speed': 5.57, 'Country': 'CA', 'Date': '2019-11-07 04:34:50'}, {'City': 'Pisco', 'Lat': -13.71, 'Lng': -76.2, 'Max Temp': 62.6, 'Humidity': 82, 'Cloudiness': 75, 'Wind Speed': 3.36, 'Country': 'PE', 'Date': '2019-11-07 04:36:15'}, {'City': 'Cikupa', 'Lat': -7.49, 'Lng': 108.52, 'Max Temp': 91.31, 'Humidity': 39, 'Cloudiness': 8, 'Wind Speed': 8.19, 'Country': 'ID', 'Date': '2019-11-07 04:36:16'}, {'City': 'Sfantu Gheorghe', 'Lat': 44.65, 'Lng': 26.83, 'Max Temp': 55, 'Humidity': 100, 'Cloudiness': 100, 'Wind Speed': 3.36, 'Country': 'RO', 'Date': '2019-11-07 04:36:16'}, {'City': 'Port Lincoln', 'Lat': -34.72, 'Lng': 135.86, 'Max Temp': 60.04, 'Humidity': 69, 'Cloudiness': 98, 'Wind Speed': 22.97, 'Country': 'AU', 'Date': '2019-11-07 04:36:16'}, {'City': 'Sur', 'Lat': 22.57, 'Lng': 59.53, 'Max Temp': 82.76, 'Humidity': 51, 'Cloudiness': 0, 'Wind Speed': 11.48, 'Country': 'OM', 'Date': '2019-11-07 04:36:17'}, {'City': 'Northam', 'Lat': -31.65, 'Lng': 116.67, 'Max Temp': 80.6, 'Humidity': 30, 'Cloudiness': 3, 'Wind Speed': 10.29, 'Country': 'AU', 'Date': '2019-11-07 04:36:17'}, {'City': 'Slonim', 'Lat': 53.09, 'Lng': 25.32, 'Max Temp': 40.08, 'Humidity': 95, 'Cloudiness': 22, 'Wind Speed': 5.41, 'Country': 'BY', 'Date': '2019-11-07 04:36:17'}, {'City': 'Arlit', 'Lat': 18.74, 'Lng': 7.39, 'Max Temp': 80.19, 'Humidity': 16, 'Cloudiness': 0, 'Wind Speed': 10.36, 'Country': 'NE', 'Date': '2019-11-07 04:36:18'}, {'City': 'Vestmannaeyjar', 'Lat': 63.44, 'Lng': -20.27, 'Max Temp': 39.72, 'Humidity': 79, 'Cloudiness': 100, 'Wind Speed': 14.54, 'Country': 'IS', 'Date': '2019-11-07 04:36:18'}, {'City': 'Burnie', 'Lat': -41.05, 'Lng': 145.91, 'Max Temp': 55, 'Humidity': 62, 'Cloudiness': 82, 'Wind Speed': 4, 'Country': 'AU', 'Date': '2019-11-07 04:36:18'}, {'City': 'Aden', 'Lat': 12.79, 'Lng': 45.03, 'Max Temp': 86.76, 'Humidity': 41, 'Cloudiness': 1, 'Wind Speed': 10.92, 'Country': 'YE', 'Date': '2019-11-07 04:36:18'}, {'City': 'Bereznehuvate', 'Lat': 47.31, 'Lng': 32.85, 'Max Temp': 56.43, 'Humidity': 95, 'Cloudiness': 75, 'Wind Speed': 5.66, 'Country': 'UA', 'Date': '2019-11-07 04:36:19'}, {'City': 'Staryy Nadym', 'Lat': 65.61, 'Lng': 72.68, 'Max Temp': 10.96, 'Humidity': 93, 'Cloudiness': 100, 'Wind Speed': 8.41, 'Country': 'RU', 'Date': '2019-11-07 04:36:19'}, {'City': 'Nanortalik', 'Lat': 60.14, 'Lng': -45.24, 'Max Temp': 34.45, 'Humidity': 68, 'Cloudiness': 100, 'Wind Speed': 30.82, 'Country': 'GL', 'Date': '2019-11-07 04:36:19'}, {'City': 'Saint-Denis', 'Lat': 48.94, 'Lng': 2.36, 'Max Temp': 48.99, 'Humidity': 93, 'Cloudiness': 100, 'Wind Speed': 11.41, 'Country': 'FR', 'Date': '2019-11-07 04:36:19'}, {'City': 'Calvia', 'Lat': 39.57, 'Lng': 2.51, 'Max Temp': 48.99, 'Humidity': 87, 'Cloudiness': 0, 'Wind Speed': 3.36, 'Country': 'ES', 'Date': '2019-11-07 04:36:20'}, {'City': 'Pushkino', 'Lat': 56.01, 'Lng': 37.85, 'Max Temp': 41, 'Humidity': 80, 'Cloudiness': 75, 'Wind Speed': 11.18, 'Country': 'RU', 'Date': '2019-11-07 04:36:20'}, {'City': 'Corinth', 'Lat': 37.94, 'Lng': 22.93, 'Max Temp': 70, 'Humidity': 93, 'Cloudiness': 40, 'Wind Speed': 3.42, 'Country': 'GR', 'Date': '2019-11-07 04:36:20'}, {'City': 'San Jose', 'Lat': 14.25, 'Lng': -87.96, 'Max Temp': 62.67, 'Humidity': 89, 'Cloudiness': 99, 'Wind Speed': 8.01, 'Country': 'HN', 'Date': '2019-11-07 04:36:20'}, {'City': 'Bull Savanna', 'Lat': 17.89, 'Lng': -77.59, 'Max Temp': 69.73, 'Humidity': 89, 'Cloudiness': 0, 'Wind Speed': 3.56, 'Country': 'JM', 'Date': '2019-11-07 04:36:21'}, {'City': 'Egvekinot', 'Lat': 66.32, 'Lng': -179.17, 'Max Temp': 9.54, 'Humidity': 95, 'Cloudiness': 42, 'Wind Speed': 11.61, 'Country': 'RU', 'Date': '2019-11-07 04:36:21'}, {'City': 'Dogondoutchi', 'Lat': 13.64, 'Lng': 4.03, 'Max Temp': 79.2, 'Humidity': 26, 'Cloudiness': 0, 'Wind Speed': 3.74, 'Country': 'NE', 'Date': '2019-11-07 04:36:21'}, {'City': 'Jeremie', 'Lat': 18.65, 'Lng': -74.12, 'Max Temp': 70.59, 'Humidity': 86, 'Cloudiness': 0, 'Wind Speed': 3.38, 'Country': 'HT', 'Date': '2019-11-07 04:36:21'}, {'City': 'Samarai', 'Lat': -10.62, 'Lng': 150.67, 'Max Temp': 78.96, 'Humidity': 90, 'Cloudiness': 100, 'Wind Speed': 6.4, 'Country': 'PG', 'Date': '2019-11-07 04:36:22'}, {'City': 'Ostrovnoy', 'Lat': 68.05, 'Lng': 39.51, 'Max Temp': 18.07, 'Humidity': 89, 'Cloudiness': 92, 'Wind Speed': 4.47, 'Country': 'RU', 'Date': '2019-11-07 04:36:22'}, {'City': 'Anadyr', 'Lat': 64.73, 'Lng': 177.51, 'Max Temp': 14, 'Humidity': 92, 'Cloudiness': 0, 'Wind Speed': 4.47, 'Country': 'RU', 'Date': '2019-11-07 04:36:22'}, {'City': 'Iralaya', 'Lat': 15, 'Lng': -83.23, 'Max Temp': 82.71, 'Humidity': 79, 'Cloudiness': 100, 'Wind Speed': 16.93, 'Country': 'HN', 'Date': '2019-11-07 04:36:23'}, {'City': 'Ekhabi', 'Lat': 53.51, 'Lng': 142.97, 'Max Temp': 24.66, 'Humidity': 75, 'Cloudiness': 100, 'Wind Speed': 15.17, 'Country': 'RU', 'Date': '2019-11-07 04:36:23'}, {'City': 'Patacamaya', 'Lat': -17.23, 'Lng': -67.92, 'Max Temp': 44.13, 'Humidity': 87, 'Cloudiness': 97, 'Wind Speed': 3.56, 'Country': 'BO', 'Date': '2019-11-07 04:36:23'}, {'City': 'Kudat', 'Lat': 6.89, 'Lng': 116.84, 'Max Temp': 84.2, 'Humidity': 70, 'Cloudiness': 75, 'Wind Speed': 17.22, 'Country': 'MY', 'Date': '2019-11-07 04:36:23'}, {'City': 'Derbent', 'Lat': 42.06, 'Lng': 48.29, 'Max Temp': 58.53, 'Humidity': 66, 'Cloudiness': 0, 'Wind Speed': 0.6, 'Country': 'RU', 'Date': '2019-11-07 04:36:23'}, {'City': 'Santana', 'Lat': -0.06, 'Lng': -51.18, 'Max Temp': 82.4, 'Humidity': 94, 'Cloudiness': 20, 'Wind Speed': 6.93, 'Country': 'BR', 'Date': '2019-11-07 04:36:24'}, {'City': 'Iguape', 'Lat': -24.7, 'Lng': -47.56, 'Max Temp': 67.32, 'Humidity': 89, 'Cloudiness': 98, 'Wind Speed': 1.86, 'Country': 'BR', 'Date': '2019-11-07 04:36:24'}, {'City': 'Ahuimanu', 'Lat': 21.44, 'Lng': -157.84, 'Max Temp': 80.6, 'Humidity': 69, 'Cloudiness': 75, 'Wind Speed': 13.87, 'Country': 'US', 'Date': '2019-11-07 04:36:24'}, {'City': 'Mayuge', 'Lat': 0.46, 'Lng': 33.48, 'Max Temp': 71.96, 'Humidity': 80, 'Cloudiness': 46, 'Wind Speed': 4.59, 'Country': 'UG', 'Date': '2019-11-07 04:36:25'}, {'City': 'Damaturu', 'Lat': 11.75, 'Lng': 11.96, 'Max Temp': 76.21, 'Humidity': 26, 'Cloudiness': 0, 'Wind Speed': 3.87, 'Country': 'NG', 'Date': '2019-11-07 04:36:25'}, {'City': 'Olinda', 'Lat': -37.84, 'Lng': 145.39, 'Max Temp': 60.8, 'Humidity': 63, 'Cloudiness': 90, 'Wind Speed': 18.34, 'Country': 'AU', 'Date': '2019-11-07 04:36:26'}, {'City': 'El Calvario', 'Lat': 4.35, 'Lng': -73.71, 'Max Temp': 69.8, 'Humidity': 94, 'Cloudiness': 40, 'Wind Speed': 4.09, 'Country': 'CO', 'Date': '2019-11-07 04:36:26'}, {'City': 'Sinazongwe', 'Lat': -17.26, 'Lng': 27.46, 'Max Temp': 82.53, 'Humidity': 45, 'Cloudiness': 0, 'Wind Speed': 7.36, 'Country': 'ZM', 'Date': '2019-11-07 04:36:26'}, {'City': 'Sisimiut', 'Lat': 66.94, 'Lng': -53.67, 'Max Temp': 18.37, 'Humidity': 74, 'Cloudiness': 88, 'Wind Speed': 8.37, 'Country': 'GL', 'Date': '2019-11-07 04:36:27'}, {'City': 'Khipro', 'Lat': 25.83, 'Lng': 69.38, 'Max Temp': 83.84, 'Humidity': 9, 'Cloudiness': 0, 'Wind Speed': 17.16, 'Country': 'PK', 'Date': '2019-11-07 04:36:27'}, {'City': 'Maragogi', 'Lat': -9.01, 'Lng': -35.22, 'Max Temp': 78.39, 'Humidity': 76, 'Cloudiness': 89, 'Wind Speed': 12.77, 'Country': 'BR', 'Date': '2019-11-07 04:36:27'}, {'City': 'Nantucket', 'Lat': 41.28, 'Lng': -70.1, 'Max Temp': 39.99, 'Humidity': 74, 'Cloudiness': 1, 'Wind Speed': 3.27, 'Country': 'US', 'Date': '2019-11-07 04:36:27'}, {'City': 'Yibin', 'Lat': 28.77, 'Lng': 104.64, 'Max Temp': 68.95, 'Humidity': 58, 'Cloudiness': 11, 'Wind Speed': 3.51, 'Country': 'CN', 'Date': '2019-11-07 04:36:28'}, {'City': 'Kaseda', 'Lat': 31.42, 'Lng': 130.32, 'Max Temp': 68, 'Humidity': 45, 'Cloudiness': 75, 'Wind Speed': 12.75, 'Country': 'JP', 'Date': '2019-11-07 04:36:28'}, {'City': 'Sept-Iles', 'Lat': 50.2, 'Lng': -66.38, 'Max Temp': 24.01, 'Humidity': 53, 'Cloudiness': 20, 'Wind Speed': 14.99, 'Country': 'CA', 'Date': '2019-11-07 04:36:28'}, {'City': 'Hay River', 'Lat': 60.82, 'Lng': -115.79, 'Max Temp': 12.2, 'Humidity': 72, 'Cloudiness': 75, 'Wind Speed': 8.05, 'Country': 'CA', 'Date': '2019-11-07 04:36:28'}, {'City': 'Grindavik', 'Lat': 63.84, 'Lng': -22.43, 'Max Temp': 37.4, 'Humidity': 86, 'Cloudiness': 75, 'Wind Speed': 10.29, 'Country': 'IS', 'Date': '2019-11-07 04:36:29'}, {'City': 'Shimoda', 'Lat': 34.7, 'Lng': 138.93, 'Max Temp': 73.99, 'Humidity': 56, 'Cloudiness': 75, 'Wind Speed': 12.75, 'Country': 'JP', 'Date': '2019-11-07 04:36:29'}, {'City': 'Rincon', 'Lat': 8.46, 'Lng': -82.28, 'Max Temp': 75.2, 'Humidity': 94, 'Cloudiness': 75, 'Wind Speed': 2.24, 'Country': 'PA', 'Date': '2019-11-07 04:36:29'}, {'City': 'Qaqortoq', 'Lat': 60.72, 'Lng': -46.03, 'Max Temp': 26.6, 'Humidity': 68, 'Cloudiness': 100, 'Wind Speed': 3.36, 'Country': 'GL', 'Date': '2019-11-07 04:36:30'}, {'City': 'Veraval', 'Lat': 49.65, 'Lng': 0.71, 'Max Temp': 48.2, 'Humidity': 100, 'Cloudiness': 100, 'Wind Speed': 9.17, 'Country': 'FR', 'Date': '2019-11-07 04:36:30'}, {'City': 'Beterou', 'Lat': 9.2, 'Lng': 2.26, 'Max Temp': 72.77, 'Humidity': 95, 'Cloudiness': 23, 'Wind Speed': 3.71, 'Country': 'BJ', 'Date': '2019-11-07 04:36:30'}, {'City': 'Lata', 'Lat': 30.78, 'Lng': 78.62, 'Max Temp': 26.71, 'Humidity': 81, 'Cloudiness': 100, 'Wind Speed': 7.52, 'Country': 'IN', 'Date': '2019-11-07 04:36:31'}, {'City': 'Talnakh', 'Lat': 69.49, 'Lng': 88.39, 'Max Temp': 14, 'Humidity': 85, 'Cloudiness': 75, 'Wind Speed': 17.9, 'Country': 'RU', 'Date': '2019-11-07 04:32:51'}, {'City': 'Chincha Alta', 'Lat': -13.42, 'Lng': -76.13, 'Max Temp': 62.6, 'Humidity': 82, 'Cloudiness': 75, 'Wind Speed': 3.36, 'Country': 'PE', 'Date': '2019-11-07 04:36:31'}, {'City': 'Portland', 'Lat': 43.66, 'Lng': -70.25, 'Max Temp': 37, 'Humidity': 59, 'Cloudiness': 75, 'Wind Speed': 3.36, 'Country': 'US', 'Date': '2019-11-07 04:36:31'}, {'City': 'Suntar', 'Lat': 62.16, 'Lng': 117.65, 'Max Temp': 3.74, 'Humidity': 87, 'Cloudiness': 100, 'Wind Speed': 4.14, 'Country': 'RU', 'Date': '2019-11-07 04:36:32'}, {'City': 'Toro', 'Lat': 41.52, 'Lng': -5.39, 'Max Temp': 50, 'Humidity': 87, 'Cloudiness': 20, 'Wind Speed': 9.17, 'Country': 'ES', 'Date': '2019-11-07 04:36:32'}, {'City': 'Lakhimpur', 'Lat': 27.24, 'Lng': 94.1, 'Max Temp': 78.8, 'Humidity': 78, 'Cloudiness': 20, 'Wind Speed': 3.36, 'Country': 'IN', 'Date': '2019-11-07 04:36:32'}, {'City': 'Khani', 'Lat': 41.96, 'Lng': 42.96, 'Max Temp': 46.4, 'Humidity': 81, 'Cloudiness': 0, 'Wind Speed': 2.24, 'Country': 'GE', 'Date': '2019-11-07 04:36:33'}, {'City': 'George Town', 'Lat': 5.42, 'Lng': 100.33, 'Max Temp': 87.8, 'Humidity': 66, 'Cloudiness': 75, 'Wind Speed': 3.36, 'Country': 'MY', 'Date': '2019-11-07 04:36:33'}, {'City': 'Kabwe', 'Lat': -14.44, 'Lng': 28.44, 'Max Temp': 80.1, 'Humidity': 42, 'Cloudiness': 37, 'Wind Speed': 11.07, 'Country': 'ZM', 'Date': '2019-11-07 04:36:33'}, {'City': 'Goderich', 'Lat': 43.74, 'Lng': -81.71, 'Max Temp': 37.99, 'Humidity': 90, 'Cloudiness': 99, 'Wind Speed': 3, 'Country': 'CA', 'Date': '2019-11-07 04:36:33'}, {'City': 'Airai', 'Lat': -8.93, 'Lng': 125.41, 'Max Temp': 82.04, 'Humidity': 47, 'Cloudiness': 40, 'Wind Speed': 8.01, 'Country': 'TL', 'Date': '2019-11-07 04:36:34'}, {'City': 'Gweta', 'Lat': -20.21, 'Lng': 25.26, 'Max Temp': 83.46, 'Humidity': 25, 'Cloudiness': 0, 'Wind Speed': 14.23, 'Country': 'BW', 'Date': '2019-11-07 04:36:34'}, {'City': 'Kangaba', 'Lat': 11.94, 'Lng': -8.41, 'Max Temp': 74.28, 'Humidity': 64, 'Cloudiness': 0, 'Wind Speed': 4.12, 'Country': 'ML', 'Date': '2019-11-07 04:36:34'}, {'City': 'Kinshasa', 'Lat': -4.32, 'Lng': 15.31, 'Max Temp': 73.4, 'Humidity': 88, 'Cloudiness': 99, 'Wind Speed': 3.36, 'Country': 'CD', 'Date': '2019-11-07 04:32:12'}, {'City': 'Seguin', 'Lat': 29.57, 'Lng': -97.96, 'Max Temp': 69.8, 'Humidity': 83, 'Cloudiness': 75, 'Wind Speed': 10.29, 'Country': 'US', 'Date': '2019-11-07 04:34:10'}, {'City': 'Nemuro', 'Lat': 43.32, 'Lng': 145.57, 'Max Temp': 48.2, 'Humidity': 45, 'Cloudiness': 75, 'Wind Speed': 9.17, 'Country': 'JP', 'Date': '2019-11-07 04:36:35'}, {'City': 'Dong Hoi', 'Lat': 17.48, 'Lng': 106.6, 'Max Temp': 72.86, 'Humidity': 86, 'Cloudiness': 100, 'Wind Speed': 9.89, 'Country': 'VN', 'Date': '2019-11-07 04:32:34'}, {'City': 'Knyaze-Volkonskoye', 'Lat': 48.46, 'Lng': 135.46, 'Max Temp': 17.6, 'Humidity': 52, 'Cloudiness': 75, 'Wind Speed': 20.13, 'Country': 'RU', 'Date': '2019-11-07 04:36:36'}, {'City': 'Peniche', 'Lat': 39.36, 'Lng': -9.38, 'Max Temp': 60.01, 'Humidity': 82, 'Cloudiness': 75, 'Wind Speed': 12.75, 'Country': 'PT', 'Date': '2019-11-07 04:36:36'}, {'City': 'Matagami', 'Lat': 9.67, 'Lng': 8.4, 'Max Temp': 69.13, 'Humidity': 58, 'Cloudiness': 1, 'Wind Speed': 3.09, 'Country': 'NG', 'Date': '2019-11-07 04:36:37'}, {'City': 'South Valley', 'Lat': 35.01, 'Lng': -106.68, 'Max Temp': 45, 'Humidity': 100, 'Cloudiness': 75, 'Wind Speed': 3.11, 'Country': 'US', 'Date': '2019-11-07 04:36:37'}, {'City': 'Mehamn', 'Lat': 71.03, 'Lng': 27.85, 'Max Temp': 22.93, 'Humidity': 84, 'Cloudiness': 87, 'Wind Speed': 6.02, 'Country': 'NO', 'Date': '2019-11-07 04:34:55'}, {'City': 'Sao Jose Da Coroa Grande', 'Lat': -8.9, 'Lng': -35.15, 'Max Temp': 78.39, 'Humidity': 76, 'Cloudiness': 89, 'Wind Speed': 12.77, 'Country': 'BR', 'Date': '2019-11-07 04:36:38'}, {'City': 'Sabang', 'Lat': 13.8, 'Lng': 121.11, 'Max Temp': 84.99, 'Humidity': 77, 'Cloudiness': 65, 'Wind Speed': 1.01, 'Country': 'PH', 'Date': '2019-11-07 04:36:38'}, {'City': 'Rovaniemi', 'Lat': 66.5, 'Lng': 25.72, 'Max Temp': 10.4, 'Humidity': 92, 'Cloudiness': 100, 'Wind Speed': 4.7, 'Country': 'FI', 'Date': '2019-11-07 04:36:38'}, {'City': 'Fukue', 'Lat': 35.03, 'Lng': 136.69, 'Max Temp': 68, 'Humidity': 55, 'Cloudiness': 75, 'Wind Speed': 3.36, 'Country': 'JP', 'Date': '2019-11-07 04:36:39'}, {'City': 'Naqadeh', 'Lat': 36.96, 'Lng': 45.39, 'Max Temp': 53.15, 'Humidity': 33, 'Cloudiness': 0, 'Wind Speed': 2.82, 'Country': 'IR', 'Date': '2019-11-07 04:36:39'}, {'City': 'Ayabaca', 'Lat': -4.64, 'Lng': -79.72, 'Max Temp': 57.51, 'Humidity': 85, 'Cloudiness': 47, 'Wind Speed': 4.63, 'Country': 'PE', 'Date': '2019-11-07 04:36:40'}, {'City': 'Catuday', 'Lat': 16.29, 'Lng': 119.81, 'Max Temp': 82.45, 'Humidity': 70, 'Cloudiness': 48, 'Wind Speed': 1.07, 'Country': 'PH', 'Date': '2019-11-07 04:36:40'}, {'City': 'Jiaonan', 'Lat': 35.88, 'Lng': 119.98, 'Max Temp': 59, 'Humidity': 26, 'Cloudiness': 0, 'Wind Speed': 15.66, 'Country': 'CN', 'Date': '2019-11-07 04:36:41'}, {'City': 'Bandarbeyla', 'Lat': 9.49, 'Lng': 50.81, 'Max Temp': 81.28, 'Humidity': 71, 'Cloudiness': 63, 'Wind Speed': 6.49, 'Country': 'SO', 'Date': '2019-11-07 04:36:41'}, {'City': 'Toora-Khem', 'Lat': 52.47, 'Lng': 96.11, 'Max Temp': 35.15, 'Humidity': 68, 'Cloudiness': 19, 'Wind Speed': 2.06, 'Country': 'RU', 'Date': '2019-11-07 04:36:41'}, {'City': 'College', 'Lat': 64.86, 'Lng': -147.8, 'Max Temp': 24.8, 'Humidity': 100, 'Cloudiness': 90, 'Wind Speed': 5.12, 'Country': 'US', 'Date': '2019-11-07 04:36:41'}, {'City': 'Klyuchi', 'Lat': 52.25, 'Lng': 79.17, 'Max Temp': 38.37, 'Humidity': 50, 'Cloudiness': 17, 'Wind Speed': 16.44, 'Country': 'RU', 'Date': '2019-11-07 04:36:42'}, {'City': 'Noumea', 'Lat': -22.28, 'Lng': 166.46, 'Max Temp': 82.4, 'Humidity': 45, 'Cloudiness': 6, 'Wind Speed': 12.75, 'Country': 'NC', 'Date': '2019-11-07 04:36:42'}, {'City': 'Furtwangen', 'Lat': 48.05, 'Lng': 8.22, 'Max Temp': 46.99, 'Humidity': 100, 'Cloudiness': 71, 'Wind Speed': 5.82, 'Country': 'DE', 'Date': '2019-11-07 04:36:42'}, {'City': 'Punta De Bombon', 'Lat': -17.17, 'Lng': -71.79, 'Max Temp': 59.14, 'Humidity': 90, 'Cloudiness': 93, 'Wind Speed': 7.18, 'Country': 'PE', 'Date': '2019-11-07 04:36:42'}, {'City': 'Tessalit', 'Lat': 20.2, 'Lng': 1.01, 'Max Temp': 70.86, 'Humidity': 22, 'Cloudiness': 0, 'Wind Speed': 6.08, 'Country': 'ML', 'Date': '2019-11-07 04:36:25'}, {'City': 'Aykhal', 'Lat': 65.95, 'Lng': 111.51, 'Max Temp': -11.21, 'Humidity': 83, 'Cloudiness': 46, 'Wind Speed': 4.47, 'Country': 'RU', 'Date': '2019-11-07 04:36:43'}, {'City': 'Conde', 'Lat': -11.81, 'Lng': -37.61, 'Max Temp': 77.77, 'Humidity': 78, 'Cloudiness': 52, 'Wind Speed': 18.75, 'Country': 'BR', 'Date': '2019-11-07 04:36:43'}, {'City': 'Cohoes', 'Lat': 42.77, 'Lng': -73.7, 'Max Temp': 41, 'Humidity': 48, 'Cloudiness': 90, 'Wind Speed': 6.93, 'Country': 'US', 'Date': '2019-11-07 04:36:43'}, {'City': 'Sambava', 'Lat': -14.27, 'Lng': 50.17, 'Max Temp': 81.3, 'Humidity': 60, 'Cloudiness': 87, 'Wind Speed': 5.44, 'Country': 'MG', 'Date': '2019-11-07 04:36:44'}, {'City': 'Sabha', 'Lat': 27.03, 'Lng': 14.43, 'Max Temp': 72.52, 'Humidity': 24, 'Cloudiness': 50, 'Wind Speed': 3.24, 'Country': 'LY', 'Date': '2019-11-07 04:36:44'}, {'City': 'Dalvik', 'Lat': 57.79, 'Lng': 14.13, 'Max Temp': 32, 'Humidity': 80, 'Cloudiness': 99, 'Wind Speed': 4.7, 'Country': 'SE', 'Date': '2019-11-07 04:36:44'}, {'City': 'Berlevag', 'Lat': 70.86, 'Lng': 29.09, 'Max Temp': 32.77, 'Humidity': 67, 'Cloudiness': 99, 'Wind Speed': 11.59, 'Country': 'NO', 'Date': '2019-11-07 04:36:44'}, {'City': 'Micheweni', 'Lat': -4.97, 'Lng': 39.83, 'Max Temp': 80.65, 'Humidity': 79, 'Cloudiness': 10, 'Wind Speed': 8.1, 'Country': 'TZ', 'Date': '2019-11-07 04:36:45'}, {'City': 'Hongjiang', 'Lat': 27.21, 'Lng': 109.83, 'Max Temp': 65.44, 'Humidity': 61, 'Cloudiness': 46, 'Wind Speed': 5.26, 'Country': 'CN', 'Date': '2019-11-07 04:36:45'}, {'City': 'Luba', 'Lat': 17.32, 'Lng': 120.7, 'Max Temp': 83.5, 'Humidity': 77, 'Cloudiness': 28, 'Wind Speed': 5.37, 'Country': 'PH', 'Date': '2019-11-07 04:36:45'}, {'City': 'Sudbury', 'Lat': 46.49, 'Lng': -80.99, 'Max Temp': 19.4, 'Humidity': 85, 'Cloudiness': 40, 'Wind Speed': 6.93, 'Country': 'CA', 'Date': '2019-11-07 04:35:54'}, {'City': 'Gilgit', 'Lat': 35.92, 'Lng': 74.31, 'Max Temp': 26.33, 'Humidity': 95, 'Cloudiness': 100, 'Wind Speed': 4.94, 'Country': 'PK', 'Date': '2019-11-07 04:36:46'}, {'City': 'Arroyo', 'Lat': -11.08, 'Lng': -66.08, 'Max Temp': 72.34, 'Humidity': 96, 'Cloudiness': 55, 'Wind Speed': 0.65, 'Country': 'BO', 'Date': '2019-11-07 04:36:46'}, {'City': 'Arman', 'Lat': 59.7, 'Lng': 150.17, 'Max Temp': 36.41, 'Humidity': 96, 'Cloudiness': 100, 'Wind Speed': 33.82, 'Country': 'RU', 'Date': '2019-11-07 04:36:46'}, {'City': 'Quatre Cocos', 'Lat': -20.21, 'Lng': 57.76, 'Max Temp': 79, 'Humidity': 73, 'Cloudiness': 40, 'Wind Speed': 12.75, 'Country': 'MU', 'Date': '2019-11-07 04:36:46'}, {'City': 'Ucar', 'Lat': 40.51, 'Lng': 47.65, 'Max Temp': 41, 'Humidity': 31, 'Cloudiness': 0, 'Wind Speed': 4.7, 'Country': 'AZ', 'Date': '2019-11-07 04:36:46'}, {'City': 'Chamba', 'Lat': 32.56, 'Lng': 76.12, 'Max Temp': 51.28, 'Humidity': 84, 'Cloudiness': 100, 'Wind Speed': 8.19, 'Country': 'IN', 'Date': '2019-11-07 04:36:47'}, {'City': 'Buala', 'Lat': -8.15, 'Lng': 159.59, 'Max Temp': 84.09, 'Humidity': 70, 'Cloudiness': 90, 'Wind Speed': 2.93, 'Country': 'SB', 'Date': '2019-11-07 04:36:47'}, {'City': 'Ratnagiri', 'Lat': 16.98, 'Lng': 73.3, 'Max Temp': 83.68, 'Humidity': 70, 'Cloudiness': 98, 'Wind Speed': 3.27, 'Country': 'IN', 'Date': '2019-11-07 04:36:09'}, {'City': 'Yaan', 'Lat': 7.38, 'Lng': 8.57, 'Max Temp': 75.07, 'Humidity': 92, 'Cloudiness': 34, 'Wind Speed': 4.83, 'Country': 'NG', 'Date': '2019-11-07 04:36:47'}, {'City': 'Bereda', 'Lat': 43.27, 'Lng': -7.54, 'Max Temp': 57, 'Humidity': 81, 'Cloudiness': 47, 'Wind Speed': 5.82, 'Country': 'ES', 'Date': '2019-11-07 04:36:48'}, {'City': 'Adrar', 'Lat': 27.87, 'Lng': -0.29, 'Max Temp': 57.2, 'Humidity': 41, 'Cloudiness': 0, 'Wind Speed': 11.41, 'Country': 'DZ', 'Date': '2019-11-07 04:36:48'}, {'City': 'Hofn', 'Lat': 64.25, 'Lng': -15.21, 'Max Temp': 37.44, 'Humidity': 78, 'Cloudiness': 89, 'Wind Speed': 10.13, 'Country': 'IS', 'Date': '2019-11-07 04:36:48'}, {'City': 'Trinidad', 'Lat': -14.83, 'Lng': -64.9, 'Max Temp': 75.25, 'Humidity': 82, 'Cloudiness': 90, 'Wind Speed': 1.54, 'Country': 'BO', 'Date': '2019-11-07 04:36:48'}, {'City': 'Kyaukse', 'Lat': 21.6, 'Lng': 96.13, 'Max Temp': 82.4, 'Humidity': 83, 'Cloudiness': 90, 'Wind Speed': 6.93, 'Country': 'MM', 'Date': '2019-11-07 04:36:49'}, {'City': 'Juneau', 'Lat': 58.3, 'Lng': -134.42, 'Max Temp': 37.4, 'Humidity': 93, 'Cloudiness': 90, 'Wind Speed': 5.44, 'Country': 'US', 'Date': '2019-11-07 04:36:49'}, {'City': 'General Roca', 'Lat': -39.03, 'Lng': -67.58, 'Max Temp': 64.4, 'Humidity': 36, 'Cloudiness': 72, 'Wind Speed': 10.29, 'Country': 'AR', 'Date': '2019-11-07 04:36:50'}, {'City': 'Talen', 'Lat': 23.57, 'Lng': 76.72, 'Max Temp': 82.33, 'Humidity': 55, 'Cloudiness': 75, 'Wind Speed': 6.78, 'Country': 'IN', 'Date': '2019-11-07 04:36:50'}, {'City': 'Shingu', 'Lat': 33.72, 'Lng': 135.99, 'Max Temp': 66.2, 'Humidity': 59, 'Cloudiness': 75, 'Wind Speed': 2.24, 'Country': 'JP', 'Date': '2019-11-07 04:36:50'}, {'City': 'Mutata', 'Lat': 7.24, 'Lng': -76.44, 'Max Temp': 69.69, 'Humidity': 97, 'Cloudiness': 100, 'Wind Speed': 1.88, 'Country': 'CO', 'Date': '2019-11-07 04:36:50'}, {'City': 'Bonavista', 'Lat': 48.65, 'Lng': -53.11, 'Max Temp': 39, 'Humidity': 62, 'Cloudiness': 1, 'Wind Speed': 21.99, 'Country': 'CA', 'Date': '2019-11-07 04:36:51'}, {'City': 'Ikare', 'Lat': 7.49, 'Lng': 5.23, 'Max Temp': 70.77, 'Humidity': 96, 'Cloudiness': 54, 'Wind Speed': 0.67, 'Country': 'NG', 'Date': '2019-11-07 04:36:51'}, {'City': 'Ilulissat', 'Lat': 69.22, 'Lng': -51.1, 'Max Temp': 21.2, 'Humidity': 62, 'Cloudiness': 80, 'Wind Speed': 6.4, 'Country': 'GL', 'Date': '2019-11-07 04:36:51'}, {'City': 'Atar', 'Lat': 20.52, 'Lng': -13.05, 'Max Temp': 63.27, 'Humidity': 46, 'Cloudiness': 0, 'Wind Speed': 7.67, 'Country': 'MR', 'Date': '2019-11-07 04:36:52'}, {'City': 'Sistranda', 'Lat': 63.73, 'Lng': 8.83, 'Max Temp': 30, 'Humidity': 74, 'Cloudiness': 20, 'Wind Speed': 9.17, 'Country': 'NO', 'Date': '2019-11-07 04:36:52'}, {'City': 'Frutigen', 'Lat': 46.59, 'Lng': 7.64, 'Max Temp': 41, 'Humidity': 100, 'Cloudiness': 20, 'Wind Speed': 2.24, 'Country': 'CH', 'Date': '2019-11-07 04:36:52'}, {'City': 'Labuhan', 'Lat': -2.54, 'Lng': 115.51, 'Max Temp': 93.4, 'Humidity': 40, 'Cloudiness': 100, 'Wind Speed': 2.1, 'Country': 'ID', 'Date': '2019-11-07 04:36:54'}, {'City': 'Soyo', 'Lat': -6.13, 'Lng': 12.37, 'Max Temp': 79.57, 'Humidity': 82, 'Cloudiness': 96, 'Wind Speed': 4.29, 'Country': 'AO', 'Date': '2019-11-07 04:36:54'}, {'City': 'Hirara', 'Lat': 24.8, 'Lng': 125.28, 'Max Temp': 78.8, 'Humidity': 78, 'Cloudiness': 75, 'Wind Speed': 12.75, 'Country': 'JP', 'Date': '2019-11-07 04:36:54'}, {'City': 'Itacare', 'Lat': -14.28, 'Lng': -39, 'Max Temp': 78.8, 'Humidity': 83, 'Cloudiness': 20, 'Wind Speed': 2.24, 'Country': 'BR', 'Date': '2019-11-07 04:36:54'}, {'City': 'Kasangulu', 'Lat': -4.59, 'Lng': 15.17, 'Max Temp': 73.4, 'Humidity': 88, 'Cloudiness': 100, 'Wind Speed': 3.36, 'Country': 'CD', 'Date': '2019-11-07 04:36:54'}, {'City': 'Carberry', 'Lat': 49.87, 'Lng': -99.36, 'Max Temp': 6.8, 'Humidity': 71, 'Cloudiness': 5, 'Wind Speed': 8.05, 'Country': 'CA', 'Date': '2019-11-07 04:36:55'}, {'City': 'Havre', 'Lat': 48.55, 'Lng': -109.68, 'Max Temp': 3.99, 'Humidity': 91, 'Cloudiness': 90, 'Wind Speed': 3.36, 'Country': 'US', 'Date': '2019-11-07 04:36:55'}, {'City': 'Zavetnoye', 'Lat': 47.12, 'Lng': 43.89, 'Max Temp': 58.48, 'Humidity': 48, 'Cloudiness': 30, 'Wind Speed': 13.09, 'Country': 'RU', 'Date': '2019-11-07 04:36:55'}, {'City': 'Simao', 'Lat': 22.76, 'Lng': 100.79, 'Max Temp': 76.84, 'Humidity': 45, 'Cloudiness': 14, 'Wind Speed': 3.24, 'Country': 'CN', 'Date': '2019-11-07 04:36:55'}, {'City': 'Huayucachi', 'Lat': -12.13, 'Lng': -75.23, 'Max Temp': 41.23, 'Humidity': 90, 'Cloudiness': 83, 'Wind Speed': 3.15, 'Country': 'PE', 'Date': '2019-11-07 04:36:56'}, {'City': 'Opuwo', 'Lat': -18.06, 'Lng': 13.84, 'Max Temp': 77.4, 'Humidity': 19, 'Cloudiness': 53, 'Wind Speed': 16.13, 'Country': 'NA', 'Date': '2019-11-07 04:36:56'}, {'City': 'Kidal', 'Lat': 18.44, 'Lng': 1.41, 'Max Temp': 69.26, 'Humidity': 24, 'Cloudiness': 0, 'Wind Speed': 1.68, 'Country': 'ML', 'Date': '2019-11-07 04:36:56'}, {'City': 'Khilok', 'Lat': 51.36, 'Lng': 110.46, 'Max Temp': 35.28, 'Humidity': 51, 'Cloudiness': 11, 'Wind Speed': 16.08, 'Country': 'RU', 'Date': '2019-11-07 04:36:57'}, {'City': 'Mushie', 'Lat': -3.02, 'Lng': 16.92, 'Max Temp': 73.33, 'Humidity': 92, 'Cloudiness': 8, 'Wind Speed': 0.85, 'Country': 'CD', 'Date': '2019-11-07 04:36:58'}, {'City': 'Yatou', 'Lat': 3.63, 'Lng': 9.81, 'Max Temp': 77, 'Humidity': 100, 'Cloudiness': 75, 'Wind Speed': 1.12, 'Country': 'CM', 'Date': '2019-11-07 04:36:58'}, {'City': 'Kutum', 'Lat': 14.2, 'Lng': 24.66, 'Max Temp': 70.14, 'Humidity': 21, 'Cloudiness': 0, 'Wind Speed': 3.53, 'Country': 'SD', 'Date': '2019-11-07 04:36:58'}, {'City': 'Cullman', 'Lat': 34.17, 'Lng': -86.84, 'Max Temp': 60.01, 'Humidity': 51, 'Cloudiness': 40, 'Wind Speed': 3.36, 'Country': 'US', 'Date': '2019-11-07 04:36:59'}, {'City': 'Cedar City', 'Lat': 37.68, 'Lng': -113.06, 'Max Temp': 42.8, 'Humidity': 28, 'Cloudiness': 1, 'Wind Speed': 3.36, 'Country': 'US', 'Date': '2019-11-07 04:35:00'}, {'City': 'Hami', 'Lat': 42.84, 'Lng': 93.51, 'Max Temp': 58.5, 'Humidity': 21, 'Cloudiness': 99, 'Wind Speed': 9.95, 'Country': 'CN', 'Date': '2019-11-07 04:37:00'}, {'City': 'Prince George', 'Lat': 53.92, 'Lng': -122.75, 'Max Temp': 21, 'Humidity': 92, 'Cloudiness': 20, 'Wind Speed': 2.24, 'Country': 'CA', 'Date': '2019-11-07 04:34:23'}, {'City': 'Severnoye', 'Lat': 54.09, 'Lng': 52.54, 'Max Temp': 45.39, 'Humidity': 92, 'Cloudiness': 100, 'Wind Speed': 21.94, 'Country': 'RU', 'Date': '2019-11-07 04:37:01'}, {'City': 'Kaniama', 'Lat': -7.57, 'Lng': 24.18, 'Max Temp': 72.32, 'Humidity': 86, 'Cloudiness': 33, 'Wind Speed': 1.41, 'Country': 'CD', 'Date': '2019-11-07 04:37:02'}, {'City': 'Myitkyina', 'Lat': 25.38, 'Lng': 97.4, 'Max Temp': 86.67, 'Humidity': 42, 'Cloudiness': 33, 'Wind Speed': 1.92, 'Country': 'MM', 'Date': '2019-11-07 04:37:02'}, {'City': 'Winneba', 'Lat': 5.35, 'Lng': -0.62, 'Max Temp': 78.8, 'Humidity': 88, 'Cloudiness': 4, 'Wind Speed': 6.93, 'Country': 'GH', 'Date': '2019-11-07 04:37:02'}, {'City': 'Leshukonskoye', 'Lat': 64.9, 'Lng': 45.76, 'Max Temp': 15.03, 'Humidity': 96, 'Cloudiness': 71, 'Wind Speed': 2.8, 'Country': 'RU', 'Date': '2019-11-07 04:37:03'}, {'City': 'Boundiali', 'Lat': 9.53, 'Lng': -6.48, 'Max Temp': 71.94, 'Humidity': 79, 'Cloudiness': 46, 'Wind Speed': 2.53, 'Country': 'CI', 'Date': '2019-11-07 04:37:03'}, {'City': 'Buzmeyin', 'Lat': 38.05, 'Lng': 58.21, 'Max Temp': 41, 'Humidity': 9, 'Cloudiness': 75, 'Wind Speed': 2.24, 'Country': 'TM', 'Date': '2019-11-07 04:37:03'}, {'City': 'Dunedin', 'Lat': -45.87, 'Lng': 170.5, 'Max Temp': 54.7, 'Humidity': 87, 'Cloudiness': 82, 'Wind Speed': 21.88, 'Country': 'NZ', 'Date': '2019-11-07 04:37:03'}, {'City': 'Zyryanka', 'Lat': 65.73, 'Lng': 150.89, 'Max Temp': 3.65, 'Humidity': 95, 'Cloudiness': 100, 'Wind Speed': 8.25, 'Country': 'RU', 'Date': '2019-11-07 04:35:49'}, {'City': 'Dobric', 'Lat': 47.25, 'Lng': 24.13, 'Max Temp': 50, 'Humidity': 87, 'Cloudiness': 100, 'Wind Speed': 3.36, 'Country': 'RO', 'Date': '2019-11-07 04:37:04'}, {'City': 'Sao Miguel Do Araguaia', 'Lat': -13.28, 'Lng': -50.16, 'Max Temp': 74.98, 'Humidity': 78, 'Cloudiness': 0, 'Wind Speed': 2.77, 'Country': 'BR', 'Date': '2019-11-07 04:37:04'}, {'City': 'Puerto Madero', 'Lat': -34.61, 'Lng': -58.36, 'Max Temp': 71.01, 'Humidity': 68, 'Cloudiness': 17, 'Wind Speed': 9.17, 'Country': 'AR', 'Date': '2019-11-07 04:37:04'}, {'City': 'Raudeberg', 'Lat': 61.99, 'Lng': 5.14, 'Max Temp': 30.2, 'Humidity': 86, 'Cloudiness': 53, 'Wind Speed': 6.93, 'Country': 'NO', 'Date': '2019-11-07 04:35:06'}, {'City': 'Aswan', 'Lat': 24.09, 'Lng': 32.9, 'Max Temp': 66.2, 'Humidity': 42, 'Cloudiness': 0, 'Wind Speed': 4.7, 'Country': 'EG', 'Date': '2019-11-07 04:37:05'}, {'City': 'Mahon', 'Lat': 51.89, 'Lng': -8.4, 'Max Temp': 39.99, 'Humidity': 86, 'Cloudiness': 40, 'Wind Speed': 10.29, 'Country': 'IE', 'Date': '2019-11-07 04:34:44'}, {'City': 'Ust-Nera', 'Lat': 64.57, 'Lng': 143.24, 'Max Temp': 0.54, 'Humidity': 94, 'Cloudiness': 100, 'Wind Speed': 9.84, 'Country': 'RU', 'Date': '2019-11-07 04:37:05'}, {'City': 'Vestmanna', 'Lat': 62.16, 'Lng': -7.17, 'Max Temp': 35.6, 'Humidity': 73, 'Cloudiness': 89, 'Wind Speed': 16.11, 'Country': 'FO', 'Date': '2019-11-07 04:37:05'}, {'City': 'Acapulco', 'Lat': 16.86, 'Lng': -99.88, 'Max Temp': 82.4, 'Humidity': 88, 'Cloudiness': 40, 'Wind Speed': 3.36, 'Country': 'MX', 'Date': '2019-11-07 04:37:06'}, {'City': 'Macia', 'Lat': -25.03, 'Lng': 33.09, 'Max Temp': 82.71, 'Humidity': 44, 'Cloudiness': 0, 'Wind Speed': 11.72, 'Country': 'MZ', 'Date': '2019-11-07 04:37:06'}, {'City': 'Kununurra', 'Lat': -15.77, 'Lng': 128.74, 'Max Temp': 105.8, 'Humidity': 10, 'Cloudiness': 6, 'Wind Speed': 9.17, 'Country': 'AU', 'Date': '2019-11-07 04:37:06'}, {'City': 'Sawtell', 'Lat': -30.38, 'Lng': 153.1, 'Max Temp': 96.8, 'Humidity': 32, 'Cloudiness': 0, 'Wind Speed': 19.46, 'Country': 'AU', 'Date': '2019-11-07 04:37:07'}, {'City': 'Creil', 'Lat': 49.26, 'Lng': 2.47, 'Max Temp': 48.99, 'Humidity': 93, 'Cloudiness': 75, 'Wind Speed': 12.75, 'Country': 'FR', 'Date': '2019-11-07 04:37:07'}, {'City': 'Ruteng', 'Lat': -8.61, 'Lng': 120.46, 'Max Temp': 80.04, 'Humidity': 69, 'Cloudiness': 30, 'Wind Speed': 4.63, 'Country': 'ID', 'Date': '2019-11-07 04:37:07'}, {'City': 'Eyl', 'Lat': 7.98, 'Lng': 49.82, 'Max Temp': 80.28, 'Humidity': 81, 'Cloudiness': 62, 'Wind Speed': 10.69, 'Country': 'SO', 'Date': '2019-11-07 04:37:07'}, {'City': 'Ust-Maya', 'Lat': 60.42, 'Lng': 134.54, 'Max Temp': -3.48, 'Humidity': 94, 'Cloudiness': 100, 'Wind Speed': 4.34, 'Country': 'RU', 'Date': '2019-11-07 04:37:07'}, {'City': 'Lobito', 'Lat': -12.35, 'Lng': 13.55, 'Max Temp': 77.13, 'Humidity': 80, 'Cloudiness': 100, 'Wind Speed': 4.12, 'Country': 'AO', 'Date': '2019-11-07 04:37:08'}, {'City': 'Oranjestad', 'Lat': 12.52, 'Lng': -70.03, 'Max Temp': 82.4, 'Humidity': 83, 'Cloudiness': 40, 'Wind Speed': 14.99, 'Country': 'AW', 'Date': '2019-11-07 04:34:02'}, {'City': 'Puerto Escondido', 'Lat': 15.86, 'Lng': -97.07, 'Max Temp': 78.8, 'Humidity': 78, 'Cloudiness': 5, 'Wind Speed': 5.82, 'Country': 'MX', 'Date': '2019-11-07 04:35:40'}, {'City': 'Bell Ville', 'Lat': -32.63, 'Lng': -62.69, 'Max Temp': 59, 'Humidity': 92, 'Cloudiness': 0, 'Wind Speed': 3, 'Country': 'AR', 'Date': '2019-11-07 04:37:09'}, {'City': 'Laela', 'Lat': -8.57, 'Lng': 32.05, 'Max Temp': 72.05, 'Humidity': 51, 'Cloudiness': 52, 'Wind Speed': 10.6, 'Country': 'TZ', 'Date': '2019-11-07 04:37:09'}, {'City': 'Waddan', 'Lat': 29.16, 'Lng': 16.14, 'Max Temp': 73.58, 'Humidity': 26, 'Cloudiness': 51, 'Wind Speed': 7.07, 'Country': 'LY', 'Date': '2019-11-07 04:37:10'}, {'City': 'Kumluca', 'Lat': 36.37, 'Lng': 30.29, 'Max Temp': 65.88, 'Humidity': 43, 'Cloudiness': 0, 'Wind Speed': 3.56, 'Country': 'TR', 'Date': '2019-11-07 04:37:10'}, {'City': 'Havelock', 'Lat': 34.88, 'Lng': -76.9, 'Max Temp': 57.2, 'Humidity': 76, 'Cloudiness': 20, 'Wind Speed': 5.82, 'Country': 'US', 'Date': '2019-11-07 04:37:10'}, {'City': 'Tazmalt', 'Lat': 36.39, 'Lng': 4.4, 'Max Temp': 51.8, 'Humidity': 81, 'Cloudiness': 20, 'Wind Speed': 11.41, 'Country': 'DZ', 'Date': '2019-11-07 04:37:10'}, {'City': 'Aras', 'Lat': 42.56, 'Lng': -2.36, 'Max Temp': 48.99, 'Humidity': 100, 'Cloudiness': 90, 'Wind Speed': 3.06, 'Country': 'ES', 'Date': '2019-11-07 04:37:11'}, {'City': 'Samarinda', 'Lat': -0.5, 'Lng': 117.14, 'Max Temp': 91.85, 'Humidity': 48, 'Cloudiness': 98, 'Wind Speed': 5.55, 'Country': 'ID', 'Date': '2019-11-07 04:35:41'}, {'City': 'Dhari', 'Lat': 21.33, 'Lng': 71.03, 'Max Temp': 85.51, 'Humidity': 50, 'Cloudiness': 92, 'Wind Speed': 10.67, 'Country': 'IN', 'Date': '2019-11-07 04:37:11'}, {'City': 'Novyy Urengoy', 'Lat': 66.08, 'Lng': 76.63, 'Max Temp': 10.98, 'Humidity': 93, 'Cloudiness': 100, 'Wind Speed': 4.36, 'Country': 'RU', 'Date': '2019-11-07 04:37:12'}, {'City': 'Koundara', 'Lat': 12.49, 'Lng': -13.3, 'Max Temp': 74.12, 'Humidity': 91, 'Cloudiness': 36, 'Wind Speed': 3.24, 'Country': 'GN', 'Date': '2019-11-07 04:37:12'}, {'City': 'Yar-Sale', 'Lat': 66.83, 'Lng': 70.83, 'Max Temp': 5.52, 'Humidity': 95, 'Cloudiness': 38, 'Wind Speed': 9.08, 'Country': 'RU', 'Date': '2019-11-07 04:37:12'}, {'City': 'Joshimath', 'Lat': 30.57, 'Lng': 79.57, 'Max Temp': 52.83, 'Humidity': 31, 'Cloudiness': 100, 'Wind Speed': 6.17, 'Country': 'IN', 'Date': '2019-11-07 04:37:12'}, {'City': 'Kushikino', 'Lat': 31.72, 'Lng': 130.27, 'Max Temp': 68, 'Humidity': 45, 'Cloudiness': 75, 'Wind Speed': 12.75, 'Country': 'JP', 'Date': '2019-11-07 04:37:13'}, {'City': 'Dayong', 'Lat': 25.02, 'Lng': 118.29, 'Max Temp': 78.8, 'Humidity': 47, 'Cloudiness': 18, 'Wind Speed': 11.18, 'Country': 'CN', 'Date': '2019-11-07 04:37:13'}, {'City': 'Senanga', 'Lat': -16.1, 'Lng': 23.3, 'Max Temp': 82.04, 'Humidity': 27, 'Cloudiness': 60, 'Wind Speed': 9.91, 'Country': 'ZM', 'Date': '2019-11-07 04:37:13'}, {'City': 'Southampton', 'Lat': 50.9, 'Lng': -1.4, 'Max Temp': 46, 'Humidity': 93, 'Cloudiness': 68, 'Wind Speed': 9.17, 'Country': 'GB', 'Date': '2019-11-07 04:37:13'}, {'City': 'Altamont', 'Lat': 49.4, 'Lng': -98.5, 'Max Temp': 12.99, 'Humidity': 66, 'Cloudiness': 1, 'Wind Speed': 8.05, 'Country': 'CA', 'Date': '2019-11-07 04:37:14'}, {'City': 'Imbituba', 'Lat': -28.24, 'Lng': -48.67, 'Max Temp': 69.8, 'Humidity': 77, 'Cloudiness': 75, 'Wind Speed': 3.36, 'Country': 'BR', 'Date': '2019-11-07 04:37:14'}, {'City': 'Yerofey Pavlovich', 'Lat': 53.97, 'Lng': 121.97, 'Max Temp': 10.38, 'Humidity': 75, 'Cloudiness': 100, 'Wind Speed': 5.5, 'Country': 'RU', 'Date': '2019-11-07 04:37:14'}, {'City': 'Russkaya Polyana', 'Lat': 53.78, 'Lng': 73.88, 'Max Temp': 35.76, 'Humidity': 81, 'Cloudiness': 87, 'Wind Speed': 13.4, 'Country': 'RU', 'Date': '2019-11-07 04:37:14'}, {'City': 'Sola', 'Lat': -3.17, 'Lng': 33.8, 'Max Temp': 75, 'Humidity': 55, 'Cloudiness': 99, 'Wind Speed': 7.63, 'Country': 'TZ', 'Date': '2019-11-07 04:37:15'}, {'City': 'Dhidhdhoo', 'Lat': 6.88, 'Lng': 73.1, 'Max Temp': 82.53, 'Humidity': 76, 'Cloudiness': 25, 'Wind Speed': 11.77, 'Country': 'MV', 'Date': '2019-11-07 04:37:15'}, {'City': 'Vredendal', 'Lat': -31.68, 'Lng': 18.49, 'Max Temp': 59.95, 'Humidity': 56, 'Cloudiness': 45, 'Wind Speed': 11.39, 'Country': 'ZA', 'Date': '2019-11-07 04:37:15'}, {'City': 'Kushima', 'Lat': 31.5, 'Lng': 131.29, 'Max Temp': 73.4, 'Humidity': 38, 'Cloudiness': 75, 'Wind Speed': 11.41, 'Country': 'JP', 'Date': '2019-11-07 04:37:16'}, {'City': 'Eirunepe', 'Lat': -6.66, 'Lng': -69.87, 'Max Temp': 71.76, 'Humidity': 99, 'Cloudiness': 59, 'Wind Speed': 1.5, 'Country': 'BR', 'Date': '2019-11-07 04:37:16'}, {'City': 'Tocopilla', 'Lat': -22.09, 'Lng': -70.2, 'Max Temp': 55.65, 'Humidity': 38, 'Cloudiness': 17, 'Wind Speed': 5.44, 'Country': 'CL', 'Date': '2019-11-07 04:37:16'}, {'City': 'Verkhoyansk', 'Lat': 67.55, 'Lng': 133.39, 'Max Temp': -6.72, 'Humidity': 98, 'Cloudiness': 100, 'Wind Speed': 2.13, 'Country': 'RU', 'Date': '2019-11-07 04:37:17'}]\n"
     ]
    }
   ],
   "source": [
    "city_data = []\n",
    "# Loop through all the cities in the list.\n",
    "for i, city in enumerate(cities):\n",
    "\n",
    "    # Group cities in sets of 50 for logging purposes.\n",
    "    if (i % 50 == 0 and i >= 50):\n",
    "        set_count += 1\n",
    "        record_count = 1\n",
    "    # Create endpoint URL with each city.\n",
    "    city_url = url + \"&q=\" + city\n",
    "\n",
    "    \n",
    "    # Run API request for each of the cities.\n",
    "    try:\n",
    "        # Parse the JSON and retrieve data.\n",
    "        city_weather = requests.get(city_url).json()\n",
    "        # Parse out the needed data.\n",
    "        city_lat = city_weather[\"coord\"][\"lat\"]\n",
    "        city_lng = city_weather[\"coord\"][\"lon\"]\n",
    "        city_max_temp = city_weather[\"main\"][\"temp_max\"]\n",
    "        city_humidity = city_weather[\"main\"][\"humidity\"]\n",
    "        city_clouds = city_weather[\"clouds\"][\"all\"]\n",
    "        city_wind = city_weather[\"wind\"][\"speed\"]\n",
    "        city_country = city_weather[\"sys\"][\"country\"]\n",
    "        # Convert the date to ISO standard.\n",
    "        city_date = datetime.utcfromtimestamp(city_weather[\"dt\"]).strftime('%Y-%m-%d %H:%M:%S')\n",
    "        # Append the city information into city_data list.\n",
    "        city_data.append({\"City\": city.title(),\n",
    "                          \"Lat\": city_lat,\n",
    "                          \"Lng\": city_lng,\n",
    "                          \"Max Temp\": city_max_temp,\n",
    "                          \"Humidity\": city_humidity,\n",
    "                          \"Cloudiness\": city_clouds,\n",
    "                          \"Wind Speed\": city_wind,\n",
    "                          \"Country\": city_country,\n",
    "                          \"Date\": city_date})\n",
    "\n",
    "        print('City found , max temp was ', city_max_temp)\n",
    "# If an error is experienced, skip the city.\n",
    "    except:\n",
    "        print(\"City not found. Skipping...\")\n",
    "        pass\n",
    "\n",
    "# Indicate that Data Loading is complete.\n",
    "print(\"-----------------------------\")\n",
    "print(\"Data Retrieval Complete      \")\n",
    "print(\"-----------------------------\")\n",
    "print(city_data)"
   ]
  },
  {
   "cell_type": "code",
   "execution_count": 105,
   "metadata": {},
   "outputs": [
    {
     "data": {
      "text/plain": [
       "597"
      ]
     },
     "execution_count": 105,
     "metadata": {},
     "output_type": "execute_result"
    }
   ],
   "source": [
    "len(cities)"
   ]
  },
  {
   "cell_type": "code",
   "execution_count": 143,
   "metadata": {},
   "outputs": [
    {
     "data": {
      "text/plain": [
       "534"
      ]
     },
     "execution_count": 143,
     "metadata": {},
     "output_type": "execute_result"
    }
   ],
   "source": [
    "len(city_data)"
   ]
  },
  {
   "cell_type": "code",
   "execution_count": 144,
   "metadata": {},
   "outputs": [
    {
     "data": {
      "text/html": [
       "<div>\n",
       "<style scoped>\n",
       "    .dataframe tbody tr th:only-of-type {\n",
       "        vertical-align: middle;\n",
       "    }\n",
       "\n",
       "    .dataframe tbody tr th {\n",
       "        vertical-align: top;\n",
       "    }\n",
       "\n",
       "    .dataframe thead th {\n",
       "        text-align: right;\n",
       "    }\n",
       "</style>\n",
       "<table border=\"1\" class=\"dataframe\">\n",
       "  <thead>\n",
       "    <tr style=\"text-align: right;\">\n",
       "      <th></th>\n",
       "      <th>City</th>\n",
       "      <th>Lat</th>\n",
       "      <th>Lng</th>\n",
       "      <th>Max Temp</th>\n",
       "      <th>Humidity</th>\n",
       "      <th>Cloudiness</th>\n",
       "      <th>Wind Speed</th>\n",
       "      <th>Country</th>\n",
       "      <th>Date</th>\n",
       "    </tr>\n",
       "  </thead>\n",
       "  <tbody>\n",
       "    <tr>\n",
       "      <th>0</th>\n",
       "      <td>Henties Bay</td>\n",
       "      <td>-22.12</td>\n",
       "      <td>14.28</td>\n",
       "      <td>60.53</td>\n",
       "      <td>77</td>\n",
       "      <td>52</td>\n",
       "      <td>5.44</td>\n",
       "      <td>NA</td>\n",
       "      <td>2019-11-07 04:34:45</td>\n",
       "    </tr>\n",
       "    <tr>\n",
       "      <th>1</th>\n",
       "      <td>Bethel</td>\n",
       "      <td>60.79</td>\n",
       "      <td>-161.76</td>\n",
       "      <td>35.60</td>\n",
       "      <td>90</td>\n",
       "      <td>90</td>\n",
       "      <td>11.41</td>\n",
       "      <td>US</td>\n",
       "      <td>2019-11-07 04:34:45</td>\n",
       "    </tr>\n",
       "    <tr>\n",
       "      <th>2</th>\n",
       "      <td>Saint-Francois</td>\n",
       "      <td>46.42</td>\n",
       "      <td>3.91</td>\n",
       "      <td>48.20</td>\n",
       "      <td>76</td>\n",
       "      <td>99</td>\n",
       "      <td>9.17</td>\n",
       "      <td>FR</td>\n",
       "      <td>2019-11-07 04:34:46</td>\n",
       "    </tr>\n",
       "    <tr>\n",
       "      <th>3</th>\n",
       "      <td>Ushuaia</td>\n",
       "      <td>-54.81</td>\n",
       "      <td>-68.31</td>\n",
       "      <td>33.80</td>\n",
       "      <td>100</td>\n",
       "      <td>90</td>\n",
       "      <td>26.40</td>\n",
       "      <td>AR</td>\n",
       "      <td>2019-11-07 04:30:51</td>\n",
       "    </tr>\n",
       "    <tr>\n",
       "      <th>4</th>\n",
       "      <td>Mar Del Plata</td>\n",
       "      <td>-46.43</td>\n",
       "      <td>-67.52</td>\n",
       "      <td>47.25</td>\n",
       "      <td>34</td>\n",
       "      <td>0</td>\n",
       "      <td>27.42</td>\n",
       "      <td>AR</td>\n",
       "      <td>2019-11-07 04:34:46</td>\n",
       "    </tr>\n",
       "    <tr>\n",
       "      <th>5</th>\n",
       "      <td>Kruisfontein</td>\n",
       "      <td>-34.00</td>\n",
       "      <td>24.73</td>\n",
       "      <td>59.79</td>\n",
       "      <td>64</td>\n",
       "      <td>74</td>\n",
       "      <td>27.69</td>\n",
       "      <td>ZA</td>\n",
       "      <td>2019-11-07 04:34:46</td>\n",
       "    </tr>\n",
       "    <tr>\n",
       "      <th>6</th>\n",
       "      <td>Bronnoysund</td>\n",
       "      <td>65.46</td>\n",
       "      <td>12.20</td>\n",
       "      <td>32.00</td>\n",
       "      <td>65</td>\n",
       "      <td>100</td>\n",
       "      <td>10.29</td>\n",
       "      <td>NO</td>\n",
       "      <td>2019-11-07 04:34:46</td>\n",
       "    </tr>\n",
       "    <tr>\n",
       "      <th>7</th>\n",
       "      <td>Yumen</td>\n",
       "      <td>40.29</td>\n",
       "      <td>97.04</td>\n",
       "      <td>52.03</td>\n",
       "      <td>36</td>\n",
       "      <td>51</td>\n",
       "      <td>21.30</td>\n",
       "      <td>CN</td>\n",
       "      <td>2019-11-07 04:34:47</td>\n",
       "    </tr>\n",
       "    <tr>\n",
       "      <th>8</th>\n",
       "      <td>Albany</td>\n",
       "      <td>42.65</td>\n",
       "      <td>-73.75</td>\n",
       "      <td>39.20</td>\n",
       "      <td>48</td>\n",
       "      <td>90</td>\n",
       "      <td>6.93</td>\n",
       "      <td>US</td>\n",
       "      <td>2019-11-07 04:30:03</td>\n",
       "    </tr>\n",
       "    <tr>\n",
       "      <th>9</th>\n",
       "      <td>Dikson</td>\n",
       "      <td>73.51</td>\n",
       "      <td>80.55</td>\n",
       "      <td>-11.48</td>\n",
       "      <td>93</td>\n",
       "      <td>1</td>\n",
       "      <td>12.44</td>\n",
       "      <td>RU</td>\n",
       "      <td>2019-11-07 04:34:48</td>\n",
       "    </tr>\n",
       "  </tbody>\n",
       "</table>\n",
       "</div>"
      ],
      "text/plain": [
       "             City    Lat     Lng  Max Temp  Humidity  Cloudiness  Wind Speed  \\\n",
       "0     Henties Bay -22.12   14.28     60.53        77          52        5.44   \n",
       "1          Bethel  60.79 -161.76     35.60        90          90       11.41   \n",
       "2  Saint-Francois  46.42    3.91     48.20        76          99        9.17   \n",
       "3         Ushuaia -54.81  -68.31     33.80       100          90       26.40   \n",
       "4   Mar Del Plata -46.43  -67.52     47.25        34           0       27.42   \n",
       "5    Kruisfontein -34.00   24.73     59.79        64          74       27.69   \n",
       "6     Bronnoysund  65.46   12.20     32.00        65         100       10.29   \n",
       "7           Yumen  40.29   97.04     52.03        36          51       21.30   \n",
       "8          Albany  42.65  -73.75     39.20        48          90        6.93   \n",
       "9          Dikson  73.51   80.55    -11.48        93           1       12.44   \n",
       "\n",
       "  Country                 Date  \n",
       "0      NA  2019-11-07 04:34:45  \n",
       "1      US  2019-11-07 04:34:45  \n",
       "2      FR  2019-11-07 04:34:46  \n",
       "3      AR  2019-11-07 04:30:51  \n",
       "4      AR  2019-11-07 04:34:46  \n",
       "5      ZA  2019-11-07 04:34:46  \n",
       "6      NO  2019-11-07 04:34:46  \n",
       "7      CN  2019-11-07 04:34:47  \n",
       "8      US  2019-11-07 04:30:03  \n",
       "9      RU  2019-11-07 04:34:48  "
      ]
     },
     "execution_count": 144,
     "metadata": {},
     "output_type": "execute_result"
    }
   ],
   "source": [
    "# Convert the array of dictionaries to a Pandas DataFrame.\n",
    "city_data_df= pd.DataFrame(city_data)\n",
    "city_data_df.head(10)"
   ]
  },
  {
   "cell_type": "code",
   "execution_count": 145,
   "metadata": {},
   "outputs": [],
   "source": [
    "# Create the output file (CSV).\n",
    "output_data_file = \"cities.csv\"\n",
    "# Export the City_Data into a CSV.\n",
    "city_data_df.to_csv(output_data_file, index_label=\"City_ID\")\n"
   ]
  },
  {
   "cell_type": "code",
   "execution_count": 146,
   "metadata": {},
   "outputs": [
    {
     "data": {
      "text/html": [
       "<div>\n",
       "<style scoped>\n",
       "    .dataframe tbody tr th:only-of-type {\n",
       "        vertical-align: middle;\n",
       "    }\n",
       "\n",
       "    .dataframe tbody tr th {\n",
       "        vertical-align: top;\n",
       "    }\n",
       "\n",
       "    .dataframe thead th {\n",
       "        text-align: right;\n",
       "    }\n",
       "</style>\n",
       "<table border=\"1\" class=\"dataframe\">\n",
       "  <thead>\n",
       "    <tr style=\"text-align: right;\">\n",
       "      <th></th>\n",
       "      <th>City</th>\n",
       "      <th>Lat</th>\n",
       "      <th>Lng</th>\n",
       "      <th>Max Temp</th>\n",
       "      <th>Humidity</th>\n",
       "      <th>Cloudiness</th>\n",
       "      <th>Wind Speed</th>\n",
       "      <th>Country</th>\n",
       "      <th>Date</th>\n",
       "    </tr>\n",
       "  </thead>\n",
       "  <tbody>\n",
       "    <tr>\n",
       "      <th>0</th>\n",
       "      <td>Henties Bay</td>\n",
       "      <td>-22.12</td>\n",
       "      <td>14.28</td>\n",
       "      <td>60.53</td>\n",
       "      <td>77</td>\n",
       "      <td>52</td>\n",
       "      <td>5.44</td>\n",
       "      <td>NA</td>\n",
       "      <td>2019-11-07 04:34:45</td>\n",
       "    </tr>\n",
       "    <tr>\n",
       "      <th>1</th>\n",
       "      <td>Bethel</td>\n",
       "      <td>60.79</td>\n",
       "      <td>-161.76</td>\n",
       "      <td>35.60</td>\n",
       "      <td>90</td>\n",
       "      <td>90</td>\n",
       "      <td>11.41</td>\n",
       "      <td>US</td>\n",
       "      <td>2019-11-07 04:34:45</td>\n",
       "    </tr>\n",
       "    <tr>\n",
       "      <th>2</th>\n",
       "      <td>Saint-Francois</td>\n",
       "      <td>46.42</td>\n",
       "      <td>3.91</td>\n",
       "      <td>48.20</td>\n",
       "      <td>76</td>\n",
       "      <td>99</td>\n",
       "      <td>9.17</td>\n",
       "      <td>FR</td>\n",
       "      <td>2019-11-07 04:34:46</td>\n",
       "    </tr>\n",
       "    <tr>\n",
       "      <th>3</th>\n",
       "      <td>Ushuaia</td>\n",
       "      <td>-54.81</td>\n",
       "      <td>-68.31</td>\n",
       "      <td>33.80</td>\n",
       "      <td>100</td>\n",
       "      <td>90</td>\n",
       "      <td>26.40</td>\n",
       "      <td>AR</td>\n",
       "      <td>2019-11-07 04:30:51</td>\n",
       "    </tr>\n",
       "    <tr>\n",
       "      <th>4</th>\n",
       "      <td>Mar Del Plata</td>\n",
       "      <td>-46.43</td>\n",
       "      <td>-67.52</td>\n",
       "      <td>47.25</td>\n",
       "      <td>34</td>\n",
       "      <td>0</td>\n",
       "      <td>27.42</td>\n",
       "      <td>AR</td>\n",
       "      <td>2019-11-07 04:34:46</td>\n",
       "    </tr>\n",
       "    <tr>\n",
       "      <th>...</th>\n",
       "      <td>...</td>\n",
       "      <td>...</td>\n",
       "      <td>...</td>\n",
       "      <td>...</td>\n",
       "      <td>...</td>\n",
       "      <td>...</td>\n",
       "      <td>...</td>\n",
       "      <td>...</td>\n",
       "      <td>...</td>\n",
       "    </tr>\n",
       "    <tr>\n",
       "      <th>529</th>\n",
       "      <td>Vredendal</td>\n",
       "      <td>-31.68</td>\n",
       "      <td>18.49</td>\n",
       "      <td>59.95</td>\n",
       "      <td>56</td>\n",
       "      <td>45</td>\n",
       "      <td>11.39</td>\n",
       "      <td>ZA</td>\n",
       "      <td>2019-11-07 04:37:15</td>\n",
       "    </tr>\n",
       "    <tr>\n",
       "      <th>530</th>\n",
       "      <td>Kushima</td>\n",
       "      <td>31.50</td>\n",
       "      <td>131.29</td>\n",
       "      <td>73.40</td>\n",
       "      <td>38</td>\n",
       "      <td>75</td>\n",
       "      <td>11.41</td>\n",
       "      <td>JP</td>\n",
       "      <td>2019-11-07 04:37:16</td>\n",
       "    </tr>\n",
       "    <tr>\n",
       "      <th>531</th>\n",
       "      <td>Eirunepe</td>\n",
       "      <td>-6.66</td>\n",
       "      <td>-69.87</td>\n",
       "      <td>71.76</td>\n",
       "      <td>99</td>\n",
       "      <td>59</td>\n",
       "      <td>1.50</td>\n",
       "      <td>BR</td>\n",
       "      <td>2019-11-07 04:37:16</td>\n",
       "    </tr>\n",
       "    <tr>\n",
       "      <th>532</th>\n",
       "      <td>Tocopilla</td>\n",
       "      <td>-22.09</td>\n",
       "      <td>-70.20</td>\n",
       "      <td>55.65</td>\n",
       "      <td>38</td>\n",
       "      <td>17</td>\n",
       "      <td>5.44</td>\n",
       "      <td>CL</td>\n",
       "      <td>2019-11-07 04:37:16</td>\n",
       "    </tr>\n",
       "    <tr>\n",
       "      <th>533</th>\n",
       "      <td>Verkhoyansk</td>\n",
       "      <td>67.55</td>\n",
       "      <td>133.39</td>\n",
       "      <td>-6.72</td>\n",
       "      <td>98</td>\n",
       "      <td>100</td>\n",
       "      <td>2.13</td>\n",
       "      <td>RU</td>\n",
       "      <td>2019-11-07 04:37:17</td>\n",
       "    </tr>\n",
       "  </tbody>\n",
       "</table>\n",
       "<p>534 rows × 9 columns</p>\n",
       "</div>"
      ],
      "text/plain": [
       "               City    Lat     Lng  Max Temp  Humidity  Cloudiness  \\\n",
       "0       Henties Bay -22.12   14.28     60.53        77          52   \n",
       "1            Bethel  60.79 -161.76     35.60        90          90   \n",
       "2    Saint-Francois  46.42    3.91     48.20        76          99   \n",
       "3           Ushuaia -54.81  -68.31     33.80       100          90   \n",
       "4     Mar Del Plata -46.43  -67.52     47.25        34           0   \n",
       "..              ...    ...     ...       ...       ...         ...   \n",
       "529       Vredendal -31.68   18.49     59.95        56          45   \n",
       "530         Kushima  31.50  131.29     73.40        38          75   \n",
       "531        Eirunepe  -6.66  -69.87     71.76        99          59   \n",
       "532       Tocopilla -22.09  -70.20     55.65        38          17   \n",
       "533     Verkhoyansk  67.55  133.39     -6.72        98         100   \n",
       "\n",
       "     Wind Speed Country                 Date  \n",
       "0          5.44      NA  2019-11-07 04:34:45  \n",
       "1         11.41      US  2019-11-07 04:34:45  \n",
       "2          9.17      FR  2019-11-07 04:34:46  \n",
       "3         26.40      AR  2019-11-07 04:30:51  \n",
       "4         27.42      AR  2019-11-07 04:34:46  \n",
       "..          ...     ...                  ...  \n",
       "529       11.39      ZA  2019-11-07 04:37:15  \n",
       "530       11.41      JP  2019-11-07 04:37:16  \n",
       "531        1.50      BR  2019-11-07 04:37:16  \n",
       "532        5.44      CL  2019-11-07 04:37:16  \n",
       "533        2.13      RU  2019-11-07 04:37:17  \n",
       "\n",
       "[534 rows x 9 columns]"
      ]
     },
     "execution_count": 146,
     "metadata": {},
     "output_type": "execute_result"
    }
   ],
   "source": [
    "#city_data_df\n",
    "len(city_data_df)\n",
    "city_data_df.count()\n",
    "city_data_df"
   ]
  },
  {
   "cell_type": "code",
   "execution_count": 147,
   "metadata": {},
   "outputs": [],
   "source": [
    "# Extract relevant fields from the DataFrame for plotting.\n",
    "lats= city_data_df[\"Lat\"]\n",
    "max_temp= city_data_df[\"Max Temp\"]\n",
    "humidity= city_data_df[\"Humidity\"]\n",
    "cloudiness= city_data_df[\"Cloudiness\"]\n",
    "wind_speed= city_data_df[\"Wind Speed\"]"
   ]
  },
  {
   "cell_type": "code",
   "execution_count": 150,
   "metadata": {},
   "outputs": [
    {
     "data": {
      "text/plain": [
       "'11/06/19'"
      ]
     },
     "execution_count": 150,
     "metadata": {},
     "output_type": "execute_result"
    }
   ],
   "source": [
    "# Import the time module.\n",
    "import time\n",
    "\n",
    "# Get today's date in seconds.\n",
    "today= time.strftime(\"%x\")\n",
    "today"
   ]
  },
  {
   "cell_type": "code",
   "execution_count": 154,
   "metadata": {},
   "outputs": [
    {
     "data": {
      "image/png": "[encoded data removed]",
      "text/plain": [
       "<Figure size 432x288 with 1 Axes>"
      ]
     },
     "metadata": {
      "needs_background": "light"
     },
     "output_type": "display_data"
    }
   ],
   "source": [
    "# Build the scatter plot for latitude vs.Max Tempature.\n",
    "plt.scatter(lats,\n",
    "            max_temp,\n",
    "            edgecolor=\"black\",\n",
    "            linewidths=1,\n",
    "            marker=\"o\",\n",
    "            alpha=0.8,\n",
    "            label=\"Cities\")\n",
    "\n",
    "# Incorporate the other graph properties.\n",
    "plt.title(f\"City Latitude vs. Max Tempature\" + time.strftime(\"%x\"))\n",
    "plt.ylabel(\"Max Tempature (F)\")\n",
    "plt.xlabel(\"Latitude\")\n",
    "plt.grid(True)\n",
    "\n",
    "# Save the figure.\n",
    "#plt.savefig(\"weather_data/Fig1.png\")\n",
    "\n",
    "# Show plot.\n",
    "plt.show()"
   ]
  },
  {
   "cell_type": "code",
   "execution_count": 155,
   "metadata": {},
   "outputs": [
    {
     "ename": "SyntaxError",
     "evalue": "invalid syntax (<ipython-input-155-3f9854366ebe>, line 13)",
     "output_type": "error",
     "traceback": [
      "\u001b[1;36m  File \u001b[1;32m\"<ipython-input-155-3f9854366ebe>\"\u001b[1;36m, line \u001b[1;32m13\u001b[0m\n\u001b[1;33m    plt.title(f\"City Latitude vs. Humidity\" + time.strftime(\"%x\"))\u001b[0m\n\u001b[1;37m      ^\u001b[0m\n\u001b[1;31mSyntaxError\u001b[0m\u001b[1;31m:\u001b[0m invalid syntax\n"
     ]
    }
   ],
   "source": [
    "# Build the scatter plot for latitude vs. Humidity\n",
    "plt.scatter(lats,\n",
    "            # Build the scatter plot for latitude vs.Max Tempature.\n",
    "plt.scatter(lats,\n",
    "            humidity,\n",
    "            edgecolor=\"black\",\n",
    "            linewidths=1,\n",
    "            marker=\"o\",\n",
    "            alpha=0.8,\n",
    "            label=\"Cities\")\n",
    "\n",
    "# Incorporate the other graph properties.\n",
    "plt.title(f\"City Latitude vs. Humidity\" + time.strftime(\"%x\"))\n",
    "plt.ylabel(\"Humidity (%)\")\n",
    "plt.xlabel(\"Latitude\")\n",
    "plt.grid(True)\n",
    "\n",
    "# Save the figure.\n",
    "#plt.savefig(\"weather_data/Fig1.png\")\n",
    "\n",
    "# Show plot.\n",
    "plt.show(),\n",
    "            edgecolor=\"black\",\n",
    "            linewidths=1,\n",
    "            marker=\"o\",\n",
    "            alpha=0.8,\n",
    "            label=\"Cities\")\n",
    "\n",
    "# Incorporate the other graph properties.\n",
    "plt.title(f\"City Latitude vs. Max Tempature\" + time.strftime(\"%x\"))\n",
    "plt.ylabel(\"Humidity (F)\")\n",
    "plt.xlabel(\"Latitude\")\n",
    "plt.grid(True)\n",
    "\n",
    "# Save the figure.\n",
    "#plt.savefig(\"weather_data/Fig1.png\")\n",
    "\n",
    "# Show plot.\n",
    "plt.show()"
   ]
  },
  {
   "cell_type": "code",
   "execution_count": null,
   "metadata": {},
   "outputs": [],
   "source": []
  }
 ],
 "metadata": {
  "kernelspec": {
   "display_name": "PythonData",
   "language": "python",
   "name": "pythondata"
  },
  "language_info": {
   "codemirror_mode": {
    "name": "ipython",
    "version": 3
   },
   "file_extension": ".py",
   "mimetype": "text/x-python",
   "name": "python",
   "nbconvert_exporter": "python",
   "pygments_lexer": "ipython3",
   "version": "3.6.9"
  }
 },
 "nbformat": 4,
 "nbformat_minor": 2
}
